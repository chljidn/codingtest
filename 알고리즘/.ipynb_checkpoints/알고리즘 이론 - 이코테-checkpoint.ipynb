{
 "cells": [
  {
   "cell_type": "code",
   "execution_count": 1,
   "metadata": {},
   "outputs": [
    {
     "ename": "SyntaxError",
     "evalue": "invalid syntax (<ipython-input-1-5686e407f1de>, line 1)",
     "output_type": "error",
     "traceback": [
      "\u001b[1;36m  File \u001b[1;32m\"<ipython-input-1-5686e407f1de>\"\u001b[1;36m, line \u001b[1;32m1\u001b[0m\n\u001b[1;33m    1. 그리디\u001b[0m\n\u001b[1;37m       ^\u001b[0m\n\u001b[1;31mSyntaxError\u001b[0m\u001b[1;31m:\u001b[0m invalid syntax\n"
     ]
    }
   ],
   "source": [
    "1. 그리디"
   ]
  },
  {
   "cell_type": "markdown",
   "metadata": {},
   "source": [
    "## 2. BFS와 DFS"
   ]
  },
  {
   "cell_type": "markdown",
   "metadata": {},
   "source": [
    "1) 스택 - 리스트"
   ]
  },
  {
   "cell_type": "code",
   "execution_count": null,
   "metadata": {},
   "outputs": [],
   "source": [
    "a = [1,2,3,4,5]\n",
    "print(a[::-1]) # sort 안써도 이걸로 거꾸로 뒤집을 수 있음.\n",
    "print(a.reverse()) # 이걸로도 가능.\n"
   ]
  },
  {
   "cell_type": "markdown",
   "metadata": {},
   "source": [
    "2) 큐 - deque"
   ]
  },
  {
   "cell_type": "code",
   "execution_count": 27,
   "metadata": {},
   "outputs": [
    {
     "name": "stdout",
     "output_type": "stream",
     "text": [
      "deque([3, 2, 1])\n",
      "deque([1, 2, 3])\n"
     ]
    }
   ],
   "source": [
    "from collections import deque\n",
    "a = deque()\n",
    "a.appendleft(1)\n",
    "a.appendleft(2)\n",
    "a.appendleft(3)\n",
    "print(a)\n",
    "a.reverse()\n",
    "print(a)"
   ]
  },
  {
   "cell_type": "markdown",
   "metadata": {},
   "source": [
    "3) 재귀함수\n",
    " - DFS를 실질적으로 구현하고 할 때에 자주 사용되는 방법 중 하나\n",
    " - 모든 재귀함수는 반복문을 이요하여 동일한 기능을 구현할 수 있다.\n",
    " - 컴퓨터가 함수를 연속적으로 호출하면 컴퓨터 메모리 내부의 스택 프레임에 쌓인다.\n",
    "    - 그래서 스택을 사용해야 할 때 구현사 스택 라이브러리 대신에 재귀 함수를 이용하는 경우가 많다."
   ]
  },
  {
   "cell_type": "code",
   "execution_count": 28,
   "metadata": {},
   "outputs": [
    {
     "name": "stdout",
     "output_type": "stream",
     "text": [
      "1 번째 재귀함수에서 2 번째 재귀함수를 호출합니다.\n",
      "2 번째 재귀함수에서 3 번째 재귀함수를 호출합니다.\n",
      "3 번째 재귀함수에서 4 번째 재귀함수를 호출합니다.\n",
      "4 번째 재귀함수에서 5 번째 재귀함수를 호출합니다.\n",
      "5 번째 재귀함수에서 6 번째 재귀함수를 호출합니다.\n",
      "6 번째 재귀함수에서 7 번째 재귀함수를 호출합니다.\n",
      "7 번째 재귀함수에서 8 번째 재귀함수를 호출합니다.\n",
      "8 번째 재귀함수에서 9 번째 재귀함수를 호출합니다.\n",
      "9 번째 재귀함수에서 10 번째 재귀함수를 호출합니다.\n",
      "10 번째 재귀함수에서 11 번째 재귀함수를 호출합니다.\n",
      "11 번째 재귀함수에서 12 번째 재귀함수를 호출합니다.\n",
      "12 번째 재귀함수에서 13 번째 재귀함수를 호출합니다.\n",
      "13 번째 재귀함수에서 14 번째 재귀함수를 호출합니다.\n",
      "14 번째 재귀함수에서 15 번째 재귀함수를 호출합니다.\n",
      "15 번째 재귀함수에서 16 번째 재귀함수를 호출합니다.\n",
      "16 번째 재귀함수에서 17 번째 재귀함수를 호출합니다.\n",
      "17 번째 재귀함수에서 18 번째 재귀함수를 호출합니다.\n",
      "18 번째 재귀함수에서 19 번째 재귀함수를 호출합니다.\n",
      "19 번째 재귀함수에서 20 번째 재귀함수를 호출합니다.\n",
      "20 번째 재귀함수에서 21 번째 재귀함수를 호출합니다.\n",
      "21 번째 재귀함수에서 22 번째 재귀함수를 호출합니다.\n",
      "22 번째 재귀함수에서 23 번째 재귀함수를 호출합니다.\n",
      "23 번째 재귀함수에서 24 번째 재귀함수를 호출합니다.\n",
      "24 번째 재귀함수에서 25 번째 재귀함수를 호출합니다.\n",
      "25 번째 재귀함수에서 26 번째 재귀함수를 호출합니다.\n",
      "26 번째 재귀함수에서 27 번째 재귀함수를 호출합니다.\n",
      "27 번째 재귀함수에서 28 번째 재귀함수를 호출합니다.\n",
      "28 번째 재귀함수에서 29 번째 재귀함수를 호출합니다.\n",
      "29 번째 재귀함수에서 30 번째 재귀함수를 호출합니다.\n",
      "30 번째 재귀함수에서 31 번째 재귀함수를 호출합니다.\n",
      "31 번째 재귀함수에서 32 번째 재귀함수를 호출합니다.\n",
      "32 번째 재귀함수에서 33 번째 재귀함수를 호출합니다.\n",
      "33 번째 재귀함수에서 34 번째 재귀함수를 호출합니다.\n",
      "34 번째 재귀함수에서 35 번째 재귀함수를 호출합니다.\n",
      "35 번째 재귀함수에서 36 번째 재귀함수를 호출합니다.\n",
      "36 번째 재귀함수에서 37 번째 재귀함수를 호출합니다.\n",
      "37 번째 재귀함수에서 38 번째 재귀함수를 호출합니다.\n",
      "38 번째 재귀함수에서 39 번째 재귀함수를 호출합니다.\n",
      "39 번째 재귀함수에서 40 번째 재귀함수를 호출합니다.\n",
      "40 번째 재귀함수에서 41 번째 재귀함수를 호출합니다.\n",
      "41 번째 재귀함수에서 42 번째 재귀함수를 호출합니다.\n",
      "42 번째 재귀함수에서 43 번째 재귀함수를 호출합니다.\n",
      "43 번째 재귀함수에서 44 번째 재귀함수를 호출합니다.\n",
      "44 번째 재귀함수에서 45 번째 재귀함수를 호출합니다.\n",
      "45 번째 재귀함수에서 46 번째 재귀함수를 호출합니다.\n",
      "46 번째 재귀함수에서 47 번째 재귀함수를 호출합니다.\n",
      "47 번째 재귀함수에서 48 번째 재귀함수를 호출합니다.\n",
      "48 번째 재귀함수에서 49 번째 재귀함수를 호출합니다.\n",
      "49 번째 재귀함수에서 50 번째 재귀함수를 호출합니다.\n",
      "50 번째 재귀함수에서 51 번째 재귀함수를 호출합니다.\n",
      "51 번째 재귀함수에서 52 번째 재귀함수를 호출합니다.\n",
      "52 번째 재귀함수에서 53 번째 재귀함수를 호출합니다.\n",
      "53 번째 재귀함수에서 54 번째 재귀함수를 호출합니다.\n",
      "54 번째 재귀함수에서 55 번째 재귀함수를 호출합니다.\n",
      "55 번째 재귀함수에서 56 번째 재귀함수를 호출합니다.\n",
      "56 번째 재귀함수에서 57 번째 재귀함수를 호출합니다.\n",
      "57 번째 재귀함수에서 58 번째 재귀함수를 호출합니다.\n",
      "58 번째 재귀함수에서 59 번째 재귀함수를 호출합니다.\n",
      "59 번째 재귀함수에서 60 번째 재귀함수를 호출합니다.\n",
      "60 번째 재귀함수에서 61 번째 재귀함수를 호출합니다.\n",
      "61 번째 재귀함수에서 62 번째 재귀함수를 호출합니다.\n",
      "62 번째 재귀함수에서 63 번째 재귀함수를 호출합니다.\n",
      "63 번째 재귀함수에서 64 번째 재귀함수를 호출합니다.\n",
      "64 번째 재귀함수에서 65 번째 재귀함수를 호출합니다.\n",
      "65 번째 재귀함수에서 66 번째 재귀함수를 호출합니다.\n",
      "66 번째 재귀함수에서 67 번째 재귀함수를 호출합니다.\n",
      "67 번째 재귀함수에서 68 번째 재귀함수를 호출합니다.\n",
      "68 번째 재귀함수에서 69 번째 재귀함수를 호출합니다.\n",
      "69 번째 재귀함수에서 70 번째 재귀함수를 호출합니다.\n",
      "70 번째 재귀함수에서 71 번째 재귀함수를 호출합니다.\n",
      "71 번째 재귀함수에서 72 번째 재귀함수를 호출합니다.\n",
      "72 번째 재귀함수에서 73 번째 재귀함수를 호출합니다.\n",
      "73 번째 재귀함수에서 74 번째 재귀함수를 호출합니다.\n",
      "74 번째 재귀함수에서 75 번째 재귀함수를 호출합니다.\n",
      "75 번째 재귀함수에서 76 번째 재귀함수를 호출합니다.\n",
      "76 번째 재귀함수에서 77 번째 재귀함수를 호출합니다.\n",
      "77 번째 재귀함수에서 78 번째 재귀함수를 호출합니다.\n",
      "78 번째 재귀함수에서 79 번째 재귀함수를 호출합니다.\n",
      "79 번째 재귀함수에서 80 번째 재귀함수를 호출합니다.\n",
      "80 번째 재귀함수에서 81 번째 재귀함수를 호출합니다.\n",
      "81 번째 재귀함수에서 82 번째 재귀함수를 호출합니다.\n",
      "82 번째 재귀함수에서 83 번째 재귀함수를 호출합니다.\n",
      "83 번째 재귀함수에서 84 번째 재귀함수를 호출합니다.\n",
      "84 번째 재귀함수에서 85 번째 재귀함수를 호출합니다.\n",
      "85 번째 재귀함수에서 86 번째 재귀함수를 호출합니다.\n",
      "86 번째 재귀함수에서 87 번째 재귀함수를 호출합니다.\n",
      "87 번째 재귀함수에서 88 번째 재귀함수를 호출합니다.\n",
      "88 번째 재귀함수에서 89 번째 재귀함수를 호출합니다.\n",
      "89 번째 재귀함수에서 90 번째 재귀함수를 호출합니다.\n",
      "90 번째 재귀함수에서 91 번째 재귀함수를 호출합니다.\n",
      "91 번째 재귀함수에서 92 번째 재귀함수를 호출합니다.\n",
      "92 번째 재귀함수에서 93 번째 재귀함수를 호출합니다.\n",
      "93 번째 재귀함수에서 94 번째 재귀함수를 호출합니다.\n",
      "94 번째 재귀함수에서 95 번째 재귀함수를 호출합니다.\n",
      "95 번째 재귀함수에서 96 번째 재귀함수를 호출합니다.\n",
      "96 번째 재귀함수에서 97 번째 재귀함수를 호출합니다.\n",
      "97 번째 재귀함수에서 98 번째 재귀함수를 호출합니다.\n",
      "98 번째 재귀함수에서 99 번째 재귀함수를 호출합니다.\n",
      "99 번째 재귀함수에서 100 번째 재귀함수를 호출합니다.\n",
      "99 번째 재귀함수를 종료합니다\n",
      "98 번째 재귀함수를 종료합니다\n",
      "97 번째 재귀함수를 종료합니다\n",
      "96 번째 재귀함수를 종료합니다\n",
      "95 번째 재귀함수를 종료합니다\n",
      "94 번째 재귀함수를 종료합니다\n",
      "93 번째 재귀함수를 종료합니다\n",
      "92 번째 재귀함수를 종료합니다\n",
      "91 번째 재귀함수를 종료합니다\n",
      "90 번째 재귀함수를 종료합니다\n",
      "89 번째 재귀함수를 종료합니다\n",
      "88 번째 재귀함수를 종료합니다\n",
      "87 번째 재귀함수를 종료합니다\n",
      "86 번째 재귀함수를 종료합니다\n",
      "85 번째 재귀함수를 종료합니다\n",
      "84 번째 재귀함수를 종료합니다\n",
      "83 번째 재귀함수를 종료합니다\n",
      "82 번째 재귀함수를 종료합니다\n",
      "81 번째 재귀함수를 종료합니다\n",
      "80 번째 재귀함수를 종료합니다\n",
      "79 번째 재귀함수를 종료합니다\n",
      "78 번째 재귀함수를 종료합니다\n",
      "77 번째 재귀함수를 종료합니다\n",
      "76 번째 재귀함수를 종료합니다\n",
      "75 번째 재귀함수를 종료합니다\n",
      "74 번째 재귀함수를 종료합니다\n",
      "73 번째 재귀함수를 종료합니다\n",
      "72 번째 재귀함수를 종료합니다\n",
      "71 번째 재귀함수를 종료합니다\n",
      "70 번째 재귀함수를 종료합니다\n",
      "69 번째 재귀함수를 종료합니다\n",
      "68 번째 재귀함수를 종료합니다\n",
      "67 번째 재귀함수를 종료합니다\n",
      "66 번째 재귀함수를 종료합니다\n",
      "65 번째 재귀함수를 종료합니다\n",
      "64 번째 재귀함수를 종료합니다\n",
      "63 번째 재귀함수를 종료합니다\n",
      "62 번째 재귀함수를 종료합니다\n",
      "61 번째 재귀함수를 종료합니다\n",
      "60 번째 재귀함수를 종료합니다\n",
      "59 번째 재귀함수를 종료합니다\n",
      "58 번째 재귀함수를 종료합니다\n",
      "57 번째 재귀함수를 종료합니다\n",
      "56 번째 재귀함수를 종료합니다\n",
      "55 번째 재귀함수를 종료합니다\n",
      "54 번째 재귀함수를 종료합니다\n",
      "53 번째 재귀함수를 종료합니다\n",
      "52 번째 재귀함수를 종료합니다\n",
      "51 번째 재귀함수를 종료합니다\n",
      "50 번째 재귀함수를 종료합니다\n",
      "49 번째 재귀함수를 종료합니다\n",
      "48 번째 재귀함수를 종료합니다\n",
      "47 번째 재귀함수를 종료합니다\n",
      "46 번째 재귀함수를 종료합니다\n",
      "45 번째 재귀함수를 종료합니다\n",
      "44 번째 재귀함수를 종료합니다\n",
      "43 번째 재귀함수를 종료합니다\n",
      "42 번째 재귀함수를 종료합니다\n",
      "41 번째 재귀함수를 종료합니다\n",
      "40 번째 재귀함수를 종료합니다\n",
      "39 번째 재귀함수를 종료합니다\n",
      "38 번째 재귀함수를 종료합니다\n",
      "37 번째 재귀함수를 종료합니다\n",
      "36 번째 재귀함수를 종료합니다\n",
      "35 번째 재귀함수를 종료합니다\n",
      "34 번째 재귀함수를 종료합니다\n",
      "33 번째 재귀함수를 종료합니다\n",
      "32 번째 재귀함수를 종료합니다\n",
      "31 번째 재귀함수를 종료합니다\n",
      "30 번째 재귀함수를 종료합니다\n",
      "29 번째 재귀함수를 종료합니다\n",
      "28 번째 재귀함수를 종료합니다\n",
      "27 번째 재귀함수를 종료합니다\n",
      "26 번째 재귀함수를 종료합니다\n",
      "25 번째 재귀함수를 종료합니다\n",
      "24 번째 재귀함수를 종료합니다\n",
      "23 번째 재귀함수를 종료합니다\n",
      "22 번째 재귀함수를 종료합니다\n",
      "21 번째 재귀함수를 종료합니다\n",
      "20 번째 재귀함수를 종료합니다\n",
      "19 번째 재귀함수를 종료합니다\n",
      "18 번째 재귀함수를 종료합니다\n",
      "17 번째 재귀함수를 종료합니다\n",
      "16 번째 재귀함수를 종료합니다\n",
      "15 번째 재귀함수를 종료합니다\n",
      "14 번째 재귀함수를 종료합니다\n",
      "13 번째 재귀함수를 종료합니다\n",
      "12 번째 재귀함수를 종료합니다\n",
      "11 번째 재귀함수를 종료합니다\n",
      "10 번째 재귀함수를 종료합니다\n",
      "9 번째 재귀함수를 종료합니다\n",
      "8 번째 재귀함수를 종료합니다\n",
      "7 번째 재귀함수를 종료합니다\n",
      "6 번째 재귀함수를 종료합니다\n",
      "5 번째 재귀함수를 종료합니다\n",
      "4 번째 재귀함수를 종료합니다\n",
      "3 번째 재귀함수를 종료합니다\n",
      "2 번째 재귀함수를 종료합니다\n",
      "1 번째 재귀함수를 종료합니다\n"
     ]
    }
   ],
   "source": [
    "def recursive_function(i):\n",
    "    if i == 100:\n",
    "        return\n",
    "    print(i, '번째 재귀함수에서', i+1, '번째 재귀함수를 호출합니다.')\n",
    "    recursive_function(i + 1)\n",
    "    print(i, '번째 재귀함수를 종료합니다')\n",
    "    \n",
    "recursive_function(1)"
   ]
  },
  {
   "cell_type": "code",
   "execution_count": 35,
   "metadata": {},
   "outputs": [
    {
     "data": {
      "text/plain": [
       "720"
      ]
     },
     "execution_count": 35,
     "metadata": {},
     "output_type": "execute_result"
    }
   ],
   "source": [
    "# 팩토리얼 구현 - 내가 구현\n",
    "def factorial(a):\n",
    "    if a > 1:\n",
    "        a *= factorial(a-1)\n",
    "    else:\n",
    "        return a\n",
    "    return a\n",
    "\n",
    "# 영상에서 본 것.\n",
    "def ractorial_recursive(n):\n",
    "    if n <= 1:\n",
    "        return 1\n",
    "    return n*factorial_recursive(n-1)\n",
    "\n",
    "factorial(6)"
   ]
  },
  {
   "cell_type": "code",
   "execution_count": 48,
   "metadata": {},
   "outputs": [
    {
     "data": {
      "text/plain": [
       "6"
      ]
     },
     "execution_count": 48,
     "metadata": {},
     "output_type": "execute_result"
    }
   ],
   "source": [
    "# 유클리드 호제법 - 최대공약수\n",
    "# 내가 만든거\n",
    "#def gcd(a, b):\n",
    "#    if a % b != 0:\n",
    "#        print(gcd(b, a%b))\n",
    "#    return a, b\n",
    "\n",
    "# 영상에서 본 거\n",
    "def gcd(a, b):\n",
    "    if a%b ==0:\n",
    "        return b\n",
    "    else:\n",
    "        return gcd(b, a%b)\n",
    "gcd(192, 162)"
   ]
  },
  {
   "cell_type": "markdown",
   "metadata": {},
   "source": [
    "4) DFS - 깊이 우선 탐색\n",
    "  - 스택 자료구조(혹은 재귀 함수)를 이용함.\n",
    "  - 구체적인 동작 과정\n",
    "    1. 탐색 시작 노드를 스택에 삽입하고 방문 처리를 한다.\n",
    "    2. 스택의 최상단 노드에 방문하지 않은 인접한 노드가 하나라도 있으면 그 노드를 스택에 넣고 방문 처리한다. 방문하지 않은 인접 노드가 없으면 스택에서 최상단 노드를 꺼낸다.\n",
    "    3. 더 이상 2번의 과정을 수행할 수 없을 때까지 반복한다.\n",
    "    "
   ]
  },
  {
   "cell_type": "code",
   "execution_count": 153,
   "metadata": {},
   "outputs": [
    {
     "name": "stdout",
     "output_type": "stream",
     "text": [
      "1 2 7 6 8 3 4 5 "
     ]
    }
   ],
   "source": [
    "def dfs(graph, v, visited):\n",
    "    visited[v] = True # 현재 노드 방문 처리\n",
    "    print(v, end=' ')\n",
    "    for i in graph[v]: # 현재 노드와 연결된 다른 노드를 재귀적으로 방문\n",
    "        if not visited[i]: # 인접한 노드가 방문되지 않은 상태라면\n",
    "            dfs(graph, i, visited) # 그 노드에 대해서 재귀함수를 이용해 방문\n",
    "\n",
    "# 각 노드가 연결된 정보를 표현(2차원 리스트)\n",
    "graph = [[],[2,3,8],[1,7],[1,4,5],[3,5],[3,4],[7],[2,6,8],[1,7]]\n",
    "\n",
    "# 각 노드가 방문된 정보를 표현(1차원 리스트)\n",
    "visited = [False] * 9\n",
    "\n",
    "dfs(graph, 1, visited)"
   ]
  },
  {
   "cell_type": "code",
   "execution_count": 81,
   "metadata": {},
   "outputs": [
    {
     "name": "stdout",
     "output_type": "stream",
     "text": [
      "4 5\n",
      "00110\n",
      "00011\n",
      "11111\n",
      "00000\n",
      "3\n"
     ]
    }
   ],
   "source": [
    "# 문제풀이\n",
    "# 음료수 얼려 먹기\n",
    "def dfs(x, y):\n",
    "    # 일단 x에 +- 1을 하거나, y에 +-1을 해서 재귀함수 호출하고\n",
    "    # 그 후에 이게 정상적인 수인지 판단하여 아닐 경우 False 호출\n",
    "    if x <= -1 or x >= n or y <= -1 or y >= m:\n",
    "        return False\n",
    "    \n",
    "    # 현재 노드를 아직 방문하지 않았다면\n",
    "    if graph[x][y] == 0:\n",
    "        graph[x][y] = 1\n",
    "        # 상, 하. 좌, 우의 위치들도 모두 재귀적으로 호출\n",
    "        dfs(x-1, y)\n",
    "        dfs(x, y-1)\n",
    "        dfs(x+1, y)\n",
    "        dfs(x, y+1)\n",
    "        return True\n",
    "    \n",
    "    return False # 방문한 노드가 1일 경우엔 그냥 return False\n",
    "\n",
    "n, m = map(int, input().split())\n",
    "\n",
    "# 2차원 리스트의 맵 정보 입력받기\n",
    "graph = []\n",
    "for i in range(n):\n",
    "    graph.append(list(map(int, input())))\n",
    "\n",
    "#모든 노드에 대하여 음료수 채우기\n",
    "result = 0\n",
    "for i in range(n):\n",
    "    for j in range(m):\n",
    "        if dfs(i, j) == True:\n",
    "            result += 1\n",
    "# 정답 출력\n",
    "print(result)\n",
    "\n"
   ]
  },
  {
   "cell_type": "markdown",
   "metadata": {},
   "source": [
    "5) BFS - 너비 우선 탐색\n",
    "  - 큐 자료구조를 이용함\n",
    "  - 구체적인 동작 과정\n",
    "    1. 탐색 시작 노드를 큐에 삽입하고 방문 처리를 한다.\n",
    "    2. 큐에서 노드를 꺼낸 뒤에 해당 노드의 인접 노드 중에서 방문하지 않은 노드를 모두 큐에 삽입하고 방문처리 한다.\n",
    "    3. 더 이상 2번의 과정을 수행할 수 없을 때까지 반복한다"
   ]
  },
  {
   "cell_type": "code",
   "execution_count": 74,
   "metadata": {},
   "outputs": [
    {
     "data": {
      "text/plain": [
       "[1, 2, 3, 8, 7, 4, 5, 6]"
      ]
     },
     "execution_count": 74,
     "metadata": {},
     "output_type": "execute_result"
    }
   ],
   "source": [
    "from collections import deque\n",
    "def bfs(graph, start, visited):\n",
    "    queue = deque([start])\n",
    "    visited[start] = True \n",
    "    answer = []\n",
    "    \n",
    "    while queue:\n",
    "        start = queue.popleft()\n",
    "        c.append(start)\n",
    "        for i in graph[start]:\n",
    "            if not visited[i]:\n",
    "                queue.append(i)\n",
    "                visited[i] = True\n",
    "    return answer\n",
    "\n",
    "graph = [[],[2,3,8],[1,7],[1,4,5],[3,5],[3,4],[7],[2,6,8],[1,7]]\n",
    "visited = [False] * 9\n",
    "\n",
    "bfs(graph, 1, visited)"
   ]
  },
  {
   "cell_type": "code",
   "execution_count": 143,
   "metadata": {},
   "outputs": [
    {
     "name": "stdout",
     "output_type": "stream",
     "text": [
      "\n"
     ]
    },
    {
     "ename": "ValueError",
     "evalue": "not enough values to unpack (expected 2, got 0)",
     "output_type": "error",
     "traceback": [
      "\u001b[1;31m---------------------------------------------------------------------------\u001b[0m",
      "\u001b[1;31mValueError\u001b[0m                                Traceback (most recent call last)",
      "\u001b[1;32m<ipython-input-143-de0e843e6979>\u001b[0m in \u001b[0;36m<module>\u001b[1;34m\u001b[0m\n\u001b[0;32m      1\u001b[0m \u001b[1;31m# 미로 탈출\u001b[0m\u001b[1;33m\u001b[0m\u001b[1;33m\u001b[0m\u001b[1;33m\u001b[0m\u001b[0m\n\u001b[0;32m      2\u001b[0m \u001b[1;31m# 내가 푼 것.\u001b[0m\u001b[1;33m\u001b[0m\u001b[1;33m\u001b[0m\u001b[1;33m\u001b[0m\u001b[0m\n\u001b[1;32m----> 3\u001b[1;33m \u001b[0mn\u001b[0m\u001b[1;33m,\u001b[0m \u001b[0mm\u001b[0m \u001b[1;33m=\u001b[0m \u001b[0mmap\u001b[0m\u001b[1;33m(\u001b[0m\u001b[0mint\u001b[0m\u001b[1;33m,\u001b[0m \u001b[0minput\u001b[0m\u001b[1;33m(\u001b[0m\u001b[1;33m)\u001b[0m\u001b[1;33m.\u001b[0m\u001b[0msplit\u001b[0m\u001b[1;33m(\u001b[0m\u001b[1;33m)\u001b[0m\u001b[1;33m)\u001b[0m\u001b[1;33m\u001b[0m\u001b[1;33m\u001b[0m\u001b[0m\n\u001b[0m\u001b[0;32m      4\u001b[0m \u001b[0mmiro\u001b[0m \u001b[1;33m=\u001b[0m \u001b[1;33m[\u001b[0m\u001b[0mlist\u001b[0m\u001b[1;33m(\u001b[0m\u001b[0mmap\u001b[0m\u001b[1;33m(\u001b[0m\u001b[0mint\u001b[0m\u001b[1;33m,\u001b[0m \u001b[0minput\u001b[0m\u001b[1;33m(\u001b[0m\u001b[1;33m)\u001b[0m\u001b[1;33m)\u001b[0m\u001b[1;33m)\u001b[0m \u001b[1;32mfor\u001b[0m \u001b[0mi\u001b[0m \u001b[1;32min\u001b[0m \u001b[0mrange\u001b[0m\u001b[1;33m(\u001b[0m\u001b[0mn\u001b[0m\u001b[1;33m)\u001b[0m\u001b[1;33m]\u001b[0m\u001b[1;33m\u001b[0m\u001b[1;33m\u001b[0m\u001b[0m\n\u001b[0;32m      5\u001b[0m \u001b[0mcount\u001b[0m \u001b[1;33m=\u001b[0m \u001b[1;33m[\u001b[0m\u001b[1;33m[\u001b[0m\u001b[1;36m0\u001b[0m \u001b[1;32mfor\u001b[0m \u001b[0mi\u001b[0m \u001b[1;32min\u001b[0m \u001b[0mrange\u001b[0m\u001b[1;33m(\u001b[0m\u001b[0mm\u001b[0m\u001b[1;33m)\u001b[0m\u001b[1;33m]\u001b[0m \u001b[1;32mfor\u001b[0m \u001b[0mj\u001b[0m \u001b[1;32min\u001b[0m \u001b[0mrange\u001b[0m\u001b[1;33m(\u001b[0m\u001b[0mn\u001b[0m\u001b[1;33m)\u001b[0m\u001b[1;33m]\u001b[0m\u001b[1;33m\u001b[0m\u001b[1;33m\u001b[0m\u001b[0m\n",
      "\u001b[1;31mValueError\u001b[0m: not enough values to unpack (expected 2, got 0)"
     ]
    }
   ],
   "source": [
    "# 미로 탈출\n",
    "# 내가 푼 것.\n",
    "n, m = map(int, input().split())\n",
    "miro = [list(map(int, input())) for i in range(n)]\n",
    "count = [[0 for i in range(m)] for j in range(n)]\n",
    "\n",
    "\n",
    "queue = deque() \n",
    "queue.append([0, 0])\n",
    "miro[0][0] = 0 # 가장 첫 번째 시작점을 방문했기 때문에 0으로 만든다.\n",
    "\n",
    "# 좌표 리스트\n",
    "coordinate = [[1, 0], [0, 1], [-1, 0], [0, -1]]\n",
    "\n",
    "while queue:\n",
    "    x, y = queue.popleft()\n",
    "    \n",
    "    # 만약 x와 y가 출구지점에 도착하면 브레이크.\n",
    "    if x == n-1 and y == m-1:\n",
    "        break\n",
    "        \n",
    "    for i in coordinate:\n",
    "        if x+i[0] <= -1 or x+i[0] >= len(miro) or y+i[1] <= -1 or y+i[1] >= len(miro[0]):\n",
    "            continue\n",
    "        \n",
    "        if miro[x+i[0]][y+i[1]] == 1:\n",
    "            miro[x+i[0]][y+i[1]] = 0\n",
    "            count[x+i[0]][y+i[1]] = count[x][y]+1 # 여태 움직인 경로에서 +1 해준다. 여기까지 움직였던 만큼 수를 파악할 수 있다.\n",
    "            queue.append([x+i[0], y+i[1]])\n",
    "        \n",
    "    # 단, 출구 지점에서 한번 더 움직여야 나간 것으로 간주되기 때문에 +1 해준다.\n",
    "print(count[n-1][m-1]+1)\n",
    "        \n",
    "            \n",
    "            \n",
    "'''            \n",
    "# 영상에서 본 것.\n",
    "# 나는 count 매트릭스를 만들었지만, 여기서는 입력받은 매트릭스에 그냥 실행함\n",
    "# 그 외에는 거의 같은 듯\n",
    "def bfs(x, y):\n",
    "    queue = deque()\n",
    "    queue.append(x, y)\n",
    "    \n",
    "    while queue:\n",
    "        x, y = queue.popleft()\n",
    "        \n",
    "        for i in range(4):\n",
    "            nx = x+dx[i]\n",
    "            ny = y+dy[i]\n",
    "            \n",
    "            if nx < 0 or nx >= n or ny < 0 or ny >= m:\n",
    "                continue\n",
    "                \n",
    "            if graph[nx][ny] == 0:\n",
    "                continue\n",
    "            \n",
    "            if graph[nx][ny] == 1:\n",
    "                graph[nx][ny] = graph[x][y] +1\n",
    "                queue.append((nx, ny))\n",
    "                \n",
    "        return graph[n-1][m-1]\n",
    "\n",
    "n, m = map(int, input().split())\n",
    "graph = []\n",
    "for i in range(n):\n",
    "    graph.append(list(map(int, input())))\n",
    "    \n",
    "dx = [-1, 1, 0, 0]\n",
    "dy = [0,0,-1,1]\n",
    "\n",
    "print(bfs(0, 0))\n",
    "'''"
   ]
  },
  {
   "cell_type": "markdown",
   "metadata": {},
   "source": [
    "## 3. 최단 경로 알고리즘"
   ]
  },
  {
   "cell_type": "markdown",
   "metadata": {},
   "source": [
    "1) 다익스트라"
   ]
  },
  {
   "cell_type": "code",
   "execution_count": null,
   "metadata": {},
   "outputs": [],
   "source": [
    "import sys#\n",
    "input = sys.stdin.readline()\n",
    "INF = int(1e9) # 무한을 의미하는 값으로 10억 설정\n",
    "\n",
    "# 노드의 개수, 간선의 개수 입력\n",
    "n, m = map(int, input().split())\n",
    "\n",
    "# 시작 노드 번호 입력\n",
    "start = int(input())\n",
    "graph = [[] for i in range(n+1)] # 각 노드에 연결되어 있는 노드에 대한 정보를 담는 리스트 만들기\n",
    "\n",
    "# 방문한 적이 있는지 체크하는 목적의 리스트 만들기\n",
    "visited = [False] * (n+1)\n",
    "\n",
    "# 최단 거리 테이블을 모두 무한으로 초기화\n",
    "distance = [INF] * (n+1)\n",
    "\n",
    "# 모든 간선의 정보 입력받기\n",
    "for _ in range(m):\n",
    "    a,b,c = map(int, input().split())\n",
    "    # a번 노드에서 b번 노드로 가는 비용이 c라는 의미\n",
    "    graph[a].append((b, c))\n",
    "\n",
    "# 방문하지 않은 노드 중에서 가장 최단 거리가 짧은 노드의 번호를 반환\n",
    "def get_smallest_node():\n",
    "    min_value = INF\n",
    "    index = 0 # 가장 최단 거리가 짧은 노드의 번호를 반환\n",
    "    for i in range(1, n+1):\n",
    "        if distance[i] < min_value and not visited[i]:\n",
    "            min_value = distance[i]\n",
    "            index = i\n",
    "    return index\n",
    "\n",
    "def dijkstra(start):\n",
    "    # 시작 노드에 대해서 초기화\n",
    "    distance[start] = 0\n",
    "    visited[start] = True\n",
    "    for j in graph[start]:\n",
    "        distance[j[0]] = j[1]\n",
    "    # 시작 노드를 제외한 전체 n-1개의 노드에 대해 반복\n",
    "    \n",
    "    for i in range(n-1):\n",
    "        # 현재 최단 거리가 가장 짧은 노드를 꺼내서, 방문처리\n",
    "        now = get_smallest_node()\n",
    "        visited[now] = True\n",
    "        # 현재 노드와 연결된 다른 노드를 확인\n",
    "        for j in graph[now]:\n",
    "            # 현재 노드와 연결된 다른 노드를 확인\n",
    "            cost = distance[now] + j[i]\n",
    "            # 현재 노드를 거쳐서 다른 노드로 이동하는 거리가 더 짧은 경우\n",
    "            if cost < distance[j[0]]:\n",
    "                distance[j[0]] = cost\n",
    "    \n",
    "    dijkstra(start)\n",
    "    \n",
    "    for i in range(1, n+1):\n",
    "        if distance[i] == INF:\n",
    "            print('INF')\n",
    "        else:\n",
    "            print(distance[i])"
   ]
  },
  {
   "cell_type": "code",
   "execution_count": 1,
   "metadata": {},
   "outputs": [
    {
     "ename": "ValueError",
     "evalue": "not enough values to unpack (expected 2, got 0)",
     "output_type": "error",
     "traceback": [
      "\u001b[1;31m---------------------------------------------------------------------------\u001b[0m",
      "\u001b[1;31mValueError\u001b[0m                                Traceback (most recent call last)",
      "\u001b[1;32m<ipython-input-1-90d1012e0719>\u001b[0m in \u001b[0;36m<module>\u001b[1;34m\u001b[0m\n\u001b[0;32m      5\u001b[0m \u001b[1;33m\u001b[0m\u001b[0m\n\u001b[0;32m      6\u001b[0m \u001b[1;31m# 노드의 개수, 간선의 개수를 입력받기\u001b[0m\u001b[1;33m\u001b[0m\u001b[1;33m\u001b[0m\u001b[1;33m\u001b[0m\u001b[0m\n\u001b[1;32m----> 7\u001b[1;33m \u001b[0mn\u001b[0m\u001b[1;33m,\u001b[0m \u001b[0mm\u001b[0m \u001b[1;33m=\u001b[0m \u001b[0mmap\u001b[0m\u001b[1;33m(\u001b[0m\u001b[0mint\u001b[0m\u001b[1;33m,\u001b[0m \u001b[0minput\u001b[0m\u001b[1;33m(\u001b[0m\u001b[1;33m)\u001b[0m\u001b[1;33m.\u001b[0m\u001b[0msplit\u001b[0m\u001b[1;33m(\u001b[0m\u001b[1;33m)\u001b[0m\u001b[1;33m)\u001b[0m\u001b[1;33m\u001b[0m\u001b[1;33m\u001b[0m\u001b[0m\n\u001b[0m\u001b[0;32m      8\u001b[0m \u001b[1;31m# 시작 노드 번호를 입력 받기\u001b[0m\u001b[1;33m\u001b[0m\u001b[1;33m\u001b[0m\u001b[1;33m\u001b[0m\u001b[0m\n\u001b[0;32m      9\u001b[0m \u001b[0mstart\u001b[0m \u001b[1;33m=\u001b[0m \u001b[0mint\u001b[0m\u001b[1;33m(\u001b[0m\u001b[0minput\u001b[0m\u001b[1;33m(\u001b[0m\u001b[1;33m)\u001b[0m\u001b[1;33m)\u001b[0m\u001b[1;33m\u001b[0m\u001b[1;33m\u001b[0m\u001b[0m\n",
      "\u001b[1;31mValueError\u001b[0m: not enough values to unpack (expected 2, got 0)"
     ]
    }
   ],
   "source": [
    "import sys\n",
    "import heapq\n",
    "input = sys.stdin.readline\n",
    "INF = int(1e9) # 무한을 의미하는 값으로 10억 설정\n",
    "\n",
    "# 노드의 개수, 간선의 개수를 입력받기\n",
    "n, m = map(int, input().split())\n",
    "# 시작 노드 번호를 입력 받기\n",
    "start = int(input())\n",
    "# 각 노드에 연결되어 있는 노드에 대한 정보를 담는 리스트를 만들기\n",
    "graph = [[] for i in range(n+1)]\n",
    "# 방문한 적이 있는지 체크하는 목적의 리스틀 만들기\n",
    "visited = [False] * (n+1)\n",
    "# 최단거리 테이블을 모두 무한으로 초기화\n",
    "distance = [INF] * (n+1)\n",
    "\n",
    "# 모든 간선 정보를 입력받기\n",
    "for _ in range(m):\n",
    "    a, b, c = map(int, input().split())\n",
    "    # a번 노드에서 b번 노드로 가는 비용이 c라는 의미\n",
    "    graph[a].append((b,c))\n",
    "    \n",
    "def dijkstra(start):\n",
    "    q = []\n",
    "    # 시작 노드로 가기 위한 최단 경로는 0으로 설정하며, 큐에 삽입\n",
    "    heapq.heappush(q, (0,start))\n",
    "    distance[start] = 0 \n",
    "    while q: # 큐가 비어있지 않다면 \n",
    "        dist, now = heapq.heappop(q) # 가장 최단 거리가 짧은 노드에 대한 정보 꺼내기\n",
    "        if distance[now] < idx:\n",
    "            continue\n",
    "        # 현재 노드와 연결된 다른 인접한 노드들을 확인\n",
    "        for i in graph[now]:\n",
    "            cost = dist + [i[0]]:\n",
    "                distance[i[0]] = cost\n",
    "                heapq.heappush(q,(cost, i[0]))\n"
   ]
  },
  {
   "cell_type": "code",
   "execution_count": 19,
   "metadata": {
    "scrolled": true
   },
   "outputs": [],
   "source": [
    "# 카카오 recruiment 2021 합승 택시 요금 문제\n",
    "import heapq\n",
    "def dijkstra(start, end, fares_dist, n):\n",
    "    fares_dist1 = fares_dist\n",
    "    distance = [INF for i in range(n+1)]\n",
    "    distance[start] = 0\n",
    "    \n",
    "    q = []\n",
    "    q = heapq.heappush(q, [0, start])\n",
    "    \n",
    "    while q:\n",
    "        a, b = heappop(q)\n",
    "        if distance[b] < a: continue\n",
    "            \n",
    "        for item in fares_dist1[b]:\n",
    "            nx, ncost = item[0], item[1]\n",
    "            ncost += a\n",
    "            if ncost < distance[nx]:\n",
    "                distance[nx] = ncost\n",
    "                heappush(q, [ncost, nx])\n",
    "    return distance[end]\n",
    "def solution(n, s, a, b, fares):\n",
    "    cost = int(1e9)\n",
    "    \n",
    "    fares_dist = [[] for i in range(n+1)]\n",
    "    for i in fares:\n",
    "        fares_dist[i[0]].append([i[1], i[2]])\n",
    "        fares_dist[i[1]].append([i[0], i[2]])\n",
    "\n",
    "    for i in range(1, n+1): # 1부터 6까지\n",
    "        cost = min(cost, dijkstra(s, i, fares_dist, n) + dijkstra(i, a, fares_dist, n) + dijkstra(i, b, fares_dist, n))\n",
    "    \n",
    "    return cost"
   ]
  },
  {
   "cell_type": "code",
   "execution_count": 23,
   "metadata": {},
   "outputs": [
    {
     "data": {
      "text/plain": [
       "[[], [[2, 4], [3, 2]], [], [[2, 1]]]"
      ]
     },
     "execution_count": 23,
     "metadata": {},
     "output_type": "execute_result"
    }
   ],
   "source": [
    "import heapq\n",
    "import sys\n",
    "\n",
    "input = sys.stdin.readline\n",
    "INF = int(1e9)\n",
    "\n",
    "def dijkstra(start):\n",
    "    q = []\n",
    "    heapq.heappush(q, (0, start))\n",
    "    distance[start] = 0\n",
    "    while q:\n",
    "        dist, now = heapq.heappop(q)\n",
    "        if distance[now] < dist:\n",
    "            continue\n",
    "        \n",
    "        for i in graph[now]:\n",
    "            cost = dist + i[1]\n",
    "            if cost < distance[i[0]]:\n",
    "                distance[i[0]] = cost\n",
    "                heapq.heappush(q, (cost, i[0]))\n",
    "                \n",
    "n, m ,start = map(int, input().split())\n",
    "graph = [[] for i in range(n+1)]\n",
    "distance = [INF] * (n+1)\n",
    "\n",
    "for _ in range(m):\n",
    "    x, y, z = map(int, input().split())\n",
    "    graph[x].append((y, z))\n",
    "    \n",
    "dijkstra(start)\n",
    "\n",
    "count = 0\n",
    "max_distance = 0\n",
    "for d in distance:\n",
    "    if d != 1e9:\n",
    "        count += 1\n",
    "        max_distance = max(max_distance, d)\n",
    "        \n",
    "    print(count -1, max_distance)"
   ]
  },
  {
   "cell_type": "code",
   "execution_count": null,
   "metadata": {},
   "outputs": [],
   "source": []
  },
  {
   "cell_type": "markdown",
   "metadata": {},
   "source": [
    "2) 플로이드 워셜"
   ]
  },
  {
   "cell_type": "code",
   "execution_count": 26,
   "metadata": {},
   "outputs": [
    {
     "name": "stdout",
     "output_type": "stream",
     "text": [
      "5 7\n",
      "1 2\n",
      "1 3\n",
      "1 4\n",
      "2 4\n",
      "3 4\n",
      "3 5\n",
      "4 5\n",
      "4 5\n",
      "[[1000000000, 1000000000, 1000000000, 1000000000, 1000000000, 1000000000], [1000000000, 0, 1, 1, 1, 2], [1000000000, 1, 0, 2, 1, 2], [1000000000, 1, 2, 0, 1, 1], [1000000000, 1, 1, 1, 0, 1], [1000000000, 2, 2, 1, 1, 0]]\n",
      "3\n"
     ]
    }
   ],
   "source": [
    "INF = int(1e9)\n",
    "\n",
    "n, m = map(int, input().split())\n",
    "\n",
    "graph = [[INF] * (n+1) for _ in range(n+1)]\n",
    "\n",
    "for a in range(1, n+1):\n",
    "    for b in range(1, n+1):\n",
    "        if a == b:\n",
    "            graph[a][b] = 0\n",
    "            \n",
    "for _ in range(m):\n",
    "    a, b = map(int, input().split())\n",
    "    graph[a][b] = 1\n",
    "    graph[b][a] = 1\n",
    "    \n",
    "x, k = map(int, input().split())\n",
    "\n",
    "for k in range(1, n+1):\n",
    "    for a in range(1, n+1):\n",
    "        for b in range(1, n+1):\n",
    "            graph[a][b] = min(graph[a][b], graph[a][k]+graph[k][b])\n",
    "distance = graph[1][k] + graph[k][x]\n",
    "print(graph)\n",
    "\n",
    "if distance >= INF:\n",
    "    print('-1')\n",
    "else:\n",
    "    print(distance)"
   ]
  },
  {
   "cell_type": "code",
   "execution_count": 28,
   "metadata": {
    "scrolled": true
   },
   "outputs": [
    {
     "data": {
      "text/plain": [
       "array([[1000000000, 1000000000, 1000000000, 1000000000, 1000000000,\n",
       "        1000000000],\n",
       "       [1000000000,          0,          1,          1,          1,\n",
       "                 2],\n",
       "       [1000000000,          1,          0,          2,          1,\n",
       "                 2],\n",
       "       [1000000000,          1,          2,          0,          1,\n",
       "                 1],\n",
       "       [1000000000,          1,          1,          1,          0,\n",
       "                 1],\n",
       "       [1000000000,          2,          2,          1,          1,\n",
       "                 0]])"
      ]
     },
     "execution_count": 28,
     "metadata": {},
     "output_type": "execute_result"
    }
   ],
   "source": [
    "import numpy as np\n",
    "np.array(graph)"
   ]
  },
  {
   "cell_type": "markdown",
   "metadata": {},
   "source": [
    "## 4. 다이나믹 프로그래밍"
   ]
  },
  {
   "cell_type": "code",
   "execution_count": null,
   "metadata": {},
   "outputs": [],
   "source": [
    "# 개미 전사\n",
    "\n",
    "# 정수 N을 입력 받기\n",
    "n = int(input())\n",
    "# 모든 식량 정보 입력 받기\n",
    "array = list(map(int, input().split()))\n",
    "\n",
    "# 앞서 계산된 결과를 저장하기 위한 DP 테이블 초기화\n",
    "d = [0] * 100\n",
    "\n",
    "# 다이나믹 프로그래밍 진행 (보텀업)\n",
    "d[0] = array[0]\n",
    "d[1] = max(array[0], array[1])\n",
    "for i in range(2, n):\n",
    "    d[i] = max(d[i-1], d[i-2] + array[i])\n",
    "    \n",
    "# 계산된 결과 출력\n",
    "print(d[n-1])"
   ]
  },
  {
   "cell_type": "code",
   "execution_count": null,
   "metadata": {},
   "outputs": [],
   "source": [
    "# 1로 만들기\n",
    "# 정수 x가 주어졌을 때, 정수 x에 사용할 수 있는 연산은 다음과 같이 4가지\n",
    "# 1. x가 5로 나누어 떨어지면, 5로 나눈다\n",
    "# 2. x가 3으로 나누어 떨어지면, 3으로 나눈다\n",
    "# 3. x가 2로 나누어 떨어지면, 2로 나눈다\n",
    "# 4. x에서 1을 뺀다\n",
    "\n",
    "# 정수가 주어져을 때, 연산 4개를 적절히 사용해서 값을 1로 만들고자 한다. 연산을 사용하는\n",
    "# 횟수의 최솟값을 출력하라. 예를 들어 정수가 26이면 다음과 같이 계해서 3번의 연산이 \n",
    "# 최솟값이다.\n",
    "# 26 -> 25 -> 5 -> 1\n",
    "\n",
    "# 정수 x를 입력 받기\n",
    "x = int(input())\n",
    "\n",
    "# 앞서 계산된 결과를 저장하기 위한 DP 테이블 초기화\n",
    "d = [0] * 30001\n",
    "\n",
    "# 다이나믹 프로그래밍 진행(보텀 업)\n",
    "for i in range(2, x+1):\n",
    "    # 현재의 수에서 1을 빼는 경우\n",
    "    d[i] = d[i-1] + 1\n",
    "    # 현재의 수에서 2로 나누어 떨어지는 경우\n",
    "    if i % 2 == 0:\n",
    "        d[i] = min(d[i], d[i // 2] + 1)\n",
    "    # 현재의 수가 3으로 나누어 떨어지는 경우\n",
    "    if i % 3 == 0:\n",
    "        d[i] = min(d[i], d[i // 3] + 1)\n",
    "    # 현재의 수가 5로 나누어 떨어지는 경우\n",
    "    if i % 5 == 0:\n",
    "        d[i] = min(d[i], d[i // 5] + 1)\n",
    "        \n",
    "print(d[x])"
   ]
  },
  {
   "cell_type": "code",
   "execution_count": 1,
   "metadata": {},
   "outputs": [
    {
     "name": "stdout",
     "output_type": "stream",
     "text": [
      "3 7\n",
      "2\n",
      "3\n",
      "5\n",
      "[0, 10001, 1, 10001, 2, 10001, 3, 10001]\n",
      "[0, 10001, 1, 1, 2, 2, 2, 3]\n",
      "[0, 10001, 1, 1, 2, 1, 2, 2]\n",
      "2\n"
     ]
    }
   ],
   "source": [
    "# 효율적인 화폐 구성\n",
    "\n",
    "# n가지 종류의 화폐가 있다. 이 화폐들의 개수를 최소한으로 이요해서 그 가치의 합이 M원이 되도록\n",
    "# 하려고 한다. 이 때 각 종류의 화폐는 몇개라도 사용할 수 있다.\n",
    "# 예를 들어 2원, 3원 단위의 화폐가 있을 때는 15원을 만들기 위해 3원을 5개 사용하는 것이\n",
    "# 가장 최소한의 화폐 개수이다.\n",
    "# M원을 만들기 위한 최소한의 화폐 개수를 출력하는 프로그램은??\n",
    "\n",
    "# 정수 n, m을 입력 받기\n",
    "n, m = map(int, input().split())\n",
    "# N개의 화폐 단위 정보를 입력받기\n",
    "array = []\n",
    "for i in range(n):\n",
    "    array.append(int(input()))\n",
    "    \n",
    "# 한 번 계산된 결과를 저장하기 위한 DP 테이블 초기화\n",
    "d = [10001] * (m + 1)\n",
    "\n",
    "# 다이나믹 프로그래밍 진행(보텀 업)\n",
    "d[0] = 0\n",
    "for i in range(n): # n은 화폐단위의 개수\n",
    "    for j in range(array[i], m+1): \n",
    "        # d의 인덱스 자체가 화폐 단위를 뜻한다는 것을 기억하라.\n",
    "        if d[j - array[i]] != 10001: # (i - k)원을 만드는 방법이 존재하는 경우\n",
    "            d[j] = min(d[j], d[j - array[i]] + 1)\n",
    "            \n",
    "# 계산된 결과 출력\n",
    "if d[m] == 10001: # 최종적으로 M원을 만드는 방법이 없는 경우\n",
    "    print(-1)\n",
    "else:\n",
    "    print(d[m])"
   ]
  },
  {
   "cell_type": "code",
   "execution_count": 10,
   "metadata": {},
   "outputs": [
    {
     "name": "stdout",
     "output_type": "stream",
     "text": [
      "1\n",
      "3 4\n",
      "1 3 3 2 2 1 4 1 0 6 4 7\n",
      "[1, 3, 3, 2, 2, 1, 4, 1, 0, 6, 4, 7]\n",
      "[[1, 5, 3, 2], [2, 3, 4, 1], [0, 8, 4, 7]]\n",
      "[[1, 5, 8, 2], [2, 3, 12, 1], [0, 8, 12, 7]]\n",
      "[[1, 5, 8, 14], [2, 3, 12, 13], [0, 8, 12, 19]]\n",
      "19\n"
     ]
    }
   ],
   "source": [
    "# 금광\n",
    "# n * m 크기의 금광이 있다. 금광은 1 * 1 크기의 칸으로 나누어져 있으며, 각 칸은 특정한 크기의\n",
    "# 금이 들어있다. \n",
    "# 채굴자는 첫 번째 열부터 출발하여 금을 캐기 시작한다. 맨 처음에는 첫 번재 열의 어느 행에서든 \n",
    "# 출발할 수 있다. 이후에 m - 1번에 걸쳐서 매번 오른쪽 위, 오른쪽, 오른쪽 아래 3가지 중\n",
    "# 하나의 위치로 이동해야 한다. 결과적으로 채굴자가 얻을 수 있는 금의 최대 크기는?\n",
    "\n",
    "# 테스트 케이스 입력\n",
    "for tc in range(int(input())):\n",
    "    # 금광 정보 입력\n",
    "    n, m = map(int, input().split())\n",
    "    array = list(map(int, input().split()))\n",
    "    print(array)\n",
    "    \n",
    "    # 다이나믹 프로그래밍을 위한 2차원 DP 테이블 초기화\n",
    "    # array는 1차원 리스트이므로 받은 것들을 dp테이블에 2차원으로 만듦\n",
    "    dp = []\n",
    "    index = 0\n",
    "    for i in range(n):\n",
    "        dp.append(array[index:index + m])\n",
    "        index += m\n",
    "        \n",
    "    # 다이나믹 프로그래밍 진행\n",
    "    for j in range(1, m):\n",
    "        for i in range(n):\n",
    "            # 왼쪽 위에서 오는 경우\n",
    "            if i == 0: left_up = 0 # 현재의 i(행)가 0이라면 왼쪽 위로는 아무것도 없다는 듯\n",
    "            else : left_up = dp[i-1][j-1] # 현재의 i(행)가 0이 아니라면 왼쪽 위는 열로 한칸 위, 행으로 한칸 왼쪽이라는 뜻\n",
    "            # 왼쪽 아래에서 오는 경우\n",
    "            if i == n - 1: left_down = 0\n",
    "            else: left_down = dp[i + 1][j - 1]\n",
    "            # 왼쪽에서 오는 경우\n",
    "            left = dp[i][j - 1]\n",
    "            dp[i][j] = dp[i][j] + max(left_up, left_down, left)\n",
    "        print(dp)\n",
    "    result = 0\n",
    "    #print(dp)\n",
    "    for i in range(n):\n",
    "        result = max(result, dp[i][m - 1])\n",
    "    print(result)"
   ]
  },
  {
   "cell_type": "code",
   "execution_count": null,
   "metadata": {},
   "outputs": [],
   "source": [
    "n = 3\n",
    "m = 4\n",
    "array = 1 3 3 2 2 1 4 0 6 4 7"
   ]
  },
  {
   "cell_type": "code",
   "execution_count": null,
   "metadata": {},
   "outputs": [],
   "source": []
  },
  {
   "cell_type": "code",
   "execution_count": null,
   "metadata": {},
   "outputs": [],
   "source": []
  }
 ],
 "metadata": {
  "kernelspec": {
   "display_name": "Python 3",
   "language": "python",
   "name": "python3"
  },
  "language_info": {
   "codemirror_mode": {
    "name": "ipython",
    "version": 3
   },
   "file_extension": ".py",
   "mimetype": "text/x-python",
   "name": "python",
   "nbconvert_exporter": "python",
   "pygments_lexer": "ipython3",
   "version": "3.8.5"
  }
 },
 "nbformat": 4,
 "nbformat_minor": 4
}
