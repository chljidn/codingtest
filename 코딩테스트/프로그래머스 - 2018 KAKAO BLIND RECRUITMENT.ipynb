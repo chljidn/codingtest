{
 "cells": [
  {
   "cell_type": "markdown",
   "metadata": {},
   "source": [
    "1.[1차] 뉴스 클러스터링"
   ]
  },
  {
   "cell_type": "code",
   "execution_count": null,
   "metadata": {},
   "outputs": [],
   "source": [
    "# 내가 푼 답\n",
    "def solution(str1, str2):\n",
    "    a = [(str1[i-1]+str1[i]).upper() for i in range(1, len(str1)) if (str1[i-1]+str1[i]).isalpha()]\n",
    "    b = [(str2[i-1]+str2[i]).upper() for i in range(1, len(str2)) if (str2[i-1]+str2[i]).isalpha()]\n",
    "    c = list(set(a) & set(b))\n",
    "\n",
    "    inter = []\n",
    "    summ = a+b\n",
    "    for i in c:\n",
    "        inter.extend(min(a.count(i), b.count(i)) * [i])\n",
    "    for j in inter:\n",
    "        summ.remove(j)\n",
    "    \n",
    "    if a == [] and b == []:\n",
    "        return 65536\n",
    "    \n",
    "    answer= int((len(inter)/len(summ)) * 65536)\n",
    "    return answer"
   ]
  },
  {
   "cell_type": "code",
   "execution_count": null,
   "metadata": {},
   "outputs": [],
   "source": [
    "# 나중에 다시 풀어본 거\n",
    "def solution(str1, str2):\n",
    "    str1, str2 = str1.upper(), str2.upper()\n",
    "    a = [str1[i-1]+str1[i] for i in range(1, len(str1)) if (str1[i]+str1[i-1]).isalpha()]\n",
    "    b = [str2[i-1]+str2[i] for i in range(1, len(str2)) if (str2[i]+str2[i-1]).isalpha()]\n",
    "    c = set(a+b)\n",
    "    inter, union = [], []\n",
    "    for i in c:\n",
    "        _min = min(a.count(i), b.count(i))\n",
    "        _max = max(a.count(i), b.count(i))\n",
    "        if _min != 0: inter.extend(_min*[i])\n",
    "        if _max != 0: union.extend(_max*[i])\n",
    "    if len(union) > 0: \n",
    "        return int((len(inter)/len(union))*65536)\n",
    "    else: return 65536 # 분모가 0일 경우, 식이 성립되지 않으므로 65536을 그냥 리턴"
   ]
  },
  {
   "cell_type": "code",
   "execution_count": null,
   "metadata": {},
   "outputs": [],
   "source": [
    "# 다른 사람 풀이\n",
    "import re\n",
    "import math\n",
    "\n",
    "def solution(str1, str2):\n",
    "    str1 = [str1[i:i+2].lower() for i in range(0, len(str1)-1) if not re.findall('[^a-zA-Z]+', str1[i:i+2])]\n",
    "    str2 = [str2[i:i+2].lower() for i in range(0, len(str2)-1) if not re.findall('[^a-zA-Z]+', str2[i:i+2])]\n",
    "\n",
    "    gyo = set(str1) & set(str2)\n",
    "    hap = set(str1) | set(str2)\n",
    "\n",
    "    if len(hap) == 0 :\n",
    "        return 65536\n",
    "\n",
    "    gyo_sum = sum([min(str1.count(gg), str2.count(gg)) for gg in gyo])\n",
    "    hap_sum = sum([max(str1.count(hh), str2.count(hh)) for hh in hap])\n",
    "\n",
    "    return math.floor((gyo_sum/hap_sum)*65536)"
   ]
  },
  {
   "cell_type": "markdown",
   "metadata": {},
   "source": [
    "2. 프렌즈 4블록"
   ]
  },
  {
   "cell_type": "code",
   "execution_count": null,
   "metadata": {},
   "outputs": [],
   "source": [
    "# 내가 푼 답안...\n",
    "import copy\n",
    "def solution(m, n, board):\n",
    "    board = list(zip(*board[::-1]))\n",
    "    for i in range(len(board)):\n",
    "        board[i] = list(board[i])\n",
    "    count = 0\n",
    "    while True:\n",
    "        measure = [[0 for ii in range(m)] for jj in range(n)]\n",
    "        xx = False\n",
    "        for i in range(len(board)-1):\n",
    "            for j in range(len(board[i])-1):\n",
    "                if board[i][j] != '0' and board[i][j] == board[i][j+1] and board[i][j] == board[i+1][j] and board[i][j] == board[i+1][j+1]:\n",
    "                    xx = True\n",
    "                    measure[i][j] += 1\n",
    "                    measure[i][j+1] += 1\n",
    "                    measure[i+1][j] += 1\n",
    "                    measure[i+1][j+1] += 1\n",
    "\n",
    "        if not xx:\n",
    "            break\n",
    "\n",
    "        answer = [[] for _ in range(n)]\n",
    "        for k in range(len(measure)):\n",
    "            ff = 0\n",
    "            for f in range(len(measure[k])):\n",
    "                if measure[k][f] == 0:\n",
    "                    answer[k].append(board[k][f])\n",
    "                else:\n",
    "                    ff += 1\n",
    "                    count += 1\n",
    "            answer[k] = answer[k] + (['0'] * ff)\n",
    "        board = copy.deepcopy(answer)\n",
    "    return count"
   ]
  },
  {
   "cell_type": "code",
   "execution_count": 2,
   "metadata": {},
   "outputs": [],
   "source": [
    "# 나중에 다시 풀어본 답안\n",
    "def solution(m, n, board):\n",
    "    board = list(map(list, list(zip(*board[::-1]))))\n",
    "    point = [(1, 0), (0, 1), (1, 1)]\n",
    "    count = 0\n",
    "    while True:\n",
    "        answer = set()\n",
    "        for i in range(len(board)-1):\n",
    "            for j in range(len(board[i])-1):\n",
    "                a = [(i, j)]\n",
    "                for x in range(3):\n",
    "                    if board[i][j] != \"X\" and board[i+point[x][0]][j+point[x][1]] == board[i][j]:\n",
    "                        a.append((i+point[x][0], j+point[x][1]))\n",
    "                if len(a) == 4:\n",
    "                    answer.update(a)\n",
    "        if not answer: break\n",
    "        count+= len(answer)\n",
    "        board = list(map(lambda x: x+([\"X\"]*(len(board[0])-len(x))), [[board[i][j] for j in range(len(board[0])) if (i, j) not in answer] for i in range(len(board))]))\n",
    "    return count"
   ]
  },
  {
   "cell_type": "markdown",
   "metadata": {},
   "source": [
    "3. 캐시"
   ]
  },
  {
   "cell_type": "code",
   "execution_count": 2,
   "metadata": {},
   "outputs": [],
   "source": [
    "# 내가 푼 답안\n",
    "# server = deque([], maxlen=cacheSize)를 통해서 사이즈를 정해놓을 수 있음\n",
    "# 사이즈가 정해진 사이즈보다 커지면 맨 왼쪽 원소가 삭제됨.\n",
    "from collections import deque\n",
    "def solution(cacheSize, cities):\n",
    "    server = deque([])\n",
    "    a = deque(cities)\n",
    "    count=0\n",
    "    while a:\n",
    "        c = a.popleft()\n",
    "        if c.upper() in server:\n",
    "            server.remove(c.upper())\n",
    "            server.append(c.upper())\n",
    "            count += 1\n",
    "        else:\n",
    "            server.append(c.upper())\n",
    "            if len(server) > cacheSize:\n",
    "                server.popleft()\n",
    "            count += 5\n",
    "    return count"
   ]
  },
  {
   "cell_type": "markdown",
   "metadata": {},
   "source": [
    "4. [3차] 압축"
   ]
  },
  {
   "cell_type": "code",
   "execution_count": 9,
   "metadata": {},
   "outputs": [],
   "source": [
    "# 내가 푼 답안\n",
    "import string\n",
    "from collections import deque\n",
    "def solution(msg):\n",
    "    msg = deque(list(msg))\n",
    "\n",
    "    a = string.ascii_uppercase\n",
    "    a = list(' '+a)\n",
    "\n",
    "    answer = []\n",
    "    b = msg.popleft()\n",
    "    while a:\n",
    "        if b in a:\n",
    "            if msg:\n",
    "                b += msg.popleft()\n",
    "            else: \n",
    "                answer.append(a.index(b))\n",
    "                break\n",
    "        else:\n",
    "            answer.append(a.index(b[:-1]))\n",
    "            a.append(b)\n",
    "            b = b[-1]\n",
    "    return answer"
   ]
  },
  {
   "cell_type": "code",
   "execution_count": null,
   "metadata": {},
   "outputs": [],
   "source": [
    "# 다른 사람 답안\n",
    "def solution(msg):\n",
    "    answer = []\n",
    "    tmp = {chr(e + 64): e for e in range(1, 27)}\n",
    "    num = 27\n",
    "    while msg:\n",
    "        tt = 1\n",
    "        while msg[:tt] in tmp.keys() and tt <= msg.__len__():\n",
    "            tt += 1\n",
    "        tt -= 1\n",
    "        if msg[:tt] in tmp.keys():\n",
    "            answer.append(tmp[msg[:tt]])\n",
    "            tmp[msg[:tt + 1]] = num\n",
    "            num += 1\n",
    "        msg = msg[tt:]\n",
    "    return answer"
   ]
  },
  {
   "cell_type": "markdown",
   "metadata": {},
   "source": [
    "5. [3차] 파일명 정렬"
   ]
  },
  {
   "cell_type": "code",
   "execution_count": null,
   "metadata": {},
   "outputs": [],
   "source": [
    "# 내가 푼 답안\n",
    "# 굳이 deque 안써도 됨. 걍 for문 돌려도 됨\n",
    "# not a.isdigit()는 isalpha()로 바꿀 수 없음. 공백이나 특수문자가 들어있을 경우 \n",
    "# isalpha()가 False가 되기 때문.\n",
    "from collections import deque\n",
    "def a_split(file):\n",
    "    Head = ''\n",
    "    number = ''\n",
    "    file = deque(list(file))\n",
    "    while file:\n",
    "        a = file.popleft()\n",
    "        if a.isdigit():\n",
    "            number += a\n",
    "        elif not a.isdigit():\n",
    "            if len(number) >= 1:\n",
    "                break\n",
    "            else: Head += a.upper()\n",
    "    return Head, int(number)\n",
    "def solution(files):\n",
    "    files.sort(key = lambda x : (a_split(x)[0],a_split(x)[1]))\n",
    "    return files"
   ]
  },
  {
   "cell_type": "code",
   "execution_count": 10,
   "metadata": {},
   "outputs": [],
   "source": [
    "# 위에꺼 for문\n",
    "def a_split(file):\n",
    "    Head = ''\n",
    "    number = ''\n",
    "    for a in files:\n",
    "        if a.isdigit():\n",
    "            number += a\n",
    "        elif not a.isdigit():\n",
    "            if len(number) >= 1:\n",
    "                break\n",
    "            else: Head += a.upper()\n",
    "    return Head, int(number)\n",
    "def solution(files):\n",
    "    files.sort(key = lambda x : (a_split(x)[0],a_split(x)[1]))\n",
    "    return files"
   ]
  },
  {
   "cell_type": "markdown",
   "metadata": {},
   "source": [
    "6. [3차] n진수 게임"
   ]
  },
  {
   "cell_type": "code",
   "execution_count": 12,
   "metadata": {},
   "outputs": [],
   "source": [
    "# 내가 푼 답안\n",
    "def n_number(a, n):\n",
    "    b = []\n",
    "    while a > 0:\n",
    "        a, c = divmod(a, n)\n",
    "        b.append(str(c))\n",
    "    return list(reversed(b))\n",
    "\n",
    "def solution(n, t, m, p):\n",
    "    a = ['0']\n",
    "    alph = {10: 'A', 11: 'B', 12: 'C', 13: 'D', 14: 'E', 15:'F'}\n",
    "    for i in range(1, (t**2)+1):\n",
    "        a.extend(list(map(lambda x: alph[int(x)] if int(x) >= 10 else x, list(n_number(i, n)))))\n",
    "    #answer = []\n",
    "    #for j in range(p-1, t*m, m):\n",
    "    #    answer.append(a[j])\n",
    "    #return ''.join(answer)\n",
    "    return ''.join(a[p-1:t*m:m]) # for문 보다 이게 더 시간 오래걸림"
   ]
  },
  {
   "cell_type": "code",
   "execution_count": 13,
   "metadata": {},
   "outputs": [],
   "source": [
    "# 내가 푼 다른 답안\n",
    "def n_number(a, n):\n",
    "    b = ''\n",
    "    while a > 0:\n",
    "        a, c = divmod(a, n)\n",
    "        if c == 10: c = 'A'\n",
    "        elif c == 11: c = 'B'\n",
    "        elif c == 12: c = 'C'\n",
    "        elif c == 13: c = 'D'\n",
    "        elif c == 14: c = 'E'\n",
    "        elif c == 15: c = 'F'\n",
    "        b += str(c)\n",
    "    return b[::-1]\n",
    "\n",
    "def solution(n, t, m, p):\n",
    "    a = []\n",
    "    for i in range(t**2):\n",
    "        if i != 0:\n",
    "            a.extend(list(n_number(i, n)))\n",
    "        else: a.append('0')\n",
    "\n",
    "    answer = []\n",
    "    for j in range(p-1, t*m, m):\n",
    "        answer.append(a[j])\n",
    "    return ''.join(answer)"
   ]
  },
  {
   "cell_type": "code",
   "execution_count": null,
   "metadata": {},
   "outputs": [],
   "source": [
    "# 다른 사람 답안\n",
    "big = [\"A\",\"B\",\"C\",\"D\",\"E\",\"F\"]\n",
    "def solution(n, t, m, p):\n",
    "    a=\"0\"\n",
    "    i=0\n",
    "    #for i in range(t*m):\n",
    "    while True:\n",
    "        if len(a)>=t*m:\n",
    "            break\n",
    "        b=\"\"\n",
    "        j=i\n",
    "        while (j):\n",
    "            if j%n>9:\n",
    "                b=big[j%n-10]+b\n",
    "            else:\n",
    "                b=str(j%n)+b\n",
    "            j=j//n\n",
    "        a=a+b\n",
    "        i=i+1\n",
    "    answer = a[p-1::m][:t]\n",
    "    return answer"
   ]
  },
  {
   "cell_type": "markdown",
   "metadata": {},
   "source": [
    "6. 셔틀버스\n",
    "- 꼭 zfill(2)를 통해서 \"09:1\" 형식을 \"09:01\" 형식으로 바꿔줘야 함\n",
    "- datetime나 time을 써도 되는데 그냥 풀었음"
   ]
  },
  {
   "cell_type": "code",
   "execution_count": 24,
   "metadata": {},
   "outputs": [],
   "source": [
    "# 내 풀이\n",
    "from collections import deque\n",
    "\n",
    "def length(string):\n",
    "    x, y = string.split(\":\")\n",
    "    return x.zfill(2)+\":\"+y.zfill(2)\n",
    "\n",
    "def solution(n, t, m, timetable):\n",
    "    now = \"09:00\"\n",
    "    timetable = deque(sorted(timetable))\n",
    "    count = 1\n",
    "    answer = []\n",
    "    while True:\n",
    "        each_count = 0\n",
    "        for i in range(m):\n",
    "            if timetable:\n",
    "                if timetable[0] <= now:\n",
    "                    answer.append(timetable.popleft())\n",
    "                    each_count += 1\n",
    "                else: break\n",
    "        count += 1\n",
    "        if count > n: break\n",
    "        now = now[:3] + str(int(now[3:])+int(t))\n",
    "        # 초가 60보다 크거나 같으면 시간 +1, 초는 초과된 초에서 -60 후 나머지.\n",
    "        if int(now.split(\":\")[1]) >= 60:\n",
    "            now = str(int(now.split(\":\")[0])+1) +\":\"+ str(int(now.split(\":\")[1]) - 60)\n",
    "        # 이거 꼭 해줘야 함. 이거 간과했다가 애먹음\n",
    "        # 왜냐하면 그냥 split한 후에 1을 더해주면 \n",
    "        # \"09:1\" 같이 처리됨. 그럼 timetable의 원소와 비교할 때 문자열로 비교하기 때문에\n",
    "        # \"09:1\" 이 \"09:09\" 보다 크게 됨. 때문에 \"09:01\"로 처리한 후\n",
    "        # \"09:09\" 와 비교할 수 있도록 꼭 처리가 필요함. \n",
    "        now = length(now)\n",
    "    if each_count < m:\n",
    "        r = length(now)\n",
    "    else:\n",
    "        x, y = answer[-1].split(\":\")\n",
    "        if y == \"00\":\n",
    "            x = str(int(x)-1)\n",
    "            y = \"59\"\n",
    "        else:\n",
    "            y = str(int(y)-1)\n",
    "        r = length(x + \":\"+ y)\n",
    "    return r"
   ]
  },
  {
   "cell_type": "code",
   "execution_count": 22,
   "metadata": {},
   "outputs": [
    {
     "data": {
      "text/plain": [
       "'01'"
      ]
     },
     "execution_count": 22,
     "metadata": {},
     "output_type": "execute_result"
    }
   ],
   "source": [
    "# 다른 사람 풀이 1 \n",
    "def solution(n,t,m,timetable):\n",
    "    timetable=[int(i[:2])*60+int(i[3:]) for i in timetable]\n",
    "    timetable.sort()\n",
    "    bustable=[9*60+t*i for i in range(n)]\n",
    "    for i in bustable:\n",
    "        passenger=[p for p in timetable if p<=i]\n",
    "        if i==bustable[-1]:\n",
    "            if len(passenger)>=m:\n",
    "                answer=passenger[m-1]-1\n",
    "            elif len(passenger)<m:\n",
    "                answer=i\n",
    "        elif len(passenger)<m:\n",
    "            timetable=timetable[len(passenger):]\n",
    "        elif len(passenger)>=m:\n",
    "            timetable=timetable[m:]\n",
    "    answer= str(divmod(answer,60)[0]).rjust(2,'0')+':'+str(divmod(answer,60)[1]).rjust(2,'0')\n",
    "    return answer\n"
   ]
  },
  {
   "cell_type": "code",
   "execution_count": 23,
   "metadata": {},
   "outputs": [],
   "source": [
    "# 다른 사람 풀이 2\n",
    "def solution(n,t,m,timetable):\n",
    "    timetable=[int(i[:2])*60+int(i[3:]) for i in timetable]\n",
    "    timetable.sort()\n",
    "    bustable=[9*60+t*i for i in range(n)]\n",
    "    for i in bustable:\n",
    "        passenger=[p for p in timetable if p<=i]\n",
    "        if i==bustable[-1]:\n",
    "            if len(passenger)>=m:\n",
    "                answer=passenger[m-1]-1\n",
    "            elif len(passenger)<m:\n",
    "                answer=i\n",
    "            else:\n",
    "                answer=passenger[-1]\n",
    "        elif len(passenger)<m:\n",
    "            timetable=timetable[len(passenger):]\n",
    "        elif len(passenger)>=m:\n",
    "            timetable=timetable[m:]\n",
    "    answer= str(divmod(answer,60)[0]).rjust(2,'0')+':'+str(divmod(answer,60)[1]).rjust(2,'0')\n",
    "    return answer\n",
    "\n"
   ]
  },
  {
   "cell_type": "code",
   "execution_count": null,
   "metadata": {},
   "outputs": [],
   "source": [
    "# 다른 사람 풀이 3\n",
    "def solution(n, t, m, timetable):\n",
    "    answer = ''\n",
    "    timetable = [ int(time[:2])*60 + int(time[3:5]) for time in timetable ]\n",
    "\n",
    "    timetable.sort()\n",
    "\n",
    "    for i in range(n):\n",
    "        last_time = 540 + (n - 1) * t\n",
    "        if len(timetable) < m:\n",
    "            return '%02d:%02d' % (last_time // 60, last_time % 60)\n",
    "        if i == n - 1:\n",
    "            if timetable[0] > last_time:\n",
    "                return '%02d:%02d' % (last_time // 60, last_time % 60)\n",
    "            time = timetable[m - 1] - 1\n",
    "            return '%02d:%02d' % (time // 60, time % 60)\n",
    "        for j in range(m-1, -1, -1):\n",
    "            bus_arrive = 540 + i * t\n",
    "            if timetable[j] <= bus_arrive:\n",
    "                del timetable[j]"
   ]
  },
  {
   "cell_type": "code",
   "execution_count": 33,
   "metadata": {},
   "outputs": [
    {
     "data": {
      "text/plain": [
       "'05:03'"
      ]
     },
     "execution_count": 33,
     "metadata": {},
     "output_type": "execute_result"
    }
   ],
   "source": [
    "'%02d:%02d' % (5, 3)"
   ]
  },
  {
   "cell_type": "code",
   "execution_count": 37,
   "metadata": {},
   "outputs": [
    {
     "name": "stdout",
     "output_type": "stream",
     "text": [
      "540\n",
      "1\n"
     ]
    }
   ],
   "source": [
    "time = \"09\"\n",
    "print(int(time[:2])*60)\n",
    "print(int(\"01\"))"
   ]
  }
 ],
 "metadata": {
  "kernelspec": {
   "display_name": "Python 3",
   "language": "python",
   "name": "python3"
  },
  "language_info": {
   "codemirror_mode": {
    "name": "ipython",
    "version": 3
   },
   "file_extension": ".py",
   "mimetype": "text/x-python",
   "name": "python",
   "nbconvert_exporter": "python",
   "pygments_lexer": "ipython3",
   "version": "3.8.5"
  }
 },
 "nbformat": 4,
 "nbformat_minor": 4
}
