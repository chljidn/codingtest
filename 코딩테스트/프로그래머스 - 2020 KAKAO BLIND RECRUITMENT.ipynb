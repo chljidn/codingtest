{
 "cells": [
  {
   "cell_type": "markdown",
   "metadata": {},
   "source": [
    "1. 문자열 압축"
   ]
  },
  {
   "cell_type": "code",
   "execution_count": null,
   "metadata": {},
   "outputs": [],
   "source": [
    "# 내 답안 1\n",
    "# 정확도 100... 하...\n",
    "\n",
    "from itertools import combinations\n",
    "def solution(a):\n",
    "    answer = []\n",
    "    if len(a) == 1:\n",
    "        return len(a)\n",
    "    for i in range(1, (len(a)//2)+1):\n",
    "        start = 0\n",
    "        end = i\n",
    "        b = []\n",
    "        while True:\n",
    "            b.append(a[start:end])\n",
    "            start += i\n",
    "            end += i\n",
    "\n",
    "            if end > len(a):\n",
    "                b.append(a[start:end])\n",
    "                break\n",
    "        aa = \"\"\n",
    "        f = 1\n",
    "        for j in range(0, len(b)):\n",
    "            if j < len(b)-1:\n",
    "                if b[j] == b[j+1]:\n",
    "                    f += 1\n",
    "                else:\n",
    "                    if f >= 2:\n",
    "                        aa += str(f)+b[j]\n",
    "                        f = 1\n",
    "                    else:\n",
    "                        aa += b[j]\n",
    "                        f = 1\n",
    "            elif j == len(b)-1:  \n",
    "                if f >= 2:\n",
    "                    aa += str(f)+b[j]\n",
    "                    f = 1\n",
    "                else:\n",
    "                    aa += b[j]\n",
    "                    f = 1\n",
    "\n",
    "        answer.append(aa)\n",
    "        answer.sort(key=lambda x : len(x))\n",
    "\n",
    "    return len(answer[0])"
   ]
  },
  {
   "cell_type": "code",
   "execution_count": null,
   "metadata": {},
   "outputs": [],
   "source": [
    "# 내 답안 2\n",
    "from itertools import combinations\n",
    "def solution(a):\n",
    "    answer = []\n",
    "    for i in range(0, len(a)):\n",
    "        b = []\n",
    "        for j in range(0, len(a), i+1):\n",
    "            b.append(a[j:(j+i+1)])\n",
    "        aa = \"\"\n",
    "        f = 1\n",
    "        for j in range(0, len(b)):\n",
    "            if j < len(b)-1:\n",
    "                if b[j] == b[j+1]:\n",
    "                    f += 1\n",
    "                else:\n",
    "                    if f >= 2:\n",
    "                        aa += str(f)+b[j]\n",
    "                    else:\n",
    "                        aa += b[j]\n",
    "                    f = 1\n",
    "            elif j == len(b)-1:  \n",
    "                if f >= 2:\n",
    "                    aa += str(f)+b[j]\n",
    "                else:\n",
    "                    aa += b[j]\n",
    "                f = 1\n",
    "\n",
    "        answer.append(aa)\n",
    "        answer.sort(key=lambda x : len(x))\n",
    "        \n",
    "    return len(answer[0])"
   ]
  },
  {
   "cell_type": "code",
   "execution_count": 231,
   "metadata": {},
   "outputs": [
    {
     "name": "stdout",
     "output_type": "stream",
     "text": [
      "7\n",
      "9\n",
      "8\n",
      "14\n",
      "17\n",
      "2\n"
     ]
    }
   ],
   "source": [
    "# 내 답안 3\n",
    "import time\n",
    "def solution(a):\n",
    "    answer1 = []\n",
    "    for i in range(0, len(a)):\n",
    "        b = []\n",
    "        for j in range(0, len(a), i+1):\n",
    "            b.append(a[j:j+i+1])\n",
    "        d = [\"\", \"1\"]\n",
    "        for j in b:\n",
    "            if j != d[-2]:\n",
    "                d.append(j)\n",
    "                d.append(str(1))\n",
    "            else:\n",
    "                d[-1] = str(int(d[-1]) + 1)\n",
    "        d = list(filter((\"1\").__ne__, d))\n",
    "        answer1.append(\"\".join(d))\n",
    "    answer1.sort(key = lambda x: len(x))\n",
    "    return len(answer1[0])\n",
    "\n",
    "\n",
    "a = [\n",
    "    \"aabbaccc\",\n",
    "    \"ababcdcdababcdcd\",\n",
    "    \"abcabcdede\",\n",
    "    \"abcabcabcabcdededededede\",\n",
    "    \"xababcdcdababcdcd\",\n",
    "\n",
    "    'aaaaaa',\n",
    "]\n",
    "\n",
    "for x in a:\n",
    "    print(solution(x))"
   ]
  },
  {
   "cell_type": "code",
   "execution_count": null,
   "metadata": {},
   "outputs": [],
   "source": [
    "# --- 다른 사람들 풀이 --------------------------------------------------------------------------------------------------------"
   ]
  },
  {
   "cell_type": "code",
   "execution_count": 234,
   "metadata": {},
   "outputs": [
    {
     "name": "stdout",
     "output_type": "stream",
     "text": [
      "['a', 'a', 'b', 'b', 'a', 'c', 'c', 'c']\n",
      "['aa', 'bb', 'ac', 'cc']\n",
      "['aab', 'bac', 'cc']\n",
      "['aabb', 'accc']\n",
      "['aabbaccc']\n",
      "7\n",
      "['a', 'b', 'a', 'b', 'c', 'd', 'c', 'd', 'a', 'b', 'a', 'b', 'c', 'd', 'c', 'd']\n",
      "['ab', 'ab', 'cd', 'cd', 'ab', 'ab', 'cd', 'cd']\n",
      "['aba', 'bcd', 'cda', 'bab', 'cdc', 'd']\n",
      "['abab', 'cdcd', 'abab', 'cdcd']\n",
      "['ababc', 'dcdab', 'abcdc', 'd']\n",
      "['ababcd', 'cdabab', 'cdcd']\n",
      "['ababcdc', 'dababcd', 'cd']\n",
      "['ababcdcd', 'ababcdcd']\n",
      "['ababcdcdababcdcd']\n",
      "9\n",
      "['a', 'b', 'c', 'a', 'b', 'c', 'd', 'e', 'd', 'e']\n",
      "['ab', 'ca', 'bc', 'de', 'de']\n",
      "['abc', 'abc', 'ded', 'e']\n",
      "['abca', 'bcde', 'de']\n",
      "['abcab', 'cdede']\n",
      "['abcabcdede']\n",
      "8\n",
      "['a', 'b', 'c', 'a', 'b', 'c', 'a', 'b', 'c', 'a', 'b', 'c', 'd', 'e', 'd', 'e', 'd', 'e', 'd', 'e', 'd', 'e', 'd', 'e']\n",
      "['ab', 'ca', 'bc', 'ab', 'ca', 'bc', 'de', 'de', 'de', 'de', 'de', 'de']\n",
      "['abc', 'abc', 'abc', 'abc', 'ded', 'ede', 'ded', 'ede']\n",
      "['abca', 'bcab', 'cabc', 'dede', 'dede', 'dede']\n",
      "['abcab', 'cabca', 'bcded', 'edede', 'dede']\n",
      "['abcabc', 'abcabc', 'dedede', 'dedede']\n",
      "['abcabca', 'bcabcde', 'dededed', 'ede']\n",
      "['abcabcab', 'cabcdede', 'dededede']\n",
      "['abcabcabc', 'abcdedede', 'dedede']\n",
      "['abcabcabca', 'bcdededede', 'dede']\n",
      "['abcabcabcab', 'cdedededede', 'de']\n",
      "['abcabcabcabc', 'dededededede']\n",
      "['abcabcabcabcdededededede']\n",
      "14\n",
      "['x', 'a', 'b', 'a', 'b', 'c', 'd', 'c', 'd', 'a', 'b', 'a', 'b', 'c', 'd', 'c', 'd']\n",
      "['xa', 'ba', 'bc', 'dc', 'da', 'ba', 'bc', 'dc', 'd']\n",
      "['xab', 'abc', 'dcd', 'aba', 'bcd', 'cd']\n",
      "['xaba', 'bcdc', 'daba', 'bcdc', 'd']\n",
      "['xabab', 'cdcda', 'babcd', 'cd']\n",
      "['xababc', 'dcdaba', 'bcdcd']\n",
      "['xababcd', 'cdababc', 'dcd']\n",
      "['xababcdc', 'dababcdc', 'd']\n",
      "['xababcdcdababcdcd']\n",
      "17\n",
      "['a', 'a', 'a', 'a', 'a', 'a']\n",
      "['aa', 'aa', 'aa']\n",
      "['aaa', 'aaa']\n",
      "['aaaaaa']\n",
      "2\n"
     ]
    }
   ],
   "source": [
    "def compress(text, tok_len):\n",
    "    words = [text[i:i+tok_len] for i in range(0, len(text), tok_len)]\n",
    "    print(words)\n",
    "    res = []\n",
    "    cur_word = words[0]\n",
    "    cur_cnt = 1\n",
    "    for a, b in zip(words, words[1:] + ['']):\n",
    "        if a == b:\n",
    "            cur_cnt += 1\n",
    "        else:\n",
    "            res.append([cur_word, cur_cnt])\n",
    "            cur_word = b\n",
    "            cur_cnt = 1\n",
    "    return sum(len(word) + (len(str(cnt)) if cnt > 1 else 0) for word, cnt in res)\n",
    "\n",
    "def solution(text):\n",
    "    \n",
    "    return min(compress(text, tok_len) for tok_len in list(range(1, int(len(text)/2) + 1)) + [len(text)])\n",
    "\n",
    "a = [\n",
    "    \"aabbaccc\",\n",
    "    \"ababcdcdababcdcd\",\n",
    "    \"abcabcdede\",\n",
    "    \"abcabcabcabcdededededede\",\n",
    "    \"xababcdcdababcdcd\",\n",
    "\n",
    "    'aaaaaa',\n",
    "]\n",
    "\n",
    "for x in a:\n",
    "    print(solution(x))"
   ]
  },
  {
   "cell_type": "code",
   "execution_count": 289,
   "metadata": {},
   "outputs": [
    {
     "ename": "TypeError",
     "evalue": "range() takes no keyword arguments",
     "output_type": "error",
     "traceback": [
      "\u001b[1;31m---------------------------------------------------------------------------\u001b[0m",
      "\u001b[1;31mTypeError\u001b[0m                                 Traceback (most recent call last)",
      "\u001b[1;32m<ipython-input-289-e60337f1e22d>\u001b[0m in \u001b[0;36m<module>\u001b[1;34m\u001b[0m\n\u001b[0;32m     16\u001b[0m \u001b[1;33m\u001b[0m\u001b[0m\n\u001b[0;32m     17\u001b[0m \u001b[0manswer\u001b[0m \u001b[1;33m=\u001b[0m \u001b[1;34m\"\"\u001b[0m\u001b[1;33m\u001b[0m\u001b[1;33m\u001b[0m\u001b[0m\n\u001b[1;32m---> 18\u001b[1;33m \u001b[1;32mfor\u001b[0m \u001b[0mi\u001b[0m \u001b[1;32min\u001b[0m \u001b[0mrange\u001b[0m\u001b[1;33m(\u001b[0m\u001b[0mb\u001b[0m \u001b[1;33m=\u001b[0m \u001b[0mlen\u001b[0m\u001b[1;33m(\u001b[0m\u001b[1;33m[\u001b[0m\u001b[1;33m[\u001b[0m\u001b[0mk\u001b[0m\u001b[1;33m[\u001b[0m\u001b[0mi\u001b[0m\u001b[1;33m]\u001b[0m \u001b[1;32mfor\u001b[0m \u001b[0mk\u001b[0m \u001b[1;32min\u001b[0m \u001b[0ma\u001b[0m\u001b[1;33m]\u001b[0m \u001b[1;32mfor\u001b[0m \u001b[0mi\u001b[0m \u001b[1;32min\u001b[0m \u001b[0mrange\u001b[0m\u001b[1;33m(\u001b[0m\u001b[0mlen\u001b[0m\u001b[1;33m(\u001b[0m\u001b[0ma\u001b[0m\u001b[1;33m[\u001b[0m\u001b[1;36m0\u001b[0m\u001b[1;33m]\u001b[0m\u001b[1;33m)\u001b[0m\u001b[1;33m)\u001b[0m\u001b[1;33m]\u001b[0m\u001b[1;33m)\u001b[0m\u001b[1;33m)\u001b[0m\u001b[1;33m:\u001b[0m\u001b[1;33m\u001b[0m\u001b[1;33m\u001b[0m\u001b[0m\n\u001b[0m\u001b[0;32m     19\u001b[0m     \u001b[1;32mif\u001b[0m \u001b[0mmin\u001b[0m\u001b[1;33m(\u001b[0m\u001b[0mb\u001b[0m\u001b[1;33m[\u001b[0m\u001b[0mi\u001b[0m\u001b[1;33m]\u001b[0m\u001b[1;33m)\u001b[0m \u001b[1;33m<\u001b[0m \u001b[0mb\u001b[0m\u001b[1;33m[\u001b[0m\u001b[0mi\u001b[0m\u001b[1;33m]\u001b[0m\u001b[1;33m[\u001b[0m\u001b[0mi\u001b[0m\u001b[1;33m]\u001b[0m \u001b[1;33m<\u001b[0m \u001b[0mmax\u001b[0m\u001b[1;33m(\u001b[0m\u001b[0mb\u001b[0m\u001b[1;33m[\u001b[0m\u001b[0mi\u001b[0m\u001b[1;33m]\u001b[0m\u001b[1;33m)\u001b[0m \u001b[1;32mor\u001b[0m \u001b[0mb\u001b[0m\u001b[1;33m[\u001b[0m\u001b[0mi\u001b[0m\u001b[1;33m]\u001b[0m\u001b[1;33m.\u001b[0m\u001b[0mcount\u001b[0m\u001b[1;33m(\u001b[0m\u001b[0mb\u001b[0m\u001b[1;33m[\u001b[0m\u001b[0mi\u001b[0m\u001b[1;33m]\u001b[0m\u001b[1;33m[\u001b[0m\u001b[0mi\u001b[0m\u001b[1;33m]\u001b[0m\u001b[1;33m)\u001b[0m \u001b[1;33m!=\u001b[0m \u001b[1;36m1\u001b[0m\u001b[1;33m:\u001b[0m\u001b[1;33m\u001b[0m\u001b[1;33m\u001b[0m\u001b[0m\n\u001b[0;32m     20\u001b[0m         \u001b[0manswer\u001b[0m \u001b[1;33m+=\u001b[0m \u001b[0maaa\u001b[0m\u001b[1;33m(\u001b[0m\u001b[0msum\u001b[0m\u001b[1;33m(\u001b[0m\u001b[0mb\u001b[0m\u001b[1;33m[\u001b[0m\u001b[0mi\u001b[0m\u001b[1;33m]\u001b[0m\u001b[1;33m)\u001b[0m\u001b[1;33m//\u001b[0m\u001b[0mlen\u001b[0m\u001b[1;33m(\u001b[0m\u001b[0mb\u001b[0m\u001b[1;33m[\u001b[0m\u001b[0mi\u001b[0m\u001b[1;33m]\u001b[0m\u001b[1;33m)\u001b[0m\u001b[1;33m)\u001b[0m\u001b[1;33m\u001b[0m\u001b[1;33m\u001b[0m\u001b[0m\n",
      "\u001b[1;31mTypeError\u001b[0m: range() takes no keyword arguments"
     ]
    }
   ],
   "source": [
    "a = [[100,90,98,88,65],[50,45,99,85,77],[47,88,95,80,67],[61,57,100,80,65],[24,90,94,75,65]]\n",
    "\n",
    "def aaa(a):\n",
    "    if a >= 90:\n",
    "        return \"A\"\n",
    "    elif 80<=a<90:\n",
    "        return \"B\"\n",
    "    elif 70<= a < 80:\n",
    "        return \"C\"\n",
    "    elif 50 <= a < 70:\n",
    "        return \"D\"\n",
    "    else:\n",
    "        return \"F\"\n",
    "    \n",
    "b = [[k[i] for k in a] for i in range(len(a[0]))]\n",
    "\n",
    "answer = \"\"\n",
    "for i in range(len(b)):\n",
    "    if min(b[i]) < b[i][i] < max(b[i]) or b[i].count(b[i][i]) != 1:\n",
    "        answer += aaa(sum(b[i])//len(b[i]))\n",
    "    else:\n",
    "        del b[i][i]\n",
    "        answer += aaa(sum(b[i])//len(b[i]))\n",
    "answer"
   ]
  },
  {
   "cell_type": "code",
   "execution_count": 291,
   "metadata": {},
   "outputs": [
    {
     "data": {
      "text/plain": [
       "[(100, 50, 47, 61, 24),\n",
       " (90, 45, 88, 57, 90),\n",
       " (98, 99, 95, 100, 94),\n",
       " (88, 85, 80, 80, 75),\n",
       " (65, 77, 67, 65, 65)]"
      ]
     },
     "execution_count": 291,
     "metadata": {},
     "output_type": "execute_result"
    }
   ],
   "source": [
    "a = [[100,90,98,88,65],[50,45,99,85,77],[47,88,95,80,67],[61,57,100,80,65],[24,90,94,75,65]]\n",
    "list(zip(*a))"
   ]
  },
  {
   "cell_type": "code",
   "execution_count": null,
   "metadata": {},
   "outputs": [],
   "source": []
  },
  {
   "cell_type": "markdown",
   "metadata": {},
   "source": [
    "2. 괄호의 변환"
   ]
  },
  {
   "cell_type": "code",
   "execution_count": 13,
   "metadata": {},
   "outputs": [
    {
     "data": {
      "text/plain": [
       "'()(())'"
      ]
     },
     "execution_count": 13,
     "metadata": {},
     "output_type": "execute_result"
    }
   ],
   "source": [
    "# 문제에서 제시하는 과정을 잘 볼 필요가 있음.\n",
    "# 재귀함수가 무조건 필요한 문제임\n",
    "def splitt(w):\n",
    "    a, b = 0, 0\n",
    "    for i in range(len(w)):\n",
    "        if w[i] == '(':\n",
    "            a += 1\n",
    "        else:\n",
    "            b+=1\n",
    "\n",
    "        if a == b:\n",
    "            u, v = w[:i+1], w[i+1:]\n",
    "            break\n",
    "\n",
    "    return u, v\n",
    "\n",
    "def dcmn(v):\n",
    "    c = True\n",
    "    a = []\n",
    "    for i in v:\n",
    "        if i =='(':\n",
    "            a.append(i)\n",
    "        else:\n",
    "            if a:\n",
    "                a.pop()\n",
    "            else:\n",
    "                c = False\n",
    "    return c\n",
    "    \n",
    "def correct(b):\n",
    "    b = ''.join(['(' if i == ')' else ')' for i in b])\n",
    "    return b\n",
    "\n",
    "def solution(a):\n",
    "    if a == '':\n",
    "        return ''\n",
    "    \n",
    "    answer = ''\n",
    "    u, v = splitt(a)\n",
    "\n",
    "    \n",
    "    if dcmn(u): # 올바른 문자열을 충족하는지를 (를 통해서 확인함.\n",
    "        answer += u + solution(v)\n",
    "    else:\n",
    "        answer += '('+ solution(v) + ')'\n",
    "        answer += correct(u[1:-1])\n",
    "\n",
    "    return answer\n",
    "\n",
    "solution(')))(((')"
   ]
  },
  {
   "cell_type": "markdown",
   "metadata": {},
   "source": [
    "3. 자물쇠와 열쇠"
   ]
  },
  {
   "cell_type": "code",
   "execution_count": 73,
   "metadata": {},
   "outputs": [
    {
     "name": "stdout",
     "output_type": "stream",
     "text": [
      "[[1 0 0]\n",
      " [0 0 0]\n",
      " [1 1 0]]\n",
      "[[0 1 0]\n",
      " [1 0 0]\n",
      " [1 0 0]]\n",
      "[[1 0 1]\n",
      " [1 0 0]\n",
      " [0 0 0]]\n"
     ]
    }
   ],
   "source": [
    "import copy\n",
    "key = [[0, 0, 0], [1, 0, 0], [0, 1, 1]]\n",
    "lock = [[1, 1, 1], [1, 1, 0], [1, 0, 1]]\n",
    "#도는거\n",
    "#오른쪽으로 가는거 \n",
    "\n",
    "#1) 오른쪽으로 도는거 모두 실행 -> 비교\n",
    "#2) 회전 한번, 오른쪽으로 도는거 모두 실행 -> 비교\n",
    "\n",
    "# 오른쪽으로 한칸 이동하는 함수\n",
    "# 단, key의 경우에만 적용가능 함\n",
    "def r_move(a):\n",
    "    b = copy.deepcopy(a)\n",
    "    for i in range(len(a)):\n",
    "        for j in range(len(a[0])):\n",
    "            if j != len(a[0])-1:\n",
    "                b[i][j+1] = a[i][j]\n",
    "            else:\n",
    "                b[i][0] = 0\n",
    "    return b\n",
    "\n",
    "# 한칸 회전하는 함수(단, 오른쪽으로만 회전함)\n",
    "def rotation(a):\n",
    "    if len(a) % 2 == 0:\n",
    "        c = (len(a)//2)+1\n",
    "    else:\n",
    "        c = len(a)//2\n",
    "\n",
    "    for i in range(c):\n",
    "        # 첫 행\n",
    "        for j in range(i, (len(a[i])-i)):\n",
    "            if j == i:\n",
    "                tem = a[i][j]\n",
    "            else:\n",
    "                tem_1 = a[i][j]\n",
    "                a[i][j] = tem\n",
    "                tem = tem_1\n",
    "\n",
    "        # 마지막 열일 때, 밑으로\n",
    "        for j in range(i+1, len(a)-i):\n",
    "            tem_1 = a[j][len(a)-i-1]\n",
    "            a[j][len(a)-i-1] = tem\n",
    "            tem = tem_1\n",
    "\n",
    "        # 마지막 행일 때, 왼쪽으로\n",
    "        for j in range(len(a)-i-2, i-1, -1):\n",
    "            tem_1 = a[len(a)-i-1][j]\n",
    "            a[len(a)-i-1][j] = tem\n",
    "            tem = tem_1\n",
    "\n",
    "        # 첫 행일 때. 위로\n",
    "        for j in range(len(a)-i-2, i-1, -1):\n",
    "            tem_1 = a[j][i]\n",
    "            a[j][i] = tem\n",
    "            tem = tem_1\n",
    "        return a\n",
    "    \n",
    "# 1) 먼저 키를 오른쪽으로 한칸씩 돌려가면서 비교한다.\n",
    "#    단, key가 lock보다 작을 수 있으므로 \n",
    "for i in range(len(key[0])):\n",
    "    key = rotation(key)\n",
    "    print(np.array(key))    "
   ]
  },
  {
   "cell_type": "code",
   "execution_count": 125,
   "metadata": {},
   "outputs": [
    {
     "name": "stdout",
     "output_type": "stream",
     "text": [
      "[[1, 0, 0], [0, 0, 0], [1, 1, 0]]\n",
      "[[0, 1, 0], [1, 0, 0], [1, 0, 0]]\n",
      "[[1, 0, 1], [1, 0, 0], [0, 0, 0]]\n",
      "[[1, 1, 0], [0, 0, 1], [0, 0, 0]]\n",
      "[[0, 1, 1], [0, 0, 0], [0, 0, 1]]\n",
      "[[0, 0, 1], [0, 0, 1], [0, 1, 0]]\n",
      "[[0, 0, 0], [0, 0, 1], [1, 0, 1]]\n",
      "[[0, 0, 0], [1, 0, 0], [0, 1, 1]]\n"
     ]
    }
   ],
   "source": [
    "import copy\n",
    "key = [[0, 0, 0], [1, 0, 0], [0, 1, 1]]\n",
    "lock = [[1, 1, 1], [1, 1, 0], [1, 0, 1]]\n",
    "#도는거\n",
    "#오른쪽으로 가는거 \n",
    "\n",
    "#1) 오른쪽으로 도는거 모두 실행 -> 비교\n",
    "#2) 왼쪽으로도 가야함...\n",
    "#2) 회전 한번, 오른쪽으로 도는거 모두 실행 -> 비교\n",
    "\n",
    "# 오른쪽으로 한칸 이동하는 함수\n",
    "# 단, key의 경우에만 적용가능 함\n",
    "def r_move(a):\n",
    "    b = copy.deepcopy(a)\n",
    "    for i in range(len(a)):\n",
    "        for j in range(len(a[0])):\n",
    "            if j != len(a[0])-1:\n",
    "                b[i][j+1] = a[i][j]\n",
    "            else:\n",
    "                b[i][0] = 0\n",
    "    return b\n",
    "\n",
    "# 한칸 회전하는 함수(단, 오른쪽으로만 회전함)\n",
    "def rotation(a):\n",
    "    if len(a) % 2 == 0:\n",
    "        c = (len(a)//2)+1\n",
    "    else:\n",
    "        c = len(a)//2\n",
    "\n",
    "    for i in range(c):\n",
    "        # 첫 행\n",
    "        for j in range(i, (len(a[i])-i)):\n",
    "            if j == i:\n",
    "                tem = a[i][j]\n",
    "            else:\n",
    "                tem_1 = a[i][j]\n",
    "                a[i][j] = tem\n",
    "                tem = tem_1\n",
    "\n",
    "        # 마지막 열일 때, 밑으로\n",
    "        for j in range(i+1, len(a)-i):\n",
    "            tem_1 = a[j][len(a)-i-1]\n",
    "            a[j][len(a)-i-1] = tem\n",
    "            tem = tem_1\n",
    "\n",
    "        # 마지막 행일 때, 왼쪽으로\n",
    "        for j in range(len(a)-i-2, i-1, -1):\n",
    "            tem_1 = a[len(a)-i-1][j]\n",
    "            a[len(a)-i-1][j] = tem\n",
    "            tem = tem_1\n",
    "\n",
    "        # 첫 행일 때. 위로\n",
    "        for j in range(len(a)-i-2, i-1, -1):\n",
    "            tem_1 = a[j][i]\n",
    "            a[j][i] = tem\n",
    "            tem = tem_1\n",
    "        return a\n",
    "\n",
    "# 먼저 회전을 해야 함. \n",
    "key_copy = copy.deepcopy(key)\n",
    "while True:\n",
    "    key_copy = rotation(key_copy)\n",
    "    print(key_copy)\n",
    "    if key_copy == key:\n",
    "        break\n",
    "        \n",
    "    move_key = copy.deepcopy(key_copy)\n",
    "    # 오른쪽으로 돌릴 것\n",
    "    for _ in range(len(a)):\n",
    "        \n",
    "        "
   ]
  },
  {
   "cell_type": "code",
   "execution_count": 132,
   "metadata": {},
   "outputs": [
    {
     "data": {
      "text/plain": [
       "[[1, 1, 1], [1, 1, 0], [1, 1, 1]]"
      ]
     },
     "execution_count": 132,
     "metadata": {},
     "output_type": "execute_result"
    }
   ],
   "source": [
    "import copy\n",
    "key = [[0, 0, 0], [1, 0, 0], [0, 1, 1]]\n",
    "lock = [[1, 1, 1], [1, 1, 0], [1, 0, 1]]\n",
    "\n",
    "\n",
    "# 오른쪽으로 한칸 이동하는 함수\n",
    "# 단, key의 경우에만 적용가능 함\n",
    "def r_move(a):\n",
    "    b = copy.deepcopy(a)\n",
    "    for i in range(len(a)):\n",
    "        for j in range(len(a[0])):\n",
    "            if j != len(a[0])-1:\n",
    "                b[i][j+1] = a[i][j]\n",
    "            else:\n",
    "                b[i][0] = 1\n",
    "    return b\n",
    "\n",
    "# 한칸 회전하는 함수(단, 오른쪽으로만 회전함)\n",
    "def rotation(a):\n",
    "    if len(a) % 2 == 0:\n",
    "        c = (len(a)//2)+1\n",
    "    else:\n",
    "        c = len(a)//2\n",
    "\n",
    "    for i in range(c):\n",
    "        # 첫 행\n",
    "        for j in range(i, (len(a[i])-i)):\n",
    "            if j == i:\n",
    "                tem = a[i][j]\n",
    "            else:\n",
    "                tem_1 = a[i][j]\n",
    "                a[i][j] = tem\n",
    "                tem = tem_1\n",
    "\n",
    "        # 마지막 열일 때, 밑으로\n",
    "        for j in range(i+1, len(a)-i):\n",
    "            tem_1 = a[j][len(a)-i-1]\n",
    "            a[j][len(a)-i-1] = tem\n",
    "            tem = tem_1\n",
    "\n",
    "        # 마지막 행일 때, 왼쪽으로\n",
    "        for j in range(len(a)-i-2, i-1, -1):\n",
    "            tem_1 = a[len(a)-i-1][j]\n",
    "            a[len(a)-i-1][j] = tem\n",
    "            tem = tem_1\n",
    "\n",
    "        # 첫 행일 때. 위로\n",
    "        for j in range(len(a)-i-2, i-1, -1):\n",
    "            tem_1 = a[j][i]\n",
    "            a[j][i] = tem\n",
    "            tem = tem_1\n",
    "        return a\n",
    "\n",
    "    \n",
    "for i in range(len(key)):\n",
    "    for j in range(len(key[0])):\n",
    "        if key[i][j] == 0:\n",
    "            key[i][j] = 1\n",
    "        else:\n",
    "            key[i][j] = 0\n",
    "\n",
    "        "
   ]
  },
  {
   "cell_type": "code",
   "execution_count": 136,
   "metadata": {},
   "outputs": [
    {
     "name": "stdout",
     "output_type": "stream",
     "text": [
      "[[0 0 0]\n",
      " [1 0 0]\n",
      " [0 1 1]]\n"
     ]
    },
    {
     "data": {
      "text/plain": [
       "array([[0, 1, 0],\n",
       "       [1, 0, 0],\n",
       "       [1, 0, 0]])"
      ]
     },
     "execution_count": 136,
     "metadata": {},
     "output_type": "execute_result"
    }
   ],
   "source": [
    "def rotate(arr):\n",
    "    return list(zip(*arr[::-1]))\n",
    "print(np.array([[0, 0, 0], [1, 0, 0], [0, 1, 1]]))\n",
    "np.array(rotate([[0, 0, 0], [1, 0, 0], [0, 1, 1]]))"
   ]
  },
  {
   "cell_type": "markdown",
   "metadata": {},
   "source": [
    "4. 기둥과 보 설치"
   ]
  },
  {
   "cell_type": "code",
   "execution_count": 13,
   "metadata": {},
   "outputs": [],
   "source": [
    "# 0 : 기둥, 1: 보\n",
    "# 0: 삭제, 1: 설치\n",
    "build_frame = [[1,0,0,1],[1,1,1,1],[2,1,0,1],[2,2,1,1],[5,0,0,1],[5,1,0,1],[4,2,1,1],[3,2,1,1]]\n",
    "result = [[1,0,0],[1,1,1],[2,1,0],[2,2,1],[3,2,1],[4,2,1],[5,0,0],[5,1,0]]"
   ]
  },
  {
   "cell_type": "code",
   "execution_count": 14,
   "metadata": {},
   "outputs": [
    {
     "name": "stdout",
     "output_type": "stream",
     "text": [
      "[1, 0, 0, 1]\n",
      "[1, 1, 1, 1]\n",
      "[2, 1, 0, 1]\n",
      "[2, 2, 1, 1]\n",
      "[5, 0, 0, 1]\n",
      "[5, 1, 0, 1]\n",
      "[4, 2, 1, 1]\n",
      "[3, 2, 1, 1]\n"
     ]
    },
    {
     "data": {
      "text/plain": [
       "{(1, 0): 0,\n",
       " (1, 1): 1,\n",
       " (2, 1): 0,\n",
       " (2, 2): 1,\n",
       " (5, 0): 0,\n",
       " (5, 1): 0,\n",
       " (4, 2): 1,\n",
       " (3, 2): 1}"
      ]
     },
     "execution_count": 14,
     "metadata": {},
     "output_type": "execute_result"
    }
   ],
   "source": [
    "from collections import deque\n",
    "\n",
    "build_frame = [[0,0,0,1],[2,0,0,1],[4,0,0,1],\n",
    "               [0,1,1,1],[1,1,1,1],[2,1,1,1],\n",
    "               [3,1,1,1],[2,0,0,0],[1,1,1,0],[2,2,0,1]]\n",
    "\n",
    "build_frame = deque(build_frame)\n",
    "build = {}\n",
    "while build_frame:\n",
    "    c = build_frame.popleft()\n",
    "    \n",
    "    build[(c[0], c[1])] = build.get((c[0], c[1]), [c[2]])\n",
    "    \n",
    "build"
   ]
  },
  {
   "cell_type": "code",
   "execution_count": 65,
   "metadata": {},
   "outputs": [
    {
     "name": "stdout",
     "output_type": "stream",
     "text": [
      "2 2\n",
      "[[1, 0, 1, 0, 1, 0, 0, 0, 0, 0], [0, 0, 0, 0, 0, 0, 0, 0, 0, 0], [0, 0, 0, 0, 0, 0, 0, 0, 0, 0], [0, 0, 0, 0, 0, 0, 0, 0, 0, 0], [0, 0, 0, 0, 0, 0, 0, 0, 0, 0], [0, 0, 0, 0, 0, 0, 0, 0, 0, 0], [0, 0, 0, 0, 0, 0, 0, 0, 0, 0], [0, 0, 0, 0, 0, 0, 0, 0, 0, 0], [0, 0, 0, 0, 0, 0, 0, 0, 0, 0], [0, 0, 0, 0, 0, 0, 0, 0, 0, 0]]\n"
     ]
    },
    {
     "data": {
      "text/plain": [
       "[[0, 0, 0, 0, 0, 0, 0, 0, 0, 0],\n",
       " [1, 0, 1, 0, 0, 0, 0, 0, 0, 0],\n",
       " [0, 0, 0, 0, 0, 0, 0, 0, 0, 0],\n",
       " [0, 0, 0, 0, 0, 0, 0, 0, 0, 0],\n",
       " [0, 0, 0, 0, 0, 0, 0, 0, 0, 0],\n",
       " [0, 0, 0, 0, 0, 0, 0, 0, 0, 0],\n",
       " [0, 0, 0, 0, 0, 0, 0, 0, 0, 0],\n",
       " [0, 0, 0, 0, 0, 0, 0, 0, 0, 0],\n",
       " [0, 0, 0, 0, 0, 0, 0, 0, 0, 0],\n",
       " [0, 0, 0, 0, 0, 0, 0, 0, 0, 0]]"
      ]
     },
     "execution_count": 65,
     "metadata": {},
     "output_type": "execute_result"
    }
   ],
   "source": [
    "# 보를 어떻게 표현할 것인가. - 매트릭스의 선을 어떻게 표현해야 하는가.\n",
    "\n",
    "from collections import deque\n",
    "import numpy as np\n",
    "\n",
    "build_frame = [[0,0,0,1],[2,0,0,1],[4,0,0,1],\n",
    "               [0,1,1,1],[1,1,1,1],[2,1,1,1],\n",
    "               [3,1,1,1],[2,0,0,0],[1,1,1,0],[2,2,0,1]]\n",
    "\n",
    "build_frame_sort = sorted(build_frame)\n",
    "# 기둥이 세워졌는지 판단할 매트릭스 생성\n",
    "# 기둥이 세워지면 True\n",
    "a = [[0 for j in range(10)] for i in range(10)]\n",
    "\n",
    "# 보가 세워졌는지 판단할 매트릭스\n",
    "build_frame_sort = sorted(build_frame, key = lambda x:x[1])\n",
    "b = [[0 for j in range(10)] for i in range(10)]\n",
    "\n",
    "pillar = []\n",
    "beam = []\n",
    "for i in build_frame:\n",
    "    x, y = i[1], i[0] # x 좌표는 열의 좌표, y 좌표는 행의 좌표\n",
    "    \n",
    "    # 세울 때.\n",
    "    # 기둥일 때.\n",
    "    if i[2] == 0 and i[3] == 1:\n",
    "        if a[x-1][y] == 1 or x == 0:\n",
    "            a[x][y] = 1\n",
    "            pillar.append(i[:3])\n",
    "            \n",
    "    if i[2] == 1 and i[3] == 1:\n",
    "        if a[x-1][y] == 1:\n",
    "            b[x][y] = 1\n",
    "            beam.append(i[:3])\n",
    "        elif (b[x][y-1] == 1 and b[x][y+1] == 1):\n",
    "            b[x][y] = 1\n",
    "            beam.append(i[:3])\n",
    "        \n",
    "\n",
    "print(x, y)\n",
    "print(a)\n",
    "b"
   ]
  },
  {
   "cell_type": "code",
   "execution_count": null,
   "metadata": {},
   "outputs": [],
   "source": [
    "#--- 다른 사람 풀이 --------------------------------------------------------------"
   ]
  },
  {
   "cell_type": "code",
   "execution_count": null,
   "metadata": {},
   "outputs": [],
   "source": [
    "def impossible(result):\n",
    "    COL, ROW = 0, 1\n",
    "    for x, y, a in result:\n",
    "        if a == COL: # 기둥일 때\n",
    "            if y != 0 and (x, y-1, COL) not in result and \\(x-1, y, ROW) not in result and (x, y, ROW) not in result:\n",
    "                return True\n",
    "        else: # 보일 때\n",
    "            if (x, y-1, COL) not in result and (x+1, y-1, COL) not in result and \\\n",
    "        not ((x-1, y, ROW) in result and (x+1, y, ROW) in result):\n",
    "                return True\n",
    "    return False\n",
    "\n",
    "def solution(n, build_frame):\n",
    "    result = set()\n",
    "    \n",
    "    for x, y, a, build in build_frame:\n",
    "        item = (x, y, a)\n",
    "        if build: # 추가일 때\n",
    "            result.add(item)\n",
    "            if impossible(result):\n",
    "                result.remove(item)\n",
    "        elif item in result: # 삭제할 때\n",
    "            result.remove(item)\n",
    "            if impossible(result):\n",
    "                result.add(item)\n",
    "    answer = map(list, result)\n",
    "    \n",
    "    return sorted(answer, key = lambda x : (x[0], x[1], x[2]))"
   ]
  },
  {
   "cell_type": "code",
   "execution_count": null,
   "metadata": {},
   "outputs": [],
   "source": []
  }
 ],
 "metadata": {
  "kernelspec": {
   "display_name": "Python 3",
   "language": "python",
   "name": "python3"
  },
  "language_info": {
   "codemirror_mode": {
    "name": "ipython",
    "version": 3
   },
   "file_extension": ".py",
   "mimetype": "text/x-python",
   "name": "python",
   "nbconvert_exporter": "python",
   "pygments_lexer": "ipython3",
   "version": "3.8.5"
  }
 },
 "nbformat": 4,
 "nbformat_minor": 4
}
