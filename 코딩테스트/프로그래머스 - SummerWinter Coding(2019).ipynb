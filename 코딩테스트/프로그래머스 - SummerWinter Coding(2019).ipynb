{
 "cells": [
  {
   "cell_type": "markdown",
   "metadata": {},
   "source": [
    "1. 멀쩡한 사각형"
   ]
  },
  {
   "cell_type": "code",
   "execution_count": null,
   "metadata": {},
   "outputs": [],
   "source": [
    "# 알고리즘은 내가 푼 거 아님\n",
    "# 최대공약수 및 유클리드 호제법 알아야 함. \n",
    "# 유클리드 호제법 다시 공부\n",
    "def gcd(w, h):\n",
    "    if w == 0:\n",
    "        return h\n",
    "    elif h == 0:\n",
    "        return w\n",
    "    else:\n",
    "        return gcd(h, w%h)\n",
    "    \n",
    "def solution(w,h):\n",
    "    a = gcd(w, h)\n",
    "    print(a)\n",
    "    answer = (w*h) - (w+h-a)\n",
    "    return answer"
   ]
  },
  {
   "cell_type": "markdown",
   "metadata": {},
   "source": [
    "2. 점프와 순간이동"
   ]
  },
  {
   "cell_type": "code",
   "execution_count": null,
   "metadata": {},
   "outputs": [],
   "source": [
    "# 내가 푼 답안\n",
    "def solution(n):\n",
    "    count = 0\n",
    "    while n > 0:\n",
    "        if n % 2 != 0:\n",
    "            n -= 1\n",
    "            count += 1\n",
    "        else:\n",
    "            n //= 2\n",
    "    return count"
   ]
  },
  {
   "cell_type": "code",
   "execution_count": null,
   "metadata": {},
   "outputs": [],
   "source": [
    "# 다른 사람 답안\n",
    "# 이진법 활용\n",
    "def solution(n):\n",
    "    return bin(n).count('1')"
   ]
  }
 ],
 "metadata": {
  "kernelspec": {
   "display_name": "Python 3",
   "language": "python",
   "name": "python3"
  },
  "language_info": {
   "codemirror_mode": {
    "name": "ipython",
    "version": 3
   },
   "file_extension": ".py",
   "mimetype": "text/x-python",
   "name": "python",
   "nbconvert_exporter": "python",
   "pygments_lexer": "ipython3",
   "version": "3.8.5"
  }
 },
 "nbformat": 4,
 "nbformat_minor": 4
}
