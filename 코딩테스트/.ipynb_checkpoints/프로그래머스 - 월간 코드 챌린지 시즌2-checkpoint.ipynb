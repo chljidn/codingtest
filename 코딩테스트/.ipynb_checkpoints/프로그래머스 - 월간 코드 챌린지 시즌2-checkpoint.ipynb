{
 "cells": [
  {
   "cell_type": "markdown",
   "metadata": {},
   "source": [
    "1. 괄호 회전하기\n",
    "\n",
    " - 스택"
   ]
  },
  {
   "cell_type": "code",
   "execution_count": null,
   "metadata": {},
   "outputs": [],
   "source": [
    "# 내가 푼 답안\n",
    "def solution(a):\n",
    "    a = list(a)\n",
    "    b = '[{('\n",
    "    count = 0\n",
    "    for i in range(len(a)):\n",
    "        stack = []\n",
    "        for j in a:\n",
    "            if j in b:\n",
    "                stack.append(j)\n",
    "            else:\n",
    "                if stack != [] and ord(stack[-1]) - ord(j) <= 2:\n",
    "                    stack.pop()\n",
    "                else:\n",
    "                    stack.append(j)\n",
    "                    break\n",
    "\n",
    "        if stack == []:\n",
    "            count += 1\n",
    "        a.append(a.pop(0))\n",
    "    return count"
   ]
  },
  {
   "cell_type": "code",
   "execution_count": null,
   "metadata": {},
   "outputs": [],
   "source": [
    "# 나중에 다시 풀어본 답안\n",
    "from collections import deque\n",
    "def solution(s):\n",
    "    length = len(s)\n",
    "    count = 0\n",
    "    for i in range(length):\n",
    "        s1 = deque(s)\n",
    "        stack = [s1.popleft()]\n",
    "        while s1:\n",
    "            now = s1.popleft()\n",
    "            if stack != []:\n",
    "                x = stack[-1] + now\n",
    "                if x == \"()\" or x == \"{}\" or x==\"[]\":\n",
    "                    stack.pop()\n",
    "                else:\n",
    "                    stack.append(now)\n",
    "            else:\n",
    "                stack.append(now)\n",
    "        if stack == []:\n",
    "            count += 1\n",
    "        s = s[1:] + s[0]\n",
    "    return count"
   ]
  },
  {
   "cell_type": "markdown",
   "metadata": {},
   "source": [
    "2. 2개 이하로 다른 비트\n",
    "\n",
    " 못 풀었음 - 2개 시간 초과"
   ]
  },
  {
   "cell_type": "code",
   "execution_count": null,
   "metadata": {},
   "outputs": [],
   "source": [
    "# 다른 사람 답안\n",
    "\n",
    "numbers = [1,2,3,4,5,6,7,8,9,10,11,12,13,14,15,16,17,18,19,20,21,22,23,24,25]\n",
    "answer = []\n",
    "for k in numbers:\n",
    "    if k % 2 == 0:\n",
    "        answer.append(k+1)\n",
    "    else:\n",
    "        a = '0'+bin(k)[2:]\n",
    "        b = list(a)\n",
    "        idx = a.rfind('0')\n",
    "        b[idx] = '1'\n",
    "        b[idx+1] = '0'\n",
    "        answer.append(int(''.join(b), 2))\n",
    "answer"
   ]
  },
  {
   "cell_type": "code",
   "execution_count": 28,
   "metadata": {},
   "outputs": [],
   "source": [
    "a = bin(8)[2:]\n",
    "lbs_0 = int('0b0111', 2) & int('1001', 2)\n",
    "b = list(a)\n",
    "b[lbs_0] = '1'\n"
   ]
  },
  {
   "cell_type": "markdown",
   "metadata": {},
   "source": [
    "3. 모두 0으로 만들기"
   ]
  },
  {
   "cell_type": "code",
   "execution_count": 5,
   "metadata": {},
   "outputs": [
    {
     "name": "stdout",
     "output_type": "stream",
     "text": [
      "[-5, 0, 2, 1, 2]\n",
      "0\n",
      "[-5, 0, 2, 1, 2]\n",
      "0\n",
      "[-5, 0, 2, 1, 2]\n",
      "0\n",
      "[-5, 0, 2, 1, 2]\n",
      "0\n",
      "[-5, 0, 2, 3, 2]\n",
      "2\n"
     ]
    },
    {
     "data": {
      "text/plain": [
       "9"
      ]
     },
     "execution_count": 5,
     "metadata": {},
     "output_type": "execute_result"
    }
   ],
   "source": [
    "# 다른 사람 답안\n",
    "from collections import defaultdict\n",
    "answer = 0\n",
    "def dfs(x, a, tree, visited):\n",
    "    global answer\n",
    "    visited[x] = 1\n",
    "\n",
    "    for y in tree[x]:\n",
    "        if not visited[y]:\n",
    "            a[x] += dfs(y, a, tree, visited) # dfs로 들어가서 이루어진 자식노드들의 합이 부모노드에게 한 번에 더해지게 됨.\n",
    "    answer += abs(a[x]) # 최종 값에 부모노드의 값이 더해짐. \n",
    "                        # 만약 테스트 케이스 1번의 0번 노드라면 자식 노드들의 합인 5가 0번 노드의 값이 -5와 더해지므로 0이 됨.\n",
    "                        # 또는 3번 노드라면 자식노드들이 3번노드에 모두 합쳐진 값인 5가 더해지게 됨\n",
    "    return a[x]\n",
    "\n",
    "def solution(a, edges):\n",
    "    global answer\n",
    "    \n",
    "    if sum(a) != 0:\n",
    "        return -1\n",
    "    \n",
    "    tree = defaultdict(list)\n",
    "    \n",
    "    for i, j in edges:\n",
    "        tree[i].append(j)\n",
    "        tree[j].append(i)\n",
    "\n",
    "    visited = [0] * len(a)\n",
    "    \n",
    "    dfs(0, a, tree, visited)\n",
    "    return answer\n",
    "\n",
    "solution([-5,0,2,1,2], [[0,1],[3,4],[2,3],[0,3]])"
   ]
  }
 ],
 "metadata": {
  "kernelspec": {
   "display_name": "Python 3",
   "language": "python",
   "name": "python3"
  },
  "language_info": {
   "codemirror_mode": {
    "name": "ipython",
    "version": 3
   },
   "file_extension": ".py",
   "mimetype": "text/x-python",
   "name": "python",
   "nbconvert_exporter": "python",
   "pygments_lexer": "ipython3",
   "version": "3.8.5"
  }
 },
 "nbformat": 4,
 "nbformat_minor": 4
}
