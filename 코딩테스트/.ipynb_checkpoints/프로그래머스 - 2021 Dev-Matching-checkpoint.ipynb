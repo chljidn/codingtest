{
 "cells": [
  {
   "cell_type": "markdown",
   "metadata": {},
   "source": [
    "1. 행렬 테두리 회전하기"
   ]
  },
  {
   "cell_type": "code",
   "execution_count": null,
   "metadata": {},
   "outputs": [],
   "source": [
    "def solution(rows, column, queries):\n",
    "    matrix = [[0 for j in range(columns+1)] for i in range(rows+1)]\n",
    "    a = 1\n",
    "    answer = []\n",
    "    for i in range(1, rows+1):\n",
    "        for j in range(1, columns+1):\n",
    "            matrix[i][j] = a\n",
    "            a += 1\n",
    "\n",
    "    for j in queries:\n",
    "        x1, y1 = j[0], j[1]\n",
    "        x2, y2 = j[2], j[3]\n",
    "        a = matrix[x1][y1]\n",
    "        minimum = a\n",
    "\n",
    "        for k in range(y1+1, y2+1):\n",
    "            b = matrix[x1][k]\n",
    "            minimum = min(minimum, b)\n",
    "            matrix[x1][k] = a\n",
    "            a = b\n",
    "\n",
    "        for k in range(x1+1, x2+1):\n",
    "            b = matrix[k][y2]\n",
    "            minimum = min(minimum, b)\n",
    "            matrix[k][y2] = a\n",
    "            a = b\n",
    "\n",
    "        for k in range(y2-1, y1-1, -1):\n",
    "            b = matrix[x2][k]\n",
    "            minimum = min(minimum, b)\n",
    "            matrix[x2][k] = a\n",
    "            a = b\n",
    "\n",
    "        for k in range(x2-1, x1-1, -1):\n",
    "            b = matrix[k][y1]\n",
    "            minimum = min(minimum, b)\n",
    "            matrix[k][y1] = a\n",
    "            a = b\n",
    "        answer.append(minimum)\n",
    "    return answer"
   ]
  }
 ],
 "metadata": {
  "kernelspec": {
   "display_name": "Python 3",
   "language": "python",
   "name": "python3"
  },
  "language_info": {
   "codemirror_mode": {
    "name": "ipython",
    "version": 3
   },
   "file_extension": ".py",
   "mimetype": "text/x-python",
   "name": "python",
   "nbconvert_exporter": "python",
   "pygments_lexer": "ipython3",
   "version": "3.8.5"
  }
 },
 "nbformat": 4,
 "nbformat_minor": 4
}
