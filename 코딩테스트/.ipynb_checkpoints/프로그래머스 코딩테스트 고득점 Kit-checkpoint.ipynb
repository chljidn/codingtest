{
 "cells": [
  {
   "cell_type": "markdown",
   "metadata": {},
   "source": [
    "- 못푼 문제들\n",
    "\n",
    " 해시 : 완주하지 못한 선수, 전화번호 목록(정확도는 100, 효율성 떨어짐), 위장<br>\n",
    " 힙 : 디스크 컨트롤러<br>\n",
    " 정렬 : 가장 큰 수<br>\n",
    " 탐욕법 : 큰 수 만들기<br>\n",
    " 우선 탐색법 : 타겟 넘버, 여행경로"
   ]
  },
  {
   "cell_type": "markdown",
   "metadata": {},
   "source": [
    "## 1) 해시"
   ]
  },
  {
   "cell_type": "markdown",
   "metadata": {},
   "source": [
    "1.1 완주하지 못한 선수\n",
    "- 문제설명\n",
    "\n",
    " 수많은 마라톤 선수들이 마라톤에 참여하였습니다. 단 한 명의 선수를 제외하고는 모든 \n",
    " 선수가 마라톤을 완주하였습니다.\n",
    "\n",
    " 마라톤에 참여한 선수들의 이름이 담긴 배열 participant와 완주한 선수들의 이름이 담\n",
    " 긴 배열 completion이 주어질 때, 완주하지 못한 선수의 이름을 return 하도록       \n",
    " solution 함수를 작성해주세요.\n",
    "\n",
    "\n",
    "- 제한사항\n",
    "\n",
    " 마라톤 경기에 참여한 선수의 수는 1명 이상 100,000명 이하입니다.\n",
    " completion의 길이는 participant의 길이보다 1 작습니다.\n",
    " 참가자의 이름은 1개 이상 20개 이하의 알파벳 소문자로 이루어져 있습니다.\n",
    " 참가자 중에는 동명이인이 있을 수 있습니다.\n",
    " \n",
    "\n",
    "- 입출력 예\n",
    "\n",
    "[\"leo\", \"kiki\", \"eden\"]\t                               [ \"eden\", \"kiki\"]\t  \"leo\"\n",
    "\n",
    "[\"marina\", \"josipa\", \"nikola\", \"vinko\", \"filipa\"]\t[\"josipa\", \"filipa\", \"marina\", \"nikola\"]\t\"vinko\"\n",
    "\n",
    "[\"mislav\", \"stanko\", \"mislav\", \"ana\"]\t             [\"stanko\", \"ana\", \"mislav\"]\t\"mislav\""
   ]
  },
  {
   "cell_type": "code",
   "execution_count": 71,
   "metadata": {},
   "outputs": [
    {
     "name": "stdout",
     "output_type": "stream",
     "text": [
      "참가자를 구합니다.\n",
      "참가자 숫자를 쓰시오: 5\n",
      "0번째 참가자의 이름을 입력하시오.a\n",
      "1번째 참가자의 이름을 입력하시오.s\n",
      "2번째 참가자의 이름을 입력하시오.d\n",
      "3번째 참가자의 이름을 입력하시오.a\n",
      "4번째 참가자의 이름을 입력하시오.a\n",
      "\n",
      "\n",
      "완주자를 구합니다.\n",
      "몇 명이 완주했는지 쓰시오.3\n",
      "0번째 완주자의 이름을 쓰시오.a\n",
      "1번째 완주자의 이름을 쓰시오.s\n",
      "2번째 완주자의 이름을 쓰시오.d\n",
      "완주한 사람은 ['a', 's', 'd'] 입니다.\n",
      "같은 것들이 있는 수는 [3, 1, 1]입니다.\n"
     ]
    }
   ],
   "source": [
    "# 다른 사람 풀이보고!!! 며칠 후에 풀어본 것\n",
    "def solution(participant, completion):\n",
    "    answer = ''\n",
    "    \n",
    "    result = {}\n",
    "    \n",
    "    for i in participant:\n",
    "        if i not in result:\n",
    "            result[i] = 1\n",
    "        else:\n",
    "            result[i] += 1\n",
    "\n",
    "    for j in completion:\n",
    "        if j in result:\n",
    "            result[j] -= 1\n",
    "\n",
    "    for i in result:\n",
    "        if result[i] > 0:\n",
    "            answer = i\n",
    "            \n",
    "    return answer\n",
    "    "
   ]
  },
  {
   "cell_type": "code",
   "execution_count": 199,
   "metadata": {},
   "outputs": [
    {
     "data": {
      "text/plain": [
       "'mislav'"
      ]
     },
     "execution_count": 199,
     "metadata": {},
     "output_type": "execute_result"
    }
   ],
   "source": [
    "# 다른 사람이 푼 풀이\n",
    "def solution(participant, completion):\n",
    "    answer = {}\n",
    "    for i in participant: \n",
    "        answer[i] = answer.get(i, 0) +1 # 리스트의 value들을 딕셔너리 answer의 키로 함.\n",
    "                                        # 키가 없으면 1을 더한 다음 키로 값을 1로, 키는 i로 해서 저장.\n",
    "                                        # 키가 중복될 수 없기에(?) 중복될 수 있는 값으로 설정한 듯 \n",
    "    for j in completion:                \n",
    "        answer[j] -= 1\n",
    "        \n",
    "    for k in answer:\n",
    "        if answer[k] : return k\n",
    "        \n",
    "solution([\"mislav\", \"stanko\", \"mislav\", \"ana\"], [\"stanko\", \"ana\", \"mislav\"])"
   ]
  },
  {
   "cell_type": "markdown",
   "metadata": {},
   "source": [
    "1.2 전화번호 목록\n",
    "\n",
    "- 문제 설명\n",
    "\n",
    " 전화번호부에 적힌 전화번호 중, 한 번호가 다른 번호의 접두어인 경우가 있는지 확인하려합니다.\n",
    " 전화번호가 다음과 같을 경우, 구조대 전화번호는 영석이의 전화번호의 접두사입니다.\n",
    "\n",
    "   - 구조대 : 119\n",
    "   - 박준영 : 97 674 223\n",
    "   - 지영석 : 11 9552 4421\n",
    "  \n",
    " 전화번호부에 적힌 전화번호를 담은 배열 phone_book 이 solution 함수의 매개변수로 주\n",
    "어질 때, 어떤 번호가 다른 번호의 접두어인 경우가 있으면 false를 그렇지 않으면 true\n",
    " 를 return 하도록 solution 함수를 작성해주세요.<br><br>\n",
    " \n",
    " \n",
    "- 제한 사항\n",
    "\n",
    " phone_book의 길이는 1 이상 1,000,000 이하입니다.\n",
    " 각 전화번호의 길이는 1 이상 20 이하입니다. \n",
    " 같은 전화번호가 중복해서 들어있지 않습니다.<br><br>\n",
    " \n",
    " \n",
    "- 입출력 예제\n",
    "\n",
    "phone_book &nbsp;&nbsp;&nbsp;&nbsp;&nbsp;&nbsp;&nbsp;&nbsp;&nbsp;&nbsp;&nbsp;&nbsp;&nbsp;&nbsp;&nbsp;&nbsp;&nbsp;&nbsp;&nbsp;&nbsp;&nbsp;&nbsp;&nbsp;&nbsp;&nbsp;&nbsp;&nbsp;&nbsp;&nbsp;&nbsp;&nbsp;&nbsp;&nbsp;&nbsp;&nbsp;&nbsp;&nbsp;&nbsp;return\n",
    "\n",
    "[\"119\", \"97674223\", \"1195524421\"]\t&nbsp;&nbsp;&nbsp;&nbsp;false\n",
    "\n",
    "[\"123\",\"456\",\"789\"]\t                 &nbsp;&nbsp;&nbsp;&nbsp;&nbsp;&nbsp;&nbsp;&nbsp;&nbsp;&nbsp;&nbsp;&nbsp;&nbsp;&nbsp;&nbsp;&nbsp;&nbsp;&nbsp;&nbsp;&nbsp;&nbsp;&nbsp;&nbsp;&nbsp;&nbsp;&nbsp;&nbsp;&nbsp;&nbsp;&nbsp;true\n",
    "\n",
    "[\"12\",\"123\",\"1235\",\"567\",\"88\"]&nbsp;&nbsp;&nbsp;&nbsp;&nbsp;&nbsp;&nbsp;&nbsp;&nbsp;&nbsp;&nbsp;&nbsp;&nbsp;&nbsp;false<br><br>\n",
    "\n",
    "\n",
    "\n",
    "- 풀면서 사용된 함수들<br>\n",
    " 1) a.startswith(b) => a가 b로 시작되는지 확인함. 즉, a의 접두어가 b인지 확인함<br>\n",
    " 2) a.sort(key=len) => 리스트 a에서 각 원소의 길이 순으로 정렬함.<br>\n",
    " 3) for a, b zip(c, d): <br> \n",
    "     => 예를 들어 c가 [1, 2, 3] 이고, d가 [2, 1] 이면\n",
    "      출력은 [1, 2]\n",
    "             [2, 1] 같은 형태로 출력됨. \n",
    " 4) 딕셔너리<br>\n",
    "  \n",
    "- 다른 사람 풀이 1은 코드가 좀 문제가 있는 것 같음"
   ]
  },
  {
   "cell_type": "code",
   "execution_count": 187,
   "metadata": {},
   "outputs": [
    {
     "name": "stdout",
     "output_type": "stream",
     "text": [
      "119 1195524421\n",
      "1195524421 97674223\n"
     ]
    }
   ],
   "source": [
    "def solution(phone_book):\n",
    "    phone_book = sorted(phone_book, key=lambda x: (x, len(x)))\n",
    "    for i, j in zip(phone_book, phone_book[1:]):\n",
    "        if j.startswith(i):\n",
    "            return False\n",
    "    return True"
   ]
  },
  {
   "cell_type": "code",
   "execution_count": null,
   "metadata": {},
   "outputs": [],
   "source": [
    "# 다른 사람 풀이들----------------------------------------------------------------------------------------------------"
   ]
  },
  {
   "cell_type": "code",
   "execution_count": 4,
   "metadata": {},
   "outputs": [
    {
     "name": "stdout",
     "output_type": "stream",
     "text": [
      "False\n",
      "True\n",
      "False\n",
      "False\n",
      "False\n"
     ]
    }
   ],
   "source": [
    "# 다른 사람 풀이 1 - best code\n",
    "# 문자정렬과 숫자정렬은 기준이 다르다는 점이 포인트.\n",
    "def solution(phone_book):\n",
    "    phone_book = sorted(phone_book) \n",
    "    for p1, p2 in zip(phone_book, phone_book[1:]):\n",
    "        if p2.startswith(p1):\n",
    "            return False\n",
    "    return True\n",
    "\n",
    "a = [\"119\", \"97674223\", \"1195524421\"]\n",
    "b = [\"123\",\"456\",\"789\"]\n",
    "c = [\"12\",\"123\",\"1235\",\"567\",\"88\"] \n",
    "d = ['34567891234235', '12', '345678912']\n",
    "e = ['119', '5678', '11923']\n",
    "\n",
    "print(solution(a))\n",
    "print(solution(b))\n",
    "print(solution(c))\n",
    "print(solution(d))\n",
    "print(solution(e))"
   ]
  },
  {
   "cell_type": "code",
   "execution_count": 97,
   "metadata": {},
   "outputs": [
    {
     "name": "stdout",
     "output_type": "stream",
     "text": [
      "p1: 119    p2: 1195524421\n",
      "p1: 1195524421    p2: 97674223\n"
     ]
    }
   ],
   "source": [
    "# 다른 사람 풀이 1 해석!!!!!\n",
    "phone_book = [\"119\", \"97674223\", \"1195524421\"]\n",
    "\n",
    "phone_book = sorted(phone_book) # 가장 먼저 입력받은 리스트를 정렬함.\n",
    "\n",
    "for p1, p2 in zip(phone_book, phone_book[1:]):\n",
    "    print('p1:', p1, '   p2:', p2)"
   ]
  },
  {
   "cell_type": "code",
   "execution_count": 78,
   "metadata": {},
   "outputs": [
    {
     "name": "stdout",
     "output_type": "stream",
     "text": [
      "False\n",
      "True\n",
      "False\n",
      "False\n"
     ]
    }
   ],
   "source": [
    "# 다른 사람 풀이 2 - best code\n",
    "def solution(phone_book):\n",
    "    answer = True\n",
    "    hash_map = {}\n",
    "    for phone_number in phone_book:\n",
    "        hash_map[phone_number] = 1 # 리스트의 value를 딕셔너리의 key로 하고, 딕셔너리의 value를 모두 1로 만듦.\n",
    "    for phone_number in phone_book:\n",
    "        temp = \"\"\n",
    "        for number in phone_number: # 리스트의 value의 각 원소 -> 예를 들어, 1번째 리스트 vlaue인 119를 for문을 돌려서 '1', '1', '9'로 쪼개는 것\n",
    "            temp += number\n",
    "            if temp in hash_map and temp != phone_number: # 딕셔너리의 key중에 temp가 포함되는게 있는지 확인. \n",
    "                answer = False                            # for .. in 문을 사용하면 딕셔너리에 키가 있는지 확인할 수 있다!!!!\n",
    "    return answer\n",
    "\n",
    "a = [\"119\", \"97674223\", \"1195524421\"]\n",
    "b = [\"123\",\"456\",\"789\"]\n",
    "c = [\"12\",\"123\",\"1235\",\"567\",\"88\"] \n",
    "d = ['34567891234235', '12', '345678912']\n",
    "\n",
    "print(solution(a))\n",
    "print(solution(b))\n",
    "print(solution(c))\n",
    "print(solution(d))"
   ]
  },
  {
   "cell_type": "code",
   "execution_count": 82,
   "metadata": {},
   "outputs": [
    {
     "name": "stdout",
     "output_type": "stream",
     "text": [
      "temp 과정 :  1  True\n",
      "temp 과정 :  11  True\n",
      "temp 과정 :  119  True\n",
      "완성된 temp :  119\n",
      "temp 과정 :  9  True\n",
      "temp 과정 :  97  True\n",
      "temp 과정 :  976  True\n",
      "temp 과정 :  9767  True\n",
      "temp 과정 :  97674  True\n",
      "temp 과정 :  976742  True\n",
      "temp 과정 :  9767422  True\n",
      "temp 과정 :  97674223  True\n",
      "완성된 temp :  97674223\n",
      "temp 과정 :  1  True\n",
      "temp 과정 :  11  True\n",
      "temp 과정 :  119  False\n",
      "temp 과정 :  1195  True\n",
      "temp 과정 :  11955  True\n",
      "temp 과정 :  119552  True\n",
      "temp 과정 :  1195524  True\n",
      "temp 과정 :  11955244  True\n",
      "temp 과정 :  119552442  True\n",
      "temp 과정 :  1195524421  True\n",
      "완성된 temp :  1195524421\n",
      "hash_map: {'119': 1, '97674223': 1, '1195524421': 1}\n"
     ]
    }
   ],
   "source": [
    "# 다른 사람 풀이 2 해석!!!!!\n",
    "a = [\"119\", \"97674223\", \"1195524421\"]\n",
    "answer = True\n",
    "\n",
    "hash_map = {}\n",
    "for phone_number in a:\n",
    "    hash_map[phone_number] = 1\n",
    "for phone_number in a:\n",
    "    temp = \"\"\n",
    "    for number in phone_number:\n",
    "        temp += number\n",
    "        print(\"temp 과정 : \", temp, end='  ')\n",
    "        if temp in hash_map and temp != phone_number: # 딕셔너리의 key중에 temp가 포함되는게 있는지 확인. \n",
    "            print('False')\n",
    "        else:\n",
    "            print('True')\n",
    "    print(\"완성된 temp : \", temp)\n",
    "print(\"hash_map:\", hash_map)\n",
    "        "
   ]
  },
  {
   "cell_type": "markdown",
   "metadata": {},
   "source": [
    "1.3 위장\n",
    "\n",
    "- 문제 설명 <br>\n",
    "\n",
    " 스파이들은 매일 다른 옷을 조합하여 입어 자신을 위장합니다.<br>\n",
    " 예를 들어 스파이가 가진 옷이 아래와 같고 오늘 스파이가 동그란 안경, 긴 코트, 파란색 티셔츠를 입었다면 다음날은 청바지를 추가로 입거나 동그란 안경 대신 검정 선글라스를 착용하거나 해야 합니다.\n",
    " \n",
    " 종류&nbsp;&nbsp;&nbsp;&nbsp;&nbsp;\t이름<br>\n",
    " \n",
    " 얼굴\t&nbsp;&nbsp;&nbsp;&nbsp;&nbsp;동그란 안경, 검정 선글라스<br>\n",
    " 상의\t&nbsp;&nbsp;&nbsp;&nbsp;&nbsp;파란색 티셔츠<br>\n",
    " 하의\t&nbsp;&nbsp;&nbsp;&nbsp;&nbsp;청바지<br>\n",
    " 겉옷\t&nbsp;&nbsp;&nbsp;&nbsp;&nbsp;긴 코트<br>\n",
    " \n",
    " 스파이가 가진 의상들이 담긴 2차원 배열 clothes가 주어질 때 서로 다른 옷의 조합의 수를 return 하도록 solution 함수를 작성해주세요.<br><br>\n",
    "\n",
    "- 제한사항\n",
    "\n",
    "clothes의 각 행은 [의상의 이름, 의상의 종류]로 이루어져 있습니다.<br>\n",
    "스파이가 가진 의상의 수는 1개 이상 30개 이하입니다.<br>\n",
    "같은 이름을 가진 의상은 존재하지 않습니다.<br>\n",
    "clothes의 모든 원소는 문자열로 이루어져 있습니다.<br>\n",
    "모든 문자열의 길이는 1 이상 20 이하인 자연수이고 알파벳 소문자 또는 '_' 로만 이루어져 있습니다.<br>\n",
    "스파이는 하루에 최소 한 개의 의상은 입습니다.<br><br>\n",
    "\n",
    "\n",
    "- 입출력 예\n",
    "\n",
    "&nbsp;&nbsp;&nbsp;&nbsp;&nbsp;&nbsp;&nbsp;&nbsp;&nbsp;&nbsp;&nbsp;clothes\t&nbsp;&nbsp;&nbsp;&nbsp;&nbsp;&nbsp;&nbsp;&nbsp;&nbsp;&nbsp;&nbsp;&nbsp;&nbsp;&nbsp;&nbsp;&nbsp;&nbsp;&nbsp;&nbsp;&nbsp;&nbsp;&nbsp;&nbsp;&nbsp;&nbsp;&nbsp;&nbsp;&nbsp;&nbsp;&nbsp;&nbsp;&nbsp;&nbsp;&nbsp;&nbsp;&nbsp;&nbsp;&nbsp;&nbsp;&nbsp;&nbsp;&nbsp;&nbsp;&nbsp;&nbsp;&nbsp;&nbsp;&nbsp;&nbsp;&nbsp;&nbsp;&nbsp;&nbsp;&nbsp;&nbsp;&nbsp;&nbsp;&nbsp;&nbsp;&nbsp;&nbsp;&nbsp;&nbsp;&nbsp;&nbsp;&nbsp;&nbsp;&nbsp;&nbsp;&nbsp;&nbsp;&nbsp;&nbsp;return<br>\n",
    "[[\"yellowhat\", \"headgear\"], <br>\n",
    "[\"bluesunglasses\", \"eyewear\"], ,<br>\n",
    "[\"green_turban\", \"headgear\"]]\t&nbsp;&nbsp;&nbsp;&nbsp;&nbsp;&nbsp;&nbsp;&nbsp;&nbsp;&nbsp;&nbsp;&nbsp;&nbsp;&nbsp;&nbsp;&nbsp;&nbsp;&nbsp;&nbsp;&nbsp;&nbsp;&nbsp;&nbsp;&nbsp;&nbsp;&nbsp;&nbsp;&nbsp;&nbsp;&nbsp;&nbsp;&nbsp;&nbsp;&nbsp;&nbsp;&nbsp;&nbsp;&nbsp;&nbsp;&nbsp;&nbsp;&nbsp;&nbsp;&nbsp;&nbsp;&nbsp;&nbsp;&nbsp;&nbsp;&nbsp;&nbsp;&nbsp;&nbsp;&nbsp;5<br>\n",
    "\n",
    "[[\"crowmask\", \"face\"], <br>\n",
    "[\"bluesunglasses\", \"face\"],<br>\n",
    "[\"smoky_makeup\", \"face\"]]\n",
    "&nbsp;&nbsp;&nbsp;&nbsp;&nbsp;&nbsp;&nbsp;&nbsp;&nbsp;&nbsp;&nbsp;&nbsp;&nbsp;&nbsp;&nbsp;&nbsp;&nbsp;&nbsp;&nbsp;&nbsp;&nbsp;&nbsp;&nbsp;&nbsp;&nbsp;&nbsp;&nbsp;&nbsp;&nbsp;&nbsp;&nbsp;&nbsp;&nbsp;&nbsp;&nbsp;&nbsp;&nbsp;&nbsp;&nbsp;&nbsp;&nbsp;&nbsp;&nbsp;&nbsp;&nbsp;&nbsp;&nbsp;&nbsp;&nbsp;&nbsp;&nbsp;&nbsp;&nbsp;&nbsp;&nbsp;&nbsp;&nbsp;&nbsp;3"
   ]
  },
  {
   "cell_type": "markdown",
   "metadata": {},
   "source": [
    "내가 생각하는 풀이 방법\n",
    "\n",
    "1. 딕셔너리로 각 의상의 종류를 key로 하고, 의상의 이름 갯수를 value로 하는 딕셔너리를 만든다.<br>\n",
    " => 어떻게 합칠까? 먼저 리스트로 병합한 후에 딕셔너리로 만들까?<br>\n",
    "    그냥 리스트에서 딕셔너리로 만들면서 합치는게 가장 효율적일것 같은데...<br><br>\n",
    "2. 각 의상의 종류(key)에 대한 value를 모두 더한다.<br><br>\n",
    "3. 의상을 한개씩 입을 때는 하나씩 더해준다.<br>\n",
    "   두개씩 입을 때에는 중복되지 않게 두개씩 곱하고 모두 더해준다\n",
    "   세개씩 입을 때에는 중복되지 않게 세개씩 곱하고 모두 더해준다.\n",
    "\n",
    "\n",
    " 결국 못풀었음..."
   ]
  },
  {
   "cell_type": "code",
   "execution_count": 151,
   "metadata": {},
   "outputs": [
    {
     "data": {
      "text/plain": [
       "0"
      ]
     },
     "execution_count": 151,
     "metadata": {},
     "output_type": "execute_result"
    }
   ],
   "source": [
    "def solution(clothes):\n",
    "    answer = 0\n",
    "    \n",
    "    # 각 리스트의 마지막 원소(의상의 종류)를 key로 하는 딕셔너리(cloth_dict) 만들기\n",
    "    # 딕셔너리의 각 vlaue는 의상의 종류에 따른 갯수.\n",
    "    cloth_dict = {}\n",
    "    for i in clothes:\n",
    "        if i[-1] not in cloth_dict: # 리스트의 마지막 원소(의상의 종류)와 같은 key가 딕셔너리에 존재하지 않으면 새로 만듦\n",
    "            cloth_dict[i[-1]] = len(i) - 1\n",
    "        else: # 리스트의 마지막 원소(의상의 종류)와 같은 key가 딕셔너리에 존재하면 의상의 갯수만 새로 더 해줌\n",
    "            cloth_dict[i[-1]] += len(i) - 1\n",
    "            \n",
    "    # 각 key(의상의 종류)에 대해서 의상의 갯수에 따른 조합 만들기\n",
    "    \n",
    "    \n",
    "    return answer\n",
    "\n",
    "# ----------------------------------------------------------------------------------------------\n",
    "a = [[\"yellowhat\", \"headgear\"],[\"bluesunglasses\", \"eyewear\"],[\"green_turban\", \"headgear\"]]\n",
    "b = [[\"crowmask\", \"face\"],[\"bluesunglasses\", \"face\"],[\"smoky_makeup\", \"face\"]]\n",
    "\n",
    "solution(a)"
   ]
  },
  {
   "cell_type": "code",
   "execution_count": 153,
   "metadata": {},
   "outputs": [
    {
     "name": "stdout",
     "output_type": "stream",
     "text": [
      "{'headgear': 2, 'eyewear': 1}\n",
      "3\n",
      "7\n"
     ]
    }
   ],
   "source": [
    "a = [[\"yellowhat\", \"headgear\"],[\"bluesunglasses\", \"eyewear\"],[\"green_turban\", \"headgear\"]]\n",
    "b = [[\"crowmask\", \"face\"],[\"bluesunglasses\", \"face\"],[\"smoky_makeup\", \"face\"]] \n",
    "\n",
    "\n",
    "cloth_dict = {}\n",
    "for i in a:\n",
    "    if i[-1] not in cloth_dict:\n",
    "        cloth_dict[i[-1]] = len(i) - 1\n",
    "    else:\n",
    "        cloth_dict[i[-1]] += len(i) - 1\n",
    "\n",
    "c = 0\n",
    "d = 0\n",
    "for i in cloth_dict:\n",
    "    c += cloth_dict[i]\n",
    "    \n",
    "    for j in cloth_dict:\n",
    "        if i != j:\n",
    "            d += cloth_dict[i] * cloth_dict[j]\n",
    "            \n",
    "print(cloth_dict)\n",
    "print(c)\n",
    "print(c+d)"
   ]
  },
  {
   "cell_type": "code",
   "execution_count": null,
   "metadata": {},
   "outputs": [],
   "source": [
    "#--- 다른 사람 풀이들----------------------------------------------------------------------------------------------------------------"
   ]
  },
  {
   "cell_type": "code",
   "execution_count": 40,
   "metadata": {},
   "outputs": [
    {
     "name": "stdout",
     "output_type": "stream",
     "text": [
      "{'headgear': 2, 'eyewear': 1}\n"
     ]
    },
    {
     "data": {
      "text/plain": [
       "5"
      ]
     },
     "execution_count": 40,
     "metadata": {},
     "output_type": "execute_result"
    }
   ],
   "source": [
    "# 다른 사람 풀이 1\n",
    "\n",
    "def solution(clothes):\n",
    "    answer = {}\n",
    "    \n",
    "    # 밑의 for문은 내가 했던 방식이랑 같음. 딕셔너리로 각 개수를 value 값으로 해놓은 것.\n",
    "    for i in clothes:\n",
    "        if i[1] in answer: \n",
    "            answer[i[1]] += 1\n",
    "        else: \n",
    "            answer[i[1]] = 1\n",
    "\n",
    "    cnt = 1\n",
    "    for i in answer.values():\n",
    "        cnt *= (i+1) # 여기서 1을 더하는 건 해당 아이템이 장착되지 않는 경우를 더해서 곱해줘야 하기 때문임.\n",
    "    return cnt - 1 # 즉, 각각의 옷 개수를 곱해주면 해당 종류의 옷을 무조건 하나씩은 입은 경우만 포함되기 때문에\n",
    "                    # 그 옷을 입지 않은 경우도 포함해줘야 하기 때문에 1을 더해서 곱해준다.\n",
    "# -------------------------------------------------------------------------------------------------------------------------------\n",
    "a = [[\"yellowhat\", \"headgear\"],[\"bluesunglasses\", \"eyewear\"],[\"green_turban\", \"headgear\"]]\n",
    "\n",
    "solution(a)"
   ]
  },
  {
   "cell_type": "markdown",
   "metadata": {},
   "source": [
    "1.4 베스트앨범\n",
    "\n",
    "- 문제 설명<br>\n",
    "\n",
    " 스트리밍 사이트에서 장르 별로 가장 많이 재생된 노래를 두 개씩 모아 베스트 앨범을 출시하려 합니다. 노래는 고유 번호로 구분하며, 노래를 수록하는 기준은 다음과 같습니다.\n",
    "\n",
    "  1. 속한 노래가 많이 재생된 장르를 먼저 수록합니다.<br>\n",
    "  2. 장르 내에서 많이 재생된 노래를 먼저 수록합니다.<br>\n",
    "  3. 장르 내에서 재생 횟수가 같은 노래 중에서는 고유 번호가 낮은 노래를 먼저 수록합니다.<br>\n",
    "\n",
    " 노래의 장르를 나타내는 문자열 배열 genres와 노래별 재생 횟수를 나타내는 정수 배열 plays가 주어질 때, 베스트 앨범에 들어갈 노래의 고유 번호를 순서대로 return 하도록 solution 함수를 완성하세요.<br><br>\n",
    " \n",
    "- 제한사항<br>\n",
    "\n",
    " genres[i]는 고유번호가 i인 노래의 장르입니다.<br>\n",
    " plays[i]는 고유번호가 i인 노래가 재생된 횟수입니다.<br>\n",
    " genres와 plays의 길이는 같으며, 이는 1 이상 10,000 이하입니다.<br>\n",
    " 장르 종류는 100개 미만입니다.<br>\n",
    " 장르에 속한 곡이 하나라면, 하나의 곡만 선택합니다.<br>\n",
    " 모든 장르는 재생된 횟수가 다릅니다.<br><br>\n",
    " \n",
    "- 입출력 예<br>\n",
    "\n",
    "&nbsp;&nbsp;&nbsp;&nbsp;&nbsp;&nbsp;&nbsp;&nbsp;&nbsp;&nbsp;&nbsp;&nbsp;&nbsp;&nbsp;&nbsp;&nbsp;&nbsp;&nbsp;&nbsp;&nbsp;&nbsp;&nbsp;&nbsp;&nbsp;&nbsp;&nbsp;&nbsp;&nbsp;&nbsp;&nbsp;&nbsp;&nbsp;genres\t&nbsp;&nbsp;&nbsp;&nbsp;&nbsp;&nbsp;&nbsp;&nbsp;&nbsp;&nbsp;&nbsp;&nbsp;&nbsp;&nbsp;&nbsp;&nbsp;&nbsp;&nbsp;&nbsp;&nbsp;&nbsp;&nbsp;&nbsp;&nbsp;&nbsp;&nbsp;&nbsp;&nbsp;&nbsp;&nbsp;&nbsp;&nbsp;&nbsp;&nbsp;&nbsp;&nbsp;&nbsp;&nbsp;&nbsp;&nbsp;&nbsp;&nbsp;&nbsp;&nbsp;&nbsp;&nbsp;&nbsp;&nbsp;plays\t&nbsp;&nbsp;&nbsp;&nbsp;&nbsp;&nbsp;&nbsp;&nbsp;&nbsp;&nbsp;&nbsp;&nbsp;&nbsp;&nbsp;&nbsp;&nbsp;&nbsp;&nbsp;&nbsp;return<br>\n",
    "\n",
    "[\"classic\", \"pop\", \"classic\", \"classic\", \"pop\"]&nbsp;&nbsp;&nbsp;&nbsp;\t[500, 600, 150, 800, 2500]&nbsp;&nbsp;&nbsp;&nbsp;\t[4, 1, 3, 0]<br><br>\n",
    "\n",
    "- 입출력 예 설명<br>\n",
    "\n",
    " classic 장르는 1,450회 재생되었으며, classic 노래는 다음과 같습니다.\n",
    "\n",
    " 고유 번호 3: 800회 재생<br>\n",
    " 고유 번호 0: 500회 재생<br>\n",
    " 고유 번호 2: 150회 재생<br>\n",
    " pop 장르는 3,100회 재생되었으며, pop 노래는 다음과 같습니다.<br>\n",
    "\n",
    " 고유 번호 4: 2,500회 재생<br>\n",
    " 고유 번호 1: 600회 재생"
   ]
  },
  {
   "cell_type": "code",
   "execution_count": 145,
   "metadata": {},
   "outputs": [],
   "source": [
    "genres = [\"classic\", \"pop\", \"classic\", \"classic\", \"pop\"]\n",
    "plays = [500, 600, 150, 800, 2500]\n",
    "\n",
    "gen_dict, gen_dict2 = {}, {}\n",
    "for i in range(len(genres)):\n",
    "    gen_dict[genres[i]] = gen_dict.get(genres[i], [])\n",
    "    gen_dict[genres[i]].append(plays[i])\n",
    "    \n",
    "gen_dict = dict(sorted(gen_dict.items(), key=lambda x : sum(x[1]), reverse = True))\n",
    "\n",
    "count = []\n",
    "for i in gen_dict:\n",
    "    gen_dict[i].sort(reverse=True)\n",
    "    for j in range(len(gen_dict[i])):\n",
    "        count.append(plays.index(gen_dict[i][j]))\n",
    "        if j == 1:\n",
    "            break\n",
    "    \n",
    "        "
   ]
  },
  {
   "cell_type": "code",
   "execution_count": 137,
   "metadata": {},
   "outputs": [
    {
     "data": {
      "text/plain": [
       "{'pop': [2500, 600], 'classic': [800, 500, 150]}"
      ]
     },
     "execution_count": 137,
     "metadata": {},
     "output_type": "execute_result"
    }
   ],
   "source": [
    "gen_dict"
   ]
  },
  {
   "cell_type": "code",
   "execution_count": 139,
   "metadata": {},
   "outputs": [
    {
     "data": {
      "text/plain": [
       "[4, 1, 3, 0]"
      ]
     },
     "execution_count": 139,
     "metadata": {},
     "output_type": "execute_result"
    }
   ],
   "source": [
    "# 내가 푼 완성된 답안!!!!!!!!\n",
    "# 정확도 100\n",
    "def solution(genres, plays):\n",
    "    album = {}\n",
    "\n",
    "    for i in range(len(genres)):\n",
    "        a = [plays[i], i]\n",
    "        sum = plays[i]\n",
    "        if genres[i] not in album:\n",
    "            album[genres[i]] = [[0]]\n",
    "\n",
    "        album[genres[i]].append(a)\n",
    "        album[genres[i]][0][0] += plays[i]\n",
    "\n",
    "\n",
    "    # 많이 재생된 장르순으로 딕셔너리 정렬하기\n",
    "    album = dict(sorted(album.items(), key=lambda x:x[1][0][0], reverse=True))\n",
    "\n",
    "\n",
    "    # 장르별로 총 횟수를 제거한 각 노래들을 리스트 album_sort에 담기. \n",
    "    # 각 장르별로 리스트의 value로 생성되고 다시 그 리스트 안에 노래별로 리스트로 담김\n",
    "    # album_sort = [[pop 장르 노래들], [classic 장르 노래들], [rock 장르 노래들]] 이런 식으로 담김\n",
    "    # 담길 때에는 틀어진 총 횟수가 가장 많은 장르별로 들어가게 됨.\n",
    "    album_sort = []\n",
    "    for k in album:\n",
    "        album_sort1 = []\n",
    "        for j in range(1, len(album[k])):\n",
    "            album_sort1.append(album[k][j])\n",
    "        album_sort.append(album_sort1)\n",
    "\n",
    "    # album_sort에서 각 장르별로 다시 그 안에서 틀어진 횟수대로 정렬\n",
    "    for j in range(len(album_sort)):\n",
    "        album_sort[j] = sorted(album_sort[j], reverse=True)\n",
    "        \n",
    "        \n",
    "    # album_sort 리스트에서 다시 장르 안에서 틀어진 횟수가 같을 경우 고유번호 낮은 것이 앞으로 오도록 정렬하는 코드\n",
    "    for i in range(len(album_sort)):\n",
    "        for j in range(len(album_sort[i])):\n",
    "            for k in range(j+1, len(album_sort[i])):\n",
    "                if album_sort[i][j][0] == album_sort[i][k][0] and album_sort[i][j][1] > album_sort[i][k][1]:\n",
    "                    a = album_sort[i][j]\n",
    "                    album_sort[i][j] = album_sort[i][k]\n",
    "                    album_sort[i][k] = a\n",
    "    \n",
    "    # answer 리스트에 장르별로 앞의 두개씩 코드번호를 넣도록 함\n",
    "    # 만약 장르에 노래가 하나만 있다면 하나만 넣음.\n",
    "    answer = []\n",
    "    for k in range(len(album_sort)):\n",
    "        w = 0\n",
    "        while True:\n",
    "            answer.append(album_sort[k][w][1])\n",
    "\n",
    "            w += 1  \n",
    "\n",
    "            if (w == 2) or (w == len(album_sort[k])):\n",
    "                break\n",
    "    \n",
    "    return answer\n",
    "\n",
    "\n",
    "\n",
    "#------------------------------------------------------------------------------------------------------------------------------------\n",
    "genres = [\"classic\", \"pop\", \"classic\", \"classic\", \"pop\"]\n",
    "plays = [500, 600, 150, 800, 2500]\n",
    "\n",
    "solution(genres, plays)"
   ]
  },
  {
   "cell_type": "code",
   "execution_count": null,
   "metadata": {},
   "outputs": [],
   "source": [
    "#----------다른 사람 풀이들-------------------------------------------------------------"
   ]
  },
  {
   "cell_type": "code",
   "execution_count": null,
   "metadata": {},
   "outputs": [],
   "source": [
    "def solution(genres, plays):\n",
    "    answer = []\n",
    "    d = {e:[] for e in set(genres)}\n",
    "    for e in zip(genres, plays, range(len(plays))):\n",
    "        d[e[0]].append([e[1] , e[2]])\n",
    "    genreSort =sorted(list(d.keys()), key= lambda x: sum(map(lambda y: y[0],d[x])), reverse = True)\n",
    "    for g in genreSort:\n",
    "        temp = [e[1] for e in sorted(d[g], key= lambda x: (x[0], -x[1]), reverse = True)]\n",
    "        answer += temp[:min(len(temp),2)]\n",
    "    return answer"
   ]
  },
  {
   "cell_type": "markdown",
   "metadata": {},
   "source": [
    "## 2. 스택/큐"
   ]
  },
  {
   "cell_type": "markdown",
   "metadata": {},
   "source": [
    "2.1 기능개발\n",
    "\n",
    "- 문제 설명<br>\n",
    "\n",
    " 프로그래머스 팀에서는 기능 개선 작업을 수행 중입니다. 각 기능은 진도가 100%일 때 서비스에 반영할 수 있습니다.\n",
    "\n",
    " 또, 각 기능의 개발속도는 모두 다르기 때문에 뒤에 있는 기능이 앞에 있는 기능보다 먼저 개발될 수 있고, 이때 뒤에 있는 기능은 앞에 있는 기능이 배포될 때 함께 배포됩니다.\n",
    " \n",
    " 먼저 배포되어야 하는 순서대로 작업의 진도가 적힌 정수 배열 progresses와 각 작업의 개발 속도가 적힌 정수 배열 speeds가 주어질 때 각 배포마다 몇 개의 기능이 배포되는지를 return 하도록 solution 함수를 완성하세요.<br><br>\n",
    " \n",
    " \n",
    "- 제한 사항<br>\n",
    "\n",
    " 작업의 개수(progresses, speeds배열의 길이)는 100개 이하입니다.<br>\n",
    " 작업 진도는 100 미만의 자연수입니다.<br>\n",
    " 작업 속도는 100 이하의 자연수입니다.<br>\n",
    " 배포는 하루에 한 번만 할 수 있으며, 하루의 끝에 이루어진다고 가정합니다. 예를 들어 진도율이 95%인 작업의 개발 속도가 하루에 4%라면 배포는 2일 뒤에 이루어집니다.<br>\n",
    "<br><br>\n",
    " \n",
    "- 입출력 예<br>\n",
    "\n",
    "&nbsp;&nbsp;&nbsp;&nbsp;&nbsp;&nbsp;&nbsp;progresses\t&nbsp;&nbsp;&nbsp;&nbsp;&nbsp;&nbsp;&nbsp;&nbsp;&nbsp;&nbsp;&nbsp;&nbsp;&nbsp;&nbsp;&nbsp;&nbsp;&nbsp;&nbsp;&nbsp;&nbsp;&nbsp;&nbsp;&nbsp;&nbsp;&nbsp;&nbsp;&nbsp;&nbsp;&nbsp;&nbsp;&nbsp;&nbsp;&nbsp;&nbsp;&nbsp;&nbsp;&nbsp;&nbsp;&nbsp;&nbsp;speeds\t&nbsp;&nbsp;&nbsp;&nbsp;&nbsp;&nbsp;&nbsp;&nbsp;&nbsp;&nbsp;&nbsp;&nbsp;&nbsp;&nbsp;&nbsp;&nbsp;&nbsp;&nbsp;&nbsp;&nbsp;&nbsp;&nbsp;&nbsp;&nbsp;&nbsp;&nbsp;&nbsp;&nbsp;&nbsp;return<br>\n",
    "&nbsp;&nbsp;&nbsp;&nbsp;&nbsp;&nbsp;&nbsp;[93, 30, 55]&nbsp;&nbsp;&nbsp;&nbsp;&nbsp;&nbsp;&nbsp;&nbsp;&nbsp;&nbsp;&nbsp;&nbsp;&nbsp;&nbsp;&nbsp;&nbsp;&nbsp;&nbsp;&nbsp;&nbsp;&nbsp;&nbsp;&nbsp;&nbsp;&nbsp;&nbsp;&nbsp;&nbsp;&nbsp;&nbsp;&nbsp;&nbsp;&nbsp;&nbsp;&nbsp;&nbsp;&nbsp;&nbsp;&nbsp;&nbsp;[1, 30, 5]&nbsp;&nbsp;&nbsp;&nbsp;&nbsp;&nbsp;&nbsp;&nbsp;&nbsp;&nbsp;&nbsp;&nbsp;&nbsp;&nbsp;&nbsp;&nbsp;&nbsp;&nbsp;&nbsp;&nbsp;&nbsp;&nbsp;&nbsp;&nbsp;&nbsp;&nbsp;&nbsp;&nbsp;\t[2, 1]<br>\n",
    "[95, 90, 99, 99, 80, 99]&nbsp;&nbsp;&nbsp;&nbsp;&nbsp;&nbsp;&nbsp;&nbsp;&nbsp;&nbsp;&nbsp;&nbsp;&nbsp;&nbsp;&nbsp;&nbsp;&nbsp;&nbsp;&nbsp;&nbsp;&nbsp;&nbsp;&nbsp;&nbsp;&nbsp;[1, 1, 1, 1, 1, 1]&nbsp;&nbsp;&nbsp;&nbsp;&nbsp;&nbsp;&nbsp;&nbsp;&nbsp;&nbsp;&nbsp;&nbsp;&nbsp;&nbsp;&nbsp;&nbsp;&nbsp;&nbsp;&nbsp;&nbsp;\t[1, 3, 2]\n",
    "\n",
    "- 입출력 예 설명<br>\n",
    "\n",
    " 입출력 예 #1<br>\n",
    " 첫 번째 기능은 93% 완료되어 있고 하루에 1%씩 작업이 가능하므로 7일간 작업 후 배포가 가능합니다.<br>\n",
    " 두 번째 기능은 30%가 완료되어 있고 하루에 30%씩 작업이 가능하므로 3일간 작업 후 배포가 가능합니다. 하지만 이전 첫 번째 기능이 아직 완성된 상태가 아니기 때문에 첫 번째  기능이 배포되는 7일째 배포됩니다.<br>\n",
    " 세 번째 기능은 55%가 완료되어 있고 하루에 5%씩 작업이 가능하므로 9일간 작업 후 배포가 가능합니다.<br>\n",
    "\n",
    " 따라서 7일째에 2개의 기능, 9일째에 1개의 기능이 배포됩니다."
   ]
  },
  {
   "cell_type": "code",
   "execution_count": 17,
   "metadata": {},
   "outputs": [
    {
     "name": "stdout",
     "output_type": "stream",
     "text": [
      "[2, 1]\n",
      "[1, 3, 2]\n",
      "[1, 1, 1, 1]\n",
      "[5]\n",
      "[2, 2]\n",
      "[2, 4]\n"
     ]
    }
   ],
   "source": [
    "# 내가 푼 완성된 답안!!!!!!!\n",
    "# 정확도 100\n",
    "def solution(progresses, speeds):\n",
    "    a = []\n",
    "    for i in range(len(progresses)):\n",
    "        c = 100 - progresses[i]\n",
    "        \n",
    "        if c%speeds[i] != 0:\n",
    "            a.append((c//speeds[i])+1)\n",
    "        else:\n",
    "            a.append(c//speeds[i])\n",
    "    \n",
    "    answer = []\n",
    "\n",
    "    b = 1 # 비교될 원소가 처음에 담긴다\n",
    "    c = 0 # while문을 조정할 변수\n",
    "    while True:\n",
    "        for i in range(c, len(a)):\n",
    "            if i != c and a[c] >= a[i]: \n",
    "                b += 1\n",
    "                if i == len(a)-1: # 기준되는 원소보다 현재 원소가 크면서 현재 원소가 리스트의 끝일 때, for문과 while문을 끝내기 위해서 여기서 retrun함\n",
    "                    answer.append(b)\n",
    "                    return answer\n",
    "\n",
    "            elif i != c and a[c] < a[i]:\n",
    "                answer.append(b)\n",
    "                b = 1\n",
    "                c = i\n",
    "\n",
    "        if c == len(a)-1: # 기준되는 원소가 현재 원소보다 작으면서, 현재 원소가 리스트의 끝일 때 \n",
    "            answer.append(b) # 즉, [7, 3, 5, 1, 9] 형식일 때 9는 7보다 크지만 리스트의 맨 끝이므로 하나만 들어가고서 반복문을 전부 종료해야함 \n",
    "            break           # 이럴 때 쓰기 위해서 이러한 코드를 넣어줌\n",
    "        \n",
    "    return answer\n",
    "    \n",
    "\n",
    "#--------------------------------------------------------------------------------------------------------------------------------------\n",
    "a = [93, 30, 55]\n",
    "b = [1, 30, 5]\n",
    "#----------------------------------\n",
    "c = [95, 90, 99, 99, 80, 99]\n",
    "d = [1, 1, 1, 1, 1, 1]\n",
    "#-----------------------------------\n",
    "#e = [99, 6, 5,4,3,2,1]\n",
    "#f = [0, 1,1,2,1,1,1]\n",
    "#-----------------------------------\n",
    "g = [0, 0, 0, 0] \n",
    "h = [100, 50, 34, 25]\n",
    "# ----------------------------------\n",
    "i = [99, 99, 99, 99, 99]\n",
    "j = [3, 3, 3, 3, 3] \n",
    "# ----------------------------------\n",
    "k = [93, 30, 55, 60] \n",
    "l = [1, 30, 5, 40] \n",
    "# ----------------------------------\n",
    "m = [93, 30, 55, 60, 40, 65] \n",
    "n = [1, 30, 5, 10, 60, 7]\n",
    "\n",
    "print(solution(a, b))\n",
    "print(solution(c, d))\n",
    "#print(solution(e, f))\n",
    "print(solution(g, h))\n",
    "print(solution(i, j))\n",
    "print(solution(k, l))\n",
    "print(solution(m, n))"
   ]
  },
  {
   "cell_type": "code",
   "execution_count": null,
   "metadata": {},
   "outputs": [],
   "source": [
    "# 시간 지나고 다시 풀어본 거 1\n",
    "def solution(progresses, speeds):\n",
    "    a = [(100-i)//j if (100-i)%j ==0 else ((100-i)//j)+1 for i, j in zip(progresses, speeds)]\n",
    "    now = 0\n",
    "    answer = [1]\n",
    "    for i in range(1, len(a)):\n",
    "        if a[i] <= a[now]:\n",
    "            answer[-1] += 1\n",
    "        else:\n",
    "            answer.append(1)\n",
    "            now = i\n",
    "        \n",
    "    return answer\n",
    "\n",
    "# 위에거 보다 시간 더 지나고 다시 풀어본거 2\n",
    "import math\n",
    "def solution(progresses, speeds):\n",
    "    answer = []\n",
    "    for i, j in zip(progresses, speeds):\n",
    "        if answer != [] and answer[-1][0] >= math.ceil((100-i)/j):\n",
    "            answer[-1][1] +=1\n",
    "        else:\n",
    "            answer.append([math.ceil((100-i)/j), 1])\n",
    "    return list(map(lambda x: x[1], answer))"
   ]
  },
  {
   "cell_type": "code",
   "execution_count": null,
   "metadata": {},
   "outputs": [],
   "source": [
    "# 다른 사람 풀이들-------------------------------------------------------------------------------------------------------------------"
   ]
  },
  {
   "cell_type": "code",
   "execution_count": 7,
   "metadata": {},
   "outputs": [
    {
     "name": "stdout",
     "output_type": "stream",
     "text": [
      "[[7, 1]]\n",
      "[[7, 2], [9, 1]]\n",
      "[2, 1]\n",
      "[[5, 1]]\n",
      "[[5, 1], [10, 1]]\n",
      "[[5, 1], [10, 3], [20, 1]]\n",
      "[1, 3, 2]\n",
      "[[1, 1]]\n",
      "[[1, 1], [2, 1]]\n",
      "[[1, 1], [2, 1], [3, 1]]\n",
      "[[1, 1], [2, 1], [3, 1], [4, 1]]\n",
      "[1, 1, 1, 1]\n",
      "[[1, 1]]\n",
      "[5]\n",
      "[[7, 1]]\n",
      "[[7, 2], [9, 1]]\n",
      "[2, 2]\n",
      "[[7, 1]]\n",
      "[[7, 2], [9, 1]]\n",
      "[2, 4]\n"
     ]
    }
   ],
   "source": [
    "# 프로그래머스 다른 사람 풀이\n",
    "def solution(progresses, speeds):\n",
    "    Q=[]\n",
    "    for p, s in zip(progresses, speeds):\n",
    "        if len(Q)==0 or Q[-1][0]<-((p-100)//s):\n",
    "            Q.append([-((p-100)//s),1])\n",
    "            print(Q)\n",
    "        else:\n",
    "            Q[-1][1]+=1\n",
    "            \n",
    "    return [q[1] for q in Q]\n"
   ]
  },
  {
   "cell_type": "markdown",
   "metadata": {},
   "source": [
    "2.2 프린터\n",
    "\n",
    "- 문제 설명\n",
    "\n",
    " 일반적인 프린터는 인쇄 요청이 들어온 순서대로 인쇄합니다. 그렇기 때문에 중요한 문서가 나중에 인쇄될 수 있습니다. 이런 문제를 보완하기 위해 중요도가 높은 문서를 먼저 인쇄하는 프린터를 개발했습니다. 이 새롭게 개발한 프린터는 아래와 같은 방식으로 인쇄 작업을 수행합니다.\n",
    " \n",
    " 1. 인쇄 대기목록의 가장 앞에 있는 문서(J)를 대기목록에서 꺼냅니다.\n",
    " 2. 나머지 인쇄 대기목록에서 J보다 중요도가 높은 문서가 한 개라도 존재하면 J를 대기목록의 가장 마지막에 넣습니다.\n",
    " 3. 그렇지 않으면 J를 인쇄합니다.\n",
    " \n",
    " 예를 들어, 4개의 문서(A, B, C, D)가 순서대로 인쇄 대기목록에 있고 중요도가 2 1 3 2 라면 C D A B 순으로 인쇄하게 됩니다.\n",
    "\n",
    " 내가 인쇄를 요청한 문서가 몇 번째로 인쇄되는지 알고 싶습니다. 위의 예에서 C는 1번째로, A는 3번째로 인쇄됩니다.\n",
    "\n",
    " 현재 대기목록에 있는 문서의 중요도가 순서대로 담긴 배열 priorities와 내가 인쇄를 요청한 문서가 현재 대기목록의 어떤 위치에 있는지를 알려주는 location이 매개변수로 주어질 때, 내가 인쇄를 요청한 문서가 몇 번째로 인쇄되는지 return 하도록 solution 함수를 작성해주세요.<br><br>\n",
    " \n",
    " \n",
    "- 제한사항\n",
    "\n",
    " 1. 현재 대기목록에는 1개 이상 100개 이하의 문서가 있습니다.<br>\n",
    " 2. 인쇄 작업의 중요도는 1~9로 표현하며 숫자가 클수록 중요하다는 뜻입니다.<br>\n",
    " 3. location은 0 이상 (현재 대기목록에 있는 작업 수 - 1) 이하의 값을 가지며 대기목록의 가장 앞에 있으면 0, 두 번째에 있으면 1로 표현합니다.<br><br>\n",
    " \n",
    " \n",
    "- 입출력 예<br>\n",
    "&nbsp;&nbsp;&nbsp;&nbsp;priorities\t&nbsp;&nbsp;&nbsp;&nbsp;&nbsp;&nbsp;&nbsp;&nbsp;&nbsp;&nbsp;&nbsp;&nbsp;&nbsp;&nbsp;&nbsp;&nbsp;&nbsp;location&nbsp;&nbsp;&nbsp;&nbsp;&nbsp;&nbsp;&nbsp;&nbsp;&nbsp;&nbsp;&nbsp;&nbsp;&nbsp;\treturn<br>\n",
    "&nbsp;&nbsp;&nbsp;[2, 1, 3, 2]\t&nbsp;&nbsp;&nbsp;&nbsp;&nbsp;&nbsp;&nbsp;&nbsp;&nbsp;&nbsp;&nbsp;&nbsp;&nbsp;&nbsp;&nbsp;&nbsp;&nbsp;&nbsp;&nbsp;&nbsp;&nbsp;&nbsp;2&nbsp;&nbsp;&nbsp;&nbsp;&nbsp;&nbsp;&nbsp;&nbsp;&nbsp;&nbsp;&nbsp;&nbsp;&nbsp;&nbsp;&nbsp;&nbsp;&nbsp;&nbsp;&nbsp;&nbsp;&nbsp;&nbsp;1<br>\n",
    "[1, 1, 9, 1, 1, 1]&nbsp;&nbsp;&nbsp;&nbsp;&nbsp;&nbsp;&nbsp;&nbsp;&nbsp;&nbsp;&nbsp;&nbsp;&nbsp;&nbsp;&nbsp;&nbsp;&nbsp;\t0&nbsp;&nbsp;&nbsp;&nbsp;&nbsp;&nbsp;&nbsp;&nbsp;&nbsp;&nbsp;&nbsp;&nbsp;&nbsp;&nbsp;&nbsp;&nbsp;&nbsp;&nbsp;&nbsp;&nbsp;&nbsp;\t5<br><br><br>\n",
    "\n",
    "- 입출력 예 설명<br>\n",
    "\n",
    " 예제 #1<br>\n",
    " => 문제에 나온 예와 같습니다.\n",
    "\n",
    " 예제 #2<br>\n",
    " => 6개의 문서(A, B, C, D, E, F)가 인쇄 대기목록에 있고 중요도가 1 1 9 1 1 1 이므로 C D E F A B 순으로 인쇄합니다.\n"
   ]
  },
  {
   "cell_type": "code",
   "execution_count": null,
   "metadata": {},
   "outputs": [],
   "source": [
    "# 밑에거 보다 나중에 다시 풀어본 것\n",
    "from collections import deque\n",
    "def solution(priorities, location):\n",
    "    priorities = deque(priorities)\n",
    "    a = deque([i for i in range(len(priorities))])\n",
    "    count = []\n",
    "    while True:\n",
    "        x, lo = priorities.popleft(), a.popleft() \n",
    "        if not priorities:\n",
    "            return len(count)+1\n",
    "        if max(priorities) <= x:\n",
    "            count.append(x)\n",
    "            if lo == location:\n",
    "                break\n",
    "        else:\n",
    "            priorities.append(x)\n",
    "            a.append(lo)\n",
    "    return len(count)"
   ]
  },
  {
   "cell_type": "code",
   "execution_count": 81,
   "metadata": {},
   "outputs": [
    {
     "name": "stdout",
     "output_type": "stream",
     "text": [
      "3\n",
      "1\n",
      "5\n"
     ]
    }
   ],
   "source": [
    "# 내가 푼 완성된 답안!!!!\n",
    "# 정확도 100\n",
    "def solution(priorities, location):\n",
    "    answer = 0\n",
    "    \n",
    "    while True:\n",
    "        Judgment = False # 리스트 안에 맨 앞의 원소보다 큰게 있는지 판단함. 있다면 True\n",
    "        \n",
    "        for i in range(len(priorities)):\n",
    "            if priorities[0] < priorities[i]: # 만약 맨 앞의 것보다 큰것이 나타나면 Judgement가 True로 바뀜\n",
    "                Judgment = True\n",
    "\n",
    "        if Judgment: \n",
    "            priorities.append(priorities[0]) # 맨 앞에 있던 것을 리스트이 맨 뒤에 붙이기\n",
    "            del(priorities[0]) # 맨 앞에 있던 리스트를 뒤에 붙였으므로 맨 앞에건 삭제\n",
    "\n",
    "            if location == 0: # location에 해당하는 원소보다 큰 것이 존재하고, location이 0이면 location을 맨 끝의 인덱스와 같게 해줌.\n",
    "                location = len(priorities)-1 \n",
    "            else: # # location에 해당하는 원소보다 큰 것이 존재하고, location이 0이 아니라면 1을 빼주면 인덱스와 같아짐.\n",
    "                location -= 1\n",
    "\n",
    "        else:\n",
    "            answer += 1\n",
    "\n",
    "            if location == 0: # 출력되는 것이 location이면 반복문을 멈춘다. \n",
    "                break\n",
    "            else:\n",
    "                del(priorities[0]) # 출력되는 것이 location이 아니면 맨 앞의 것을 출력하고 \n",
    "                location -= 1      # 로케이션은 -1 해준다(맨 앞의 것이 출력된 후에 리스트에서 삭제되면 인덱스가 하나씩 내려가기 때문에)\n",
    "\n",
    "    return answer\n",
    "\n",
    "# ------------------------------------------------------------------------------------------------------------------------------------\n",
    "a = [8, 1, 9, 2, 1, 3]\n",
    "b = 5\n",
    "#------------------------------------------------------------------------\n",
    "c = [2, 1, 3, 2] \n",
    "d = 2\n",
    "#------------------------------------------------------------------------\n",
    "e = [1, 1, 9, 1, 1, 1]\n",
    "f = 0\n",
    "print(solution(a, b))\n",
    "print(solution(c, d))\n",
    "print(solution(e, f))"
   ]
  },
  {
   "cell_type": "markdown",
   "metadata": {},
   "source": [
    "2.3 다리를 지나는 트럭\n",
    "\n",
    "- 문제 설명\n",
    "\n",
    " 트럭 여러 대가 강을 가로지르는 일 차선 다리를 정해진 순으로 건너려 합니다. 모든 트럭이 다리를 건너려면 최소 몇 초가 걸리는지 알아내야 합니다. 트럭은 1초에 1만큼 움직이며, 다리 길이는 bridge_length이고 다리는 무게 weight까지 견딥니다.<br>\n",
    " ※ 트럭이 다리에 완전히 오르지 않은 경우, 이 트럭의 무게는 고려하지 않습니다.\n",
    "\n",
    " 예를 들어, 길이가 2이고 10kg 무게를 견디는 다리가 있습니다. 무게가 [7, 4, 5, 6]kg인 트럭이 순서대로 최단 시간 안에 다리를 건너려면 다음과 같이 건너야 합니다.\n",
    " \n",
    "&nbsp;&nbsp;&nbsp;&nbsp;&nbsp;경과 시간\t&nbsp;&nbsp;&nbsp;&nbsp;&nbsp;&nbsp;&nbsp;&nbsp;&nbsp;&nbsp;&nbsp;&nbsp;&nbsp;&nbsp;&nbsp;&nbsp;&nbsp;&nbsp;&nbsp;&nbsp;&nbsp;&nbsp;&nbsp;&nbsp;&nbsp;&nbsp;&nbsp;&nbsp;&nbsp;&nbsp;다리를 지난 트럭\t&nbsp;&nbsp;&nbsp;&nbsp;&nbsp;&nbsp;&nbsp;&nbsp;&nbsp;&nbsp;&nbsp;&nbsp;&nbsp;&nbsp;&nbsp;&nbsp;&nbsp;&nbsp;&nbsp;&nbsp;&nbsp;&nbsp;&nbsp;&nbsp;&nbsp;&nbsp;&nbsp;&nbsp;다리를 건너는 트럭\t&nbsp;&nbsp;&nbsp;&nbsp;&nbsp;&nbsp;&nbsp;&nbsp;&nbsp;&nbsp;&nbsp;&nbsp;&nbsp;&nbsp;&nbsp;&nbsp;&nbsp;&nbsp;&nbsp;&nbsp;&nbsp;&nbsp;&nbsp;&nbsp;대기 트럭<br>\n",
    " &nbsp;&nbsp;&nbsp;&nbsp;&nbsp;&nbsp;&nbsp;&nbsp;&nbsp;&nbsp;&nbsp;&nbsp;0\t&nbsp;&nbsp;&nbsp;&nbsp;&nbsp;&nbsp;&nbsp;&nbsp;&nbsp;&nbsp;&nbsp;&nbsp;&nbsp;&nbsp;&nbsp;&nbsp;&nbsp;&nbsp;&nbsp;&nbsp;&nbsp;&nbsp;&nbsp;&nbsp;&nbsp;&nbsp;&nbsp;&nbsp;&nbsp;&nbsp;&nbsp;&nbsp;&nbsp;&nbsp;&nbsp;&nbsp;&nbsp;&nbsp;&nbsp;&nbsp;&nbsp;&nbsp;&nbsp;&nbsp;&nbsp;&nbsp;&nbsp;&nbsp;&nbsp;&nbsp;&nbsp;&nbsp;[]&nbsp;&nbsp;&nbsp;&nbsp;&nbsp;&nbsp;&nbsp;&nbsp;&nbsp;&nbsp;&nbsp;&nbsp;&nbsp;&nbsp;&nbsp;&nbsp;&nbsp;&nbsp;&nbsp;&nbsp;&nbsp;&nbsp;&nbsp;&nbsp;&nbsp;&nbsp;&nbsp;&nbsp;&nbsp;&nbsp;&nbsp;&nbsp;&nbsp;&nbsp;&nbsp;&nbsp;&nbsp;&nbsp;&nbsp;&nbsp;&nbsp;&nbsp;&nbsp;&nbsp;&nbsp;&nbsp;&nbsp;&nbsp;&nbsp;&nbsp;&nbsp;&nbsp;&nbsp;&nbsp;\t[]&nbsp;&nbsp;&nbsp;&nbsp;&nbsp;&nbsp;&nbsp;&nbsp;&nbsp;&nbsp;&nbsp;&nbsp;&nbsp;&nbsp;&nbsp;&nbsp;&nbsp;&nbsp;&nbsp;&nbsp;&nbsp;&nbsp;&nbsp;&nbsp;&nbsp;&nbsp;&nbsp;&nbsp;&nbsp;&nbsp;&nbsp;&nbsp;&nbsp;&nbsp;&nbsp;&nbsp;&nbsp;&nbsp;[7,4,5,6]<br>\n",
    "&nbsp;&nbsp;&nbsp;&nbsp;&nbsp;&nbsp;&nbsp;&nbsp;&nbsp;&nbsp;&nbsp;&nbsp;1-2&nbsp;&nbsp;&nbsp;&nbsp;&nbsp;&nbsp;&nbsp;&nbsp;&nbsp;&nbsp;&nbsp;&nbsp;&nbsp;&nbsp;&nbsp;&nbsp;&nbsp;&nbsp;&nbsp;&nbsp;&nbsp;&nbsp;&nbsp;&nbsp;&nbsp;&nbsp;&nbsp;&nbsp;&nbsp;&nbsp;&nbsp;&nbsp;&nbsp;&nbsp;&nbsp;&nbsp;&nbsp;&nbsp;&nbsp;&nbsp;&nbsp;&nbsp;&nbsp;&nbsp;&nbsp;&nbsp;&nbsp;&nbsp;&nbsp;&nbsp;[] &nbsp;&nbsp;&nbsp;&nbsp;&nbsp;&nbsp;&nbsp;&nbsp;&nbsp;&nbsp;&nbsp;&nbsp;&nbsp;&nbsp;&nbsp;&nbsp;&nbsp;&nbsp;&nbsp;&nbsp;&nbsp;&nbsp;&nbsp;&nbsp;&nbsp;&nbsp;&nbsp;&nbsp;&nbsp;&nbsp;&nbsp;&nbsp;&nbsp;&nbsp;&nbsp;&nbsp;&nbsp;&nbsp;&nbsp;&nbsp;&nbsp;&nbsp;&nbsp;&nbsp;&nbsp;&nbsp;&nbsp;&nbsp;&nbsp;&nbsp;&nbsp;&nbsp;&nbsp;[7]&nbsp;&nbsp;&nbsp;&nbsp;&nbsp;&nbsp;&nbsp;&nbsp;&nbsp;&nbsp;&nbsp;&nbsp;&nbsp;&nbsp;&nbsp;&nbsp;&nbsp;&nbsp;&nbsp;&nbsp;&nbsp;&nbsp;&nbsp;&nbsp;&nbsp;&nbsp;&nbsp;&nbsp;&nbsp;&nbsp;&nbsp;&nbsp;&nbsp;&nbsp;&nbsp;&nbsp;&nbsp;\t[4,5,6]<br>\n",
    "&nbsp;&nbsp;&nbsp;&nbsp;&nbsp;&nbsp;&nbsp;&nbsp;&nbsp;&nbsp;&nbsp;&nbsp;&nbsp;3\t&nbsp;&nbsp;&nbsp;&nbsp;&nbsp;&nbsp;&nbsp;&nbsp;&nbsp;&nbsp;&nbsp;&nbsp;&nbsp;&nbsp;&nbsp;&nbsp;&nbsp;&nbsp;&nbsp;&nbsp;&nbsp;&nbsp;&nbsp;&nbsp;&nbsp;&nbsp;&nbsp;&nbsp;&nbsp;&nbsp;&nbsp;&nbsp;&nbsp;&nbsp;&nbsp;&nbsp;&nbsp;&nbsp;&nbsp;&nbsp;&nbsp;&nbsp;&nbsp;&nbsp;&nbsp;&nbsp;&nbsp;&nbsp;&nbsp;&nbsp;[7]&nbsp;&nbsp;&nbsp;&nbsp;&nbsp;&nbsp;&nbsp;&nbsp;&nbsp;&nbsp;&nbsp;&nbsp;&nbsp;&nbsp;&nbsp;&nbsp;&nbsp;&nbsp;&nbsp;&nbsp;&nbsp;&nbsp;&nbsp;&nbsp;&nbsp;&nbsp;&nbsp;&nbsp;&nbsp;&nbsp;&nbsp;&nbsp;&nbsp;&nbsp;&nbsp;&nbsp;&nbsp;&nbsp;&nbsp;&nbsp;&nbsp;&nbsp;&nbsp;&nbsp;&nbsp;&nbsp;&nbsp;&nbsp;&nbsp;&nbsp;&nbsp;&nbsp;&nbsp;[4]&nbsp;&nbsp;&nbsp;&nbsp;&nbsp;&nbsp;&nbsp;&nbsp;&nbsp;&nbsp;&nbsp;&nbsp;&nbsp;&nbsp;&nbsp;&nbsp;&nbsp;&nbsp;&nbsp;&nbsp;&nbsp;&nbsp;&nbsp;&nbsp;&nbsp;&nbsp;&nbsp;&nbsp;&nbsp;&nbsp;&nbsp;&nbsp;&nbsp;&nbsp;&nbsp;&nbsp;&nbsp;&nbsp;&nbsp;\t[5,6]<br>\n",
    "&nbsp;&nbsp;&nbsp;&nbsp;&nbsp;&nbsp;&nbsp;&nbsp;&nbsp;&nbsp;&nbsp;&nbsp;&nbsp;4&nbsp;&nbsp;&nbsp;&nbsp;&nbsp;&nbsp;&nbsp;&nbsp;&nbsp;&nbsp;&nbsp;&nbsp;&nbsp;&nbsp;&nbsp;&nbsp;&nbsp;&nbsp;&nbsp;&nbsp;&nbsp;&nbsp;&nbsp;&nbsp;&nbsp;&nbsp;&nbsp;&nbsp;&nbsp;&nbsp;&nbsp;&nbsp;&nbsp;&nbsp;&nbsp;&nbsp;&nbsp;&nbsp;&nbsp;&nbsp;&nbsp;&nbsp;&nbsp;&nbsp;&nbsp;&nbsp;&nbsp;&nbsp;&nbsp;&nbsp;\t[7]&nbsp;&nbsp;&nbsp;&nbsp;&nbsp;&nbsp;&nbsp;&nbsp;&nbsp;&nbsp;&nbsp;&nbsp;&nbsp;&nbsp;&nbsp;&nbsp;&nbsp;&nbsp;&nbsp;&nbsp;&nbsp;&nbsp;&nbsp;&nbsp;&nbsp;&nbsp;&nbsp;&nbsp;&nbsp;&nbsp;&nbsp;&nbsp;&nbsp;&nbsp;&nbsp;&nbsp;&nbsp;&nbsp;&nbsp;&nbsp;&nbsp;&nbsp;&nbsp;&nbsp;&nbsp;&nbsp;&nbsp;&nbsp;&nbsp;&nbsp;&nbsp;&nbsp;[4,5]&nbsp;&nbsp;&nbsp;&nbsp;&nbsp;&nbsp;&nbsp;&nbsp;&nbsp;&nbsp;&nbsp;&nbsp;&nbsp;&nbsp;&nbsp;&nbsp;&nbsp;&nbsp;&nbsp;&nbsp;&nbsp;&nbsp;&nbsp;&nbsp;&nbsp;&nbsp;&nbsp;&nbsp;&nbsp;&nbsp;&nbsp;&nbsp;&nbsp;&nbsp;&nbsp;&nbsp;&nbsp;&nbsp;&nbsp;[6]<br>\n",
    "&nbsp;&nbsp;&nbsp;&nbsp;&nbsp;&nbsp;&nbsp;&nbsp;&nbsp;&nbsp;&nbsp;&nbsp;&nbsp;5&nbsp;&nbsp;&nbsp;&nbsp;&nbsp;&nbsp;&nbsp;&nbsp;&nbsp;&nbsp;&nbsp;&nbsp;&nbsp;&nbsp;&nbsp;&nbsp;&nbsp;&nbsp;&nbsp;&nbsp;&nbsp;&nbsp;&nbsp;&nbsp;&nbsp;&nbsp;&nbsp;&nbsp;&nbsp;&nbsp;&nbsp;&nbsp;&nbsp;&nbsp;&nbsp;&nbsp;&nbsp;&nbsp;&nbsp;&nbsp;&nbsp;&nbsp;&nbsp;&nbsp;&nbsp;&nbsp;&nbsp;&nbsp;&nbsp;\t[7,4]&nbsp;&nbsp;&nbsp;&nbsp;&nbsp;&nbsp;&nbsp;&nbsp;&nbsp;&nbsp;&nbsp;&nbsp;&nbsp;&nbsp;&nbsp;&nbsp;&nbsp;&nbsp;&nbsp;&nbsp;&nbsp;&nbsp;&nbsp;&nbsp;&nbsp;&nbsp;&nbsp;&nbsp;&nbsp;&nbsp;&nbsp;&nbsp;&nbsp;&nbsp;&nbsp;&nbsp;&nbsp;&nbsp;&nbsp;&nbsp;&nbsp;&nbsp;&nbsp;&nbsp;&nbsp;&nbsp;&nbsp;&nbsp;&nbsp;&nbsp;&nbsp;[5]&nbsp;&nbsp;&nbsp;&nbsp;&nbsp;&nbsp;&nbsp;&nbsp;&nbsp;&nbsp;&nbsp;&nbsp;&nbsp;&nbsp;&nbsp;&nbsp;&nbsp;&nbsp;&nbsp;&nbsp;&nbsp;&nbsp;&nbsp;&nbsp;&nbsp;&nbsp;&nbsp;&nbsp;&nbsp;&nbsp;&nbsp;&nbsp;&nbsp;&nbsp;&nbsp;&nbsp;&nbsp;&nbsp;&nbsp;&nbsp;\t[6]<br>\n",
    "&nbsp;&nbsp;&nbsp;&nbsp;&nbsp;&nbsp;&nbsp;&nbsp;&nbsp;&nbsp;&nbsp;6~7&nbsp;&nbsp;&nbsp;&nbsp;&nbsp;&nbsp;&nbsp;&nbsp;&nbsp;&nbsp;&nbsp;&nbsp;&nbsp;&nbsp;&nbsp;&nbsp;&nbsp;&nbsp;&nbsp;&nbsp;&nbsp;&nbsp;&nbsp;&nbsp;&nbsp;&nbsp;&nbsp;&nbsp;&nbsp;&nbsp;&nbsp;&nbsp;&nbsp;&nbsp;&nbsp;&nbsp;&nbsp;&nbsp;&nbsp;&nbsp;&nbsp;&nbsp;&nbsp;&nbsp;&nbsp;&nbsp;\t[7,4,5]&nbsp;&nbsp;&nbsp;&nbsp;&nbsp;&nbsp;&nbsp;&nbsp;&nbsp;&nbsp;&nbsp;&nbsp;&nbsp;&nbsp;&nbsp;&nbsp;&nbsp;&nbsp;&nbsp;&nbsp;&nbsp;&nbsp;&nbsp;&nbsp;&nbsp;&nbsp;&nbsp;&nbsp;&nbsp;&nbsp;&nbsp;&nbsp;&nbsp;&nbsp;&nbsp;&nbsp;&nbsp;&nbsp;&nbsp;&nbsp;&nbsp;&nbsp;&nbsp;&nbsp;&nbsp;&nbsp;&nbsp;&nbsp;\t[6]&nbsp;&nbsp;&nbsp;&nbsp;&nbsp;&nbsp;&nbsp;&nbsp;&nbsp;&nbsp;&nbsp;&nbsp;&nbsp;&nbsp;&nbsp;&nbsp;&nbsp;&nbsp;&nbsp;&nbsp;&nbsp;&nbsp;&nbsp;&nbsp;&nbsp;&nbsp;&nbsp;&nbsp;&nbsp;&nbsp;&nbsp;&nbsp;&nbsp;&nbsp;&nbsp;&nbsp;&nbsp;&nbsp;&nbsp;&nbsp;&nbsp;\t[]<br>\n",
    "&nbsp;&nbsp;&nbsp;&nbsp;&nbsp;&nbsp;&nbsp;&nbsp;&nbsp;&nbsp;&nbsp;&nbsp;&nbsp;8 &nbsp;&nbsp;&nbsp;&nbsp;&nbsp;&nbsp;&nbsp;&nbsp;&nbsp;&nbsp;&nbsp;&nbsp;&nbsp;&nbsp;&nbsp;&nbsp;&nbsp;&nbsp;&nbsp;&nbsp;&nbsp;&nbsp;&nbsp;&nbsp;&nbsp;&nbsp;&nbsp;&nbsp;&nbsp;&nbsp;&nbsp;&nbsp;&nbsp;&nbsp;&nbsp;&nbsp;&nbsp;&nbsp;&nbsp;&nbsp;&nbsp;&nbsp;&nbsp;&nbsp;&nbsp;&nbsp;&nbsp;[7,4,5,6]&nbsp;&nbsp;&nbsp;&nbsp;&nbsp;&nbsp;&nbsp;&nbsp;&nbsp;&nbsp;&nbsp;&nbsp;&nbsp;&nbsp;&nbsp;&nbsp;&nbsp;&nbsp;&nbsp;&nbsp;&nbsp;&nbsp;&nbsp;&nbsp;&nbsp;&nbsp;&nbsp;&nbsp;&nbsp;&nbsp;&nbsp;&nbsp;&nbsp;&nbsp;&nbsp;&nbsp;&nbsp;&nbsp;&nbsp;&nbsp;&nbsp;&nbsp;&nbsp;&nbsp;&nbsp;&nbsp;&nbsp;&nbsp;[]&nbsp;&nbsp;&nbsp;&nbsp;&nbsp;&nbsp;&nbsp;&nbsp;&nbsp;&nbsp;&nbsp;&nbsp;&nbsp;&nbsp;&nbsp;&nbsp;&nbsp;&nbsp;&nbsp;&nbsp;&nbsp;&nbsp;&nbsp;&nbsp;&nbsp;&nbsp;&nbsp;&nbsp;&nbsp;&nbsp;&nbsp;&nbsp;&nbsp;&nbsp;&nbsp;&nbsp;&nbsp;&nbsp;&nbsp;&nbsp;&nbsp;&nbsp;\t[]<br><br>\n",
    "\n",
    " 따라서, 모든 트럭이 다리를 지나려면 최소 8초가 걸립니다.\n",
    "\n",
    " solution 함수의 매개변수로 다리 길이 bridge_length, 다리가 견딜 수 있는 무게 weight, 트럭별 무게 truck_weights가 주어집니다. 이때 모든 트럭이 다리를 건너려면 최소 몇 초가 걸리는지 return 하도록 solution 함수를 완성하세요.\n",
    "<br><br>\n",
    "\n",
    "- 제한 조건<br>\n",
    " bridge_length는 1 이상 10,000 이하입니다.<br>\n",
    " weight는 1 이상 10,000 이하입니다.<br>\n",
    " truck_weights의 길이는 1 이상 10,000 이하입니다.<br>\n",
    " 모든 트럭의 무게는 1 이상 weight 이하입니다.<br>\n",
    " <br><br>\n",
    " \n",
    "- 입출력 예<br>\n",
    "\n",
    "&nbsp;&nbsp;&nbsp;bridge_length\t&nbsp;&nbsp;&nbsp;&nbsp;&nbsp;&nbsp;&nbsp;&nbsp;&nbsp;&nbsp;&nbsp;&nbsp;&nbsp;&nbsp;&nbsp;&nbsp;&nbsp;&nbsp;&nbsp;&nbsp;&nbsp;&nbsp;&nbsp;&nbsp;&nbsp;&nbsp;&nbsp;weight&nbsp;&nbsp;&nbsp;&nbsp;&nbsp;&nbsp;&nbsp;&nbsp;&nbsp;&nbsp;&nbsp;&nbsp;&nbsp;&nbsp;&nbsp;&nbsp;&nbsp;&nbsp;&nbsp;&nbsp;&nbsp;&nbsp;&nbsp;&nbsp;&nbsp;&nbsp;&nbsp;&nbsp;&nbsp;&nbsp;&nbsp;&nbsp;&nbsp;&nbsp;&nbsp;&nbsp;&nbsp;&nbsp;&nbsp;\n",
    "truck_weights\t&nbsp;&nbsp;&nbsp;&nbsp;&nbsp;&nbsp;&nbsp;&nbsp;&nbsp;&nbsp;&nbsp;&nbsp;&nbsp;&nbsp;&nbsp;&nbsp;&nbsp;&nbsp;&nbsp;&nbsp;&nbsp;&nbsp;&nbsp;&nbsp;return<br>\n",
    "&nbsp;&nbsp;&nbsp;&nbsp;&nbsp;&nbsp;&nbsp;&nbsp;&nbsp;2\t&nbsp;&nbsp;&nbsp;&nbsp;&nbsp;&nbsp;&nbsp;&nbsp;&nbsp;&nbsp;&nbsp;&nbsp;&nbsp;&nbsp;&nbsp;&nbsp;&nbsp;&nbsp;&nbsp;&nbsp;&nbsp;&nbsp;&nbsp;&nbsp;&nbsp;&nbsp;&nbsp;&nbsp;&nbsp;&nbsp;&nbsp;&nbsp;&nbsp;&nbsp;&nbsp;&nbsp;&nbsp;&nbsp;&nbsp;&nbsp;&nbsp;&nbsp;&nbsp;&nbsp;&nbsp;10&nbsp;&nbsp;&nbsp;&nbsp;&nbsp;&nbsp;&nbsp;&nbsp;&nbsp;&nbsp;&nbsp;&nbsp;&nbsp;&nbsp;&nbsp;&nbsp;&nbsp;&nbsp;&nbsp;&nbsp;&nbsp;&nbsp;&nbsp;&nbsp;&nbsp;&nbsp;&nbsp;&nbsp;&nbsp;&nbsp;&nbsp;&nbsp;&nbsp;&nbsp;&nbsp;&nbsp;&nbsp;&nbsp;&nbsp;&nbsp;&nbsp;&nbsp;&nbsp;&nbsp;&nbsp;&nbsp;&nbsp;\t[7,4,5,6]&nbsp;&nbsp;&nbsp;&nbsp;&nbsp;&nbsp;&nbsp;&nbsp;&nbsp;&nbsp;&nbsp;&nbsp;&nbsp;&nbsp;&nbsp;&nbsp;&nbsp;&nbsp;&nbsp;&nbsp;&nbsp;&nbsp;&nbsp;&nbsp;&nbsp;&nbsp;&nbsp;&nbsp;&nbsp;&nbsp;&nbsp;\t8<br>\n",
    "&nbsp;&nbsp;&nbsp;&nbsp;&nbsp;&nbsp;&nbsp;&nbsp;&nbsp;100&nbsp;&nbsp;&nbsp;&nbsp;&nbsp;&nbsp;&nbsp;&nbsp;&nbsp;&nbsp;&nbsp;&nbsp;&nbsp;&nbsp;&nbsp;&nbsp;&nbsp;&nbsp;&nbsp;&nbsp;&nbsp;&nbsp;&nbsp;&nbsp;&nbsp;&nbsp;&nbsp;&nbsp;&nbsp;&nbsp;&nbsp;&nbsp;&nbsp;&nbsp;&nbsp;&nbsp;&nbsp;&nbsp;&nbsp;&nbsp;100&nbsp;&nbsp;&nbsp;&nbsp;&nbsp;&nbsp;&nbsp;&nbsp;&nbsp;&nbsp;&nbsp;&nbsp;&nbsp;&nbsp;&nbsp;&nbsp;&nbsp;&nbsp;&nbsp;&nbsp;&nbsp;&nbsp;&nbsp;&nbsp;&nbsp;&nbsp;&nbsp;&nbsp;&nbsp;&nbsp;&nbsp;&nbsp;&nbsp;&nbsp;&nbsp;&nbsp;&nbsp;&nbsp;&nbsp;&nbsp;&nbsp;&nbsp;&nbsp;&nbsp;&nbsp;&nbsp;&nbsp;&nbsp;&nbsp;&nbsp;&nbsp;\t[10]&nbsp;&nbsp;&nbsp;&nbsp;&nbsp;&nbsp;&nbsp;&nbsp;&nbsp;&nbsp;&nbsp;&nbsp;&nbsp;&nbsp;&nbsp;&nbsp;&nbsp;&nbsp;&nbsp;&nbsp;&nbsp;&nbsp;&nbsp;&nbsp;&nbsp;&nbsp;&nbsp;&nbsp;&nbsp;&nbsp;&nbsp;&nbsp;\t101<br>\n",
    "&nbsp;&nbsp;&nbsp;&nbsp;&nbsp;&nbsp;&nbsp;&nbsp;&nbsp;100&nbsp;&nbsp;&nbsp;&nbsp;&nbsp;&nbsp;&nbsp;&nbsp;&nbsp;&nbsp;&nbsp;&nbsp;&nbsp;&nbsp;&nbsp;&nbsp;&nbsp;&nbsp;&nbsp;&nbsp;&nbsp;&nbsp;&nbsp;&nbsp;&nbsp;&nbsp;&nbsp;&nbsp;&nbsp;&nbsp;&nbsp;&nbsp;&nbsp;&nbsp;&nbsp;&nbsp;&nbsp;&nbsp;&nbsp;\t100&nbsp;&nbsp;&nbsp;&nbsp;&nbsp;&nbsp;&nbsp;&nbsp;&nbsp;&nbsp;&nbsp;&nbsp;&nbsp;&nbsp;&nbsp;&nbsp;&nbsp;&nbsp;&nbsp;&nbsp;&nbsp;&nbsp;&nbsp;&nbsp;&nbsp;&nbsp;&nbsp;[10,10,10,10,10,10,10,10,10,10]&nbsp;&nbsp;&nbsp;&nbsp;&nbsp;&nbsp;&nbsp;&nbsp;&nbsp;&nbsp;&nbsp;&nbsp;\t110<br>"
   ]
  },
  {
   "cell_type": "code",
   "execution_count": 169,
   "metadata": {},
   "outputs": [
    {
     "name": "stdout",
     "output_type": "stream",
     "text": [
      "101\n",
      "110\n"
     ]
    }
   ],
   "source": [
    "# 내가 푼 완성된 답안\n",
    "# 정확도 100\n",
    "# 다시 한번 살펴보기\n",
    "def solution(bridge_length, weight, truck_weights):\n",
    "\n",
    "    count =  [0] * len(truck_weights)\n",
    "\n",
    "    passing = []\n",
    "\n",
    "    answer = 0\n",
    "    a = 0 # 첫번째 인덱스\n",
    "    i = 0 # 변화되면서 바뀔 인덱스\n",
    "\n",
    "    while True:\n",
    "        if i != len(truck_weights) and sum(passing) + truck_weights[i] <= weight: # 만약 합이 기준보다 작거나 같으면\n",
    "            passing.append(truck_weights[i]) #  다리에 트럭을 넣는다.\n",
    "\n",
    "            for k in range(a, i+1): # i까지의 합이 기준보다 작기 때문에 count의 i인덱스까지 각각 1을 더해주기 위해서 for문에서 끝은 i+1로 설정.\n",
    "                count[k] += 1\n",
    "\n",
    "            i+=1 # i까지는 합이 기준보다 작기 때문에 i에 1을 더하여 놓는다. \n",
    "            answer += 1 # 전체시간 1 증가\n",
    "\n",
    "        else:\n",
    "            for k in range(a, i): # i까지의 합이 기준보다 크기 때문에 count에서 i보다 1작은 인덱스까지만 1을 더하여주기 위해서 for문에서 끝은 i로 한다\n",
    "                count[k] += 1\n",
    "            answer += 1 # 전체시간 1 증가\n",
    "\n",
    "            \n",
    "            \n",
    "        if count[a] == bridge_length:\n",
    "            passing[a] = 0\n",
    "            a += 1\n",
    "            \n",
    "\n",
    "        if sum(count) == bridge_length*len(truck_weights):\n",
    "            answer += 1\n",
    "            break\n",
    "            \n",
    "    return answer\n",
    "\n",
    "# ---------------------------------------------------------------------------------------------------------------------------\n",
    "a = 100\n",
    "b= 100\n",
    "c = [10]\n",
    "#-----------------------------------------------------------------------------------------------------------------------------\n",
    "d = 100\n",
    "e= 100\n",
    "f = [10,10,10,10,10,10,10,10,10,10] \n",
    "\n",
    "print(solution(a, b, c))\n",
    "print(solution(d, e, f))"
   ]
  },
  {
   "cell_type": "code",
   "execution_count": null,
   "metadata": {},
   "outputs": [],
   "source": [
    "# 다른 사람 풀이들-------------------------------------------------------------------------------------------------------------------"
   ]
  },
  {
   "cell_type": "code",
   "execution_count": 170,
   "metadata": {},
   "outputs": [
    {
     "name": "stdout",
     "output_type": "stream",
     "text": [
      "8 8\n",
      "101 101\n",
      "110 110\n"
     ]
    }
   ],
   "source": [
    "# 프로그래머스에 나온 다른 사람 풀이 1\n",
    "\n",
    "import collections\n",
    "\n",
    "DUMMY_TRUCK = 0\n",
    "\n",
    "\n",
    "class Bridge(object):\n",
    "\n",
    "    def __init__(self, length, weight):\n",
    "        self._max_length = length\n",
    "        self._max_weight = weight\n",
    "        self._queue = collections.deque()\n",
    "        self._current_weight = 0\n",
    "\n",
    "    def push(self, truck):\n",
    "        next_weight = self._current_weight + truck\n",
    "        if next_weight <= self._max_weight and len(self._queue) < self._max_length:\n",
    "            self._queue.append(truck)\n",
    "            self._current_weight = next_weight\n",
    "            return True\n",
    "        else:\n",
    "            return False\n",
    "\n",
    "    def pop(self):\n",
    "        item = self._queue.popleft()\n",
    "        self._current_weight -= item\n",
    "        return item\n",
    "\n",
    "    def __len__(self):\n",
    "        return len(self._queue)\n",
    "\n",
    "    def __repr__(self):\n",
    "        return 'Bridge({}/{} : [{}])'.format(self._current_weight, self._max_weight, list(self._queue))\n",
    "\n",
    "\n",
    "def solution(bridge_length, weight, truck_weights):\n",
    "    bridge = Bridge(bridge_length, weight)\n",
    "    trucks = collections.deque(w for w in truck_weights)\n",
    "\n",
    "    for _ in range(bridge_length):\n",
    "        bridge.push(DUMMY_TRUCK)\n",
    "\n",
    "    count = 0\n",
    "    while trucks:\n",
    "        bridge.pop()\n",
    "\n",
    "        if bridge.push(trucks[0]):\n",
    "            trucks.popleft()\n",
    "        else:\n",
    "            bridge.push(DUMMY_TRUCK)\n",
    "\n",
    "        count += 1\n",
    "\n",
    "    while bridge:\n",
    "        bridge.pop()\n",
    "        count += 1\n",
    "\n",
    "    return count\n",
    "\n",
    "\n",
    "def main():\n",
    "    print(solution(2, 10, [7, 4, 5, 6]), 8)\n",
    "    print(solution(100, 100, [10]), 101)\n",
    "    print(solution(100, 100, [10, 10, 10, 10, 10, 10, 10, 10, 10, 10]), 110)\n",
    "\n",
    "\n",
    "if __name__ == '__main__':\n",
    "    main()"
   ]
  },
  {
   "cell_type": "code",
   "execution_count": 26,
   "metadata": {},
   "outputs": [
    {
     "name": "stdout",
     "output_type": "stream",
     "text": [
      "다리:  [0, 7]\n",
      "대기줄:  [4, 5, 6]\n",
      "다리:  [7, 0]\n",
      "대기줄:  [4, 5, 6]\n",
      "다리:  [0, 4]\n",
      "대기줄:  [5, 6]\n",
      "다리:  [4, 5]\n",
      "대기줄:  [6]\n",
      "다리:  [5, 0]\n",
      "대기줄:  [6]\n",
      "다리:  [0, 6]\n",
      "대기줄:  []\n",
      "다리:  [6]\n",
      "대기줄:  []\n",
      "다리:  []\n",
      "대기줄:  []\n",
      "8\n"
     ]
    }
   ],
   "source": [
    "# 프로그래머스에 나온 다른 사람 풀이 2\n",
    "\n",
    "def solution(bridge_length, weight, truck_weights):\n",
    "    q=[0]*bridge_length \n",
    "    sec=0\n",
    "    while q: \n",
    "        sec+=1 \n",
    "        q.pop(0)\n",
    "        if truck_weights: \n",
    "            \n",
    "            if sum(q)+truck_weights[0]<=weight: \n",
    "                q.append(truck_weights.pop(0)) \n",
    "            else:\n",
    "                q.append(0) # 빈틈이 있을 수 있으므로 0을 추가해서 시간을 그만큼 채워줘야 함.\n",
    "        print('다리: ', q) # 이건 확인해보려고 내가 넣은것. 지워도 됨\n",
    "        print('대기줄: ', truck_weights)\n",
    "    return sec \n",
    "\n",
    "#a = 100\n",
    "#b= 100\n",
    "#c = [10]\n",
    "#-----------------------------------------------------------------------------------------------------------------------------\n",
    "#d = 100\n",
    "#e= 100\n",
    "#f = [10,10,10,10,10,10,10,10,10,10] \n",
    "\n",
    "g = 2\n",
    "h = 10\n",
    "i = [7, 4, 5, 6]\n",
    "\n",
    "print(solution(g, h, i))"
   ]
  },
  {
   "cell_type": "markdown",
   "metadata": {},
   "source": [
    "2.4 주식가격\n",
    "- 문제 설명<br>\n",
    " 초 단위로 기록된 주식가격이 담긴 배열 prices가 매개변수로 주어질 때, 가격이 떨어지지 않은 기간은 몇 초인지를 return 하도록 solution 함수를 완성하세요.<br><br>\n",
    "\n",
    " \n",
    "- 제한사항<br>\n",
    " prices의 각 가격은 1 이상 10,000 이하인 자연수입니다.\n",
    " prices의 길이는 2 이상 100,000 이하입니다.<br><br>\n",
    "\n",
    "- 입출력 예<br>\n",
    "&nbsp;&nbsp;&nbsp;&nbsp;prices&nbsp;&nbsp;&nbsp;&nbsp;&nbsp;&nbsp;&nbsp;&nbsp;&nbsp;&nbsp;&nbsp;&nbsp;&nbsp;&nbsp;&nbsp;&nbsp;&nbsp;&nbsp;&nbsp;&nbsp;&nbsp;&nbsp;&nbsp;&nbsp;&nbsp;&nbsp;&nbsp;&nbsp;\treturn<br>\n",
    "[1, 2, 3, 2, 3]\t&nbsp;&nbsp;&nbsp;&nbsp;&nbsp;&nbsp;&nbsp;&nbsp;&nbsp;&nbsp;&nbsp;&nbsp;&nbsp;&nbsp;&nbsp;&nbsp;&nbsp;[4, 3, 1, 1, 0]<br><br>\n",
    "\n",
    "- 입출력 예 설명<br>\n",
    " 1초 시점의&nbsp; ₩1은 끝까지 가격이 떨어지지 않았습니다.<br>\n",
    " 2초 시점의&nbsp; ₩2은 끝까지 가격이 떨어지지 않았습니다.<br>\n",
    " 3초 시점의&nbsp; ₩3은 1초뒤에 가격이 떨어집니다. 따라서 1초간 가격이 떨어지지 않은 것으로 봅니다.<br>\n",
    " 4초 시점의&nbsp; ₩2은 1초간 가격이 떨어지지 않았습니다.<br>\n",
    " 5초 시점의&nbsp; ₩3은 0초간 가격이 떨어지지 않았습니다.<br>"
   ]
  },
  {
   "cell_type": "code",
   "execution_count": 57,
   "metadata": {},
   "outputs": [],
   "source": [
    "# 내가 푼 완성된 답안\n",
    "\n",
    "def solution(prices):\n",
    "    answer = [0] * len(prices)\n",
    "\n",
    "    for i in range(len(prices)):\n",
    "        for j in range(i, len(prices)):\n",
    "            if prices[i] <= prices[j]:\n",
    "                answer[i] += 1 \n",
    "            else:\n",
    "                answer[i] += 1\n",
    "                break\n",
    "        #if answer[i] != 0: <= 어차피 한번만 지나도 +=1 되기 때문에 0이 나타날 수 없으므로 없어도 되는 코드\n",
    "        answer[i] -= 1\n",
    "    return answer"
   ]
  },
  {
   "cell_type": "code",
   "execution_count": null,
   "metadata": {},
   "outputs": [],
   "source": [
    "# 다른 사람 풀이들--------------------------------------------------------------------------------------------------------------------"
   ]
  },
  {
   "cell_type": "code",
   "execution_count": null,
   "metadata": {},
   "outputs": [],
   "source": []
  },
  {
   "cell_type": "markdown",
   "metadata": {},
   "source": [
    "## 3. 힙"
   ]
  },
  {
   "cell_type": "markdown",
   "metadata": {},
   "source": [
    "3.1 더 맵게<br><br>\n",
    "\n",
    "- 문제 설명<br>\n",
    "\n",
    " 매운 것을 좋아하는 Leo는 모든 음식의 스코빌 지수를 K 이상으로 만들고 싶습니다. 모든 음식의 스코빌 지수를 K 이상으로 만들기 위해 Leo는 스코빌 지수가 가장 낮은 두 개의 음식을 아래와 같이 특별한 방법으로 섞어 새로운 음식을 만듭니다.\n",
    "\n",
    " 섞은 음식의 스코빌 지수 = 가장 맵지 않은 음식의 스코빌 지수 + (두 번째로 맵지 않은 음식의 스코빌 지수 * 2)\n",
    " \n",
    "  Leo는 모든 음식의 스코빌 지수가 K 이상이 될 때까지 반복하여 섞습니다.\n",
    "Leo가 가진 음식의 스코빌 지수를 담은 배열 scoville과 원하는 스코빌 지수 K가 주어질 때, 모든 음식의 스코빌 지수를 K 이상으로 만들기 위해 섞어야 하는 최소 횟수를 return 하도록 solution 함수를 작성해주세요.<br><br><br>\n",
    "\n",
    "- 제한 사항\n",
    "\n",
    " scoville의 길이는 2 이상 1,000,000 이하입니다.<br>\n",
    " K는 0 이상 1,000,000,000 이하입니다.<br>\n",
    " scoville의 원소는 각각 0 이상 1,000,000 이하입니다.<br>\n",
    " 모든 음식의 스코빌 지수를 K 이상으로 만들 수 없는 경우에는 -1을 return 합니다<br>\n",
    "<br><br> \n",
    "\n",
    "- 입출력 예<br><br>\n",
    "&nbsp;&nbsp;&nbsp;&nbsp;&nbsp;scoville&nbsp;&nbsp;&nbsp;&nbsp;&nbsp;&nbsp;&nbsp;&nbsp;&nbsp;&nbsp;&nbsp;&nbsp;&nbsp;&nbsp;&nbsp;&nbsp;&nbsp;&nbsp;&nbsp;&nbsp;&nbsp;&nbsp;&nbsp;&nbsp;&nbsp;&nbsp;&nbsp;&nbsp;\tK&nbsp;&nbsp;&nbsp;&nbsp;&nbsp;&nbsp;&nbsp;&nbsp;&nbsp;&nbsp;&nbsp;&nbsp;&nbsp;&nbsp;&nbsp;&nbsp;return<br>\n",
    "[1, 2, 3, 9, 10, 12]&nbsp;&nbsp;&nbsp;&nbsp;&nbsp;&nbsp;&nbsp;&nbsp;&nbsp;&nbsp;&nbsp;&nbsp;&nbsp;&nbsp;&nbsp;&nbsp;&nbsp;\t7&nbsp;&nbsp;&nbsp;&nbsp;&nbsp;&nbsp;&nbsp;&nbsp;&nbsp;&nbsp;&nbsp;&nbsp;&nbsp;&nbsp;&nbsp;&nbsp;&nbsp;&nbsp;&nbsp;\t2 <br><br><br>\n",
    "\n",
    "- 입출력 예 설명<br>\n",
    " 1. 스코빌 지수가 1인 음식과 2인 음식을 섞으면 음식의 스코빌 지수가 아래와 같이 됩니다.<br>\n",
    " 새로운 음식의 스코빌 지수 = 1 + (2 * 2) = 5<br>\n",
    " 가진 음식의 스코빌 지수 = [5, 3, 9, 10, 12]<br>\n",
    "<br>\n",
    " 2. 스코빌 지수가 3인 음식과 5인 음식을 섞으면 음식의 스코빌 지수가 아래와 같이 됩니다.<br>\n",
    "새로운 음식의 스코빌 지수 = 3 + (5 * 2) = 13<br>\n",
    "가진 음식의 스코빌 지수 = [13, 9, 10, 12]<br>\n"
   ]
  },
  {
   "cell_type": "markdown",
   "metadata": {},
   "source": [
    "파이썬에서 힙을 다루는 모듈이나 클래스<br>\n",
    "\n",
    "heapq 모듈 -> 모든 부모노드는 그의 자식 노드보다 값이 작거나 큰 이진트리 구조<br>\n",
    "queue모듈의 priorityQueue 클래스 <- 우선순위 큐<br>"
   ]
  },
  {
   "cell_type": "code",
   "execution_count": 67,
   "metadata": {},
   "outputs": [],
   "source": [
    "# 내가 푼 완성된 답안\n",
    "# 정확도 100\n",
    "# 효율성 100\n",
    "# 힙구조의 컨테이너를 사용할 수 있는 heapq를 사용해야 효율성이 100으로 나올 수 있음\n",
    "import heapq\n",
    "\n",
    "def solution(scoville, K):\n",
    "    answer = 0\n",
    "    heapq.heapify(scoville)\n",
    "    while scoville[0] < K:\n",
    "            heapq.heappush(scoville, (heapq.heappop(scoville) + (heapq.heappop(scoville)*2)))\n",
    "            answer += 1\n",
    "            if len(scoville) == 1:\n",
    "                break\n",
    "    \n",
    "    if scoville[0] < K:\n",
    "        return -1\n",
    "    \n",
    "    return answer\n",
    "\n",
    "\n",
    "# while문의 첫번째에서 \n",
    "# heapq.heappush(scoville, (scoville.pop(0) + (scoville.pop(0)*2)))\n",
    "# 이런식으로 쓰면 안됨.  \n",
    "# heapq는 최소값을 맨 앞에 놓기는 하지만 두번째 인덱스가 두번째로 가장 작은 값을 의미하지는 않음.\n",
    "# 때문에 heapq.heqppop()를 사용하면 최소값을 추출하는 동시에 삭제하면서\n",
    "# 다시 리스트를 힙구조에 맞게 재배치하기때문에 맨 앞에는 가장 작은 값이 오게 됨.\n",
    "# heapq.heqppop()를 사용해야 함.\n",
    "\n",
    "#------------------------------------------------------------------------\n",
    "a = [1, 2, 3, 9, 10, 12]\n",
    "b = 7\n",
    "solution(a, b)"
   ]
  },
  {
   "cell_type": "code",
   "execution_count": null,
   "metadata": {},
   "outputs": [],
   "source": [
    "# 나중에 다시 풀어본 것\n",
    "import heapq\n",
    "def solution(scovile, K):\n",
    "    heapq.heapify(scovile)\n",
    "    count = 0\n",
    "    while scovile:\n",
    "        a = heapq.heappop(scovile)\n",
    "        if a < K:\n",
    "            if scovile:\n",
    "                b = heapq.heappop(scovile)\n",
    "                heapq.heappush(scovile, a+(b*2))\n",
    "                count += 1\n",
    "            else: return -1\n",
    "        else: break\n",
    "    return count"
   ]
  },
  {
   "cell_type": "markdown",
   "metadata": {},
   "source": [
    "3.2 디스크 컨트롤러\n",
    "\n",
    "- 문제 설명\n",
    " \n",
    " 하드디스크는 한 번에 하나의 작업만 수행할 수 있습니다. 디스크 컨트롤러를 구현하는 방법은 여러 가지가 있습니다. 가장 일반적인 방법은 요청이 들어온 순서대로 처리하는 것입니다.\n",
    "\n",
    " 예를들어\n",
    " \n",
    " - 0ms 시점에 3ms가 소요되는 A작업 요청\n",
    " - 1ms 시점에 9ms가 소요되는 B작업 요청\n",
    " - 2ms 시점에 6ms가 소요되는 C작업 요청<br>\n",
    "\n",
    " 와 같은 요청이 들어왔습니다. 이를 그림으로 표현하면 아래와 같습니다.\n",
    " \n",
    " ![nn](38dc6a53-2d21-4c72-90ac-f059729c51d5.png)<br><br>\n",
    " \n",
    " 한 번에 하나의 요청만을 수행할 수 있기 때문에 각각의 작업을 요청받은 순서대로 처리하면 다음과 같이 처리 됩니다.\n",
    " \n",
    " ![nn](90b91fde-cac4-42c1-98b8-8f8431c52dcf.png)\n",
    " \n",
    " - A: 3ms 시점에 작업 완료 (요청에서 종료까지 : 3ms)\n",
    " - B: 1ms부터 대기하다가, 3ms 시점에 작업을 시작해서 12ms 시점에 작업 완료(요청에서 종료까지 : 11ms)\n",
    " - C: 2ms부터 대기하다가, 12ms 시점에 작업을 시작해서 18ms 시점에 작업 완료(요청에서 종료까지 : 16ms)<br><br>\n",
    " \n",
    " 이 때 각 작업의 요청부터 종료까지 걸린 시간의 평균은 10ms(= (3 + 11 + 16) / 3)가 됩니다.\n",
    "\n",
    " 하지만 A → C → B 순서대로 처리하면\n",
    " \n",
    " ![nn](a6cff04d-86bb-4b5b-98bf-6359158940ac.png)<br>\n",
    " \n",
    " - A: 3ms 시점에 작업 완료(요청에서 종료까지 : 3ms)\n",
    " - C: 2ms부터 대기하다가, 3ms 시점에 작업을 시작해서 9ms 시점에 작업 완료(요청에서 종료까지 : 7ms)\n",
    " - B: 1ms부터 대기하다가, 9ms 시점에 작업을 시작해서 18ms 시점에 작업 완료(요청에서 종료까지 : 17ms)<br><br>\n",
    " \n",
    " 이렇게 A → C → B의 순서로 처리하면 각 작업의 요청부터 종료까지 걸린 시간의 평균은 9ms(= (3 + 7 + 17) / 3)가 됩니다.\n",
    "\n",
    " 각 작업에 대해 [작업이 요청되는 시점, 작업의 소요시간]을 담은 2차원 배열 jobs가 매개변수로 주어질 때, 작업의 요청부터 종료까지 걸린 시간의 평균을 가장 줄이는 방법으로 처리하면 평균이 얼마가 되는지 return 하도록 solution 함수를 작성해주세요. (단, 소수점 이하의 수는 버립니다)<br><br><br>\n",
    " \n",
    "- 제한 사항<br>\n",
    " jobs의 길이는 1 이상 500 이하입니다.<br>\n",
    " jobs의 각 행은 하나의 작업에 대한 [작업이 요청되는 시점, 작업의 소요시간] 입니다.<br>\n",
    " 각 작업에 대해 작업이 요청되는 시간은 0 이상 1,000 이하입니다.<br>\n",
    " 각 작업에 대해 작업의 소요시간은 1 이상 1,000 이하입니다.<br>\n",
    " 하드디스크가 작업을 수행하고 있지 않을 때에는 먼저 요청이 들어온 작업부터 처리합니다.<br><br><br>\n",
    " \n",
    "- 입출력 예<br>\n",
    "&nbsp;&nbsp;&nbsp;&nbsp;&nbsp;&nbsp;&nbsp;&nbsp;&nbsp;&nbsp;&nbsp;&nbsp;&nbsp;jobs&nbsp;&nbsp;&nbsp;&nbsp;&nbsp;&nbsp;&nbsp;&nbsp;&nbsp;&nbsp;&nbsp;&nbsp;&nbsp;&nbsp;&nbsp;&nbsp;&nbsp;&nbsp;&nbsp;&nbsp;&nbsp;&nbsp;&nbsp;&nbsp;&nbsp;&nbsp;&nbsp;&nbsp;&nbsp;&nbsp;&nbsp;&nbsp;&nbsp;&nbsp;&nbsp;&nbsp;&nbsp;return<br>\n",
    "[[0, 3], [1, 9], [2, 6]]&nbsp;&nbsp;&nbsp;&nbsp;&nbsp;&nbsp;&nbsp;&nbsp;&nbsp;&nbsp;&nbsp;&nbsp;&nbsp;&nbsp;&nbsp;&nbsp;&nbsp;&nbsp;&nbsp;&nbsp;&nbsp;&nbsp;&nbsp;&nbsp;&nbsp;&nbsp;&nbsp;&nbsp;&nbsp;\t9<br><br><br>\n",
    "\n",
    "from itertools import permutations 는 모든 경우의 수를 구해줌<br>\n",
    "a = list(permutations(jobs)) 이런식으로 활용<br><br>\n",
    "\n",
    "a = [1,2,3,4]<br>\n",
    "b = list(permutations(a, 2))<br>\n",
    "이럴 경우 두개씩 경우의 수를 추출해줌.\n",
    "\n",
    "\n",
    "못풀었음..."
   ]
  },
  {
   "cell_type": "code",
   "execution_count": 105,
   "metadata": {},
   "outputs": [
    {
     "name": "stdout",
     "output_type": "stream",
     "text": [
      "9\n",
      "1\n",
      "4\n",
      "3\n",
      "10\n",
      "11\n"
     ]
    }
   ],
   "source": [
    "# 시도 1\n",
    "import copy\n",
    "import heapq\n",
    "\n",
    "def solution(jobs):\n",
    "\n",
    "    c = 0\n",
    "    result = []\n",
    "\n",
    "    while True:\n",
    "        a = 0 # 작업시간\n",
    "        b = 0 # 요청시간부터 완료까지\n",
    "        for i in range(len(jobs)): \n",
    "            a += jobs[i][1]\n",
    "            b += (a - jobs[i][0])\n",
    "\n",
    "        z = b//len(jobs)\n",
    "        heapq.heappush(result, z)\n",
    "\n",
    "        # 반전 시키기\n",
    "        jobs_reverse = copy.deepcopy(jobs)\n",
    "        jobs_reverse.reverse()\n",
    "\n",
    "        a = 0 # 작업시간\n",
    "        b = 0 # 요청시간부터 완료까지\n",
    "        for j in range(len(jobs_reverse)): \n",
    "            a += jobs_reverse[j][1]\n",
    "            b += (a - jobs_reverse[j][0])\n",
    "\n",
    "        z = b//len(jobs_reverse)\n",
    "        heapq.heappush(result, z)\n",
    "\n",
    "\n",
    "        jobs.append(jobs.pop(0))\n",
    "\n",
    "        c += 1\n",
    "\n",
    "        if c == len(jobs):\n",
    "            break\n",
    "\n",
    "    return heapq.heappop(result)\n",
    "\n",
    "print(solution([[0, 3], [1, 9], [2, 6]])) # 9\n",
    "print(solution([[0, 3], [4, 3], [10, 3]])) # 3\n",
    "print(solution([[0, 10], [4, 3], [9, 3]])) # 9\n",
    "print(solution([[1, 10], [3, 3], [10, 3]])) # 9\n",
    "print(solution([[0, 10]])) # 10\n",
    "print(solution([[0, 10], [4, 10], [5, 11], [15, 2]])) # 15"
   ]
  },
  {
   "cell_type": "code",
   "execution_count": 73,
   "metadata": {},
   "outputs": [
    {
     "name": "stdout",
     "output_type": "stream",
     "text": [
      "24\n",
      "15\n"
     ]
    }
   ],
   "source": [
    "# 시도 2\n",
    "from itertools import permutations\n",
    "import heapq\n",
    "\n",
    "def solution(jobs):\n",
    "    a = list(permutations(jobs))\n",
    "    print(len(a))\n",
    "\n",
    "    result = []\n",
    "    \n",
    "    for i in range(len(a)):\n",
    "        b = 0 # 총 작업시간\n",
    "        c = 0 # 요청시간부터 완료까지\n",
    "        for j in range(len(a[i])):  \n",
    "            if a[i][j][0] <= b:\n",
    "                b += a[i][j][1]\n",
    "                c += (b - a[i][j][0])\n",
    "                \n",
    "            else:\n",
    "                b = (a[i][j][0] + a[i][j][1])\n",
    "                c += (b - a[i][j][0])\n",
    "        result.append(c)\n",
    "\n",
    "    #heapq.heapify(result)\n",
    "    \n",
    "    return(min(result)//len(jobs))\n",
    "    \n",
    "#print(solution([[0, 3], [1, 9], [2, 6]])) # 9\n",
    "#print(solution([[0, 3], [4, 3], [10, 3]])) # 3\n",
    "#print(solution([[0, 10], [4, 3], [9, 3]])) # 9\n",
    "#print(solution([[1, 10], [3, 3], [10, 3]])) # 9\n",
    "#print(solution([[0, 10]])) # 10\n",
    "print(solution([[0, 10], [4, 10], [5, 11], [15, 2]])) # 15"
   ]
  },
  {
   "cell_type": "code",
   "execution_count": 124,
   "metadata": {},
   "outputs": [
    {
     "name": "stdout",
     "output_type": "stream",
     "text": [
      "jobs:  [[5, 11], [4, 10], [15, 2]]\n",
      "x, y:  0 10\n",
      "a, b:  10 10\n",
      "jobs:  [[4, 10], [15, 2]]\n",
      "x, y:  5 11\n",
      "a, b:  21 26\n",
      "jobs:  [[15, 2]]\n",
      "x, y:  4 10\n",
      "a, b:  31 53\n",
      "jobs:  []\n",
      "x, y:  15 2\n",
      "a, b:  33 71\n",
      "17\n"
     ]
    }
   ],
   "source": [
    "# 시도 3\n",
    "import heapq\n",
    "\n",
    "def solution(jobs):\n",
    "    \n",
    "    length = len(jobs)\n",
    "    heapq.heapify(jobs)\n",
    "\n",
    "    a = 0 # 0부터 총!!! 실행시간\n",
    "    b = 0 \n",
    "    \n",
    "    for i in range(len(jobs)):\n",
    "        x, y = heapq.heappop(jobs) # x = 요청시간, y = 실행시간\n",
    "        if x <= a:\n",
    "            a += y\n",
    "            b += (a - x)\n",
    "        \n",
    "        else:\n",
    "            a = (x + y)\n",
    "            b += (a - x)\n",
    "            \n",
    "        jobs.sort(key=lambda x : a+x[1] if x[0] <= a else x[0]+x[1])\n",
    "        print('jobs: ', jobs)\n",
    "        print('x, y: ', x, y)\n",
    "        print('a, b: ', a, b)\n",
    "            \n",
    "            \n",
    "    \n",
    "    return b//length\n",
    "    \n",
    "#print(solution([[0, 3], [1, 9], [2, 6]])) # 9\n",
    "#print(solution([[0, 3], [4, 3], [10, 3]])) # 3\n",
    "#print(solution([[0, 10], [4, 3], [9, 3]])) # 9\n",
    "#print(solution([[1, 10], [3, 3], [10, 3]])) # 9\n",
    "#print(solution([[0, 10]])) # 10\n",
    "print(solution([[0, 10], [4, 10], [5, 11], [15, 2]])) # 15\n",
    "#print(solution([[0, 3], [4, 7], [2, 6]]))"
   ]
  },
  {
   "cell_type": "code",
   "execution_count": null,
   "metadata": {},
   "outputs": [],
   "source": []
  },
  {
   "cell_type": "code",
   "execution_count": 31,
   "metadata": {},
   "outputs": [
    {
     "name": "stdout",
     "output_type": "stream",
     "text": [
      "[10, 0]\n",
      "[3, 4]\n",
      "[3, 9]\n",
      "8\n"
     ]
    }
   ],
   "source": [
    "# 내 통과코드...\n",
    "import heapq\n",
    "\n",
    "def solution(jobs):\n",
    "    length = len(jobs)\n",
    "    now = 0\n",
    "    queue = []\n",
    "    count = 0\n",
    "\n",
    "    heapq.heapify(jobs)\n",
    "    start = heapq.heappop(jobs)\n",
    "\n",
    "    if start[0] > now:\n",
    "        now = start[0]\n",
    "    \n",
    "    heapq.heappush(queue, [start[1], start[0]])\n",
    "\n",
    "    while True:\n",
    "        if queue:\n",
    "            a = heapq.heappop(queue)\n",
    "            now += a[0]\n",
    "            count += now - a[1]\n",
    "        else:\n",
    "            now += 1\n",
    "            \n",
    "        while jobs:\n",
    "            b = heapq.heappop(jobs)\n",
    "            if b[0] <= now:\n",
    "                heapq.heappush(queue, [b[1], b[0]])\n",
    "            else:\n",
    "                heapq.heappush(jobs, b)\n",
    "                break\n",
    "\n",
    "        if not jobs and not queue:\n",
    "            break\n",
    "            \n",
    "    return count//length\n",
    "\n",
    "#print(solution([[0, 3], [1, 9], [2, 6]])) # 9\n",
    "#print(solution([[0, 3], [4, 3], [10, 3]])) # 3\n",
    "print(solution([[0, 10], [4, 3], [9, 3]])) # 9\n",
    "#print(solution([[1, 10], [3, 3], [10, 3]])) # 9\n",
    "#print(solution([[0, 10]])) # 10\n",
    "#print(solution([[0, 10], [4, 10], [5, 11], [15, 2]])) # 15\n",
    "#print(solution([[0, 3], [4, 7], [2, 6]]))"
   ]
  },
  {
   "cell_type": "code",
   "execution_count": 1,
   "metadata": {},
   "outputs": [],
   "source": [
    "\n",
    "# 이 밑으로 다른 사람들 풀이-------------------------------------------------------------------------------------------------------"
   ]
  },
  {
   "cell_type": "code",
   "execution_count": 129,
   "metadata": {},
   "outputs": [
    {
     "name": "stdout",
     "output_type": "stream",
     "text": [
      "15\n"
     ]
    }
   ],
   "source": [
    "# 다른 사람 풀이 1\n",
    "\n",
    "from heapq import heapify, heappush, heappop\n",
    "\n",
    "def solution(jobs):\n",
    "    den = len(jobs)\n",
    "    time_now = 0\n",
    "    time_before = -1\n",
    "    num = 0\n",
    "    arr = []\n",
    "    check = 0\n",
    "    while check < len(jobs):\n",
    "        for j in jobs:\n",
    "            if time_before < j[0] <= time_now:\n",
    "                heappush(arr, [j[1], j[0]])\n",
    "        if arr:\n",
    "            now = heappop(arr)\n",
    "            time_before = time_now\n",
    "            time_now += now[0]\n",
    "            num += time_now-now[1]\n",
    "            check += 1\n",
    "        else: time_now += 1\n",
    "    return int(num / den)\n",
    "\n",
    "print(solution([[0, 10], [4, 10], [5, 11], [15, 2]])) # 15"
   ]
  },
  {
   "cell_type": "markdown",
   "metadata": {},
   "source": [
    "3.4 이중우선순위큐\n",
    "\n",
    "- 문제 설명<br>\n",
    "\n",
    " 이중 우선순위 큐는 다음 연산을 할 수 있는 자료구조를 말합니다.<br><br>\n",
    " \n",
    " \n",
    "- \n",
    "명령어&nbsp;&nbsp;&nbsp;&nbsp;&nbsp;&nbsp;&nbsp;&nbsp;&nbsp;&nbsp;&nbsp;&nbsp;&nbsp;&nbsp;&nbsp;&nbsp;&nbsp;&nbsp;&nbsp;&nbsp;&nbsp;&nbsp;&nbsp;&nbsp;&nbsp;&nbsp;&nbsp;수신 탑(높이)<br>\n",
    " &nbsp;&nbsp;&nbsp;I &nbsp;&nbsp;&nbsp;&nbsp;&nbsp;&nbsp;&nbsp;&nbsp;&nbsp;&nbsp;&nbsp;&nbsp;&nbsp;&nbsp;&nbsp;&nbsp;&nbsp;숫자\t큐에 주어진 숫자를 삽입합니다.<br>\n",
    " &nbsp;&nbsp;&nbsp;D 1&nbsp;&nbsp;&nbsp;&nbsp;&nbsp;&nbsp;&nbsp;&nbsp;&nbsp;&nbsp;&nbsp;&nbsp;&nbsp;&nbsp;&nbsp;&nbsp;&nbsp;\t큐에서 최댓값을 삭제합니다.<br>\n",
    " &nbsp;&nbsp;&nbsp;D -1&nbsp;&nbsp;&nbsp;&nbsp;&nbsp;&nbsp;&nbsp;&nbsp;&nbsp;&nbsp;&nbsp;&nbsp;&nbsp;&nbsp;&nbsp;&nbsp;&nbsp;\t큐에서 최솟값을 삭제합니다.<br>\n",
    " \n",
    " 이중 우선순위 큐가 할 연산 operations가 매개변수로 주어질 때, 모든 연산을 처리한 후 큐가 비어있으면 [0,0] 비어있지 않으면 [최댓값, 최솟값]을 return 하도록 solution 함수를 구현해주세요.<br><br>\n",
    " \n",
    " \n",
    "- 제한사항\n",
    "\n",
    " operations는 길이가 1 이상 1,000,000 이하인 문자열 배열입니다.<br>\n",
    " operations의 원소는 큐가 수행할 연산을 나타냅니다.<br>\n",
    " 원소는 “명령어 데이터” 형식으로 주어집니다.- 최댓값/최솟값을 삭제하는 연산에서 최댓값/최솟값이 둘 이상인 경우, 하나만 삭제합니다.<br>\n",
    " 빈 큐에 데이터를 삭제하라는 연산이 주어질 경우, 해당 연산은 무시합니다.<br><br> \n",
    " \n",
    " \n",
    "- 입출력 예<br>\n",
    " &nbsp;&nbsp;&nbsp;&nbsp;&nbsp;&nbsp;&nbsp;operations&nbsp;&nbsp;&nbsp;&nbsp;&nbsp;&nbsp;&nbsp;&nbsp;&nbsp;&nbsp;&nbsp;&nbsp;&nbsp;&nbsp;&nbsp;&nbsp;&nbsp;&nbsp;&nbsp;&nbsp;&nbsp;&nbsp;&nbsp;&nbsp;&nbsp;&nbsp;&nbsp;&nbsp;&nbsp;&nbsp;&nbsp;&nbsp;&nbsp;&nbsp;&nbsp;&nbsp;&nbsp;&nbsp;&nbsp;&nbsp;&nbsp;\treturn<br>\n",
    " &nbsp;&nbsp;&nbsp;&nbsp;&nbsp;&nbsp;&nbsp;[\"I 16\",\"D 1\"]&nbsp;&nbsp;&nbsp;&nbsp;&nbsp;&nbsp;&nbsp;&nbsp;&nbsp;&nbsp;&nbsp;&nbsp;&nbsp;&nbsp;&nbsp;&nbsp;&nbsp;&nbsp;&nbsp;&nbsp;&nbsp;&nbsp;&nbsp;&nbsp;&nbsp;&nbsp;&nbsp;&nbsp;&nbsp;&nbsp;&nbsp;&nbsp;&nbsp;&nbsp;&nbsp;&nbsp;&nbsp;&nbsp;&nbsp;&nbsp;[0,0]<br>\n",
    " [\"I 7\",\"I 5\",\"I -5\",\"D -1\"]&nbsp;&nbsp;&nbsp;&nbsp;&nbsp;&nbsp;&nbsp;&nbsp;&nbsp;&nbsp;&nbsp;&nbsp;&nbsp;&nbsp;&nbsp;&nbsp;&nbsp;&nbsp;&nbsp;&nbsp;&nbsp;&nbsp;&nbsp;&nbsp;&nbsp;&nbsp;&nbsp;&nbsp;&nbsp;&nbsp;\t[7,5]<br><br>\n",
    " \n",
    " \n",
    "- 입출력 예 설명\n",
    "    \n",
    " 16을 삽입 후 최댓값을 삭제합니다. 비어있으므로 [0,0]을 반환합니다.<br>\n",
    " 7,5,-5를 삽입 후 최솟값을 삭제합니다. 최대값 7, 최소값 5를 반환합니다."
   ]
  },
  {
   "cell_type": "code",
   "execution_count": 20,
   "metadata": {},
   "outputs": [],
   "source": [
    "import heapq\n",
    "\n",
    "def solution(operations):\n",
    "    a =[]\n",
    "    for i in operations:\n",
    "        if i[0] == 'I':\n",
    "            a.append(int(i[2:]))\n",
    "        else:\n",
    "            if a:\n",
    "                if i == \"D -1\":\n",
    "                    a.remove(min(a))\n",
    "                else:\n",
    "                    a.remove(max(a))\n",
    "\n",
    "    if a: return [max(a), min(a)]\n",
    "    else: return [0, 0] "
   ]
  },
  {
   "cell_type": "code",
   "execution_count": 100,
   "metadata": {},
   "outputs": [
    {
     "name": "stdout",
     "output_type": "stream",
     "text": [
      "[0, 0]\n",
      "[333, -45]\n"
     ]
    }
   ],
   "source": [
    "# 내가 푼 완성된 답안\n",
    "# 정확도 100\n",
    "# 단, 좀 더 코드를 줄일수 있는 방법 찾아보기\n",
    "\n",
    "import heapq\n",
    "\n",
    "def solution(operations):\n",
    "    answer = [0, 0] # 최종 리턴값\n",
    "    a = []\n",
    "    c = []\n",
    "    for i in operations:\n",
    "        b = i.split(\" \")\n",
    "        if b[0] == \"I\":\n",
    "            heapq.heappush(a, int(b[1]))\n",
    "            \n",
    "        elif b[0] == \"D\":\n",
    "            if len(a) > 0:\n",
    "                if b[1] == \"-1\":\n",
    "                    a.pop(a.index(min(a)))\n",
    "                elif b[1] == \"1\":\n",
    "                    a.pop(a.index(max(a))) # 최댓값의 인덱스를 활용하여 삭제하기 위해서 heapq를 사용하지 않은 상태로 삭제함... \n",
    "                \n",
    "    if len(a) > 1:\n",
    "        answer[0] = a[a.index(max(a))]\n",
    "        answer[1] = a[a.index(min(a))]\n",
    "\n",
    "        \n",
    "    return answer\n",
    "\n",
    "\n",
    "print(solution([\"I 16\", \"I -5643\", \"D -1\", \"D 1\", \"D 1\", \"I 123\", \"D -1\"]))\n",
    "print(solution([\"I -45\", \"I 653\", \"D 1\", \"I -642\", \"I 45\", \"I 97\", \"D 1\", \"D -1\", \"I 333\"]))"
   ]
  },
  {
   "cell_type": "markdown",
   "metadata": {},
   "source": [
    "## 4. 정렬"
   ]
  },
  {
   "cell_type": "markdown",
   "metadata": {},
   "source": [
    "4.1 k번째수\n",
    "\n",
    "- 문제 설명<br>\n",
    "배열 array의 i번째 숫자부터 j번째 숫자까지 자르고 정렬했을 때, k번째에 있는 수를 구하려 합니다.\n",
    "\n",
    " 예를 들어 array가 [1, 5, 2, 6, 3, 7, 4], i = 2, j = 5, k = 3이라면\n",
    " \n",
    " 1. array의 2번째부터 5번째까지 자르면 [5, 2, 6, 3]입니다.\n",
    " 2. 1에서 나온 배열을 정렬하면 [2, 3, 5, 6]입니다.\n",
    " 3. 2에서 나온 배열의 3번째 숫자는 5입니다.\n",
    " \n",
    " 배열 array, [i, j, k]를 원소로 가진 2차원 배열 commands가 매개변수로 주어질 때, commands의 모든 원소에 대해 앞서 설명한 연산을 적용했을 때 나온 결과를 배열에 담아 return 하도록 solution 함수를 작성해주세요.<br><br><br>\n",
    " \n",
    "- 제한사항<br>\n",
    " array의 길이는 1 이상 100 이하입니다.<br>\n",
    " array의 각 원소는 1 이상 100 이하입니다.<br>\n",
    " commands의 길이는 1 이상 50 이하입니다.<br>\n",
    " commands의 각 원소는 길이가 3입니다.<br>\n",
    " <br><br>\n",
    " \n",
    "- 입출력 예<br>\n",
    "&nbsp;&nbsp;&nbsp;&nbsp;&nbsp;&nbsp;&nbsp;&nbsp;&nbsp;&nbsp;&nbsp;&nbsp;array&nbsp;&nbsp;&nbsp;&nbsp;&nbsp;&nbsp;&nbsp;&nbsp;&nbsp;&nbsp;&nbsp;&nbsp;&nbsp;&nbsp;&nbsp;&nbsp;&nbsp;&nbsp;&nbsp;&nbsp;&nbsp;&nbsp;&nbsp;&nbsp;&nbsp;&nbsp;&nbsp;&nbsp;&nbsp;&nbsp;&nbsp;&nbsp;&nbsp;&nbsp;&nbsp;&nbsp;&nbsp;&nbsp;&nbsp;&nbsp;&nbsp;&nbsp;commands&nbsp;&nbsp;&nbsp;&nbsp;&nbsp;&nbsp;&nbsp;&nbsp;&nbsp;&nbsp;&nbsp;&nbsp;&nbsp;&nbsp;&nbsp;&nbsp;&nbsp;&nbsp;&nbsp;&nbsp;&nbsp;&nbsp;&nbsp;\treturn<br>\n",
    "[1, 5, 2, 6, 3, 7, 4]\t&nbsp;&nbsp;&nbsp;&nbsp;&nbsp;&nbsp;&nbsp;&nbsp;&nbsp;&nbsp;&nbsp;&nbsp;&nbsp;&nbsp;&nbsp;&nbsp;&nbsp;&nbsp;&nbsp;&nbsp;[[2, 5, 3], [4, 4, 1], [1, 7, 3]]&nbsp;&nbsp;&nbsp;&nbsp;&nbsp;&nbsp;&nbsp;&nbsp;&nbsp;&nbsp;&nbsp;&nbsp;&nbsp;\t[5, 6, 3]<br><br>\n",
    "\n",
    "\n",
    "- 입출력 예 설명<br>\n",
    " [1, 5, 2, 6, 3, 7, 4]를 2번째부터 5번째까지 자른 후 정렬합니다. [2, 3, 5, 6]의 세 번째 숫자는 5입니다.<br>\n",
    " [1, 5, 2, 6, 3, 7, 4]를 4번째부터 4번째까지 자른 후 정렬합니다. [6]의 첫 번째 숫자는 6입니다.<br>\n",
    " [1, 5, 2, 6, 3, 7, 4]를 1번째부터 7번째까지 자릅니다. [1, 2, 3, 4, 5, 6, 7]의 세 번째 숫자는 3입니다.<br><br><br>\n",
    " \n",
    "- 입출력 예 설명<br>\n",
    "문제에 주어진 예와 같습니다.<br>\n",
    "\n",
    " - 0ms 시점에 3ms 걸리는 작업 요청이 들어옵니다.\n",
    " - 1ms 시점에 9ms 걸리는 작업 요청이 들어옵니다.\n",
    " - 2ms 시점에 6ms 걸리는 작업 요청이 들어옵니다.\n"
   ]
  },
  {
   "cell_type": "code",
   "execution_count": null,
   "metadata": {},
   "outputs": [],
   "source": [
    "def solution(array, commands):\n",
    "    answer = []\n",
    "    for i in commands:\n",
    "        a = sorted(array[i[0]-1:(i[1])])\n",
    "        answer.append(a[i[2]-1])\n",
    "    return answer"
   ]
  },
  {
   "cell_type": "markdown",
   "metadata": {},
   "source": [
    "2. 가장 큰 수\n",
    " - [0, 0]이 제시될 경우, 한번 int로 변환후 str로 다시 변환하지 않으면 답으로 \"00\"이 나오므로 꼭 최종적으로 int형으로 변환 후 다시 str변환하는 과정이 필요"
   ]
  },
  {
   "cell_type": "code",
   "execution_count": null,
   "metadata": {},
   "outputs": [],
   "source": [
    "def solution(a):\n",
    "    return str(int(''.join([str(i) for i in sorted(a, key = lambda x:(str(x)*4)[:4], reverse=True)])))"
   ]
  },
  {
   "cell_type": "code",
   "execution_count": null,
   "metadata": {},
   "outputs": [],
   "source": [
    "# 나중에 다시 풀어본 거\n",
    "def solution(numbers):\n",
    "    return str(int(\"\".join(sorted(list(map(lambda x: str(x), numbers)), key=lambda x : (str(x)*4)[:4], reverse=True))))"
   ]
  },
  {
   "cell_type": "markdown",
   "metadata": {},
   "source": [
    "3. H - Index"
   ]
  },
  {
   "cell_type": "code",
   "execution_count": 41,
   "metadata": {},
   "outputs": [],
   "source": [
    "def solution(citations):\n",
    "    citations.sort()\n",
    "    a = [0]\n",
    "    for i in range(len(citations)):\n",
    "        c = 0\n",
    "        for j in range(len(citations)):\n",
    "            if (i+1) <= citations[j]:\n",
    "                c+=1\n",
    "        \n",
    "        if c >= i+1:\n",
    "            a.append(i+1)\n",
    "    return max(a)"
   ]
  },
  {
   "cell_type": "code",
   "execution_count": null,
   "metadata": {},
   "outputs": [],
   "source": [
    "# ----------- 다른 사람 풀이 ----------------------------------------------"
   ]
  },
  {
   "cell_type": "code",
   "execution_count": null,
   "metadata": {},
   "outputs": [],
   "source": [
    "def solution(citations):\n",
    "    citations.sort(reverse=True)\n",
    "    answer = max(map(min, enumerate(citations, start=1)))\n",
    "    return answer"
   ]
  },
  {
   "cell_type": "markdown",
   "metadata": {},
   "source": [
    "## 5. 완전탐색"
   ]
  },
  {
   "cell_type": "markdown",
   "metadata": {},
   "source": [
    "5.1 모의고사\n",
    "\n",
    "- 문제 설명\n",
    "\n",
    " 수포자는 수학을 포기한 사람의 준말입니다. 수포자 삼인방은 모의고사에 수학 문제를 전부 찍으려 합니다. 수포자는 1번 문제부터 마지막 문제까지 다음과 같이 찍습니다.\n",
    "\n",
    " 1번 수포자가 찍는 방식: 1, 2, 3, 4, 5, 1, 2, 3, 4, 5, ...<br>\n",
    " 2번 수포자가 찍는 방식: 2, 1, 2, 3, 2, 4, 2, 5, 2, 1, 2, 3, 2, 4, 2, 5, ...<br>\n",
    " 3번 수포자가 찍는 방식: 3, 3, 1, 1, 2, 2, 4, 4, 5, 5, 3, 3, 1, 1, 2, 2, 4, 4, 5, 5, ...<br>\n",
    " \n",
    "  1번 문제부터 마지막 문제까지의 정답이 순서대로 들은 배열 answers가 주어졌을 때, 가장 많은 문제를 맞힌 사람이 누구인지 배열에 담아 return 하도록 solution 함수를 작성해주세요.<br><br><br>\n",
    "  \n",
    "- 제한 조건\n",
    "\n",
    " 시험은 최대 10,000 문제로 구성되어있습니다.<br>\n",
    " 문제의 정답은 1, 2, 3, 4, 5중 하나입니다.<br>\n",
    " 가장 높은 점수를 받은 사람이 여럿일 경우, return하는 값을 오름차순 정렬해주세요.<br><br><br>\n",
    " \n",
    "- 입출력 예\n",
    "\n",
    "&nbsp;&nbsp;&nbsp;&nbsp;&nbsp;answers\t&nbsp;&nbsp;&nbsp;&nbsp;&nbsp;&nbsp;&nbsp;&nbsp;&nbsp;&nbsp;&nbsp;&nbsp;&nbsp;&nbsp;&nbsp;&nbsp;&nbsp;&nbsp;&nbsp;&nbsp;return<br>\n",
    "&nbsp;&nbsp;&nbsp;&nbsp;[1,2,3,4,5]&nbsp;&nbsp;&nbsp;&nbsp;&nbsp;&nbsp;&nbsp;&nbsp;&nbsp;&nbsp;&nbsp;&nbsp;&nbsp;&nbsp;&nbsp;&nbsp;&nbsp;&nbsp;&nbsp;&nbsp;&nbsp;\t[1]<br>\n",
    "&nbsp;&nbsp;&nbsp;&nbsp;[1,3,2,4,2]&nbsp;&nbsp;&nbsp;&nbsp;&nbsp;&nbsp;&nbsp;&nbsp;&nbsp;&nbsp;&nbsp;&nbsp;&nbsp;&nbsp;&nbsp;&nbsp;&nbsp;&nbsp;\t[1,2,3]<br><br><br>\n",
    "\n",
    "- 입출력 예 설명\n",
    "\n",
    " 입출력 예 #1\n",
    "\n",
    " 수포자 1은 모든 문제를 맞혔습니다.<br>\n",
    " 수포자 2는 모든 문제를 틀렸습니다.<br>\n",
    " 수포자 3은 모든 문제를 틀렸습니다.<br>\n",
    " 따라서 가장 문제를 많이 맞힌 사람은 수포자 1입니다.\n",
    "\n",
    " 입출력 예 #2\n",
    "\n",
    " 모든 사람이 2문제씩을 맞췄습니다."
   ]
  },
  {
   "cell_type": "code",
   "execution_count": 69,
   "metadata": {},
   "outputs": [],
   "source": [
    "# 내가 푼 거\n",
    "def solution(answers):\n",
    "    a = [[1, 2, 3, 4, 5], [2,1,2,3,2,4,2,5], [3,3,1,1,2,2,4,4,5,5]]\n",
    "    re = []\n",
    "    for i in a:\n",
    "        count = 0\n",
    "        i = i * (10000 - len(i))\n",
    "        for j, z in zip(answers, i):\n",
    "            if j == z: count += 1\n",
    "        re.append(count)\n",
    "    print(re)\n",
    "    aa = [i+1 for i in range(len(re)) if re[i] == max(re)] \n",
    "    return aa"
   ]
  },
  {
   "cell_type": "code",
   "execution_count": null,
   "metadata": {},
   "outputs": [],
   "source": [
    "# 다른 사람 풀이\n",
    "def solution(answers):\n",
    "    p = [[1, 2, 3, 4, 5],\n",
    "         [2, 1, 2, 3, 2, 4, 2, 5],\n",
    "         [3, 3, 1, 1, 2, 2, 4, 4, 5, 5]]\n",
    "    s = [0] * len(p)\n",
    "\n",
    "    for q, a in enumerate(answers):\n",
    "        for i, v in enumerate(p):\n",
    "            if a == v[q % len(v)]:\n",
    "                s[i] += 1\n",
    "    return [i + 1 for i, v in enumerate(s) if v == max(s)]"
   ]
  },
  {
   "cell_type": "markdown",
   "metadata": {},
   "source": [
    "5.2 소수찾기\n",
    "\n",
    "- 문제 설명\n",
    "\n",
    " 한자리 숫자가 적힌 종이 조각이 흩어져있습니다. 흩어진 종이 조각을 붙여 소수를 몇 개 만들 수 있는지 알아내려 합니다.\n",
    "\n",
    " 각 종이 조각에 적힌 숫자가 적힌 문자열 numbers가 주어졌을 때, 종이 조각으로 만들 수 있는 소수가 몇 개인지 return 하도록 solution 함 수를 완성해주세요.<br><br><br>\n",
    " \n",
    "- 제한사항\n",
    "\n",
    " numbers는 길이 1 이상 7 이하인 문자열입니다.<br>\n",
    " numbers는 0~9까지 숫자만으로 이루어져 있습니다.<br>\n",
    " \"013\"은 0, 1, 3 숫자가 적힌 종이 조각이 흩어져있다는 의미입니다.<br><br><br>\n",
    " \n",
    "- 입출력 예\n",
    "\n",
    "&nbsp;&nbsp;&nbsp;&nbsp;&nbsp; numbers&nbsp;&nbsp;&nbsp;&nbsp;&nbsp;&nbsp;&nbsp;&nbsp;&nbsp;&nbsp;&nbsp;&nbsp;&nbsp;&nbsp;\treturn<br>\n",
    "&nbsp;&nbsp;&nbsp;&nbsp;&nbsp;&nbsp;&nbsp;&nbsp;&nbsp; \"17\"&nbsp;&nbsp;&nbsp;&nbsp;&nbsp;&nbsp;&nbsp;&nbsp;&nbsp;&nbsp;&nbsp;&nbsp;&nbsp;&nbsp;&nbsp;\n",
    "&nbsp;&nbsp;&nbsp;&nbsp;&nbsp;&nbsp;3<br>\n",
    "&nbsp;&nbsp;&nbsp;&nbsp;&nbsp;&nbsp;&nbsp;&nbsp;&nbsp; \"011\"&nbsp;&nbsp;&nbsp;&nbsp;&nbsp;&nbsp;&nbsp;&nbsp;&nbsp;&nbsp;&nbsp;&nbsp;&nbsp;&nbsp;&nbsp;&nbsp;&nbsp;&nbsp;&nbsp;\t2<br><br><br>\n",
    "\n",
    "- 입출력 예 설명\n",
    "\n",
    " 예제 #1<br>\n",
    " [1, 7]으로는 소수 [7, 17, 71]를 만들 수 있습니다.<br>\n",
    "\n",
    " 예제 #2<br>\n",
    " [0, 1, 1]으로는 소수 [11, 101]를 만들 수 있습니다.<br>\n",
    " 11과 011은 같은 숫자로 취급합니다.\n",
    " \n",
    " "
   ]
  },
  {
   "cell_type": "code",
   "execution_count": 99,
   "metadata": {},
   "outputs": [],
   "source": [
    "# 내가 푼 거\n",
    "from itertools import permutations\n",
    "def solution(numbers):\n",
    "    def demical(b):\n",
    "        if b ==1 or b == 0:\n",
    "            return False\n",
    "        for i in range(2, b):\n",
    "            if b % i == 0:\n",
    "                return False\n",
    "        return True\n",
    "\n",
    "\n",
    "    answer = []\n",
    "    for i in range(1, len(numbers)+1):\n",
    "        a = list(set(map(''.join, permutations(numbers, i))))\n",
    "        for j in a:\n",
    "            if demical(int(j)):\n",
    "                answer.append(int(j))\n",
    "    return len(set(answer))"
   ]
  },
  {
   "cell_type": "code",
   "execution_count": 195,
   "metadata": {},
   "outputs": [
    {
     "name": "stdout",
     "output_type": "stream",
     "text": [
      "2\n",
      "3\n"
     ]
    }
   ],
   "source": [
    "# 내가 푼 완성된 답\n",
    "# 정확도 100\n",
    "\n",
    "# from itertools import permutations 사용하지 않고 풀어보기\n",
    "\n",
    "# 리턴 값은 리스트이며, 원소는 int형인 함수\n",
    "# 경우의 수를 모두 도출하는 함수(noc)\n",
    "def noc(count, numbers): # count는 len(numbers)를 -1씩 해가면서 재귀함수를 호출하기 위해서 사용함.\n",
    "    if count > 0:                       # count는 가장 처음 호출할 때 len(numbers)-1 부터 호출할 것.\n",
    "        count, answer = noc(count-1, numbers)\n",
    "        b = {}\n",
    "        \n",
    "        for i in range(len(numbers)):\n",
    "            for j in count:\n",
    "                if str(i) not in j:\n",
    "                    b[str(i)+j] = numbers[i] + count[j]\n",
    "                    answer.append(int(numbers[i] + count[j]))\n",
    "        return b, answer\n",
    "    \n",
    "    else: \n",
    "        one = {}\n",
    "        answer = []\n",
    "        for i in range(len(numbers)):\n",
    "            one[str(i)] = numbers[i]\n",
    "            answer.append(int(numbers[i]))\n",
    "        return one, answer\n",
    "\n",
    "    \n",
    "def solution(numbers):\n",
    "    numbers_ls = list(numbers) # str인 numbers를 리스트로 저장(한 글자당 하나의 원소로 저장됨)\n",
    "    a,b = noc((len(numbers_ls)-1), numbers_ls)\n",
    "    \n",
    "    # 뽑아낸 b중에서 중복값 삭제\n",
    "    # set은 중복을 허용하지 않기 때문에 set으로 변환하면 중복된 값들은 하나의 값만 남고 삭제됨\n",
    "    # 그 후 다시 리스트로 변환\n",
    "    c_set = set(b)\n",
    "    b = list(c_set)\n",
    "\n",
    "    i = 0\n",
    "    while True:     \n",
    "        if b[i] <= 1:\n",
    "            del(b[i])\n",
    "            continue # 원소가 1 또는 0이면 삭제한 후에 그 밑으론 실행하지 않고, while문의 처음으로 돌아감. \n",
    "                      # 때문에 i+=1 또는 i-=1은 필요 없음.  \n",
    "        for j in range(2, b[i]):\n",
    "            if b[i] > 0 and b[i] % j == 0:\n",
    "                del(b[i])\n",
    "                i -= 1\n",
    "                break\n",
    "        i += 1\n",
    "        if i == len(b):\n",
    "            break\n",
    "            \n",
    "    \n",
    "    return len(b)\n",
    "#---------------------------------------------------------------------------------------------------------------------------\n",
    "print(solution('011'))\n",
    "print(solution(\"17\"))\n",
    "\n",
    "#----------------------------------------------------------------------------------------------------------------------\n",
    "# 한계 : 여기서는 numbers가 7자리 이하로만 된다고 상한선을 두었지만, \n",
    "# 내 풀이는 알고리즘 상 10자리 이상이되면 경우의 수를 모두 찾아낼 수 없음.\n",
    "# 때문에 10자리 이하에서만 가능"
   ]
  },
  {
   "cell_type": "code",
   "execution_count": null,
   "metadata": {},
   "outputs": [],
   "source": [
    "# --- 다른 사람 풀이들-----------------------------------------------------------------------------------------------------------------"
   ]
  },
  {
   "cell_type": "code",
   "execution_count": null,
   "metadata": {},
   "outputs": [],
   "source": [
    "# 다른 사람 풀이 1 \n",
    "from itertools import permutations\n",
    "def solution(n):\n",
    "    a = set() # set은 중복허용이 안되기 때문에 처음부터 set으로 선언\n",
    "    for i in range(len(n)):\n",
    "        a |= set(map(int, map(\"\".join, permutations(list(n), i + 1)))) # |= :비트 연산자. 맨 밑 참조.\n",
    "                                                                       # i+1의 경우의 수들을 다 구함. 즉, len(n)P1, len(n)P2 ... len(n)! \n",
    "    # 0, 1은 소수가 아니므로 삭제({0,1}을 빼준다)\n",
    "    a -= set(range(0, 2))\n",
    "    # a의 최대값의 제곱근까지만 for문을 돌린다.\n",
    "    # 이유는 첫번째로 만약 최대값이 12라면 2*6 이나 6*2나 같다. 때문에 제곱근으로 나뉜 후 반쪽 범위(제곱근보다 낮은 수들)만 계산해줘도 \n",
    "    # 똑같이 약수가 존재하는지 판별이 가능하다. 또한 최대값보다 작은 값들의 약수는 최대값의 약수보다 작을 것이기 때문에 마찬가지고 최대값의\n",
    "    # 제곱근보다 작은 범위 안에 존재할 것이기 때문이다\n",
    "    for i in range(2, int(max(a) ** 0.5) + 1):\n",
    "        # 현재 i의 배수들을 set(range(i * 2, max(a) + 1, i))를 통해서 하나의 세트에 담는다\n",
    "        # 그 후 이것과 기존의 a와 비교해서 a에 있는 값이 i의 배수들이 들어있는 세트에도 있다면 제거해준다. \n",
    "        # 또한 i*2를 해주지 않으면 i*1도 세트에 들어가게 된다.\n",
    "        # 그렇게되면 약수가 존재하지 않는 수(2, 3과 같은 수들)임에도 1을 곱한 것 때문에 약수가 존재하는 것처럼 되므로 \n",
    "        # *2를 해줘서 꼭 배수만 넣어준다. \n",
    "        a -= set(range(i * 2, max(a) + 1, i))\n",
    "    return len(a)\n",
    "\n",
    "# a |= b : 비트 OR 연산 후 할당\n",
    "# a와 b의 비트를 OR 연산한 후 결과를 a에 할당\n",
    "# set이나 list를 초기값 할당한 후에 그 시퀀스에 모든 경우의 수를 저장하기 위해서 != 를 사용함\n",
    "# 만약 != 가 아니라 =를 사용하면 맨 높은 자리의 경우의 수, 즉 제일 마지막에 수행된 경우의 수들만 저장됨. \n",
    "\n",
    "\n",
    "# 근데 왜 첫 for문에서 비트 연산자를 써야 했을까??\n",
    "# 첫 for문에서 비트 연산자를 지우면 0,1 이 삭제된 채로 a에 저장됨. \n",
    "\n",
    "# permutations을 사용하면\n",
    "# a = ['1',2','3'] 일 경우\n",
    "# [('1', '2'), ('1', '3'), ('2', '1'), ('2', '3'), ('3', '1'), ('3', '2')] 이런식으로 뽑아내기 때문에\n",
    "# 튜플의 원소들을 합쳐서 ['12', '13', '21' ...] 이런식으로 뽑아내기 위해서 \"\".join을 사용한 것\n",
    "# join함수는 \"구분자\".join(리스트(혹은 다른 시퀀스))로 사용할 수 있음.\n",
    "# a = ['1','2','3']\n",
    "# \"\".join(a) =>> '123'\n",
    "# \"-\".join(a) =>> '1-2-3' 이런식으로 뽑아준다.\n",
    "# 때문에 map(함수, 리스트)로 하면 리스트의 각각의 원소에 함수를 적용해주기 때문에\n",
    "# map(join함수, permutations 함수로 뽑아낸 리스트) 형태가 된 것임."
   ]
  },
  {
   "cell_type": "code",
   "execution_count": 1,
   "metadata": {},
   "outputs": [
    {
     "name": "stdout",
     "output_type": "stream",
     "text": [
      "union2:  {1, 2, 3, 5, 6, 7}\n"
     ]
    }
   ],
   "source": [
    "# 위의 |= 설명\n",
    "union2 = {1,2,3,5}\n",
    "union2 |= set({2,3,5,6,7})\n",
    "print(\"union2: \", union2)"
   ]
  },
  {
   "cell_type": "code",
   "execution_count": null,
   "metadata": {},
   "outputs": [],
   "source": [
    "    a -= set(range(0, 2))\n",
    "    for i in range(2, int(max(a) ** 0.5) + 1):\n",
    "        a -= set(range(i * 2, max(a) + 1, i))\n",
    "    return len(a)\n",
    "# 이 부분은 소수를 구함에 있어서 제곱근 범위 기법(?)을 사용한 것 같다\n",
    "# 제곱근 범위 나누기법: 소수 여부를 검사할 수에 대해서 그 값의 제곱근을 기준으로 그 곱은 대칭적으로\n",
    "#                       곱이 일어나므로 제곱근 이하의 작은 값까지만 검사를 하면 나머지를 \n",
    "#                       검사할 필요가 없다는 방법"
   ]
  },
  {
   "cell_type": "markdown",
   "metadata": {},
   "source": [
    "6.3 카펫\n",
    "\n",
    "- 문제 설명\n",
    "\n",
    " Leo는 카펫을 사러 갔다가 아래 그림과 같이 중앙에는 노란색으로 칠해져 있고 테두리 1줄은 갈색으로 칠해져 있는 격자 모양 카펫을 봤습니다.\n",
    "\n",
    "![nn](carpet.png)<br>\n",
    "\n",
    " Leo는 집으로 돌아와서 아까 본 카펫의 노란색과 갈색으로 색칠된 격자의 개수는 기억했지만, 전체 카펫의 크기는 기억하지 못했습니다.\n",
    "\n",
    " Leo가 본 카펫에서 갈색 격자의 수 brown, 노란색 격자의 수 yellow가 매개변수로 주어질 때 카펫의 가로, 세로 크기를 순서대로 배열에 담아 return 하도록 solution 함수를 작성해주세요.<br><br><br>\n",
    "\n",
    "- 제한사항\n",
    "\n",
    " 갈색 격자의 수 brown은 8 이상 5,000 이하인 자연수입니다.<br>\n",
    " 노란색 격자의 수 yellow는 1 이상 2,000,000 이하인 자연수입니다.<br>\n",
    " 카펫의 가로 길이는 세로 길이와 같거나, 세로 길이보다 깁니다.<br><br><br>\n",
    " \n",
    "- 입출력 예\n",
    "\n",
    " brown&nbsp;&nbsp;&nbsp;&nbsp;&nbsp;&nbsp;&nbsp;&nbsp;&nbsp;\tyellow&nbsp;&nbsp;&nbsp;&nbsp;&nbsp;&nbsp;&nbsp;&nbsp;&nbsp;&nbsp;\treturn<br>10&nbsp;&nbsp;&nbsp;&nbsp;&nbsp;&nbsp;&nbsp;&nbsp;&nbsp;&nbsp;&nbsp;&nbsp;&nbsp;&nbsp;&nbsp;&nbsp;2&nbsp;&nbsp;&nbsp;&nbsp;&nbsp;&nbsp;&nbsp;&nbsp;&nbsp;&nbsp;&nbsp;&nbsp;&nbsp;&nbsp;&nbsp;&nbsp;\t[4, 3]<br>\n",
    "8&nbsp;&nbsp;&nbsp;&nbsp;&nbsp;&nbsp;&nbsp;&nbsp;&nbsp;&nbsp;&nbsp;&nbsp;&nbsp;&nbsp;&nbsp;&nbsp;&nbsp;\t1&nbsp;&nbsp;&nbsp;&nbsp;&nbsp;&nbsp;&nbsp;&nbsp;&nbsp;&nbsp;&nbsp;&nbsp;&nbsp;&nbsp;&nbsp;&nbsp;\t[3, 3]<br>\n",
    "24&nbsp;&nbsp;&nbsp;&nbsp;&nbsp;&nbsp;&nbsp;&nbsp;&nbsp;&nbsp;&nbsp;&nbsp;&nbsp;&nbsp;&nbsp;\t24\t&nbsp;&nbsp;&nbsp;&nbsp;&nbsp;&nbsp;&nbsp;&nbsp;&nbsp;&nbsp;&nbsp;&nbsp;&nbsp;&nbsp;[8, 6]\n"
   ]
  },
  {
   "cell_type": "code",
   "execution_count": 105,
   "metadata": {},
   "outputs": [],
   "source": [
    "# 내가 푼 답안\n",
    "# yellow와 brown의 합으로 만들어질 수 있는 매트릭스의 모든 경우의 수 구하기0\n",
    "def measure(a):\n",
    "    b = 2\n",
    "    c = []\n",
    "    while a >= b:\n",
    "        if a % b == 0 and b <= a//b:\n",
    "            c.append([a//b, b])\n",
    "        b += 1\n",
    "    return c\n",
    "\n",
    "def solution(brown, yellow):\n",
    "    a = measure(yellow+brown)\n",
    "    for i in a:\n",
    "        print(i)\n",
    "        if i[0]*2 + (i[1]-2)*2 == brown:\n",
    "            return i\n",
    "\n"
   ]
  },
  {
   "cell_type": "code",
   "execution_count": 106,
   "metadata": {},
   "outputs": [
    {
     "data": {
      "text/plain": [
       "[[2, 6], [3, 4], [4, 3], [6, 2], [12, 1]]"
      ]
     },
     "execution_count": 106,
     "metadata": {},
     "output_type": "execute_result"
    }
   ],
   "source": [
    "measure(10+2)"
   ]
  },
  {
   "cell_type": "code",
   "execution_count": null,
   "metadata": {},
   "outputs": [],
   "source": [
    "# ----------------------다른 사람들이 푼 풀이 --------------------------------------------------------------------------------------"
   ]
  },
  {
   "cell_type": "code",
   "execution_count": 20,
   "metadata": {},
   "outputs": [
    {
     "name": "stdout",
     "output_type": "stream",
     "text": [
      "4\n"
     ]
    },
    {
     "data": {
      "text/plain": [
       "[4, 3]"
      ]
     },
     "execution_count": 20,
     "metadata": {},
     "output_type": "execute_result"
    }
   ],
   "source": [
    "# 다른 사람이 푼 풀이\n",
    "def solution(brown, red):\n",
    "    for i in range(1, int(red**(1/2))+1):\n",
    "        if red % i == 0:\n",
    "            if 2*(i + red//i) == brown-4:\n",
    "                print(red//i+2)\n",
    "                return [red//i+2, i+2]\n",
    "solution(10, 2)"
   ]
  },
  {
   "cell_type": "code",
   "execution_count": 301,
   "metadata": {},
   "outputs": [
    {
     "name": "stdout",
     "output_type": "stream",
     "text": [
      "4\n"
     ]
    },
    {
     "data": {
      "text/plain": [
       "[4, 3]"
      ]
     },
     "execution_count": 301,
     "metadata": {},
     "output_type": "execute_result"
    }
   ],
   "source": [
    "# 다른 사람이 푼 풀이2\n",
    "# 근의 공식 이용\n",
    "import math\n",
    "def solution(brown, yellow):\n",
    "    w = ((brown+4)/2 + math.sqrt(((brown+4)/2)**2-4*(brown+yellow)))/2\n",
    "    h = ((brown+4)/2 - math.sqrt(((brown+4)/2)**2-4*(brown+yellow)))/2\n",
    "    return [w,h]"
   ]
  },
  {
   "cell_type": "code",
   "execution_count": 299,
   "metadata": {},
   "outputs": [
    {
     "data": {
      "text/plain": [
       "0"
      ]
     },
     "execution_count": 299,
     "metadata": {},
     "output_type": "execute_result"
    }
   ],
   "source": []
  },
  {
   "cell_type": "markdown",
   "metadata": {},
   "source": [
    "## 6. 정렬"
   ]
  },
  {
   "cell_type": "markdown",
   "metadata": {},
   "source": [
    "6.1 k번째 수"
   ]
  },
  {
   "cell_type": "code",
   "execution_count": 597,
   "metadata": {},
   "outputs": [
    {
     "data": {
      "text/plain": [
       "[5, 6, 3]"
      ]
     },
     "execution_count": 597,
     "metadata": {},
     "output_type": "execute_result"
    }
   ],
   "source": [
    "array = [1, 5, 2, 6, 3, 7, 4]\n",
    "commands = [[2, 5, 3], [4, 4, 1], [1, 7, 3]]\n",
    "answer = []\n",
    "for i in commands:\n",
    "    a = sorted(array[i[0]-1:(i[1])])\n",
    "    answer.append(a[i[2]-1])\n",
    "answer"
   ]
  },
  {
   "cell_type": "markdown",
   "metadata": {},
   "source": [
    "6.2 가장 큰 수\n",
    "\n",
    " - 결국 못 풀었음..."
   ]
  },
  {
   "cell_type": "code",
   "execution_count": null,
   "metadata": {},
   "outputs": [],
   "source": [
    "# 후에 풀어봄\n",
    "def solution(a):\n",
    "    answer = ''\n",
    "    for i in range(len(a)):\n",
    "        a[i] = [(str(a[i])*4)[:4], str(a[i])]\n",
    "\n",
    "    a.sort(reverse=True)\n",
    "    for i in a:\n",
    "        answer+= i[1]\n",
    "    return str(int(answer))"
   ]
  },
  {
   "cell_type": "code",
   "execution_count": 56,
   "metadata": {},
   "outputs": [
    {
     "data": {
      "text/plain": [
       "'9534330'"
      ]
     },
     "execution_count": 56,
     "metadata": {},
     "output_type": "execute_result"
    }
   ],
   "source": [
    "def solution(a):\n",
    "    return str(int(''.join([str(i) for i in sorted(a, key = lambda x:(str(x)*4)[:4], reverse=True)])))"
   ]
  },
  {
   "cell_type": "code",
   "execution_count": null,
   "metadata": {},
   "outputs": [],
   "source": [
    "# ------다른 사람 풀이들 ------------------------------------------------------------------------------------------------------"
   ]
  },
  {
   "cell_type": "code",
   "execution_count": 9,
   "metadata": {},
   "outputs": [
    {
     "name": "stdout",
     "output_type": "stream",
     "text": [
      "['3', '30', '34', '5', '9', '3452']\n",
      "['9', '5', '3452', '34', '3', '30']\n"
     ]
    },
    {
     "data": {
      "text/plain": [
       "'95345234330'"
      ]
     },
     "execution_count": 9,
     "metadata": {},
     "output_type": "execute_result"
    }
   ],
   "source": [
    "# 다른 사람 풀이 1\n",
    "\n",
    "# 만약 [6, 10, 2]를 넣으면\n",
    "# 각각의 원소에 문자열로 *3을 해줌 => ['666', '101010', '222']가 됨\n",
    "# 여기서 문자열로 정렬을 하게되면 ['666', '222', '101010'] 순이 됨\n",
    "# 이유는 문자열 비교연산의 경우엔 첫번째 인덱스인 666[0]인 6과 101010[0]인 1과 222[0]인 2를 ascii숫자로 바꿔서 비교.\n",
    "# 물론 같으면, 다음 인덱스도 비교합니다\n",
    "def solution(numbers):\n",
    "    numbers = list(map(str, numbers))\n",
    "    print(numbers)\n",
    "    numbers.sort(key=lambda x: x*3, reverse=True)\n",
    "    print(numbers)\n",
    "    return str(int(''.join(numbers)))\n",
    "\n",
    "solution([3, 30, 34, 5, 9, 3452])"
   ]
  },
  {
   "cell_type": "code",
   "execution_count": 7,
   "metadata": {},
   "outputs": [
    {
     "data": {
      "text/plain": [
       "'999'"
      ]
     },
     "execution_count": 7,
     "metadata": {},
     "output_type": "execute_result"
    }
   ],
   "source": [
    "# 다른 사람 풀이 2\n",
    "import functools\n",
    "\n",
    "def comparator(a,b):\n",
    "    t1 = a+b\n",
    "    t2 = b+a\n",
    "    return (int(t1) > int(t2)) - (int(t1) < int(t2)) #  t1이 크다면 1  // t2가 크다면 -1  //  같으면 0\n",
    "\n",
    "def solution(numbers):\n",
    "    n = [str(x) for x in numbers]\n",
    "    n = sorted(n, key=functools.cmp_to_key(comparator),reverse=True)\n",
    "    answer = str(int(''.join(n)))\n",
    "    return answer"
   ]
  },
  {
   "cell_type": "markdown",
   "metadata": {},
   "source": [
    "6.3 H-Index\n",
    "\n",
    "- 문제 설명\n",
    "\n",
    " H-Index는 과학자의 생산성과 영향력을 나타내는 지표입니다. 어느 과학자의 H-Index를 나타내는 값인 h를 구하려고 합니다. 위키백과1에 따르면, H-Index는 다음과 같이 구합니다.\n",
    "\n",
    " 어떤 과학자가 발표한 논문 n편 중, h번 이상 인용된 논문이 h편 이상이고 나머지 논문이 h번 이하 인용되었다면 h의 최댓값이 이 과학자의 H-Index입니다.\n",
    "\n",
    " 어떤 과학자가 발표한 논문의 인용 횟수를 담은 배열 citations가 매개변수로 주어질 때, 이 과학자의 H-Index를 return 하도록 solution 함수를 작성해주세요.<br><br><br>\n",
    " \n",
    "- 제한사항\n",
    "\n",
    " 과학자가 발표한 논문의 수는 1편 이상 1,000편 이하입니다.<br>\n",
    " 논문별 인용 횟수는 0회 이상 10,000회 이하입니다.<br><br><br>\n",
    " \n",
    "- 입출력 예<br>\n",
    "\n",
    "&nbsp;&nbsp;&nbsp;&nbsp;&nbsp;&nbsp;&nbsp;&nbsp;&nbsp;&nbsp;&nbsp;&nbsp;&nbsp;citations&nbsp;&nbsp;&nbsp;&nbsp;&nbsp;&nbsp;&nbsp;&nbsp;&nbsp;&nbsp;&nbsp;&nbsp;\treturn<br>\n",
    "&nbsp;&nbsp;&nbsp;&nbsp;&nbsp;&nbsp;&nbsp;&nbsp;&nbsp;[3, 0, 6, 1, 5]&nbsp;&nbsp;&nbsp;&nbsp;&nbsp;&nbsp;&nbsp;&nbsp;&nbsp;&nbsp;&nbsp;&nbsp;&nbsp;\t3<br><br><br>\n",
    "\n",
    "- 입출력 예 설명\n",
    "\n",
    " 이 과학자가 발표한 논문의 수는 5편이고, 그중 3편의 논문은 3회 이상 인용되었습니다. 그리고 나머지 2편의 논문은 3회 이하 인용되었기 때문에 이 과학자의 H-Index는 3입니다."
   ]
  },
  {
   "cell_type": "code",
   "execution_count": 155,
   "metadata": {},
   "outputs": [
    {
     "name": "stdout",
     "output_type": "stream",
     "text": [
      "[0, 1, 2]\n"
     ]
    },
    {
     "data": {
      "text/plain": [
       "2"
      ]
     },
     "execution_count": 155,
     "metadata": {},
     "output_type": "execute_result"
    }
   ],
   "source": [
    "# 내가 푼 완성된 답안\n",
    "def solution(citations):\n",
    "    citations.sort()\n",
    "    a = [0] # 최종으로 0이 반환될 수도 있기 때문에 0을 미리 추가해놓음.\n",
    "    for i in range(1, len(citations)+1):\n",
    "        c = 0\n",
    "        for j in range(len(citations)):\n",
    "            if i <= citations[j]:\n",
    "                c+=1\n",
    "        \n",
    "        if c >= i:\n",
    "            a.append(i)\n",
    "    print(a)\n",
    "    return max(a)\n",
    "\n",
    "#solution([10, 100])\n",
    "#solution([6, 6, 6, 6, 6, 6]) \n",
    "solution([2, 2, 2])\n",
    "#solution([3, 0, 6, 1, 5])"
   ]
  },
  {
   "cell_type": "code",
   "execution_count": null,
   "metadata": {},
   "outputs": [],
   "source": [
    "# --- 다른 사람 풀이 --------------------------------------------------------"
   ]
  },
  {
   "cell_type": "code",
   "execution_count": null,
   "metadata": {},
   "outputs": [],
   "source": [
    "def solution(citations):\n",
    "    citations.sort(reverse=True)\n",
    "    answer = max(map(min, enumerate(citations, start=1)))\n",
    "    return answer"
   ]
  },
  {
   "cell_type": "code",
   "execution_count": 149,
   "metadata": {},
   "outputs": [
    {
     "data": {
      "text/plain": [
       "[(1, 6), (2, 5), (3, 3), (4, 1), (5, 0)]"
      ]
     },
     "execution_count": 149,
     "metadata": {},
     "output_type": "execute_result"
    }
   ],
   "source": [
    "a.sort(reverse=True)\n",
    "list(enumerate(a, start=1))"
   ]
  },
  {
   "cell_type": "code",
   "execution_count": 148,
   "metadata": {},
   "outputs": [
    {
     "data": {
      "text/plain": [
       "[1, 2, 3, 1, 0]"
      ]
     },
     "execution_count": 148,
     "metadata": {},
     "output_type": "execute_result"
    }
   ],
   "source": [
    "list(map(min, enumerate(a, start = 1)))"
   ]
  },
  {
   "cell_type": "markdown",
   "metadata": {},
   "source": [
    "## 7. 탐욕법"
   ]
  },
  {
   "cell_type": "markdown",
   "metadata": {},
   "source": [
    "7.1 체육복\n",
    "\n",
    "- 문제 설명\n",
    "\n",
    " 점심시간에 도둑이 들어, 일부 학생이 체육복을 도난당했습니다. 다행히 여벌 체육복이 있는 학생이 이들에게 체육복을 빌려주려 합니다. 학생들의 번호는 체격 순으로 매겨져 있어, 바로 앞번호의 학생이나 바로 뒷번호의 학생에게만 체육복을 빌려줄 수 있습니다. 예를 들어, 4번 학생은 3번 학생이나 5번 학생에게만 체육복을 빌려줄 수 있습니다. 체육복이 없으면 수업을 들을 수 없기 때문에 체육복을 적절히 빌려 최대한 많은 학생이 체육수업을 들어야 합니다.\n",
    "\n",
    " 전체 학생의 수 n, 체육복을 도난당한 학생들의 번호가 담긴 배열 lost, 여벌의 체육복을 가져온 학생들의 번호가 담긴 배열 reserve가 매개변수로 주어질 때, 체육수업을 들을 수 있는 학생의 최댓값을 return 하도록 solution 함수를 작성해주세요.<br><br><br>\n",
    " \n",
    "- 제한사항\n",
    "\n",
    " - 전체 학생의 수는 2명 이상 30명 이하입니다.<br>\n",
    " - 체육복을 도난당한 학생의 수는 1명 이상 n명 이하이고 중복되는 번호는 없습니다.<br>\n",
    " - 여벌의 체육복을 가져온 학생의 수는 1명 이상 n명 이하이고 중복되는 번호는 없습니다.<br>\n",
    " - 여벌 체육복이 있는 학생만 다른 학생에게 체육복을 빌려줄 수 있습니다.<br>\n",
    " - 여벌 체육복을 가져온 학생이 체육복을 도난당했을 수 있습니다. 이때 이 학생은 체육복을 하나만 도난당했다고 가정하며, 남은 체육복이 하나 이기에 다른 학생에게는 체육복을 빌려줄 수 없습니다.<br><br><br>\n",
    " \n",
    "- 입출력 예<br>\n",
    "&nbsp;&nbsp;&nbsp;n&nbsp;&nbsp;&nbsp;&nbsp;&nbsp;&nbsp;&nbsp;&nbsp;&nbsp;&nbsp;\tlost&nbsp;&nbsp;&nbsp;&nbsp;&nbsp;&nbsp;&nbsp;&nbsp;&nbsp;&nbsp;\treserve\t&nbsp;&nbsp;&nbsp;&nbsp;&nbsp;&nbsp;&nbsp;&nbsp;&nbsp;return<br>\n",
    "&nbsp;&nbsp;&nbsp;5&nbsp;&nbsp;&nbsp;&nbsp;&nbsp;&nbsp;&nbsp;&nbsp;&nbsp;\t[2, 4]&nbsp;&nbsp;&nbsp;&nbsp;&nbsp;&nbsp;&nbsp;&nbsp;&nbsp;\t[1, 3, 5]&nbsp;&nbsp;&nbsp;&nbsp;&nbsp;&nbsp;&nbsp;&nbsp;&nbsp;&nbsp;&nbsp;&nbsp;&nbsp;\t5<br>\n",
    "&nbsp;&nbsp;&nbsp;5\t&nbsp;&nbsp;&nbsp;&nbsp;&nbsp;&nbsp;&nbsp;&nbsp;&nbsp;[2, 4]&nbsp;&nbsp;&nbsp;&nbsp;&nbsp;&nbsp;&nbsp;&nbsp;&nbsp;&nbsp;&nbsp;&nbsp;&nbsp;&nbsp;[3]&nbsp;&nbsp;&nbsp;&nbsp;&nbsp;&nbsp;&nbsp;&nbsp;&nbsp;&nbsp;&nbsp;&nbsp;&nbsp;&nbsp;&nbsp;&nbsp;&nbsp;\n",
    "4<br>\n",
    "&nbsp;&nbsp;&nbsp;3&nbsp;&nbsp;&nbsp;&nbsp;&nbsp;&nbsp;&nbsp;&nbsp;&nbsp;&nbsp;&nbsp;\t[3]&nbsp;&nbsp;&nbsp;&nbsp;&nbsp;&nbsp;&nbsp;&nbsp;&nbsp;&nbsp;&nbsp;&nbsp;&nbsp;&nbsp;&nbsp;\t[1]&nbsp;&nbsp;&nbsp;&nbsp;&nbsp;&nbsp;&nbsp;&nbsp;&nbsp;&nbsp;&nbsp;&nbsp;&nbsp;&nbsp;&nbsp;&nbsp;&nbsp;\t2<br><br><br>\n",
    " \n",
    "- 입출력 예 설명\n",
    "\n",
    " 예제 #1<br>\n",
    " 1번 학생이 2번 학생에게 체육복을 빌려주고, 3번 학생이나 5번 학생이 4번 학생에게 체육복을 빌려주면 학생 5명이 체육수업을 들을 수 있습니다.\n",
    "\n",
    " 예제 #2<br>\n",
    " 3번 학생이 2번 학생이나 4번 학생에게 체육복을 빌려주면 학생 4명이 체육수업을 들을 수 있습니다. \n",
    " \n"
   ]
  },
  {
   "cell_type": "code",
   "execution_count": 241,
   "metadata": {},
   "outputs": [
    {
     "name": "stdout",
     "output_type": "stream",
     "text": [
      "lost: [20]\n",
      "reserve:  4\n",
      "lost: [20]\n",
      "reserve:  7\n",
      "lost: [20]\n",
      "reserve:  8\n",
      "lost: [20]\n",
      "reserve:  13\n",
      "lost: [20]\n",
      "reserve:  14\n",
      "lost: [20]\n",
      "reserve:  17\n",
      "lost: [20]\n",
      "reserve:  18\n",
      "lost: []\n",
      "reserve:  21\n",
      "lost: []\n",
      "reserve:  22\n",
      "lost: []\n",
      "reserve:  23\n",
      "lost: []\n",
      "reserve:  25\n"
     ]
    },
    {
     "data": {
      "text/plain": [
       "30"
      ]
     },
     "execution_count": 241,
     "metadata": {},
     "output_type": "execute_result"
    }
   ],
   "source": [
    "# 내가 만든 완성된 답안 1\n",
    "def solution(n, lost, reserve):\n",
    "    count = n - len(lost) \n",
    "    kk = []\n",
    "    for i in sorted(reserve):\n",
    "        if i in lost:\n",
    "            kk.append(i)\n",
    "            count += 1\n",
    "    for i in kk:\n",
    "        reserve.remove(i)\n",
    "        lost.remove(i)\n",
    "\n",
    "    for i in sorted(reserve):\n",
    "        if i-1 not in kk and i-1 in lost:\n",
    "            lost.remove(i-1)\n",
    "            count += 1\n",
    "        elif i+1 not in kk and i+1 in lost:\n",
    "            lost.remove(i+1)\n",
    "            count += 1\n",
    "    return count"
   ]
  },
  {
   "cell_type": "code",
   "execution_count": 179,
   "metadata": {},
   "outputs": [
    {
     "data": {
      "text/plain": [
       "4"
      ]
     },
     "execution_count": 179,
     "metadata": {},
     "output_type": "execute_result"
    }
   ],
   "source": [
    "# 내가 만든 완성된 답안 2\n",
    "def solution(n, lost, reserve):\n",
    "    lost.sort()\n",
    "    answer = n-len(lost)\n",
    "    \n",
    "    num = 0\n",
    "    while len(lost) > num:\n",
    "        if lost[num] in reserve:\n",
    "            answer +=1\n",
    "            del(reserve[reserve.index(lost[num])])\n",
    "            del(lost[num])\n",
    "                \n",
    "        else:\n",
    "            num += 1\n",
    "    \n",
    "    for i in lost:\n",
    "        if i-1 in reserve:\n",
    "            answer +=1\n",
    "            del(reserve[reserve.index(i-1)])\n",
    "\n",
    "        elif i+1 in reserve:\n",
    "            answer +=1\n",
    "            del(reserve[reserve.index(i+1)])\n",
    "\n",
    "\n",
    "    return answer\n"
   ]
  },
  {
   "cell_type": "code",
   "execution_count": null,
   "metadata": {},
   "outputs": [],
   "source": []
  },
  {
   "cell_type": "markdown",
   "metadata": {},
   "source": [
    "7.2 조이스틱\n",
    "\n",
    "- 문제 설명\n",
    "\n",
    " 조이스틱으로 알파벳 이름을 완성하세요. 맨 처음엔 A로만 이루어져 있습니다.\n",
    "ex) 완성해야 하는 이름이 세 글자면 AAA, 네 글자면 AAAA\n",
    "\n",
    " 조이스틱을 각 방향으로 움직이면 아래와 같습니다.\n",
    " \n",
    " ▲ - 다음 알파벳<br>\n",
    " ▼ - 이전 알파벳 (A에서 아래쪽으로 이동하면 Z로)<br>\n",
    " ◀ - 커서를 왼쪽으로 이동 (첫 번째 위치에서 왼쪽으로 이동하면 마지막 문자에 커서)<br>\n",
    " ▶ - 커서를 오른쪽으로 이동\n",
    " \n",
    " 예를 들어 아래의 방법으로 \"JAZ\"를 만들 수 있습니다.<br><br>\n",
    " \n",
    " - 첫 번째 위치에서 조이스틱을 위로 9번 조작하여 J를 완성합니다.\n",
    " - 조이스틱을 왼쪽으로 1번 조작하여 커서를 마지막 문자 위치로 이동시킵  니다.\n",
    " - 마지막 위치에서 조이스틱을 아래로 1번 조작하여 Z를 완성합니다.\n",
    "따라서 11번 이동시켜 \"JAZ\"를 만들 수 있고, 이때가 최소 이동입니다.\n",
    "\n",
    " 만들고자 하는 이름 name이 매개변수로 주어질 때, 이름에 대해 조이스틱 조작 횟수의 최솟값을 return 하도록 solution 함수를 만드세요.<br><br><br>\n",
    "\n",
    "- 제한 사항\n",
    "\n",
    " name은 알파벳 대문자로만 이루어져 있습니다.<br>\n",
    " name의 길이는 1 이상 20 이하입니다.<br><br><br>\n",
    " \n",
    "- 입출력 예\n",
    "\n",
    " &nbsp;&nbsp;&nbsp;&nbsp;name&nbsp;&nbsp;&nbsp;&nbsp;&nbsp;&nbsp;&nbsp;&nbsp;&nbsp;&nbsp;&nbsp;&nbsp;&nbsp;&nbsp;&nbsp;&nbsp;&nbsp;&nbsp;&nbsp;&nbsp;&nbsp;&nbsp;&nbsp;&nbsp;&nbsp;&nbsp;&nbsp;&nbsp;&nbsp;\treturn<br>\n",
    " \"JEROEN\"&nbsp;&nbsp;&nbsp;&nbsp;&nbsp;&nbsp;&nbsp;&nbsp;&nbsp;&nbsp;&nbsp;&nbsp;&nbsp;&nbsp;&nbsp;&nbsp;&nbsp;&nbsp;&nbsp;&nbsp;&nbsp;&nbsp;&nbsp;&nbsp;&nbsp;&nbsp;&nbsp;\t56<br>\n",
    " &nbsp;&nbsp;\"JAN\"&nbsp;&nbsp;&nbsp;&nbsp;&nbsp;&nbsp;&nbsp;&nbsp;&nbsp;&nbsp;&nbsp;&nbsp;&nbsp;&nbsp;&nbsp;&nbsp;&nbsp;&nbsp;&nbsp;&nbsp;&nbsp;&nbsp;&nbsp;&nbsp;&nbsp;&nbsp;&nbsp;&nbsp;&nbsp;&nbsp;&nbsp;&nbsp;&nbsp;\t23<br><br><br>\n",
    "\n",
    "\n",
    " 못 풀었음...\n",
    "\n"
   ]
  },
  {
   "cell_type": "code",
   "execution_count": 5,
   "metadata": {},
   "outputs": [
    {
     "name": "stdout",
     "output_type": "stream",
     "text": [
      "2\n",
      "5\n",
      "1\n",
      "1\n"
     ]
    },
    {
     "data": {
      "text/plain": [
       "13"
      ]
     },
     "execution_count": 5,
     "metadata": {},
     "output_type": "execute_result"
    }
   ],
   "source": [
    "#a = \"JEROEN\"\n",
    "#a = \"JAZ\"\n",
    "#a = \"BBBBAAAABA\"\n",
    "#a = \"BBBBAAAAAB\"\n",
    "#a = \"AAB\"\n",
    "#a = \"AAAAAA\" # 통과\n",
    "#a = \"AAAACB\"\n",
    "a = \"AABAAAAAAABBB\"\n",
    "i = 0\n",
    "count = 0\n",
    "count_1 = 0\n",
    "\n",
    "while True:\n",
    "    count += min(ord(a[i]) - ord(\"A\") ,(26 - (ord(a[i]) - ord(\"A\"))))\n",
    "    count_1 += min(ord(a[i]) - ord(\"A\") ,(26 - (ord(a[i]) - ord(\"A\"))))\n",
    "    if i == len(a) - 1:\n",
    "        break\n",
    "        \n",
    "    for j in range(1, len(a)-i):\n",
    "        if a[j+i] != 'A':\n",
    "            break\n",
    "            \n",
    "    if a[j+i] == 'A':\n",
    "        break\n",
    "    \n",
    "    count += min(j, i+(len(a)-(i+j)))\n",
    "    i = i+j\n",
    "    print(min(j, i+(len(a)-(i+j))))\n",
    "    \n",
    "count"
   ]
  },
  {
   "cell_type": "code",
   "execution_count": 195,
   "metadata": {},
   "outputs": [],
   "source": [
    "def solution(a):\n",
    "    i = 0\n",
    "    count = 0\n",
    "\n",
    "    while True:\n",
    "        count += min(ord(a[i]) - ord(\"A\") ,(26 - (ord(a[i]) - ord(\"A\"))))\n",
    "        if i == len(a) - 1:\n",
    "            break\n",
    "\n",
    "        for j in range(1, len(a)-i):\n",
    "            if a[j+i] != 'A':\n",
    "                break\n",
    "\n",
    "        count += min(j, i+(len(a)-j))\n",
    "        i = i+j\n",
    "    return count"
   ]
  },
  {
   "cell_type": "code",
   "execution_count": 176,
   "metadata": {},
   "outputs": [
    {
     "name": "stdout",
     "output_type": "stream",
     "text": [
      "5\n",
      "12\n",
      "48\n",
      "8\n",
      "9\n",
      "2\n",
      "11\n",
      "8\n"
     ]
    }
   ],
   "source": [
    "print(solution(\"AAAACB\"))\n",
    "print(solution(\"AABAAAAAAABBB\"))\n",
    "print(solution(\"CANAAAAANAN\"))\n",
    "print(solution(\"ABAAAAABAB\"))\n",
    "print(solution(\"BBBAAB\"))\n",
    "print(solution(\"CAAAAAA\"))\n",
    "print(solution(\"JAZ\"))\n",
    "print(solution(\"BABAAAAB\"))\n"
   ]
  },
  {
   "cell_type": "code",
   "execution_count": null,
   "metadata": {},
   "outputs": [],
   "source": [
    "# ------------다른 사람 풀이---------------------------------------------------------------------------------------------------------"
   ]
  },
  {
   "cell_type": "code",
   "execution_count": 241,
   "metadata": {},
   "outputs": [],
   "source": [
    "# ord() : 문자의 유니코드 값을 알려주는 함수\n",
    "def solution(name):\n",
    "    answer = 0\n",
    "    min_move = len(name) - 1\n",
    "    next = 0\n",
    "    \n",
    "    for i, char in enumerate(name): # i는 인덱스, char은 value\n",
    "        answer += min(ord(char) - ord('A'), ord('Z') - ord(char) + 1)\n",
    "        \n",
    "        next = i + 1\n",
    "        while next < len(name) and name[next] == 'A':\n",
    "            next += 1\n",
    "        \n",
    "        min_move = min(min_move, i + i + len(name) - next)\n",
    "        print(min_move)\n",
    "    print(answer)\n",
    "    answer += min_move\n",
    "    return answer"
   ]
  },
  {
   "cell_type": "code",
   "execution_count": 248,
   "metadata": {},
   "outputs": [
    {
     "name": "stdout",
     "output_type": "stream",
     "text": [
      "13\n"
     ]
    }
   ],
   "source": [
    "#print(solution(\"AAAACB\"))\n",
    "#print(solution(\"AABAAAAAAABBB\"))\n",
    "#print(solution(\"CANAAAAANAN\"))\n",
    "#print(solution(\"ABAAAAABAB\"))\n",
    "#print(solution(\"BBBAAB\"))\n",
    "#print(solution(\"CAAAAAA\"))\n",
    "#print(solution(\"JAZ\"))\n",
    "#print(solution(\"BABAAAAB\"))\n",
    "print(solution(\"BBBBAAAABA\"))"
   ]
  },
  {
   "cell_type": "markdown",
   "metadata": {},
   "source": [
    "7.3 큰 수 만들기\n",
    "\n",
    " 아직 못품"
   ]
  },
  {
   "cell_type": "code",
   "execution_count": 67,
   "metadata": {},
   "outputs": [
    {
     "name": "stdout",
     "output_type": "stream",
     "text": [
      "['4', '1', '7', '7', '2', '5', '2', '8', '4', '1']\n",
      "['4', '1', '7', '7', '2', '5', '2', '8', '4', '1']\n",
      "['4', '7', '7', '2', '5', '2', '8', '4', '1']\n",
      "['7', '7', '2', '5', '2', '8', '4', '1']\n",
      "['7', '7', '2', '5', '2', '8', '4', '1']\n",
      "['7', '7', '2', '5', '2', '8', '4', '1']\n",
      "['7', '7', '5', '2', '8', '4', '1']\n",
      "['7', '7', '5', '2', '8', '4', '1']\n",
      "['7', '7', '5', '2', '8', '4', '1']\n",
      "775841\n"
     ]
    }
   ],
   "source": [
    "# 내가 푼 답.\n",
    "# stack으로 풀었음\n",
    "from collections import deque\n",
    "def solution(numbers, k):\n",
    "    numbers = deque(numbers)\n",
    "    count = 0\n",
    "    stack = []\n",
    "    while numbers:\n",
    "        a = numbers.popleft()\n",
    "        if stack != [] and int(stack[-1]) < int(a):\n",
    "            stack.pop()\n",
    "            numbers.appendleft(a)\n",
    "            count += 1\n",
    "        else:\n",
    "            stack.append(a)\n",
    "        if count == k:\n",
    "            break\n",
    "    \n",
    "    stack = stack+list(numbers)\n",
    "    \n",
    "    # numbers = [2, 1]에 k = 1이면, 1이 2보다 작기 때문에 지워지지 않고 2, 1이 출력됨\n",
    "    # 때문에 전부 계산하고 count와 k가 다르면 그 차이만큼 맨 뒤의 원소들을 제거. \n",
    "    if count != k:\n",
    "        count = abs(k-count)\n",
    "        stack = stack[:-count]\n",
    "   \n",
    "    return ''.join(stack)\n",
    "\n",
    "\n",
    "    "
   ]
  },
  {
   "cell_type": "code",
   "execution_count": 1,
   "metadata": {},
   "outputs": [
    {
     "data": {
      "text/plain": [
       "['a']"
      ]
     },
     "execution_count": 1,
     "metadata": {},
     "output_type": "execute_result"
    }
   ],
   "source": [
    "a = []\n",
    "b = ['a']\n",
    "a+b"
   ]
  },
  {
   "cell_type": "code",
   "execution_count": null,
   "metadata": {},
   "outputs": [],
   "source": [
    "# ----- 다른 사람 풀이 --------------------------------------------------------------------------------------------"
   ]
  },
  {
   "cell_type": "code",
   "execution_count": 4,
   "metadata": {},
   "outputs": [
    {
     "name": "stdout",
     "output_type": "stream",
     "text": [
      "['2']\n",
      "['2', '1']\n"
     ]
    },
    {
     "data": {
      "text/plain": [
       "'2'"
      ]
     },
     "execution_count": 4,
     "metadata": {},
     "output_type": "execute_result"
    }
   ],
   "source": [
    "def solution(number, k):\n",
    "    collected = []\n",
    "\n",
    "    for (i, num) in enumerate(number):\n",
    "        while collected and collected[-1] < num and k > 0:\n",
    "            collected.pop()\n",
    "            k -= 1\n",
    "        \n",
    "        if k == 0:\n",
    "            collected += number[i:]\n",
    "            break\n",
    "\n",
    "        collected.append(num)\n",
    "        print(collected)\n",
    "\n",
    "    collected = collected[:-k] if k > 0 else collected\n",
    "    answer = \"\".join(collected)\n",
    "    return answer\n",
    "\n",
    "solution(\"21\", 1)"
   ]
  },
  {
   "cell_type": "markdown",
   "metadata": {},
   "source": [
    "7.4 구명 보트\n",
    "\n",
    "- 문제 설명\n",
    "\n",
    " 무인도에 갇힌 사람들을 구명보트를 이용하여 구출하려고 합니다. 구명보트는 작아서 한 번에 최대 2명씩 밖에 탈 수 없고, 무게 제한도 있습니다.\n",
    "\n",
    " 예를 들어, 사람들의 몸무게가 [70kg, 50kg, 80kg, 50kg]이고 구명보트의 무게 제한이 100kg이라면 2번째 사람과 4번째 사람은 같이 탈 수 있지만 1번째 사람과 3번째 사람의 무게의 합은 150kg이므로 구명보트의 무게 제한을 초과하여 같이 탈 수 없습니다.\n",
    "\n",
    " 구명보트를 최대한 적게 사용하여 모든 사람을 구출하려고 합니다.\n",
    "\n",
    " 사람들의 몸무게를 담은 배열 people과 구명보트의 무게 제한 limit가 매개변수로 주어질 때, 모든 사람을 구출하기 위해 필요한 구명보트 개수의 최솟값을 return 하도록 solution 함수를 작성해주세요.<br><br><br>\n",
    " \n",
    " \n",
    " - 입출력 예\n",
    " \n",
    " people &nbsp;&nbsp;&nbsp;&nbsp;&nbsp;&nbsp;&nbsp;&nbsp;&nbsp;&nbsp;&nbsp;&nbsp;&nbsp;&nbsp;&nbsp;&nbsp;&nbsp;&nbsp;&nbsp;&nbsp;&nbsp;&nbsp;&nbsp;\tlimit&nbsp;&nbsp;&nbsp;&nbsp;&nbsp;&nbsp;&nbsp;&nbsp;&nbsp;&nbsp;&nbsp;&nbsp;&nbsp;&nbsp;\treturn<br>\n",
    "[70, 50, 80, 50]&nbsp;&nbsp;&nbsp;&nbsp;&nbsp;&nbsp;&nbsp;&nbsp;&nbsp;&nbsp;&nbsp;\t100\t&nbsp;&nbsp;&nbsp;&nbsp;&nbsp;&nbsp;&nbsp;&nbsp;&nbsp;&nbsp;&nbsp;&nbsp;&nbsp;&nbsp;&nbsp;&nbsp;&nbsp;&nbsp;3<br>\n",
    "[70, 80, 50]&nbsp;&nbsp;&nbsp;&nbsp;&nbsp;&nbsp;&nbsp;&nbsp;&nbsp;&nbsp;&nbsp;&nbsp;&nbsp;&nbsp;&nbsp;&nbsp;&nbsp;\t100\t&nbsp;&nbsp;&nbsp;&nbsp;&nbsp;&nbsp;&nbsp;&nbsp;&nbsp;&nbsp;&nbsp;&nbsp;&nbsp;&nbsp;&nbsp;&nbsp;&nbsp;&nbsp;3\n",
    "<br><br>\n",
    "완전히 풀지 못함..."
   ]
  },
  {
   "cell_type": "code",
   "execution_count": 99,
   "metadata": {},
   "outputs": [],
   "source": [
    "# 정확도 100\n",
    "# 효율성 0...\n",
    "def solution(people, limit):\n",
    "    people.sort()\n",
    "    answer = 0\n",
    "    while people:\n",
    "        a = 0\n",
    "        for i in range(len(people)-2, -1, -1):\n",
    "            if people[-1] + people[i] <= limit:\n",
    "                del[people[-1]]\n",
    "                del[people[i]]\n",
    "                answer += 1\n",
    "                break\n",
    "            a+=1\n",
    "\n",
    "        if a == len(people)-1:\n",
    "            answer += 1\n",
    "            del[people[-1]]\n",
    "    return answer"
   ]
  },
  {
   "cell_type": "code",
   "execution_count": 186,
   "metadata": {},
   "outputs": [],
   "source": [
    "import heapq\n",
    "def solution(people, limit):\n",
    "    heapq.heapify(people)\n",
    "    b = [heapq.heappop(people)]\n",
    "    count = 0\n",
    "\n",
    "    while people:\n",
    "        a = heapq.heappop(people)\n",
    "        b.append(a)\n",
    "        if sum(b) > limit:\n",
    "            b = [a]\n",
    "            count += 1\n",
    "        elif sum(b) == limit:\n",
    "            count += 1\n",
    "            b = []\n",
    "    if b:\n",
    "        count+=1\n",
    "    return count"
   ]
  },
  {
   "cell_type": "code",
   "execution_count": null,
   "metadata": {},
   "outputs": [],
   "source": [
    "print(solution([40,40,40],100))\n",
    "#print(solution([70,50,80,50],100))"
   ]
  },
  {
   "cell_type": "code",
   "execution_count": 32,
   "metadata": {},
   "outputs": [],
   "source": [
    "#--- 다른 사람 풀이 ------------------------------------------------------------------------------------------------------------------"
   ]
  },
  {
   "cell_type": "code",
   "execution_count": 8,
   "metadata": {},
   "outputs": [],
   "source": [
    "def solution(people, limit):\n",
    "    people.sort()\n",
    "    cnt = 0\n",
    "    i = 0\n",
    "    j = len(people) - 1\n",
    "    while i <= j:\n",
    "        cnt += 1\n",
    "        if people[j] + people[i] <= limit:\n",
    "            i += 1\n",
    "        j -= 1\n",
    "    return cnt\n",
    "# solution([10,40,40,40,50], 100) => return 2 나와야 하는데 3나옴.\n",
    "# 문제 잘못 봄...\n",
    "# 한 보트는 무조건 한번에 최대 두 명 밖에 못 태움."
   ]
  },
  {
   "cell_type": "code",
   "execution_count": 20,
   "metadata": {},
   "outputs": [
    {
     "data": {
      "text/plain": [
       "3"
      ]
     },
     "execution_count": 20,
     "metadata": {},
     "output_type": "execute_result"
    }
   ],
   "source": [
    "solution([10,40,40,40,50], 100)"
   ]
  },
  {
   "cell_type": "markdown",
   "metadata": {},
   "source": [
    "5. 섬 연결하기\n",
    "\n",
    " - 다익스트라로 풀어보려 했지만 안 풀림\n",
    " - 크루스칼 알고리즘 사용해야 함\n"
   ]
  },
  {
   "cell_type": "code",
   "execution_count": 49,
   "metadata": {},
   "outputs": [],
   "source": [
    "import heapq\n",
    "\n",
    "costs = [[0,1,1],[0,2,2],[1,2,5],[1,3,1],[2,3,8]]\n",
    "fff = []\n",
    "for i in costs:\n",
    "    fff.extend([i[0], i[1]])\n",
    "    \n",
    "fff = set(fff)\n",
    "start=0\n",
    "graph = [[] for i in range(len(fff))]\n",
    "\n",
    "for i in costs:\n",
    "    graph[i[0]].append(i[1:])\n",
    "    graph[i[1]].append([i[0], i[2]])\n",
    "\n",
    "INF = int(1e9)    \n",
    "visited = [False] * len(fff)\n",
    "distance = [INF] * len(fff)\n",
    "\n",
    "def dijkstra(start):\n",
    "    q = []\n",
    "    heapq.heappush(q, (0, start))\n",
    "    distance[start] = 0\n",
    "    \n",
    "    while q:\n",
    "        now, dist = heapq.heappop(q)\n",
    "        \n",
    "        for i in graph[now]:\n",
    "            cost = dist + i[1]\n",
    "            if dist > distance[i[0]]:\n",
    "                continue\n",
    "            if cost < distance[i[0]]:\n",
    "                distance[i[0]] = cost\n",
    "                heapq.heappush(q, (i[0], cost))\n",
    "    "
   ]
  },
  {
   "cell_type": "code",
   "execution_count": 106,
   "metadata": {},
   "outputs": [],
   "source": [
    "import heapq\n",
    "def solution(n, costs):\n",
    "\n",
    "    def dijkstra(start, n, costs):\n",
    "        graph = [[] for i in range(n)]\n",
    "\n",
    "        for i in costs:\n",
    "            graph[i[0]].append(i[1:])\n",
    "            graph[i[1]].append([i[0], i[2]])\n",
    "\n",
    "        INF = int(1e9)    \n",
    "        visited = [False] * n\n",
    "        distance = [INF] * n\n",
    "        q = []\n",
    "        heapq.heappush(q, (0, start))\n",
    "        distance[start] = 0\n",
    "\n",
    "        while q:\n",
    "            dist, now = heapq.heappop(q)\n",
    "            if distance[now] < dist:\n",
    "                continue\n",
    "            \n",
    "            for i in graph[now]:\n",
    "                cost = dist + i[1]\n",
    "                if cost < distance[i[0]]:\n",
    "                    distance[i[0]] = cost\n",
    "                    heapq.heappush(q, (cost, i[0]))\n",
    "        return distance\n",
    "    \n",
    "    answer = [1e9] * n\n",
    "    for i in range(n):\n",
    "        aa = dijkstra(i, n, costs)\n",
    "        print(aa)\n",
    "        for j in range(len(answer)):\n",
    "            if j == i:\n",
    "                continue\n",
    "            answer[j] = min(answer[j], aa[j])\n",
    "    print(answer)\n",
    "    return answer"
   ]
  },
  {
   "cell_type": "code",
   "execution_count": 108,
   "metadata": {},
   "outputs": [
    {
     "name": "stdout",
     "output_type": "stream",
     "text": [
      "[0, 1, 2, 2]\n",
      "[1, 0, 3, 1]\n",
      "[2, 3, 0, 4]\n",
      "[2, 1, 4, 0]\n",
      "[1, 1, 2, 1]\n"
     ]
    },
    {
     "data": {
      "text/plain": [
       "[1, 1, 2, 1]"
      ]
     },
     "execution_count": 108,
     "metadata": {},
     "output_type": "execute_result"
    }
   ],
   "source": [
    "solution(4, [[0,1,1],[0,2,2],[1,2,5],[1,3,1],[2,3,8]])\n",
    "#print(solution(4,[[0,1,1],[0,2,1],[1,2,1],[1,3,1],[2,3,8]]))"
   ]
  },
  {
   "cell_type": "markdown",
   "metadata": {},
   "source": [
    "## 8. 깊이/너비 우선 탐색(DFS/BFS)"
   ]
  },
  {
   "cell_type": "markdown",
   "metadata": {},
   "source": [
    "8.1 타겟 넘버\n",
    "\n",
    "- 문제 설명\n",
    "\n",
    " n개의 음이 아닌 정수가 있습니다. 이 수를 적절히 더하거나 빼서 타겟 넘버를 만들려고 합니다. 예를 들어 [1, 1, 1, 1, 1]로 숫자 3을 만들려면 다음 다섯 방법을 쓸 수 있습니다.\n",
    "\n",
    " -1+1+1+1+1 = 3<br>\n",
    " +1-1+1+1+1 = 3<br>\n",
    " +1+1-1+1+1 = 3<br>\n",
    " +1+1+1-1+1 = 3<br>\n",
    " +1+1+1+1-1 = 3<br>\n",
    " \n",
    " 사용할 수 있는 숫자가 담긴 배열 numbers, 타겟 넘버 target이 매개변수로 주어질 때 숫자를 적절히 더하고 빼서 타겟 넘버를 만드는 방법의 수를 return 하도록 solution 함수를 작성해주세요.<br><br><br>\n",
    " \n",
    "- 제한사항\n",
    "\n",
    " 주어지는 숫자의 개수는 2개 이상 20개 이하입니다.<br>\n",
    " 각 숫자는 1 이상 50 이하인 자연수입니다.<br>\n",
    " 타겟 넘버는 1 이상 1000 이하인 자연수입니다.<br><br><br>\n",
    " \n",
    "- 입출력 예\n",
    "\n",
    " "
   ]
  },
  {
   "cell_type": "code",
   "execution_count": null,
   "metadata": {},
   "outputs": [],
   "source": [
    "# 내가 푼 답안 1\n",
    "def dfs(numbers, idx, count, target):\n",
    "    global n\n",
    "    if idx <= len(numbers)-1: # count에 더하는 계산이 다음 함수를 호출할 때 있으므로, 마지막 인덱스까지 호출해주어야 함\n",
    "        dfs(numbers, idx+1, count+numbers[idx], target)\n",
    "        dfs(numbers, idx+1, count-numbers[idx], target)\n",
    "    else:\n",
    "        if count == target:\n",
    "            n+=1\n",
    "            \n",
    "def solution(numbers, target):\n",
    "    global n\n",
    "    n = 0\n",
    "    target= target\n",
    "    \n",
    "    dfs(numbers, 0, 0, target)\n",
    "    \n",
    "    return n"
   ]
  },
  {
   "cell_type": "code",
   "execution_count": 3,
   "metadata": {},
   "outputs": [
    {
     "data": {
      "text/plain": [
       "5"
      ]
     },
     "execution_count": 3,
     "metadata": {},
     "output_type": "execute_result"
    }
   ],
   "source": [
    "# 위에꺼 응용해서 solution 안으로 집어넣기\n",
    "def solution(numbers, target):\n",
    "    global n\n",
    "    n = 0\n",
    "    def dfs(numbers, idx, count):\n",
    "        global n\n",
    "        if idx <= len(numbers)-1: # count에 더하는 계산이 다음 함수를 호출할 때 있으므로, 마지막 인덱스까지 호출해주어야 함\n",
    "            dfs(numbers, idx+1, count+numbers[idx])\n",
    "            dfs(numbers, idx+1, count-numbers[idx])\n",
    "        else:\n",
    "            if count == target:\n",
    "                n+=1\n",
    "\n",
    "    dfs(numbers, 0, 0)\n",
    "    \n",
    "    return n\n",
    "solution([1,1,1,1,1], 3)"
   ]
  },
  {
   "cell_type": "code",
   "execution_count": null,
   "metadata": {},
   "outputs": [],
   "source": [
    "# 내가 푼 답안 2\n",
    "# BFS\n",
    "def solution(a, target):\n",
    "    b = []\n",
    "    def bfs(a, count, num):\n",
    "        if num == len(a):\n",
    "            b.append(count)\n",
    "            return\n",
    "        bfs(a, count+a[num], num+1)\n",
    "        bfs(a, count-a[num], num+1)\n",
    "    bfs(a, 0, 0)\n",
    "    return b.count(target)"
   ]
  },
  {
   "cell_type": "code",
   "execution_count": 61,
   "metadata": {},
   "outputs": [],
   "source": [
    "# ----- 다른 사람 풀이 -------------------------------------------------------"
   ]
  },
  {
   "cell_type": "code",
   "execution_count": 17,
   "metadata": {},
   "outputs": [],
   "source": [
    "# 다른 사람 풀이 1(재귀함수 사용)\n",
    "def solution(numbers, target):\n",
    "    cnt = 0\n",
    "    len_numbers = len(numbers)\n",
    "\n",
    "    def operator(idx=0): # 인덱스 0부터 시작\n",
    "        if idx < len_numbers: # 만약 인덱스가 numbers의 길이보다 작으면 if문 실행\n",
    "            numbers[idx] *= 1 # 정수 -> 음수 -> 정수 순서로 반복됨\n",
    "            operator(idx+1) # 인덱스에 1 더해서 다음 인덱스로 operator 함수 실\n",
    "            numbers[idx] *= -1 # 음수 -> 정수 -> 음수 순서로 반복됨\n",
    "            operator(idx+1) \n",
    "\n",
    "        elif sum(numbers) == target:\n",
    "            nonlocal cnt # cnt가 지역변수가 아님을 선언\n",
    "                          # nonlocal 이 사용된 함수 바로 한단계 바깥쪽에 위치한 변수와 바인딩을 할 수 있다.\n",
    "            cnt += 1 \n",
    "        \n",
    "\n",
    "    operator() # 첫 함수 호출\n",
    "\n",
    "    return cnt"
   ]
  },
  {
   "cell_type": "code",
   "execution_count": 3,
   "metadata": {},
   "outputs": [],
   "source": [
    "# 다른 사람 풀이 2\n",
    "def solution(numbers, target):\n",
    "    if not numbers and target == 0 :\n",
    "        return 1\n",
    "    elif not numbers:\n",
    "        return 0\n",
    "    else:\n",
    "        return solution(numbers[1:], target-numbers[0]) + solution(numbers[1:], target+numbers[0])\n"
   ]
  },
  {
   "cell_type": "markdown",
   "metadata": {},
   "source": [
    "8.2 네트워크\n",
    "\n",
    "- 문제 설명\n",
    "\n",
    " 네트워크란 컴퓨터 상호 간에 정보를 교환할 수 있도록 연결된 형태를 의미합니다. 예를 들어, 컴퓨터 A와 컴퓨터 B가 직접적으로 연결되어있고, 컴퓨터 B와 컴퓨터 C가 직접적으로 연결되어 있을 때 컴퓨터 A와 컴퓨터 C도 간접적으로 연결되어 정보를 교환할 수 있습니다. 따라서 컴퓨터 A, B, C는 모두 같은 네트워크 상에 있다고 할 수 있습니다.\n",
    "\n",
    " 컴퓨터의 개수 n, 연결에 대한 정보가 담긴 2차원 배열 computers가 매개변수로 주어질 때, 네트워크의 개수를 return 하도록 solution 함수를 작성하시오.<br><br><br>\n",
    "\n",
    "- 제한사항\n",
    " \n",
    " 컴퓨터의 개수 n은 1 이상 200 이하인 자연수입니다.<br>\n",
    " 각 컴퓨터는 0부터 n-1인 정수로 표현합니다.<br>\n",
    " i번 컴퓨터와 j번 컴퓨터가 연결되어 있으면 computers[i][j]를 1로 표현합니다.<br>\n",
    " computer[i][i]는 항상 1입니다.<br><br><br>\n",
    " \n",
    "- 입출력 예\n",
    "\n",
    " n\t&nbsp;&nbsp;&nbsp;&nbsp;&nbsp;&nbsp;&nbsp;&nbsp;&nbsp;&nbsp;&nbsp;&nbsp;&nbsp;&nbsp;&nbsp;&nbsp;&nbsp;&nbsp;&nbsp;&nbsp;&nbsp;&nbsp;&nbsp;&nbsp;computers&nbsp;\t&nbsp;&nbsp;&nbsp;&nbsp;&nbsp;&nbsp;&nbsp;&nbsp;&nbsp;&nbsp;&nbsp;&nbsp;&nbsp;&nbsp;&nbsp;&nbsp;&nbsp;&nbsp;&nbsp;&nbsp;&nbsp;&nbsp;&nbsp;&nbsp;&nbsp;return<br>\n",
    " 3\t&nbsp;&nbsp;&nbsp;&nbsp;&nbsp;&nbsp;&nbsp;&nbsp;&nbsp;&nbsp;&nbsp;&nbsp;&nbsp;[[1, 1, 0], [1, 1, 0], [0, 0, 1]]&nbsp;&nbsp;&nbsp;&nbsp;&nbsp;&nbsp;&nbsp;&nbsp;&nbsp;&nbsp;&nbsp;&nbsp;&nbsp;&nbsp;&nbsp;&nbsp;&nbsp;2<br>\n",
    " 3&nbsp;&nbsp;&nbsp;&nbsp;&nbsp;&nbsp;&nbsp;&nbsp;&nbsp;&nbsp;&nbsp;&nbsp;&nbsp;&nbsp;[[1, 1, 0], [1, 1, 1], [0, 1, 1]]&nbsp;&nbsp;&nbsp;&nbsp;&nbsp;&nbsp;&nbsp;&nbsp;&nbsp;&nbsp;&nbsp;&nbsp;&nbsp;&nbsp;&nbsp;&nbsp; 1"
   ]
  },
  {
   "cell_type": "code",
   "execution_count": 84,
   "metadata": {},
   "outputs": [
    {
     "data": {
      "text/plain": [
       "4"
      ]
     },
     "execution_count": 84,
     "metadata": {},
     "output_type": "execute_result"
    }
   ],
   "source": [
    "# 내가 푼 완성된 답안\n",
    "# 정확도 100\n",
    "# 정확도 100 나오긴 했는데... n은 활용도 안했고... 다시 풀어야 함\n",
    "def solution(computers, n):\n",
    "    answer = 0\n",
    "    root = 0\n",
    "    count = [0]\n",
    "    root_list = []\n",
    "    computers_list = list(range(0, n))\n",
    "\n",
    "    while True:\n",
    "        if root not in root_list:\n",
    "            root_list.append(root)\n",
    "\n",
    "        for i in range(len(computers[root])):\n",
    "            if i not in count and computers[root][i] == 1:\n",
    "                root = i\n",
    "                count.append(root)\n",
    "                break \n",
    "\n",
    "            if i == len(computers[root])-1:\n",
    "                del(root_list[-1])\n",
    "                if root_list:\n",
    "                    root = root_list[-1]\n",
    "\n",
    "        if root_list == []:\n",
    "            answer += 1\n",
    "            computers_list = [item for item in computers_list if item not in count]\n",
    "            if computers_list:\n",
    "                count = [computers_list[0]]\n",
    "                root = computers_list[0]\n",
    "            else:\n",
    "                break\n",
    "    return answer\n",
    "        \n",
    "solution([[1, 1, 0, 0, 1, 0, 0, 0, 0, 0, 0, 0, 0], [1, 1, 0, 0, 0, 1, 0, 0, 1, 0, 0, 0, 0], [0, 0, 1, 1, 0, 0, 0, 0, 0, 0, 0, 0, 0],\n",
    "            [0, 0, 1, 1, 0, 0, 0, 0, 0, 0, 0, 0, 0], [1, 0, 0, 0, 1, 0, 0, 0, 0, 1, 0, 0, 0], [0, 1, 0, 0, 0, 1, 0, 0, 0, 0, 0, 0, 0],\n",
    "            [0, 0, 0, 0, 0, 0, 1, 0, 0, 0, 0, 0, 0], [0, 0, 0, 0, 0, 0, 0, 1, 0, 0, 1, 0, 0], [0, 1, 0, 0, 0, 0, 0, 0, 1, 0, 0, 0, 0],\n",
    "            [0, 0, 0, 0, 1, 0, 0, 0, 0, 1, 0, 0, 1], [0,0,0,0,0,0,0,1,0,0,1,1,0], [0,0,0,0,0,0,0,0,0,0,1,1,0], [0,0,0,0,0,0,0,0,0,1,0,0,1]], 13)"
   ]
  },
  {
   "cell_type": "code",
   "execution_count": null,
   "metadata": {},
   "outputs": [],
   "source": [
    "# 내가 푼 답안 2\n",
    "# DFS 문제\n",
    "def solution(n, computers):\n",
    "    visited = [False for i in range(n)]\n",
    "    def dfs(start, computers, visited):\n",
    "        visited[start] = True\n",
    "        for j in range(len(computers[start])):\n",
    "            if computers[start][j] == 1 and not visited[j]:\n",
    "                dfs(j, computers, visited)\n",
    "\n",
    "    count = 0\n",
    "    for i in range(n):\n",
    "        if not visited[i]:\n",
    "            dfs(i, computers, visited)\n",
    "            count += 1\n",
    "    return count\n"
   ]
  },
  {
   "cell_type": "markdown",
   "metadata": {},
   "source": [
    "8.3 단어 변환\n",
    "\n",
    "- 문제 설명\n",
    "\n",
    " 두 개의 단어 begin, target과 단어의 집합 words가 있습니다. 아래와 같은 규칙을 이용하여 begin에서 target으로 변환하는 가장 짧은 변환 과정을 찾으려고 합니다.\n",
    " \n",
    " 1. 한 번에 한 개의 알파벳만 바꿀 수 있습니다.<br>\n",
    " 2. words에 있는 단어로만 변환할 수 있습니다.\n",
    " \n",
    " 예를 들어 begin이 \"hit\", target가 \"cog\", words가 [\"hot\",\"dot\",\"dog\",\"lot\",\"log\",\"cog\"]라면 \"hit\" -> \"hot\" -> \"dot\" -> \"dog\" -> \"cog\"와 같이 4단계를 거쳐 변환할 수 있습니다.\n",
    " \n",
    "  두 개의 단어 begin, target과 단어의 집합 words가 매개변수로 주어질 때, 최소 몇 단계의 과정을 거쳐 begin을 target으로 변환할 수 있는지 return 하도록 solution 함수를 작성해주세요.<br><br><br>\n",
    "  \n",
    "- 제한사항\n",
    "\n",
    " 각 단어는 알파벳 소문자로만 이루어져 있습니다.<br>\n",
    " 각 단어의 길이는 3 이상 10 이하이며 모든 단어의 길이는 같습니다.<br>\n",
    " words에는 3개 이상 50개 이하의 단어가 있으며 중복되는 단어는 없습니다.<br>\n",
    " begin과 target은 같지 않습니다.<br>\n",
    " 변환할 수 없는 경우에는 0를 return 합니다.<br><br><br>\n",
    " \n",
    "- 입출력 예\n",
    "\n",
    " begin&nbsp;&nbsp;&nbsp;&nbsp;&nbsp;\ttarget&nbsp;&nbsp;&nbsp;&nbsp;&nbsp;&nbsp;&nbsp;&nbsp;&nbsp;&nbsp;&nbsp;&nbsp;&nbsp;&nbsp;&nbsp;&nbsp;&nbsp;&nbsp;&nbsp;&nbsp;&nbsp;&nbsp;&nbsp;&nbsp;&nbsp;&nbsp;&nbsp;&nbsp;&nbsp;&nbsp;\twords&nbsp;&nbsp;&nbsp;&nbsp;&nbsp;&nbsp;&nbsp;&nbsp;&nbsp;&nbsp;&nbsp;&nbsp;&nbsp;&nbsp;&nbsp;&nbsp;&nbsp;&nbsp;&nbsp;&nbsp;&nbsp;&nbsp;&nbsp;&nbsp;&nbsp;&nbsp;&nbsp;&nbsp;&nbsp;&nbsp;&nbsp;&nbsp;&nbsp;&nbsp;&nbsp;&nbsp;&nbsp;&nbsp;\treturn<br>\n",
    " &nbsp;\"hit\"&nbsp;&nbsp;&nbsp;&nbsp;&nbsp;&nbsp;&nbsp;&nbsp;\t\"cog\"&nbsp;&nbsp;&nbsp;&nbsp;&nbsp;&nbsp;&nbsp;&nbsp;&nbsp;&nbsp;[\"hot\", \"dot\", \"dog\", \"lot\", \"log\", \"cog\"]\t&nbsp;&nbsp;&nbsp;&nbsp;&nbsp;&nbsp;&nbsp;&nbsp;&nbsp;&nbsp;&nbsp;&nbsp;&nbsp;\n",
    "&nbsp;4<br>\n",
    " &nbsp;\"hit\"&nbsp;&nbsp;&nbsp;&nbsp;&nbsp;&nbsp;&nbsp;&nbsp;&nbsp;\"cog\"&nbsp;&nbsp;&nbsp;&nbsp;&nbsp;&nbsp;&nbsp;&nbsp;&nbsp;&nbsp;&nbsp;&nbsp;\t[\"hot\", \"dot\", \"dog\", \"lot\", \"log\"]&nbsp;&nbsp;&nbsp;&nbsp;&nbsp;&nbsp;&nbsp;&nbsp;&nbsp;&nbsp;&nbsp;&nbsp;&nbsp;&nbsp;&nbsp;&nbsp;&nbsp;&nbsp;&nbsp;&nbsp;&nbsp;&nbsp;\t0"
   ]
  },
  {
   "cell_type": "code",
   "execution_count": null,
   "metadata": {},
   "outputs": [],
   "source": [
    "# 내가 푼 답안 1\n",
    "def solution(begin, target, words):\n",
    "    if target in words:\n",
    "        del(words[words.index(target)])\n",
    "        words.append(begin)\n",
    "\n",
    "        a = target\n",
    "        count = 0\n",
    "        count_list = []\n",
    "        garbage = []\n",
    "\n",
    "        while True:\n",
    "            if begin in count_list:\n",
    "                return count\n",
    "                \n",
    "            for i in range(len(words)):\n",
    "                word_count = 0\n",
    "                for j in range(len(a)):\n",
    "                    if a[j] != words[i][j]:\n",
    "                        word_count += 1\n",
    "                        \n",
    "                if words[i] not in count_list and word_count == 1:\n",
    "                    if words[i] not in garbage:\n",
    "                        a = words[i]\n",
    "                        count += 1\n",
    "                        count_list.append(a)\n",
    "                        break\n",
    "\n",
    "                elif i == len(words)-1 and word_count != 1:\n",
    "                    garbage.append(count_list[-1])\n",
    "                    del(count_list[-1])\n",
    "                    a = count_list[-1]\n",
    "                    count -= 1\n",
    "                    \n",
    "    else:\n",
    "        answer = 0\n",
    "        \n",
    "    return answer"
   ]
  },
  {
   "cell_type": "code",
   "execution_count": null,
   "metadata": {},
   "outputs": [],
   "source": [
    "# 내가 푼 답안 2(답안 1 작성 후, 시간 많이 지난 후 푼 것.)\n",
    "# BFS\n",
    "from collections import deque\n",
    "def solution(begin, target, words):\n",
    "    if target not in words:\n",
    "        return 0\n",
    "    \n",
    "    words.append(begin)\n",
    "    a = {i:[] for i in words}\n",
    "    for i in a:\n",
    "        for j in words:\n",
    "            count = 0\n",
    "            for n, m in zip(i, j):\n",
    "                if n!=m: count += 1\n",
    "            if count == 1: a[i].append(j)\n",
    "\n",
    "    count = {i: 0 for i in words}\n",
    "    count[begin] = 1\n",
    "\n",
    "    queue = deque([begin])\n",
    "\n",
    "    while queue:\n",
    "        b = queue.popleft()\n",
    "        for i in a[b]:\n",
    "            if count[i] == 0:\n",
    "                count[i] = count[b] +1\n",
    "                queue.append(i)\n",
    "    \n",
    "    return count[target]-1"
   ]
  },
  {
   "cell_type": "markdown",
   "metadata": {},
   "source": [
    "8.4 여행경로\n",
    "\n",
    "- 문제 설명\n",
    "\n",
    " 주어진 항공권을 모두 이용하여 여행경로를 짜려고 합니다. 항상 \"ICN\" 공항에서 출발합니다.\n",
    " \n",
    " 항공권 정보가 담긴 2차원 배열 tickets가 매개변수로 주어질 때, 방문하는 공항 경로를 배열에 담아 return 하도록 solution 함수를 작성해주세요.<br><br><br>\n",
    " \n",
    "- 제한사항\n",
    "\n",
    " 모든 공항은 알파벳 대문자 3글자로 이루어집니다.<br>\n",
    " 주어진 공항 수는 3개 이상 10,000개 이하입니다.<br>\n",
    " tickets의 각 행 [a, b]는 a 공항에서 b 공항으로 가는 항공권이 있다는 의미입니다.<br>\n",
    " 주어진 항공권은 모두 사용해야 합니다.<br>\n",
    " 만일 가능한 경로가 2개 이상일 경우 알파벳 순서가 앞서는 경로를 return 합니다.<br>\n",
    " 모든 도시를 방문할 수 없는 경우는 주어지지 않습니다.<br><br><br>\n",
    " \n",
    "- 입출력 예\n",
    "\n",
    " &nbsp;&nbsp;&nbsp;&nbsp;&nbsp;&nbsp;&nbsp;&nbsp;&nbsp;&nbsp;&nbsp;&nbsp;&nbsp;&nbsp;&nbsp;&nbsp;&nbsp;&nbsp;&nbsp;&nbsp;&nbsp;&nbsp;&nbsp;&nbsp;&nbsp;&nbsp;&nbsp;&nbsp;&nbsp;&nbsp;&nbsp;&nbsp;&nbsp;&nbsp;&nbsp;&nbsp;&nbsp;&nbsp;&nbsp;&nbsp;&nbsp;&nbsp;&nbsp;&nbsp;&nbsp;&nbsp;&nbsp;&nbsp;&nbsp;&nbsp;&nbsp;&nbsp;&nbsp;&nbsp;&nbsp;&nbsp;tickets&nbsp;&nbsp;&nbsp;&nbsp;&nbsp;&nbsp;&nbsp;&nbsp;&nbsp;&nbsp;&nbsp;&nbsp;&nbsp;&nbsp;&nbsp;&nbsp;&nbsp;&nbsp;&nbsp;&nbsp;&nbsp;&nbsp;&nbsp;&nbsp;&nbsp;&nbsp;&nbsp;&nbsp;&nbsp;&nbsp;&nbsp;&nbsp;&nbsp;&nbsp;&nbsp;&nbsp;&nbsp;&nbsp;&nbsp;&nbsp;&nbsp;&nbsp;&nbsp;&nbsp;&nbsp;&nbsp;&nbsp;&nbsp;&nbsp;&nbsp;&nbsp;&nbsp;\t&nbsp;&nbsp;&nbsp;&nbsp;&nbsp;&nbsp;&nbsp;&nbsp;&nbsp;&nbsp;&nbsp;&nbsp;&nbsp;&nbsp;&nbsp;&nbsp;&nbsp;&nbsp;&nbsp;&nbsp;&nbsp;&nbsp;&nbsp;&nbsp;&nbsp;&nbsp;&nbsp;&nbsp;&nbsp;&nbsp;&nbsp;&nbsp;&nbsp;&nbsp;&nbsp;&nbsp;&nbsp;&nbsp;&nbsp;&nbsp;&nbsp;&nbsp;&nbsp;&nbsp;&nbsp;&nbsp;&nbsp;&nbsp;&nbsp;&nbsp;&nbsp;&nbsp;&nbsp;&nbsp;&nbsp;&nbsp;&nbsp;&nbsp;&nbsp;return<br>\n",
    "&nbsp;&nbsp;&nbsp;&nbsp;&nbsp;&nbsp;&nbsp;&nbsp;&nbsp;&nbsp;&nbsp;&nbsp;&nbsp;&nbsp;&nbsp;&nbsp;&nbsp;&nbsp;&nbsp;&nbsp;&nbsp;&nbsp;&nbsp;&nbsp;[[\"ICN\", \"JFK\"], [\"HND\", \"IAD\"], [\"JFK\", \"HND\"]]&nbsp;&nbsp;&nbsp;&nbsp;&nbsp;&nbsp;&nbsp;&nbsp;&nbsp;&nbsp;&nbsp;&nbsp;&nbsp;&nbsp;&nbsp;&nbsp;&nbsp;&nbsp;&nbsp;&nbsp;&nbsp;&nbsp;&nbsp;&nbsp;&nbsp;&nbsp;&nbsp;&nbsp;&nbsp;&nbsp;&nbsp;&nbsp;&nbsp;&nbsp;&nbsp;&nbsp;&nbsp;&nbsp;&nbsp;&nbsp;&nbsp;&nbsp;&nbsp;&nbsp;&nbsp;&nbsp;&nbsp;&nbsp;&nbsp;&nbsp;&nbsp;&nbsp;&nbsp;&nbsp;&nbsp;&nbsp;&nbsp;&nbsp;&nbsp;&nbsp;&nbsp;\t[\"ICN\", \"JFK\", \"HND\", \"IAD\"]<br>\n",
    "[[\"ICN\", \"SFO\"], [\"ICN\", \"ATL\"], [\"SFO\", \"ATL\"], [\"ATL\", \"ICN\"], [\"ATL\",\"SFO\"]]&nbsp;&nbsp;&nbsp;&nbsp;&nbsp;&nbsp;&nbsp;&nbsp;&nbsp;&nbsp;&nbsp;&nbsp;&nbsp;&nbsp;&nbsp;&nbsp;&nbsp;&nbsp;&nbsp;\t&nbsp;&nbsp;&nbsp;&nbsp;&nbsp;&nbsp;&nbsp;[\"ICN\", \"ATL\", \"ICN\", \"SFO\", \"ATL\", \"SFO\"] "
   ]
  },
  {
   "cell_type": "code",
   "execution_count": 188,
   "metadata": {},
   "outputs": [],
   "source": [
    "# 테스트 케이스 2개 시간초과\n",
    "def solution(tickets):\n",
    "    a = []\n",
    "    b = []\n",
    "    for i in tickets:\n",
    "        if a == [] and i[0] == \"ICN\":\n",
    "            a = i\n",
    "        elif a != [] and i[0] ==\"ICN\":\n",
    "            for j in range(len(i)):\n",
    "                if ord(i[1][j]) - ord(a[1][j]) < 0:\n",
    "                    a = i\n",
    "                    break\n",
    "                elif ord(i[1][j]) - ord(a[1][j]) > 0:\n",
    "                    break\n",
    "\n",
    "    del(tickets[tickets.index(a)])\n",
    "    answer = a\n",
    "\n",
    "    while tickets:\n",
    "        for i in range(len(tickets)):\n",
    "            if a[1] == tickets[i][0]:\n",
    "                a = tickets[i]\n",
    "                del(tickets[i])\n",
    "                answer.append(a[1])\n",
    "                break\n",
    "                \n",
    "    return answer"
   ]
  },
  {
   "cell_type": "code",
   "execution_count": null,
   "metadata": {},
   "outputs": [],
   "source": [
    "# 테스트 케이스 2개 런타임 오류\n",
    "def Alphabet(a, b):\n",
    "    c = []\n",
    "    for i in b:\n",
    "        if c == [] and i[0] == a:\n",
    "            c = i\n",
    "        elif c != [] and i[0] == a:\n",
    "            for j in range(len(i)):\n",
    "                if ord(i[1][j]) - ord(c[1][j]) < 0:\n",
    "                    c = i\n",
    "                    break\n",
    "                elif ord(i[1][j]) - ord(c[1][j]) > 0:\n",
    "                    break\n",
    "    return c\n",
    "\n",
    "def solution(tickets):\n",
    "    a = Alphabet(\"ICN\", tickets)\n",
    "    del(tickets[tickets.index(a)])\n",
    "    answer = a\n",
    "\n",
    "    while tickets:\n",
    "        a = Alphabet(a[1], tickets)\n",
    "        del(tickets[tickets.index(a)])\n",
    "        answer.append(a[1])\n",
    "        \n",
    "    return answer"
   ]
  },
  {
   "cell_type": "code",
   "execution_count": 218,
   "metadata": {},
   "outputs": [],
   "source": [
    "# 테스트 케이스 1개 런타임 오류, 1개 실패\n",
    "def Alphabet(a, b):\n",
    "    c = []\n",
    "    for i in b:\n",
    "        if c == [] and i[0] == a:\n",
    "            c = i\n",
    "        elif c != [] and i[0] == a:\n",
    "            for j in range(len(i)):\n",
    "                if ord(i[1][j]) - ord(c[1][j]) < 0:\n",
    "                    c = i\n",
    "                    break\n",
    "                elif ord(i[1][j]) - ord(c[1][j]) > 0:\n",
    "                    break\n",
    "    return c\n",
    "\n",
    "def solution(tickets):\n",
    "    a = Alphabet(\"ICN\", tickets)\n",
    "    b = []\n",
    "    b.append(tickets[tickets.index(a)])\n",
    "    del(tickets[tickets.index(a)])\n",
    "    answer = a\n",
    "\n",
    "    while tickets:\n",
    "        a = Alphabet(a[1], tickets)\n",
    "\n",
    "        if a == [] and tickets:\n",
    "            a = Alphabet(b[-1][0], tickets)\n",
    "            tickets.append(b[-1])\n",
    "            del(tickets[tickets.index(a)])\n",
    "\n",
    "        elif a != [] and tickets: \n",
    "            del(tickets[tickets.index(a)])\n",
    "            answer.append(a[1])\n",
    "        \n",
    "    return answer"
   ]
  },
  {
   "cell_type": "code",
   "execution_count": null,
   "metadata": {},
   "outputs": [],
   "source": [
    "# 테스트 케이스 1개 런타임 오류\n",
    "# 정확도 75.0\n",
    "def Alphabet(a, b):\n",
    "    c = []\n",
    "    for i in b:\n",
    "        if c == [] and i[0] == a:\n",
    "            c = i\n",
    "        elif c != [] and i[0] == a:\n",
    "            for j in range(len(i[1])):\n",
    "                if ord(i[1][j]) - ord(c[1][j]) < 0:\n",
    "                    c = i\n",
    "                    break\n",
    "                elif ord(i[1][j]) - ord(c[1][j]) > 0:\n",
    "                    break\n",
    "    return c\n",
    "\n",
    "\n",
    "\n",
    "def solution(tickets):\n",
    "\n",
    "    a = Alphabet(\"ICN\", tickets)\n",
    "    del(tickets[tickets.index(a)])\n",
    "    answer = a\n",
    "\n",
    "    b = []\n",
    "    b.append(a)\n",
    "    c = []\n",
    "\n",
    "\n",
    "    while tickets:\n",
    "        a = Alphabet(a[1], tickets)\n",
    "        if c:\n",
    "            tickets.append(c)\n",
    "\n",
    "        if a != []: \n",
    "            answer.append(a[1])\n",
    "            del(tickets[tickets.index(a)])\n",
    "            b.append(a)\n",
    "            c = []\n",
    "\n",
    "        else:\n",
    "            c = b.pop()\n",
    "            a = b[-1]\n",
    "            del(answer[-1])\n",
    "            \n",
    "    return answer\n",
    "    \n",
    "    \n"
   ]
  },
  {
   "cell_type": "code",
   "execution_count": null,
   "metadata": {},
   "outputs": [],
   "source": [
    "# ----------- 다른 사람이 푼 답안들 --------------------------------------------------------------------------------------------"
   ]
  },
  {
   "cell_type": "code",
   "execution_count": 244,
   "metadata": {},
   "outputs": [
    {
     "name": "stdout",
     "output_type": "stream",
     "text": [
      "defaultdict(<class 'list'>, {'ICN': ['A'], 'A': ['C', 'B'], 'C': ['A'], 'B': ['D']})\n",
      "defaultdict(<class 'list'>, {'ICN': [], 'A': ['C', 'B'], 'C': ['A'], 'B': ['D']})\n",
      "defaultdict(<class 'list'>, {'ICN': [], 'A': ['C'], 'C': ['A'], 'B': ['D']})\n",
      "defaultdict(<class 'list'>, {'ICN': [], 'A': ['C'], 'C': ['A'], 'B': []})\n",
      "defaultdict(<class 'list'>, {'ICN': [], 'A': [], 'C': ['A'], 'B': [], 'D': []})\n",
      "defaultdict(<class 'list'>, {'ICN': [], 'A': [], 'C': [], 'B': [], 'D': []})\n"
     ]
    },
    {
     "data": {
      "text/plain": [
       "['ICN', 'A', 'C', 'A', 'B', 'D']"
      ]
     },
     "execution_count": 244,
     "metadata": {},
     "output_type": "execute_result"
    }
   ],
   "source": [
    "from collections import defaultdict\n",
    "\n",
    "\n",
    "def solution(tickets):\n",
    "    answer = []\n",
    "    adj = defaultdict(list)\n",
    "    for ticket in tickets:\n",
    "        adj[ticket[0]].append(ticket[1]) # key = 출발지, unit = 도착지\n",
    "    '''\n",
    "    defaultdict 안불러오고 이렇게 해도 될 것 같은데\n",
    "    굳이 defaultdict를 쓰는 이유가 뭔지는 모르겠음,\n",
    "    adj = {}\n",
    "    for i in tickets:\n",
    "        adj[i[0]] = adj.get(i[0], [])\n",
    "        adj[i[0]].append(i[1])\n",
    "    '''\n",
    "    \n",
    "    \n",
    "    for key in adj.keys():\n",
    "        adj[key].sort(reverse=True) # 도착지 알파벳 순으로 정렬\n",
    "    print(adj)\n",
    "    \n",
    "    q = ['ICN']\n",
    "    while q:\n",
    "        tmp = q[-1]\n",
    "\n",
    "        if not adj[tmp]:\n",
    "            answer.append(q.pop())\n",
    "        else:\n",
    "            q.append(adj[tmp].pop())\n",
    "            print(adj)\n",
    "    answer.reverse()\n",
    "    return answer\n",
    "\n",
    "solution([[\"ICN\", \"A\"], [\"A\", \"B\"], [\"A\", \"C\"], [\"C\", \"A\"], [\"B\",\"D\"]])"
   ]
  },
  {
   "cell_type": "code",
   "execution_count": 173,
   "metadata": {},
   "outputs": [
    {
     "data": {
      "text/plain": [
       "['BBB', 'ICN']"
      ]
     },
     "execution_count": 173,
     "metadata": {},
     "output_type": "execute_result"
    }
   ],
   "source": [
    "a"
   ]
  },
  {
   "cell_type": "code",
   "execution_count": 224,
   "metadata": {},
   "outputs": [
    {
     "ename": "AttributeError",
     "evalue": "'NoneType' object has no attribute 'append'",
     "output_type": "error",
     "traceback": [
      "\u001b[1;31m---------------------------------------------------------------------------\u001b[0m",
      "\u001b[1;31mAttributeError\u001b[0m                            Traceback (most recent call last)",
      "\u001b[1;32m<ipython-input-224-553c1dfc88f6>\u001b[0m in \u001b[0;36m<module>\u001b[1;34m\u001b[0m\n\u001b[0;32m      2\u001b[0m \u001b[0mb\u001b[0m \u001b[1;33m=\u001b[0m \u001b[1;33m{\u001b[0m\u001b[1;33m}\u001b[0m\u001b[1;33m\u001b[0m\u001b[1;33m\u001b[0m\u001b[0m\n\u001b[0;32m      3\u001b[0m \u001b[1;32mfor\u001b[0m \u001b[0mi\u001b[0m \u001b[1;32min\u001b[0m \u001b[0ma\u001b[0m\u001b[1;33m:\u001b[0m\u001b[1;33m\u001b[0m\u001b[1;33m\u001b[0m\u001b[0m\n\u001b[1;32m----> 4\u001b[1;33m     \u001b[0mc\u001b[0m \u001b[1;33m=\u001b[0m \u001b[0mb\u001b[0m\u001b[1;33m.\u001b[0m\u001b[0mget\u001b[0m\u001b[1;33m(\u001b[0m\u001b[0mi\u001b[0m\u001b[1;33m[\u001b[0m\u001b[1;36m1\u001b[0m\u001b[1;33m]\u001b[0m\u001b[1;33m,\u001b[0m \u001b[1;33m[\u001b[0m\u001b[1;33m]\u001b[0m\u001b[1;33m)\u001b[0m\u001b[1;33m.\u001b[0m\u001b[0mappend\u001b[0m\u001b[1;33m(\u001b[0m\u001b[0mi\u001b[0m\u001b[1;33m[\u001b[0m\u001b[1;36m1\u001b[0m\u001b[1;33m]\u001b[0m\u001b[1;33m)\u001b[0m\u001b[1;33m\u001b[0m\u001b[1;33m\u001b[0m\u001b[0m\n\u001b[0m\u001b[0;32m      5\u001b[0m     \u001b[0mb\u001b[0m\u001b[1;33m[\u001b[0m\u001b[0mi\u001b[0m\u001b[1;33m[\u001b[0m\u001b[1;36m0\u001b[0m\u001b[1;33m]\u001b[0m\u001b[1;33m]\u001b[0m \u001b[1;33m=\u001b[0m \u001b[0mc\u001b[0m\u001b[1;33m\u001b[0m\u001b[1;33m\u001b[0m\u001b[0m\n",
      "\u001b[1;31mAttributeError\u001b[0m: 'NoneType' object has no attribute 'append'"
     ]
    }
   ],
   "source": [
    "a = [[\"ICN\", \"A\"], [\"A\", \"B\"], [\"A\", \"C\"], [\"C\", \"A\"], [\"B\",\"D\"]]\n",
    "b = {}\n",
    "for i in a:\n",
    "    c = b.get(i[1], []).append(i[1])\n",
    "    b[i[0]] = c"
   ]
  },
  {
   "cell_type": "code",
   "execution_count": 238,
   "metadata": {},
   "outputs": [
    {
     "data": {
      "text/plain": [
       "{'ICN': ['A'], 'A': ['B', 'C'], 'C': ['A'], 'B': ['D']}"
      ]
     },
     "execution_count": 238,
     "metadata": {},
     "output_type": "execute_result"
    }
   ],
   "source": [
    "a = [[\"ICN\", \"A\"], [\"A\", \"B\"], [\"A\", \"C\"], [\"C\", \"A\"], [\"B\",\"D\"]]\n",
    "b = {}\n",
    "for i in a:\n",
    "    b[i[0]] = b.get(i[0], [])\n",
    "    b[i[0]].append(i[1])\n",
    "b"
   ]
  },
  {
   "cell_type": "markdown",
   "metadata": {},
   "source": [
    "## 9. 그래프 탐색"
   ]
  },
  {
   "cell_type": "markdown",
   "metadata": {},
   "source": [
    "1.  가장 먼 노드\n",
    "\n",
    " - bfs 문제에 가까움"
   ]
  },
  {
   "cell_type": "code",
   "execution_count": null,
   "metadata": {},
   "outputs": [],
   "source": [
    "# 내가 푼 답 1\n",
    "from collections import deque\n",
    "def solution(a):\n",
    "    node = [[] for i in range(n+1)]\n",
    "    for i in a:\n",
    "        node[i[0]].append(i[1])\n",
    "        node[i[1]].append(i[0])\n",
    "    \n",
    "    for i in range(len(node)):\n",
    "        node[i].sort()\n",
    "\n",
    "\n",
    "    count = [0] * (n+1)\n",
    "    visited = [False] * (n+1)\n",
    "    \n",
    "    def bfs(visited, node, count, v):\n",
    "        visited[v] = True\n",
    "        queue = deque([v])\n",
    "        while queue:\n",
    "            start = queue.popleft()\n",
    "            for i in node[start]:\n",
    "                if not visited[i]:\n",
    "                    queue.append(i)\n",
    "                    visited[i] = True\n",
    "                    count[i] += count[start]+1\n",
    "\n",
    "    bfs(visited, node, count, 1)\n",
    "    return count.count(max(count))\n"
   ]
  },
  {
   "cell_type": "code",
   "execution_count": null,
   "metadata": {},
   "outputs": [],
   "source": [
    "# 내가 푼 답 2\n",
    "from collections import deque\n",
    "def solution(n, a):\n",
    "    b = [[] for i in range(n+1)]\n",
    "    for j in a:\n",
    "        b[j[0]].append(j[1])\n",
    "        b[j[1]].append(j[0])\n",
    "\n",
    "    visited = [0 for i in range(n+1)]\n",
    "    stack = deque([1])\n",
    "    visited[1] = 1\n",
    "    while stack:\n",
    "        c = stack.popleft()\n",
    "        for j in b[c]:\n",
    "            if visited[j] == 0:\n",
    "                visited[j] = (visited[c] + 1)\n",
    "                stack.append(j)\n",
    "    return visited.count(max(visited))"
   ]
  },
  {
   "cell_type": "markdown",
   "metadata": {},
   "source": [
    "2. 순위\n",
    "\n",
    " - 이긴 노드와 진 노드를 각각의 dfs로 돌려서 모든 visited가 True이면 count+=1"
   ]
  },
  {
   "cell_type": "code",
   "execution_count": null,
   "metadata": {},
   "outputs": [],
   "source": [
    "# 내가 푼 답안\n",
    "def solution(n, a):\n",
    "    def dfs(a, v):\n",
    "        visited[v] = True\n",
    "        for i in a[v]:\n",
    "            if not visited[i]:\n",
    "                dfs(a, i)\n",
    "\n",
    "    c = [[] for i in range(n+1)]\n",
    "    d = [[] for i in range(n+1)]\n",
    "    for i in a:\n",
    "        c[i[0]].append(i[1])\n",
    "        d[i[1]].append(i[0])\n",
    "\n",
    "    count = 0\n",
    "    for i in range(1, len(c)):\n",
    "        visited = [False] * (n+1)\n",
    "        dfs(c, i)\n",
    "        dfs(d, i)\n",
    "        if all(visited[1:]):\n",
    "            count += 1\n",
    "    return count"
   ]
  },
  {
   "cell_type": "markdown",
   "metadata": {},
   "source": [
    "# 10. 동적 계획법\n"
   ]
  },
  {
   "cell_type": "markdown",
   "metadata": {},
   "source": [
    "1. N으로 표현"
   ]
  },
  {
   "cell_type": "code",
   "execution_count": null,
   "metadata": {},
   "outputs": [],
   "source": [
    "def solution(n, x):\n",
    "    d = [[int(str(n)*i)] if i >= 1 else [] for i in range(10)]\n",
    "    answer = 9\n",
    "\n",
    "    for i in range(1, 9):\n",
    "        for j in range(1, i):\n",
    "            for f in d[j]:\n",
    "                for k in d[i-j]:\n",
    "                    if f + k not in d[i]:\n",
    "                        d[i].append(f+k)\n",
    "                    if f - k not in d[i]:\n",
    "                        d[i].append(f-k)\n",
    "                    if f * k not in d[i]:\n",
    "                        d[i].append(f*k)\n",
    "                    if k != 0:\n",
    "                        if f // k not in d[i]:\n",
    "                            d[i].append(f//k)\n",
    "        if x in d[i]:\n",
    "            answer = i\n",
    "            break\n",
    "            \n",
    "    if answer > 8: return -1\n",
    "    else: return answer"
   ]
  },
  {
   "cell_type": "code",
   "execution_count": null,
   "metadata": {},
   "outputs": [],
   "source": [
    "# ---- 다른 사람 풀이들 ----------------------------------------------------"
   ]
  },
  {
   "cell_type": "code",
   "execution_count": 5,
   "metadata": {},
   "outputs": [
    {
     "data": {
      "text/plain": [
       "4"
      ]
     },
     "execution_count": 5,
     "metadata": {},
     "output_type": "execute_result"
    }
   ],
   "source": [
    "def solution(NUM, number):\n",
    "    arr = [[]] + [[int(str(NUM) * i)] for i in range(1,9)]\n",
    "\n",
    "    if [number] in arr:\n",
    "        return arr.index([number])\n",
    "\n",
    "    for i in range(2, 9):\n",
    "        for j in range(1, i):\n",
    "            for a in arr[j]:\n",
    "                for b in arr[i-j]:\n",
    "                    arr[i].append(a + b)\n",
    "                    arr[i].append(a * b)\n",
    "                    arr[i].append(a - b)\n",
    "                    if 0 != b:\n",
    "                        arr[i].append(a // b)\n",
    "        if number in arr[i]:\n",
    "            return i\n",
    "        arr[i] = list(set(arr[i]))\n",
    "    return -1\n",
    "\n",
    "solution(5, 12)"
   ]
  },
  {
   "cell_type": "markdown",
   "metadata": {},
   "source": [
    "2. 정수 삼각형"
   ]
  },
  {
   "cell_type": "code",
   "execution_count": 121,
   "metadata": {},
   "outputs": [
    {
     "data": {
      "text/plain": [
       "[[7], [10, 15], [18, 16, 15], [20, 25, 20, 19], [24, 30, 27, 26, 24]]"
      ]
     },
     "execution_count": 121,
     "metadata": {},
     "output_type": "execute_result"
    }
   ],
   "source": [
    "# 효율성 0\n",
    "def solution(a):\n",
    "    total = [[0]*len(a[j]) for j in range(len(a))]\n",
    "    total[0][0] = a[0][0]\n",
    "\n",
    "    def dinamic(x, y):\n",
    "        if x+1 < len(a):\n",
    "            if total[x+1][y] < total[x][y]+a[x+1][y]:\n",
    "                total[x+1][y] = total[x][y]+a[x+1][y]\n",
    "                dinamic(x+1, y)\n",
    "\n",
    "        if x+1 < len(a) and y+1 < len(a[x+1]):\n",
    "            if total[x+1][y+1] < total[x][y]+a[x+1][y+1]:\n",
    "                total[x+1][y+1] = total[x][y]+a[x+1][y+1]\n",
    "                dinamic(x+1, y+1)\n",
    "    dinamic(0,0)\n",
    "    return max(total[-1])"
   ]
  },
  {
   "cell_type": "code",
   "execution_count": 1,
   "metadata": {},
   "outputs": [],
   "source": [
    "# 다른 사람 따라한 거\n",
    "def solution(a):\n",
    "    for i in range(1, len(a)):\n",
    "        for j in range(len(a[i])):\n",
    "            if j == 0:\n",
    "                a[i][j] += a[i-1][j]\n",
    "            elif j == len(a[i])-1:\n",
    "                a[i][j] += a[i-1][j-1]\n",
    "            else:\n",
    "                a[i][j] += max(a[i-1][j], a[i-1][j-1])\n",
    "    return max(a[-1])"
   ]
  },
  {
   "cell_type": "code",
   "execution_count": null,
   "metadata": {},
   "outputs": [],
   "source": [
    "# ----- 다른 사람 풀이 ------------------------------------------------------------"
   ]
  },
  {
   "cell_type": "code",
   "execution_count": 136,
   "metadata": {},
   "outputs": [],
   "source": [
    "def solution(triangle, l=[]):\n",
    "    if not triangle:\n",
    "        return max(l)\n",
    "    else:\n",
    "        return solution(triangle[1:n], [max(x, y)+z for x, y, z in zip([0]+l, l+[0], triangle[0])])"
   ]
  },
  {
   "cell_type": "markdown",
   "metadata": {},
   "source": [
    "3.등굣길"
   ]
  },
  {
   "cell_type": "code",
   "execution_count": 335,
   "metadata": {},
   "outputs": [
    {
     "data": {
      "text/plain": [
       "[[0, 0, 0, 0], [0, 0, 0, 0], [0, 0, 0, 0]]"
      ]
     },
     "execution_count": 335,
     "metadata": {},
     "output_type": "execute_result"
    }
   ],
   "source": [
    "def solution(m, n, puddles):\n",
    "    if [1,1] in puddles:\n",
    "        return 0\n",
    "    \n",
    "    a = [[0 for i in range(m+1)] for j in range(n+1)]\n",
    "    a[1][1] = 1\n",
    "    for i in range(1, n+1):\n",
    "        for j in range(1, m+1):\n",
    "            if [j, i] in puddles:\n",
    "                continue\n",
    "                \n",
    "            if i == 1 and j == 1:\n",
    "                continue\n",
    "\n",
    "            a[i][j] = a[i-1][j]+a[i][j-1]\n",
    "    answer = (a[n][m]) % 1000000007\n",
    "    return answer\n",
    "\n",
    "solution(4,3, [[1,2]])"
   ]
  },
  {
   "cell_type": "markdown",
   "metadata": {},
   "source": [
    "4. 도둑질"
   ]
  },
  {
   "cell_type": "code",
   "execution_count": null,
   "metadata": {},
   "outputs": [],
   "source": [
    "def solution(money):\n",
    "    \n",
    "    a = [0 for i in range(len(money))]\n",
    "    \n",
    "    a[0] = money[0]\n",
    "    a[1] = max(money[0], money[1])\n",
    "    for i in range(2, len(a)-1):\n",
    "        a[i] = max(a[i-1], a[i-2]+money[i])\n",
    "        \n",
    "    b = [0 for i in range(len(money))]\n",
    "    b[0] = 0\n",
    "    b[1] = money[1]\n",
    "    for i in range(2, len(b)):\n",
    "        b[i] = max(b[i-1], b[i-2]+money[i])\n",
    "\n",
    "    return max(a[-2],b[-1])"
   ]
  },
  {
   "cell_type": "markdown",
   "metadata": {},
   "source": [
    "## 11. 이분탐색"
   ]
  },
  {
   "cell_type": "markdown",
   "metadata": {},
   "source": [
    "1. 입국 심사"
   ]
  },
  {
   "cell_type": "code",
   "execution_count": null,
   "metadata": {},
   "outputs": [],
   "source": [
    "# 다른 사람 풀이\n",
    "def solution(n, times):\n",
    "    answer = 0\n",
    "    # right는 가장 비효율적으로 심사했을 때 걸리는 시간\n",
    "    # 가장 긴 심사시간이 소요되는 심사관에게 n 명 모두 심사받는 경우이다.\n",
    "    left, right = 1, max(times) * n\n",
    "    while left <= right:\n",
    "        mid = (left+ right) // 2\n",
    "        people = 0\n",
    "        for time in times:\n",
    "            # people 은 모든 심사관들이 mid분 동안 심사한 사람의 수\n",
    "            people += mid // time\n",
    "            # 모든 심사관을 거치지 않아도 mid분 동안 n명 이상의 심사를 할 수 있다면 반복문을 나간다.\n",
    "            if people >= n:\n",
    "                break\n",
    "        \n",
    "        # 심사한 사람의 수가 심사 받아야할 사람의 수(n)보다 많거나 같은 경우\n",
    "        if people >= n:\n",
    "            answer = mid\n",
    "            right = mid - 1\n",
    "        # 심사한 사람의 수가 심사 받아야할 사람의 수(n)보다 적은 경우\n",
    "        elif people < n:\n",
    "            left = mid + 1\n",
    "            \n",
    "    return answer"
   ]
  }
 ],
 "metadata": {
  "kernelspec": {
   "display_name": "Python 3",
   "language": "python",
   "name": "python3"
  },
  "language_info": {
   "codemirror_mode": {
    "name": "ipython",
    "version": 3
   },
   "file_extension": ".py",
   "mimetype": "text/x-python",
   "name": "python",
   "nbconvert_exporter": "python",
   "pygments_lexer": "ipython3",
   "version": "3.8.5"
  }
 },
 "nbformat": 4,
 "nbformat_minor": 4
}
