{
 "cells": [
  {
   "cell_type": "markdown",
   "metadata": {},
   "source": [
    "1. 2주차"
   ]
  },
  {
   "cell_type": "code",
   "execution_count": null,
   "metadata": {},
   "outputs": [],
   "source": [
    "# 내 답안\n",
    "def aaa(a):\n",
    "    if a >= 90:\n",
    "        return \"A\"\n",
    "    elif 80<=a<90:\n",
    "        return \"B\"\n",
    "    elif 70<= a < 80:\n",
    "        return \"C\"\n",
    "    elif 50 <= a < 70:\n",
    "        return \"D\"\n",
    "    else:\n",
    "        return \"F\"\n",
    "\n",
    "def solution(a):\n",
    "    b = [[k[i] for k in a] for i in range(len(a[0]))]\n",
    "    # b = list(zip(*a)) 이것만으로 위처럼 하지않고 행렬을 전치시킬수 있음 \n",
    "\n",
    "    answer = \"\"\n",
    "    for i in range(len(b)):\n",
    "        if min(b[i]) < b[i][i] < max(b[i]) or b[i].count(b[i][i]) != 1:\n",
    "            answer += aaa(sum(b[i])//len(b[i]))\n",
    "        else:\n",
    "            del b[i][i]\n",
    "            answer += aaa(sum(b[i])//len(b[i]))\n",
    "    return answer"
   ]
  },
  {
   "cell_type": "code",
   "execution_count": null,
   "metadata": {},
   "outputs": [],
   "source": [
    "# ---- 다른 사람 답안 ---------------------------------------------------"
   ]
  },
  {
   "cell_type": "code",
   "execution_count": null,
   "metadata": {},
   "outputs": [],
   "source": [
    "solution = lambda scores: \"\".join(map(lambda m: \"FDDCBAA\"[max(int(sum(m) / len(m) / 10) - 4, 0)], map(lambda m: (m[0], *m[1]) if min(m[1]) <= m[0] <= max(m[1]) else m[1], ((s[i], s[:i] + s[i+1:]) for i, s in enumerate(zip(*scores))))))"
   ]
  }
 ],
 "metadata": {
  "kernelspec": {
   "display_name": "Python 3",
   "language": "python",
   "name": "python3"
  },
  "language_info": {
   "codemirror_mode": {
    "name": "ipython",
    "version": 3
   },
   "file_extension": ".py",
   "mimetype": "text/x-python",
   "name": "python",
   "nbconvert_exporter": "python",
   "pygments_lexer": "ipython3",
   "version": "3.8.5"
  }
 },
 "nbformat": 4,
 "nbformat_minor": 4
}
