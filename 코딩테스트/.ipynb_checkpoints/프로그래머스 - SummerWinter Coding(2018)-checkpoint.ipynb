{
 "cells": [
  {
   "cell_type": "markdown",
   "metadata": {},
   "source": [
    "1. 스킬트리"
   ]
  },
  {
   "cell_type": "code",
   "execution_count": 1,
   "metadata": {},
   "outputs": [],
   "source": [
    "# 내 답안\n",
    "def solution(skill, skill_trees):\n",
    "    count = 0\n",
    "    for i in skill_trees:\n",
    "        mea = True\n",
    "        for j in range(1, len(skill)):\n",
    "            if skill[j] in i:\n",
    "                if skill[j-1] not in i[:i.index(skill[j])]:\n",
    "                    mea = False\n",
    "                    break\n",
    "        if mea:\n",
    "            count += 1\n",
    "    return count"
   ]
  },
  {
   "cell_type": "markdown",
   "metadata": {},
   "source": [
    "2. 방문길이"
   ]
  },
  {
   "cell_type": "code",
   "execution_count": null,
   "metadata": {},
   "outputs": [],
   "source": [
    "# 내가 푼 답안\n",
    "def solution(dirs):\n",
    "    a = [[0 for i in range(11)] for j in range(11)]\n",
    "    x, y = 5, 5\n",
    "    a[x][y] = 1\n",
    "    count = 0\n",
    "    b = []\n",
    "    for i in dirs:\n",
    "        pre_x = x\n",
    "        pre_y = y\n",
    "        if i == 'U':\n",
    "            x -= 1\n",
    "        elif i == 'L':\n",
    "            y -= 1\n",
    "        elif i == 'R':\n",
    "            y += 1\n",
    "        elif i == 'D':\n",
    "            x += 1\n",
    "        \n",
    "        if x >= len(a) or x <= -1 or y >= len(a[0]) or y <= -1:\n",
    "            x = pre_x\n",
    "            y = pre_y\n",
    "            continue\n",
    "            \n",
    "        if (pre_x, pre_y, x, y) not in b and (x, y, pre_x, pre_y) not in b:\n",
    "            b.append((pre_x, pre_y, x, y))\n",
    "    return len(set(b))\n",
    "print(solution(\"LULLLLLLU\"))\n",
    "print(solution(\"ULURRDLLU\"))"
   ]
  },
  {
   "cell_type": "code",
   "execution_count": null,
   "metadata": {},
   "outputs": [],
   "source": [
    "# 다른 사람 풀이\n",
    "def solution(dirs):\n",
    "    s = set()\n",
    "    d = {'U': (0,1), 'D': (0, -1), 'R': (1, 0), 'L': (-1, 0)}\n",
    "    x, y = 0, 0\n",
    "    for i in dirs:\n",
    "        nx, ny = x + d[i][0], y + d[i][1]\n",
    "        if -5 <= nx <= 5 and -5 <= ny <= 5:\n",
    "            s.add((x,y,nx,ny))\n",
    "            s.add((nx,ny,x,y))\n",
    "            x, y = nx, ny\n",
    "    return len(s)//2"
   ]
  }
 ],
 "metadata": {
  "kernelspec": {
   "display_name": "Python 3",
   "language": "python",
   "name": "python3"
  },
  "language_info": {
   "codemirror_mode": {
    "name": "ipython",
    "version": 3
   },
   "file_extension": ".py",
   "mimetype": "text/x-python",
   "name": "python",
   "nbconvert_exporter": "python",
   "pygments_lexer": "ipython3",
   "version": "3.8.5"
  }
 },
 "nbformat": 4,
 "nbformat_minor": 4
}
