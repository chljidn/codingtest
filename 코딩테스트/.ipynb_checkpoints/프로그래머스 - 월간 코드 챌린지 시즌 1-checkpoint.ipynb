{
 "cells": [
  {
   "cell_type": "markdown",
   "metadata": {},
   "source": [
    "1. 내적"
   ]
  },
  {
   "cell_type": "code",
   "execution_count": 4,
   "metadata": {},
   "outputs": [
    {
     "data": {
      "text/plain": [
       "3"
      ]
     },
     "execution_count": 4,
     "metadata": {},
     "output_type": "execute_result"
    }
   ],
   "source": [
    "a = [1,2,3,4]\n",
    "b = [-3,-1,0,2]\n",
    "c = [i*j for i, j in zip(a, b)]\n",
    "sum(c)"
   ]
  },
  {
   "cell_type": "code",
   "execution_count": null,
   "metadata": {},
   "outputs": [],
   "source": []
  },
  {
   "cell_type": "markdown",
   "metadata": {},
   "source": [
    "2. 3진법 뒤집기\n"
   ]
  },
  {
   "cell_type": "code",
   "execution_count": 51,
   "metadata": {},
   "outputs": [
    {
     "data": {
      "text/plain": [
       "7"
      ]
     },
     "execution_count": 51,
     "metadata": {},
     "output_type": "execute_result"
    }
   ],
   "source": [
    "def aa(n):\n",
    "    a = \"\"\n",
    "    while n > 0:\n",
    "        a += str(n % 3)\n",
    "        n = n // 3\n",
    "    return a\n",
    "\n",
    "def solution(n):\n",
    "    answer = int(aa(n),3)\n",
    "    return answer"
   ]
  },
  {
   "cell_type": "code",
   "execution_count": null,
   "metadata": {},
   "outputs": [],
   "source": []
  },
  {
   "cell_type": "markdown",
   "metadata": {},
   "source": [
    "3. 두 개 뽑아서 더하기"
   ]
  },
  {
   "cell_type": "code",
   "execution_count": null,
   "metadata": {},
   "outputs": [],
   "source": [
    "from itertools import combinations\n",
    "def solution(numbers):\n",
    "    c = list(set([sum(i) for i in list(combinations(numbers, 2))]))\n",
    "    return c"
   ]
  },
  {
   "cell_type": "code",
   "execution_count": null,
   "metadata": {},
   "outputs": [],
   "source": []
  },
  {
   "cell_type": "markdown",
   "metadata": {},
   "source": [
    "4. 삼각 달팽이"
   ]
  },
  {
   "cell_type": "code",
   "execution_count": 240,
   "metadata": {},
   "outputs": [
    {
     "data": {
      "text/plain": [
       "[1, 2, 12, 3, 13, 11, 4, 14, 15, 10, 5, 6, 7, 8, 9]"
      ]
     },
     "execution_count": 240,
     "metadata": {},
     "output_type": "execute_result"
    }
   ],
   "source": [
    "def solution(n):\n",
    "    a = [i+1 for i in range(sum([j for j in range(n, 0, -1)]))]\n",
    "    a.reverse()\n",
    "    matrix = [[0 for j in range(i)] for i in range(1, n+1)]\n",
    "    b = [[1, 0], [0,1],[-1, -1]]\n",
    "\n",
    "    x = 0\n",
    "    y = 0\n",
    "    matrix[x][y] = a.pop()\n",
    "    while a:\n",
    "        for i in b:\n",
    "            while True:\n",
    "                if 0 <= x+i[0] <= n-1 and 0 <= y+i[1] <= n-1 and matrix[x+i[0]][y+i[1]] == 0:\n",
    "                    x += i[0]\n",
    "                    y += i[1]\n",
    "                    matrix[x][y] = a.pop()\n",
    "                else:\n",
    "                    break\n",
    "\n",
    "    answer = [j for i in matrix for j in i]\n",
    "    #answer = sum(matrix, [])\n",
    "    return answer"
   ]
  },
  {
   "cell_type": "code",
   "execution_count": null,
   "metadata": {},
   "outputs": [],
   "source": []
  },
  {
   "cell_type": "markdown",
   "metadata": {},
   "source": [
    "5. 이진 변환 반복하기\n",
    "\n",
    " - 진법 변환 함수 알아놓기"
   ]
  },
  {
   "cell_type": "code",
   "execution_count": 272,
   "metadata": {},
   "outputs": [
    {
     "data": {
      "text/plain": [
       "[3, 8]"
      ]
     },
     "execution_count": 272,
     "metadata": {},
     "output_type": "execute_result"
    }
   ],
   "source": [
    "def solution(a):\n",
    "    answer = [0,0]\n",
    "    while a!= '1':\n",
    "        answer[1] += a.count(\"0\")\n",
    "        a = a.replace(\"0\",\"\")\n",
    "        a = format(len(a), 'b')\n",
    "        answer[0] += 1\n",
    "    return answer"
   ]
  },
  {
   "cell_type": "code",
   "execution_count": null,
   "metadata": {},
   "outputs": [],
   "source": []
  },
  {
   "cell_type": "markdown",
   "metadata": {},
   "source": [
    "6. 쿼드 압축 후 개수세기\n",
    "\n",
    " - 넘파이 써도 되는 듯...(다 풀고 알았음...)\n",
    " "
   ]
  },
  {
   "cell_type": "code",
   "execution_count": 755,
   "metadata": {},
   "outputs": [],
   "source": [
    "def devide(a):\n",
    "    c = [a[0:(len(a)//2)],a[len(a)//2:len(a)]]\n",
    "    answer= []\n",
    "    for i in c:\n",
    "        d = []\n",
    "        e = []\n",
    "        for j in i:\n",
    "            d.append(j[0:len(j)//2]) \n",
    "            e.append(j[len(j)//2:len(j)])\n",
    "        answer.append(d)\n",
    "        answer.append(e)\n",
    "    \n",
    "    for j in range(len(answer)):\n",
    "        ff = [i_1 for j_1 in answer[j] for i_1 in j_1]\n",
    "        if len(set(ff)) != 1:\n",
    "            answer[j] = devide(answer[j])\n",
    "        else:\n",
    "            ll = list(set(answer[j][0]))\n",
    "            count.append(ll[0]) \n",
    "    return answer\n",
    "\n",
    "def solution(arr):\n",
    "    if len(set([i for j in arr for i in j])) == 1:\n",
    "        answer = list(set([i for j in arr for i in j]))\n",
    "        return [answer.count(0), answer.count(1)] \n",
    "    \n",
    "    global count\n",
    "    count = []\n",
    "    a = devide(arr)\n",
    "    answer = [count.count(0), count.count(1)]\n",
    "    \n",
    "    return answer\n",
    "\n",
    "#solution([[1,1,1,1,1,1,1,1],[0,1,1,1,1,1,1,1],[0,0,0,0,1,1,1,1],[0,1,0,0,1,1,1,1],[0,0,0,0,0,0,1,1],[0,0,0,0,0,0,0,1],[0,0,0,0,1,0,0,1],[0,0,0,0,1,1,1,1]])\n"
   ]
  },
  {
   "cell_type": "code",
   "execution_count": null,
   "metadata": {},
   "outputs": [],
   "source": [
    "# ---- 다른 사람들 풀이-------------------------------------------------------------------------------------------------------------"
   ]
  },
  {
   "cell_type": "code",
   "execution_count": null,
   "metadata": {},
   "outputs": [],
   "source": [
    "def solution(arr):\n",
    "    answer = [0, 0]\n",
    "\n",
    "    def check(size, x, y):\n",
    "        if size == 1:\n",
    "            answer[arr[y][x]] += 1\n",
    "            return\n",
    "        else:\n",
    "            first = arr[y][x]\n",
    "\n",
    "            for dy in range(size):\n",
    "                for dx in range(size):\n",
    "                    if first != arr[y + dy][x + dx]:\n",
    "                        check(size // 2, x, y)\n",
    "                        check(size // 2, x + size // 2, y)\n",
    "                        check(size // 2, x, y + size // 2)\n",
    "                        check(size // 2, x + size // 2, y + size // 2)\n",
    "                        return\n",
    "            answer[first] += 1\n",
    "    check(len(arr),0,0)\n",
    "\n",
    "\n",
    "    return answer"
   ]
  },
  {
   "cell_type": "code",
   "execution_count": null,
   "metadata": {},
   "outputs": [],
   "source": []
  }
 ],
 "metadata": {
  "kernelspec": {
   "display_name": "Python 3",
   "language": "python",
   "name": "python3"
  },
  "language_info": {
   "codemirror_mode": {
    "name": "ipython",
    "version": 3
   },
   "file_extension": ".py",
   "mimetype": "text/x-python",
   "name": "python",
   "nbconvert_exporter": "python",
   "pygments_lexer": "ipython3",
   "version": "3.8.5"
  }
 },
 "nbformat": 4,
 "nbformat_minor": 4
}
