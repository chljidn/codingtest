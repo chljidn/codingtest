{
 "cells": [
  {
   "cell_type": "markdown",
   "metadata": {},
   "source": [
    "1. 키패드 누르기(level 1)"
   ]
  },
  {
   "cell_type": "code",
   "execution_count": null,
   "metadata": {},
   "outputs": [],
   "source": [
    "# 내가 푼 답안\n",
    "def solution(numbers, hand):\n",
    "    d = {0: (3, 1), \n",
    "         1:(0, 0), 2:(0, 1), 3:(0, 2),\n",
    "         4: (1, 0), 5: (1, 1), 6: (1, 2), \n",
    "         7: (2, 0), 8: (2, 1), 9: (2, 2),\n",
    "        '*': (3,0), '#': (3, 2)}\n",
    "    hand_dict = {'left': ['*', 'L'], 'right': ['#', 'R']}\n",
    "\n",
    "    answer= ''\n",
    "\n",
    "    for i in numbers:\n",
    "        if i in [1, 4, 7]:\n",
    "            answer += 'L'\n",
    "            hand_dict['left'][0] = i\n",
    "        elif i in [3, 6, 9]:\n",
    "            answer += 'R'\n",
    "            hand_dict['right'][0] = i\n",
    "        else:\n",
    "            l_num = hand_dict['left'][0]\n",
    "            r_num = hand_dict['right'][0]\n",
    "            l = abs(d[i][0]-d[l_num][0])+abs(d[i][1]-d[l_num][1])\n",
    "            r = abs(d[i][0]-d[r_num][0])+abs(d[i][1]-d[r_num][1])\n",
    "            if l > r: \n",
    "                answer += 'R'\n",
    "                hand_dict['right'][0] = i\n",
    "            elif l < r: \n",
    "                answer += 'L'\n",
    "                hand_dict['left'][0] = i\n",
    "            elif l == r: \n",
    "                answer += hand_dict[f'{hand}'][1]\n",
    "                hand_dict[f'{hand}'][0] = i\n",
    "    return answer"
   ]
  },
  {
   "cell_type": "markdown",
   "metadata": {},
   "source": [
    "2. 수식 최대화"
   ]
  },
  {
   "cell_type": "code",
   "execution_count": null,
   "metadata": {},
   "outputs": [],
   "source": [
    "# 내 풀이\n",
    "from itertools import permutations\n",
    "import copy\n",
    "def solution(a):\n",
    "    pfm = ['*', '-', '+']\n",
    "    pfm = list(permutations(pfm, 3))\n",
    "\n",
    "    start = 0\n",
    "    stack = []\n",
    "    for i in range(len(a)):\n",
    "        if not a[i].isdigit():\n",
    "            stack.extend([a[start:i], a[i]])\n",
    "            start = i+1\n",
    "        if i == len(a)-1:\n",
    "            stack.append(a[start:i+1])\n",
    "    answer = []        \n",
    "    for b in pfm:\n",
    "        stack_copy = copy.deepcopy(stack)\n",
    "        for i in b:\n",
    "            idx = 0\n",
    "            while idx < len(stack_copy):\n",
    "                if stack_copy[idx] == i:\n",
    "                    if i == '*':\n",
    "                        a = int(stack_copy.pop(idx+1)) * int(stack_copy.pop(idx-1))\n",
    "                    elif i == '+':\n",
    "                        a = int(stack_copy.pop(idx+1)) + int(stack_copy.pop(idx-1))\n",
    "                    elif i == '-':                 \n",
    "                        a = int(stack_copy.pop(idx-1)) - int(stack_copy.pop(idx))\n",
    "                    idx -= 1\n",
    "                    stack_copy[idx] = str(a)\n",
    "                else:\n",
    "                    idx += 1\n",
    "        answer.append(abs(int(stack_copy[0])))\n",
    "    return max(answer)"
   ]
  },
  {
   "cell_type": "code",
   "execution_count": null,
   "metadata": {},
   "outputs": [],
   "source": [
    "# 다른 사람 풀이\n",
    "# eval = 매개변수로 받은 식을 문자열로 받아서 실행하는 함수\n",
    "def solution(expression):\n",
    "    operations = [('+', '-', '*'),('+', '*', '-'),('-', '+', '*'),('-', '*', '+'),('*', '+', '-'),('*', '-', '+')]\n",
    "    answer = []\n",
    "    for op in operations:\n",
    "        a = op[0]\n",
    "        b = op[1]\n",
    "        temp_list = []\n",
    "        for e in expression.split(a):\n",
    "            temp = [f\"({i})\" for i in e.split(b)]\n",
    "            temp_list.append(f'({b.join(temp)})') # 괄호친 것을 -를 기준으로 다시 결합\n",
    "        answer.append(abs(eval(a.join(temp_list))))\n",
    "    return max(answer)\n"
   ]
  },
  {
   "cell_type": "code",
   "execution_count": 13,
   "metadata": {},
   "outputs": [
    {
     "name": "stdout",
     "output_type": "stream",
     "text": [
      "['(100)', '(200*300)', '(500)']\n",
      "['((100)-(200*300)-(500))']\n",
      "['(20)']\n",
      "['((100)-(200*300)-(500))', '((20))']\n",
      "60380\n",
      "['(100-200)', '(300-500)']\n",
      "['((100-200)*(300-500))']\n",
      "['(20)']\n",
      "['((100-200)*(300-500))', '((20))']\n",
      "20020\n",
      "['(100)']\n",
      "['((100))']\n",
      "['(200*300)']\n",
      "['((100))', '((200*300))']\n",
      "['(500)', '(20)']\n",
      "['((100))', '((200*300))', '((500)+(20))']\n",
      "60420\n",
      "['(100)']\n",
      "['((100))']\n",
      "['(200)', '(300)']\n",
      "['((100))', '((200)*(300))']\n",
      "['(500+20)']\n",
      "['((100))', '((200)*(300))', '((500+20))']\n",
      "60420\n",
      "['(100-200)']\n",
      "['((100-200))']\n",
      "['(300-500)', '(20)']\n",
      "['((100-200))', '((300-500)+(20))']\n",
      "18000\n",
      "['(100)', '(200)']\n",
      "['((100)-(200))']\n",
      "['(300)', '(500+20)']\n",
      "['((100)-(200))', '((300)-(500+20))']\n",
      "22000\n"
     ]
    }
   ],
   "source": [
    "expression = \"100-200*300-500+20\"\n",
    "operations = [('+', '-', '*'),('+', '*', '-'),('-', '+', '*'),('-', '*', '+'),('*', '+', '-'),('*', '-', '+')]\n",
    "answer = []\n",
    "for op in operations:\n",
    "    a = op[0]\n",
    "    b = op[1]\n",
    "    temp_list = []\n",
    "    for e in expression.split(a):\n",
    "        temp = [f\"({j})\" for j in e.split(b)]\n",
    "        print(temp)\n",
    "        temp_list.append(f'({b.join(temp)})') # r\n",
    "        print(temp_list)\n",
    "    print(abs(eval(a.join(temp_list))))"
   ]
  },
  {
   "cell_type": "code",
   "execution_count": 8,
   "metadata": {},
   "outputs": [
    {
     "data": {
      "text/plain": [
       "'a*b'"
      ]
     },
     "execution_count": 8,
     "metadata": {},
     "output_type": "execute_result"
    }
   ],
   "source": [
    "ac = ['a', 'b']\n",
    "a.join(ac)"
   ]
  },
  {
   "cell_type": "markdown",
   "metadata": {},
   "source": [
    "3. 보석 쇼핑(level 3)"
   ]
  },
  {
   "cell_type": "code",
   "execution_count": 68,
   "metadata": {},
   "outputs": [
    {
     "name": "stdout",
     "output_type": "stream",
     "text": [
      "{'A': 3, 'B': 1, 'C': 1}\n",
      "{'A': 3, 'B': 2, 'C': 1}\n",
      "{'A': 3, 'B': 1, 'C': 1}\n",
      "{'A': 2, 'B': 1, 'C': 1}\n",
      "{'A': 1, 'B': 1, 'C': 2}\n"
     ]
    },
    {
     "data": {
      "text/plain": [
       "[5, 7]"
      ]
     },
     "execution_count": 68,
     "metadata": {},
     "output_type": "execute_result"
    }
   ],
   "source": [
    "\n",
    "#gems = [\"DIA\", \"RUBY\", \"RUBY\", \"DIA\", \"DIA\", \"EMERALD\", \"SAPPHIRE\", \"DIA\"]\n",
    "gems = ['A','B','A','A','C','A','B','C']\n",
    "gems_set = set(gems)\n",
    "a = dict()\n",
    "answer = [0, 10000001]\n",
    "start = 0\n",
    "end = 0\n",
    "\n",
    "while end <= len(gems)-1:\n",
    "    a[gems[end]] = a.get(gems[end], 0) + 1\n",
    "    end += 1\n",
    "    if len(gems_set) == len(a):\n",
    "        while start < end:\n",
    "            if a[gems[start]] > 1:\n",
    "                print(a)\n",
    "                a[gems[start]] -= 1\n",
    "                start += 1\n",
    "                \n",
    "            elif a[gems[start]] == 1:\n",
    "                if abs(answer[0] - answer[1]) > abs(start+1 - end):\n",
    "                    answer = [start+1, end]\n",
    "                break\n",
    "                \n",
    "            else: break\n",
    "    \n",
    "answer"
   ]
  },
  {
   "cell_type": "code",
   "execution_count": 50,
   "metadata": {},
   "outputs": [],
   "source": [
    "# 투포인터 알고리즘\n",
    "# 다른 사람 풀이\n",
    "def solution(gems):\n",
    "    answer = [] \n",
    "    shortest = len(gems)+1 # 현재 최단 구간 길이\n",
    "\n",
    "    start_p = 0 # 구간의 시작점\n",
    "    end_p = 0 # 구간의 끝 점 (보석을 체크하는 기준점)\n",
    "\n",
    "    check_len = len(set(gems)) # 보석의 총 종류 수\n",
    "    contained = {} # 현재 구간에 포함된 보석들(종류: 갯수)\n",
    "\n",
    "    while end_p < len(gems): # 구간의 끝 점이 gems의 길이보다 작을 동안\n",
    "\n",
    "        if gems[end_p] not in contained: # 현재 끝 점의 보석이 contained에 없다면(이 종류가 처음 발견되었다면)\n",
    "            contained[gems[end_p]] = 1 # dictionary에 추가\n",
    "        else:\n",
    "            contained[gems[end_p]] += 1 # 이미 있으면 dictionary에 +1\n",
    "            \n",
    "        end_p += 1 # 끝 점 증가\n",
    "\n",
    "        if len(contained) == check_len: # 현재 구간 내 보석의 종류의 갯수가 전체 종류의 갯수와 같다면 (현재 구간내 모든 종류가 다 있다면)\n",
    "            while start_p < end_p: # start_p 가 end_p 보다 같을 때까지 증가\n",
    "                if contained[gems[start_p]] > 1: # start_p에 해당하는 보석이 구간 내에 하나 이상 있다면\n",
    "                    contained[gems[start_p]] -= 1 # 구간 내 보석 하나 감소(start_p 의 보석 뺄거니까)\n",
    "                    start_p += 1 # start_p 증가\n",
    "                    \n",
    "                elif shortest > end_p - start_p: # 기존의 구간 최단거리보다 현재의 구간거리가 더 짧다면\n",
    "                    shortest = end_p - start_p\n",
    "                    answer = [start_p+1, end_p] # answer와 최단거리 갱신\n",
    "                    break\n",
    "                    \n",
    "                else:\n",
    "                    break\n",
    "\n",
    "\n",
    "    return answer"
   ]
  },
  {
   "cell_type": "code",
   "execution_count": 51,
   "metadata": {},
   "outputs": [
    {
     "data": {
      "text/plain": [
       "[5, 7]"
      ]
     },
     "execution_count": 51,
     "metadata": {},
     "output_type": "execute_result"
    }
   ],
   "source": [
    "solution(['A','B','A','A','C','A','B','C'])\n"
   ]
  }
 ],
 "metadata": {
  "kernelspec": {
   "display_name": "Python 3",
   "language": "python",
   "name": "python3"
  },
  "language_info": {
   "codemirror_mode": {
    "name": "ipython",
    "version": 3
   },
   "file_extension": ".py",
   "mimetype": "text/x-python",
   "name": "python",
   "nbconvert_exporter": "python",
   "pygments_lexer": "ipython3",
   "version": "3.8.5"
  }
 },
 "nbformat": 4,
 "nbformat_minor": 4
}
