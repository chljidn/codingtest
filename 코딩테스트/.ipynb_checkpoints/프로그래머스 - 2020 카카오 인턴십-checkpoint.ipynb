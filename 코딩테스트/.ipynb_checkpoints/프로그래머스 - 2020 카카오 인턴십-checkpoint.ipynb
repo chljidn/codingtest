{
 "cells": [
  {
   "cell_type": "markdown",
   "metadata": {},
   "source": [
    "1. 수식 최대화"
   ]
  },
  {
   "cell_type": "code",
   "execution_count": null,
   "metadata": {},
   "outputs": [],
   "source": [
    "# 내 풀이\n",
    "from itertools import permutations\n",
    "import copy\n",
    "def solution(a):\n",
    "    pfm = ['*', '-', '+']\n",
    "    pfm = list(permutations(pfm, 3))\n",
    "\n",
    "    start = 0\n",
    "    stack = []\n",
    "    for i in range(len(a)):\n",
    "        if not a[i].isdigit():\n",
    "            stack.extend([a[start:i], a[i]])\n",
    "            start = i+1\n",
    "        if i == len(a)-1:\n",
    "            stack.append(a[start:i+1])\n",
    "    answer = []        \n",
    "    for b in pfm:\n",
    "        stack_copy = copy.deepcopy(stack)\n",
    "        for i in b:\n",
    "            idx = 0\n",
    "            while idx < len(stack_copy):\n",
    "                if stack_copy[idx] == i:\n",
    "                    if i == '*':\n",
    "                        a = int(stack_copy.pop(idx+1)) * int(stack_copy.pop(idx-1))\n",
    "                    elif i == '+':\n",
    "                        a = int(stack_copy.pop(idx+1)) + int(stack_copy.pop(idx-1))\n",
    "                    elif i == '-':                 \n",
    "                        a = int(stack_copy.pop(idx-1)) - int(stack_copy.pop(idx))\n",
    "                    idx -= 1\n",
    "                    stack_copy[idx] = str(a)\n",
    "                else:\n",
    "                    idx += 1\n",
    "        answer.append(abs(int(stack_copy[0])))\n",
    "    return max(answer)"
   ]
  },
  {
   "cell_type": "code",
   "execution_count": null,
   "metadata": {},
   "outputs": [],
   "source": [
    "# 다른 사람 풀이\n",
    "def solution(expression):\n",
    "    operations = [('+', '-', '*'),('+', '*', '-'),('-', '+', '*'),('-', '*', '+'),('*', '+', '-'),('*', '-', '+')]\n",
    "    answer = []\n",
    "    for op in operations:\n",
    "        a = op[0]\n",
    "        b = op[1]\n",
    "        temp_list = []\n",
    "        for e in expression.split(a):\n",
    "            temp = [f\"({i})\" for i in e.split(b)]\n",
    "            temp_list.append(f'({b.join(temp)})')\n",
    "        answer.append(abs(eval(a.join(temp_list))))\n",
    "    return max(answer)\n"
   ]
  }
 ],
 "metadata": {
  "kernelspec": {
   "display_name": "Python 3",
   "language": "python",
   "name": "python3"
  },
  "language_info": {
   "codemirror_mode": {
    "name": "ipython",
    "version": 3
   },
   "file_extension": ".py",
   "mimetype": "text/x-python",
   "name": "python",
   "nbconvert_exporter": "python",
   "pygments_lexer": "ipython3",
   "version": "3.8.5"
  }
 },
 "nbformat": 4,
 "nbformat_minor": 4
}
