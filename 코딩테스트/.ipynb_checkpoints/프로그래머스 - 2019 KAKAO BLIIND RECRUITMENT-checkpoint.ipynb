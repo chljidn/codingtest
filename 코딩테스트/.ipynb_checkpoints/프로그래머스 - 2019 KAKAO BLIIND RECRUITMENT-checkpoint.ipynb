{
 "cells": [
  {
   "cell_type": "markdown",
   "metadata": {},
   "source": [
    "오픈 채팅방"
   ]
  },
  {
   "cell_type": "code",
   "execution_count": null,
   "metadata": {},
   "outputs": [],
   "source": [
    "def solution(record):\n",
    "    a = {}\n",
    "    for i in record:\n",
    "        b = i.split()\n",
    "        if b[0] == 'Enter' or b[0] == 'Change':\n",
    "            a[b[1]] = b[2]\n",
    "\n",
    "    answer = []\n",
    "    for j in record:\n",
    "        b = j.split()\n",
    "        if b[0] == 'Enter':\n",
    "            answer.append(f'{a[b[1]]}님이 들어왔습니다')\n",
    "        elif b[0] == 'Leave':\n",
    "            answer.append(f'{a[b[1]]}님이 나갔습니다')\n",
    "    return answer"
   ]
  },
  {
   "cell_type": "code",
   "execution_count": 15,
   "metadata": {},
   "outputs": [
    {
     "data": {
      "text/plain": [
       "[4, 5]"
      ]
     },
     "execution_count": 15,
     "metadata": {},
     "output_type": "execute_result"
    }
   ],
   "source": [
    "answer"
   ]
  }
 ],
 "metadata": {
  "kernelspec": {
   "display_name": "Python 3",
   "language": "python",
   "name": "python3"
  },
  "language_info": {
   "codemirror_mode": {
    "name": "ipython",
    "version": 3
   },
   "file_extension": ".py",
   "mimetype": "text/x-python",
   "name": "python",
   "nbconvert_exporter": "python",
   "pygments_lexer": "ipython3",
   "version": "3.8.5"
  }
 },
 "nbformat": 4,
 "nbformat_minor": 4
}
