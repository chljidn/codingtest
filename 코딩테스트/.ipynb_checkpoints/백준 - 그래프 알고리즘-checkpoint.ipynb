{
 "cells": [
  {
   "cell_type": "markdown",
   "metadata": {},
   "source": [
    "1. BFS와 DFS"
   ]
  },
  {
   "cell_type": "code",
   "execution_count": 192,
   "metadata": {},
   "outputs": [
    {
     "name": "stdout",
     "output_type": "stream",
     "text": [
      "6 8 1\n",
      "1 6\n",
      "6 2\n",
      "2 4\n",
      "4 3\n",
      "3 5\n",
      "5 1\n",
      "5 6\n",
      "2 3\n",
      "1 5 3 2 4 6 \n",
      "1 5 6 3 2 4 "
     ]
    }
   ],
   "source": [
    "from collections import deque\n",
    "\n",
    "def dfs(graph, v, dfs_visited):\n",
    "    dfs_visited[v] = True\n",
    "    print(v, end=' ')\n",
    "    for i in graph[v]:\n",
    "        if not dfs_visited[i]:\n",
    "            dfs(graph, i, dfs_visited)\n",
    "            \n",
    "\n",
    "def bfs(graph, v, bfs_visited):\n",
    "    queue = deque([v])\n",
    "    bfs_visited[v] = True\n",
    "    while queue:\n",
    "        v = queue.popleft()\n",
    "        print(v, end=' ')\n",
    "        for i in graph[v]:\n",
    "            if not bfs_visited[i]:\n",
    "                bfs_visited[i] = True\n",
    "                queue.append(i)\n",
    "    \n",
    "n, m, v = map(int, input().split())\n",
    "a = [list(map(int, input().split())) for i in range(m)]\n",
    "a.sort()\n",
    "\n",
    "graph = [[] for i in range(n+1)]\n",
    "\n",
    "for i in a:\n",
    "    graph[i[0]].append(i[1])\n",
    "    graph[i[1]].append(i[0])\n",
    "\n",
    "list(map(lambda x: x.sort(), graph)) # ***이거 없어서 계속 틀림..ㅅㅂ!!\n",
    "\n",
    "dfs_visited = [False]*(n+1)\n",
    "bfs_visited = [False]*(n+1)\n",
    "\n",
    "dfs(graph, v, dfs_visited)\n",
    "print()\n",
    "bfs(graph, v, bfs_visited)\n"
   ]
  },
  {
   "cell_type": "markdown",
   "metadata": {},
   "source": [
    "2. 미로 탈출"
   ]
  },
  {
   "cell_type": "code",
   "execution_count": 236,
   "metadata": {},
   "outputs": [
    {
     "name": "stdout",
     "output_type": "stream",
     "text": [
      "4 6\n",
      "110110\n",
      "110110\n",
      "111111\n",
      "111101\n",
      "0 0\n",
      "0 0\n",
      "1 0\n",
      "1 0\n",
      "1 0\n",
      "0 1\n",
      "0 1\n",
      "0 1\n",
      "2 0\n",
      "2 0\n",
      "2 0\n",
      "1 1\n",
      "1 1\n",
      "1 1\n",
      "1 1\n",
      "3 0\n",
      "3 0\n",
      "2 1\n",
      "2 1\n",
      "2 1\n",
      "2 1\n",
      "3 1\n",
      "3 1\n",
      "3 1\n",
      "2 2\n",
      "2 2\n",
      "2 2\n",
      "2 2\n",
      "3 2\n",
      "3 2\n",
      "3 2\n",
      "2 3\n",
      "2 3\n",
      "2 3\n",
      "2 3\n",
      "3 3\n",
      "3 3\n",
      "3 3\n",
      "2 4\n",
      "2 4\n",
      "2 4\n",
      "2 4\n",
      "1 3\n",
      "1 3\n",
      "1 3\n",
      "1 3\n",
      "2 5\n",
      "2 5\n",
      "2 5\n",
      "1 4\n",
      "1 4\n",
      "1 4\n",
      "1 4\n",
      "0 3\n",
      "0 3\n",
      "0 3\n",
      "3 5\n",
      "3 5\n",
      "0 4\n",
      "0 4\n",
      "0 4\n",
      "9\n"
     ]
    }
   ],
   "source": [
    "n, m = map(int, input().split())\n",
    "a = [list(map(int, input())) for i in range(n)]\n",
    "count = [[0 for i in range(m)] for j in range(n)]\n",
    "\n",
    "coordinate = [[1,0],[0,1],[-1,0],[0,-1]]\n",
    "queue = deque([[0, 0]])\n",
    "a[0][0] = 0\n",
    "\n",
    "while queue:\n",
    "    x, y = queue.popleft()\n",
    "    for i in coordinate:\n",
    "        if x+i[0] >= n or x+i[0] <=-1 or y+i[1] >= m or y+i[1] <= -1:\n",
    "            continue\n",
    "\n",
    "        if a[x+i[0]][y+i[1]] == 1:\n",
    "            a[x+i[0]][y+i[1]] = 0\n",
    "            queue.append([x+i[0], y+i[1]])\n",
    "            count[x+i[0]][y+i[1]] = count[x][y]+1\n",
    "print(count[n-1][m-1]+1)"
   ]
  },
  {
   "cell_type": "markdown",
   "metadata": {},
   "source": [
    "3. 단지번호 붙이기"
   ]
  },
  {
   "cell_type": "code",
   "execution_count": 44,
   "metadata": {},
   "outputs": [
    {
     "ename": "KeyboardInterrupt",
     "evalue": "Interrupted by user",
     "output_type": "error",
     "traceback": [
      "\u001b[1;31m---------------------------------------------------------------------------\u001b[0m",
      "\u001b[1;31mKeyboardInterrupt\u001b[0m                         Traceback (most recent call last)",
      "\u001b[1;32m<ipython-input-44-9ed37c67fc3d>\u001b[0m in \u001b[0;36m<module>\u001b[1;34m\u001b[0m\n\u001b[1;32m----> 1\u001b[1;33m \u001b[0mn\u001b[0m \u001b[1;33m=\u001b[0m \u001b[0mint\u001b[0m\u001b[1;33m(\u001b[0m\u001b[0minput\u001b[0m\u001b[1;33m(\u001b[0m\u001b[1;33m)\u001b[0m\u001b[1;33m)\u001b[0m\u001b[1;33m\u001b[0m\u001b[1;33m\u001b[0m\u001b[0m\n\u001b[0m\u001b[0;32m      2\u001b[0m \u001b[0mgraph\u001b[0m \u001b[1;33m=\u001b[0m \u001b[1;33m[\u001b[0m\u001b[0mlist\u001b[0m\u001b[1;33m(\u001b[0m\u001b[0mmap\u001b[0m\u001b[1;33m(\u001b[0m\u001b[0mint\u001b[0m\u001b[1;33m,\u001b[0m \u001b[0minput\u001b[0m\u001b[1;33m(\u001b[0m\u001b[1;33m)\u001b[0m\u001b[1;33m)\u001b[0m\u001b[1;33m)\u001b[0m \u001b[1;32mfor\u001b[0m \u001b[0mi\u001b[0m \u001b[1;32min\u001b[0m \u001b[0mrange\u001b[0m\u001b[1;33m(\u001b[0m\u001b[0mn\u001b[0m\u001b[1;33m)\u001b[0m\u001b[1;33m]\u001b[0m\u001b[1;33m\u001b[0m\u001b[1;33m\u001b[0m\u001b[0m\n\u001b[0;32m      3\u001b[0m \u001b[1;33m\u001b[0m\u001b[0m\n\u001b[0;32m      4\u001b[0m \u001b[1;32mdef\u001b[0m \u001b[0mdfs\u001b[0m\u001b[1;33m(\u001b[0m\u001b[0mx\u001b[0m\u001b[1;33m,\u001b[0m \u001b[0my\u001b[0m\u001b[1;33m)\u001b[0m\u001b[1;33m:\u001b[0m\u001b[1;33m\u001b[0m\u001b[1;33m\u001b[0m\u001b[0m\n\u001b[0;32m      5\u001b[0m     \u001b[1;32mglobal\u001b[0m \u001b[0ma\u001b[0m\u001b[1;33m\u001b[0m\u001b[1;33m\u001b[0m\u001b[0m\n",
      "\u001b[1;32m~\\anaconda3\\lib\\site-packages\\ipykernel\\kernelbase.py\u001b[0m in \u001b[0;36mraw_input\u001b[1;34m(self, prompt)\u001b[0m\n\u001b[0;32m    858\u001b[0m                 \u001b[1;34m\"raw_input was called, but this frontend does not support input requests.\"\u001b[0m\u001b[1;33m\u001b[0m\u001b[1;33m\u001b[0m\u001b[0m\n\u001b[0;32m    859\u001b[0m             )\n\u001b[1;32m--> 860\u001b[1;33m         return self._input_request(str(prompt),\n\u001b[0m\u001b[0;32m    861\u001b[0m             \u001b[0mself\u001b[0m\u001b[1;33m.\u001b[0m\u001b[0m_parent_ident\u001b[0m\u001b[1;33m,\u001b[0m\u001b[1;33m\u001b[0m\u001b[1;33m\u001b[0m\u001b[0m\n\u001b[0;32m    862\u001b[0m             \u001b[0mself\u001b[0m\u001b[1;33m.\u001b[0m\u001b[0m_parent_header\u001b[0m\u001b[1;33m,\u001b[0m\u001b[1;33m\u001b[0m\u001b[1;33m\u001b[0m\u001b[0m\n",
      "\u001b[1;32m~\\anaconda3\\lib\\site-packages\\ipykernel\\kernelbase.py\u001b[0m in \u001b[0;36m_input_request\u001b[1;34m(self, prompt, ident, parent, password)\u001b[0m\n\u001b[0;32m    902\u001b[0m             \u001b[1;32mexcept\u001b[0m \u001b[0mKeyboardInterrupt\u001b[0m\u001b[1;33m:\u001b[0m\u001b[1;33m\u001b[0m\u001b[1;33m\u001b[0m\u001b[0m\n\u001b[0;32m    903\u001b[0m                 \u001b[1;31m# re-raise KeyboardInterrupt, to truncate traceback\u001b[0m\u001b[1;33m\u001b[0m\u001b[1;33m\u001b[0m\u001b[1;33m\u001b[0m\u001b[0m\n\u001b[1;32m--> 904\u001b[1;33m                 \u001b[1;32mraise\u001b[0m \u001b[0mKeyboardInterrupt\u001b[0m\u001b[1;33m(\u001b[0m\u001b[1;34m\"Interrupted by user\"\u001b[0m\u001b[1;33m)\u001b[0m \u001b[1;32mfrom\u001b[0m \u001b[1;32mNone\u001b[0m\u001b[1;33m\u001b[0m\u001b[1;33m\u001b[0m\u001b[0m\n\u001b[0m\u001b[0;32m    905\u001b[0m             \u001b[1;32mexcept\u001b[0m \u001b[0mException\u001b[0m \u001b[1;32mas\u001b[0m \u001b[0me\u001b[0m\u001b[1;33m:\u001b[0m\u001b[1;33m\u001b[0m\u001b[1;33m\u001b[0m\u001b[0m\n\u001b[0;32m    906\u001b[0m                 \u001b[0mself\u001b[0m\u001b[1;33m.\u001b[0m\u001b[0mlog\u001b[0m\u001b[1;33m.\u001b[0m\u001b[0mwarning\u001b[0m\u001b[1;33m(\u001b[0m\u001b[1;34m\"Invalid Message:\"\u001b[0m\u001b[1;33m,\u001b[0m \u001b[0mexc_info\u001b[0m\u001b[1;33m=\u001b[0m\u001b[1;32mTrue\u001b[0m\u001b[1;33m)\u001b[0m\u001b[1;33m\u001b[0m\u001b[1;33m\u001b[0m\u001b[0m\n",
      "\u001b[1;31mKeyboardInterrupt\u001b[0m: Interrupted by user"
     ]
    }
   ],
   "source": [
    "n = int(input())\n",
    "graph = [list(map(int, input())) for i in range(n)]\n",
    "\n",
    "def dfs(x, y):\n",
    "    global a\n",
    "    if x >= len(graph) or x <= -1 or y >= n or y <= -1:\n",
    "        return False\n",
    "    \n",
    "    if graph[x][y] == 1:\n",
    "        a += 1\n",
    "        graph[x][y] = 0\n",
    "        dfs(x+1, y)\n",
    "        dfs(x, y+1)\n",
    "        dfs(x-1, y)\n",
    "        dfs(x, y-1)\n",
    "        return True\n",
    "    return False\n",
    "\n",
    "result = 0\n",
    "ccount = []\n",
    "for i in range(len(graph)):\n",
    "    for j in range(len(graph[i])):\n",
    "        global a \n",
    "        a = 0\n",
    "        if dfs(i, j) == True:\n",
    "            result +=1\n",
    "            ccount.append(a)\n",
    "print(result)\n",
    "ccount.sort()\n",
    "for i in ccount:\n",
    "    print(i)"
   ]
  },
  {
   "cell_type": "markdown",
   "metadata": {},
   "source": [
    "4. 바이러스 => 단지번호 붙이기와 비슷함. 연결된 노드를 모두 찾는 문제"
   ]
  },
  {
   "cell_type": "code",
   "execution_count": 40,
   "metadata": {},
   "outputs": [
    {
     "name": "stdout",
     "output_type": "stream",
     "text": [
      "0110100\n",
      "0110101\n",
      "1110101\n",
      "0000111\n",
      "0100000\n",
      "0111110\n",
      "0111000\n"
     ]
    }
   ],
   "source": [
    "a = int(input())\n",
    "b = int(input())\n",
    "c = [list(map(int, input().split())) for i in range(b)]\n",
    "\n",
    "d = sum(c, [])\n",
    "dd = [[] for i in range(len(d))]\n",
    "for i in c:\n",
    "    dd[i[0]].append(i[1])\n",
    "    dd[i[1]].append(i[0])\n",
    "    \n",
    "visited = [False] * len(d)\n",
    "count = []\n",
    "\n",
    "def dfs(visited, dd, start):\n",
    "    count.append(start)\n",
    "    for i in dd[start]:\n",
    "        if not visited[i]:\n",
    "            visited[i] = True\n",
    "            dfs(visited, dd, i)\n",
    "            \n",
    "dfs(visited,dd , 1)\n",
    "print(count)\n",
    "print(len(list(set(count)))-1)"
   ]
  },
  {
   "cell_type": "markdown",
   "metadata": {},
   "source": [
    "5. 유기농 배추"
   ]
  },
  {
   "cell_type": "code",
   "execution_count": 7,
   "metadata": {},
   "outputs": [
    {
     "name": "stdout",
     "output_type": "stream",
     "text": [
      "2\n",
      "10 8 17\n",
      "0 0\n",
      "1 0\n",
      "1 1\n",
      "4 2\n",
      "4 3\n",
      "4 5\n",
      "2 4\n",
      "3 4\n",
      "9 4\n",
      "8 4\n",
      "9 4\n",
      "7 5\n",
      "8 5\n",
      "9 5\n",
      "7 6\n",
      "8 6\n",
      "9 6\n",
      "5\n",
      "10 10 1\n",
      "5 5\n",
      "1\n"
     ]
    }
   ],
   "source": [
    "import sys\n",
    "sys.setrecursionlimit(10**6)\n",
    "\n",
    "def dfs(matrix, x, y):\n",
    "    if x >= len(matrix) or x < 0 or y >= len(matrix[0]) or y < 0:\n",
    "        return False\n",
    "\n",
    "    if matrix[x][y] == 1:\n",
    "        matrix[x][y] = 0\n",
    "        dfs(matrix, x+1, y)\n",
    "        dfs(matrix, x, y+1)\n",
    "        dfs(matrix, x-1, y)\n",
    "        dfs(matrix, x, y-1)\n",
    "        return True\n",
    "    return False\n",
    "\n",
    "\n",
    "aa = int(input())\n",
    "for i in range(aa):\n",
    "    n, m, count = map(int, input().split(\" \"))\n",
    "    matrix = [[0 for i in range(m)] for j in range(n)]\n",
    "\n",
    "    for i in range(count):\n",
    "        x, y = map(int, input().split(\" \"))\n",
    "        matrix[x][y] = 1\n",
    "\n",
    "    count = 0\n",
    "    for i in range(len(matrix)):\n",
    "        for j in range(len(matrix[i])):\n",
    "            if dfs(matrix, i, j) == True:\n",
    "                count += 1\n",
    "    print(count)"
   ]
  },
  {
   "cell_type": "markdown",
   "metadata": {},
   "source": [
    "6. 숨바꼭질"
   ]
  },
  {
   "cell_type": "code",
   "execution_count": 7,
   "metadata": {},
   "outputs": [
    {
     "name": "stdout",
     "output_type": "stream",
     "text": [
      "5 0\n",
      "deque([(6, 1), (4, 1), (10, 1)])\n",
      "deque([(4, 1), (10, 1), (7, 2), (12, 2)])\n",
      "deque([(10, 1), (7, 2), (12, 2), (3, 2), (8, 2)])\n",
      "deque([(7, 2), (12, 2), (3, 2), (8, 2), (11, 2), (9, 2), (20, 2)])\n",
      "deque([(12, 2), (3, 2), (8, 2), (11, 2), (9, 2), (20, 2), (14, 3)])\n",
      "deque([(3, 2), (8, 2), (11, 2), (9, 2), (20, 2), (14, 3), (13, 3), (24, 3)])\n",
      "deque([(8, 2), (11, 2), (9, 2), (20, 2), (14, 3), (13, 3), (24, 3), (2, 3)])\n",
      "deque([(11, 2), (9, 2), (20, 2), (14, 3), (13, 3), (24, 3), (2, 3), (16, 3)])\n",
      "deque([(9, 2), (20, 2), (14, 3), (13, 3), (24, 3), (2, 3), (16, 3), (22, 3)])\n",
      "deque([(20, 2), (14, 3), (13, 3), (24, 3), (2, 3), (16, 3), (22, 3), (18, 3)])\n",
      "deque([(14, 3), (13, 3), (24, 3), (2, 3), (16, 3), (22, 3), (18, 3), (21, 3), (19, 3), (40, 3)])\n",
      "deque([(13, 3), (24, 3), (2, 3), (16, 3), (22, 3), (18, 3), (21, 3), (19, 3), (40, 3), (15, 4), (28, 4)])\n",
      "deque([(24, 3), (2, 3), (16, 3), (22, 3), (18, 3), (21, 3), (19, 3), (40, 3), (15, 4), (28, 4), (26, 4)])\n",
      "deque([(2, 3), (16, 3), (22, 3), (18, 3), (21, 3), (19, 3), (40, 3), (15, 4), (28, 4), (26, 4), (25, 4), (23, 4), (48, 4)])\n",
      "deque([(16, 3), (22, 3), (18, 3), (21, 3), (19, 3), (40, 3), (15, 4), (28, 4), (26, 4), (25, 4), (23, 4), (48, 4), (1, 4)])\n",
      "deque([(22, 3), (18, 3), (21, 3), (19, 3), (40, 3), (15, 4), (28, 4), (26, 4), (25, 4), (23, 4), (48, 4), (1, 4), (17, 4), (32, 4)])\n",
      "deque([(18, 3), (21, 3), (19, 3), (40, 3), (15, 4), (28, 4), (26, 4), (25, 4), (23, 4), (48, 4), (1, 4), (17, 4), (32, 4), (44, 4)])\n",
      "deque([(21, 3), (19, 3), (40, 3), (15, 4), (28, 4), (26, 4), (25, 4), (23, 4), (48, 4), (1, 4), (17, 4), (32, 4), (44, 4), (36, 4)])\n",
      "deque([(19, 3), (40, 3), (15, 4), (28, 4), (26, 4), (25, 4), (23, 4), (48, 4), (1, 4), (17, 4), (32, 4), (44, 4), (36, 4), (42, 4)])\n",
      "deque([(40, 3), (15, 4), (28, 4), (26, 4), (25, 4), (23, 4), (48, 4), (1, 4), (17, 4), (32, 4), (44, 4), (36, 4), (42, 4), (38, 4)])\n",
      "deque([(15, 4), (28, 4), (26, 4), (25, 4), (23, 4), (48, 4), (1, 4), (17, 4), (32, 4), (44, 4), (36, 4), (42, 4), (38, 4), (41, 4), (39, 4), (80, 4)])\n",
      "deque([(28, 4), (26, 4), (25, 4), (23, 4), (48, 4), (1, 4), (17, 4), (32, 4), (44, 4), (36, 4), (42, 4), (38, 4), (41, 4), (39, 4), (80, 4), (30, 5)])\n",
      "deque([(26, 4), (25, 4), (23, 4), (48, 4), (1, 4), (17, 4), (32, 4), (44, 4), (36, 4), (42, 4), (38, 4), (41, 4), (39, 4), (80, 4), (30, 5), (29, 5), (27, 5), (56, 5)])\n",
      "deque([(25, 4), (23, 4), (48, 4), (1, 4), (17, 4), (32, 4), (44, 4), (36, 4), (42, 4), (38, 4), (41, 4), (39, 4), (80, 4), (30, 5), (29, 5), (27, 5), (56, 5), (52, 5)])\n",
      "deque([(23, 4), (48, 4), (1, 4), (17, 4), (32, 4), (44, 4), (36, 4), (42, 4), (38, 4), (41, 4), (39, 4), (80, 4), (30, 5), (29, 5), (27, 5), (56, 5), (52, 5), (50, 5)])\n",
      "deque([(48, 4), (1, 4), (17, 4), (32, 4), (44, 4), (36, 4), (42, 4), (38, 4), (41, 4), (39, 4), (80, 4), (30, 5), (29, 5), (27, 5), (56, 5), (52, 5), (50, 5), (46, 5)])\n",
      "deque([(1, 4), (17, 4), (32, 4), (44, 4), (36, 4), (42, 4), (38, 4), (41, 4), (39, 4), (80, 4), (30, 5), (29, 5), (27, 5), (56, 5), (52, 5), (50, 5), (46, 5), (49, 5), (47, 5), (96, 5)])\n",
      "deque([(17, 4), (32, 4), (44, 4), (36, 4), (42, 4), (38, 4), (41, 4), (39, 4), (80, 4), (30, 5), (29, 5), (27, 5), (56, 5), (52, 5), (50, 5), (46, 5), (49, 5), (47, 5), (96, 5), (0, 5)])\n",
      "deque([(32, 4), (44, 4), (36, 4), (42, 4), (38, 4), (41, 4), (39, 4), (80, 4), (30, 5), (29, 5), (27, 5), (56, 5), (52, 5), (50, 5), (46, 5), (49, 5), (47, 5), (96, 5), (0, 5), (34, 5)])\n",
      "deque([(44, 4), (36, 4), (42, 4), (38, 4), (41, 4), (39, 4), (80, 4), (30, 5), (29, 5), (27, 5), (56, 5), (52, 5), (50, 5), (46, 5), (49, 5), (47, 5), (96, 5), (0, 5), (34, 5), (33, 5), (31, 5), (64, 5)])\n",
      "deque([(36, 4), (42, 4), (38, 4), (41, 4), (39, 4), (80, 4), (30, 5), (29, 5), (27, 5), (56, 5), (52, 5), (50, 5), (46, 5), (49, 5), (47, 5), (96, 5), (0, 5), (34, 5), (33, 5), (31, 5), (64, 5), (45, 5), (43, 5), (88, 5)])\n",
      "deque([(42, 4), (38, 4), (41, 4), (39, 4), (80, 4), (30, 5), (29, 5), (27, 5), (56, 5), (52, 5), (50, 5), (46, 5), (49, 5), (47, 5), (96, 5), (0, 5), (34, 5), (33, 5), (31, 5), (64, 5), (45, 5), (43, 5), (88, 5), (37, 5), (35, 5), (72, 5)])\n",
      "deque([(38, 4), (41, 4), (39, 4), (80, 4), (30, 5), (29, 5), (27, 5), (56, 5), (52, 5), (50, 5), (46, 5), (49, 5), (47, 5), (96, 5), (0, 5), (34, 5), (33, 5), (31, 5), (64, 5), (45, 5), (43, 5), (88, 5), (37, 5), (35, 5), (72, 5), (84, 5)])\n",
      "deque([(41, 4), (39, 4), (80, 4), (30, 5), (29, 5), (27, 5), (56, 5), (52, 5), (50, 5), (46, 5), (49, 5), (47, 5), (96, 5), (0, 5), (34, 5), (33, 5), (31, 5), (64, 5), (45, 5), (43, 5), (88, 5), (37, 5), (35, 5), (72, 5), (84, 5), (76, 5)])\n",
      "deque([(39, 4), (80, 4), (30, 5), (29, 5), (27, 5), (56, 5), (52, 5), (50, 5), (46, 5), (49, 5), (47, 5), (96, 5), (0, 5), (34, 5), (33, 5), (31, 5), (64, 5), (45, 5), (43, 5), (88, 5), (37, 5), (35, 5), (72, 5), (84, 5), (76, 5), (82, 5)])\n",
      "deque([(80, 4), (30, 5), (29, 5), (27, 5), (56, 5), (52, 5), (50, 5), (46, 5), (49, 5), (47, 5), (96, 5), (0, 5), (34, 5), (33, 5), (31, 5), (64, 5), (45, 5), (43, 5), (88, 5), (37, 5), (35, 5), (72, 5), (84, 5), (76, 5), (82, 5), (78, 5)])\n",
      "deque([(30, 5), (29, 5), (27, 5), (56, 5), (52, 5), (50, 5), (46, 5), (49, 5), (47, 5), (96, 5), (0, 5), (34, 5), (33, 5), (31, 5), (64, 5), (45, 5), (43, 5), (88, 5), (37, 5), (35, 5), (72, 5), (84, 5), (76, 5), (82, 5), (78, 5), (81, 5), (79, 5), (160, 5)])\n",
      "deque([(29, 5), (27, 5), (56, 5), (52, 5), (50, 5), (46, 5), (49, 5), (47, 5), (96, 5), (0, 5), (34, 5), (33, 5), (31, 5), (64, 5), (45, 5), (43, 5), (88, 5), (37, 5), (35, 5), (72, 5), (84, 5), (76, 5), (82, 5), (78, 5), (81, 5), (79, 5), (160, 5), (60, 6)])\n",
      "deque([(27, 5), (56, 5), (52, 5), (50, 5), (46, 5), (49, 5), (47, 5), (96, 5), (0, 5), (34, 5), (33, 5), (31, 5), (64, 5), (45, 5), (43, 5), (88, 5), (37, 5), (35, 5), (72, 5), (84, 5), (76, 5), (82, 5), (78, 5), (81, 5), (79, 5), (160, 5), (60, 6), (58, 6)])\n",
      "deque([(56, 5), (52, 5), (50, 5), (46, 5), (49, 5), (47, 5), (96, 5), (0, 5), (34, 5), (33, 5), (31, 5), (64, 5), (45, 5), (43, 5), (88, 5), (37, 5), (35, 5), (72, 5), (84, 5), (76, 5), (82, 5), (78, 5), (81, 5), (79, 5), (160, 5), (60, 6), (58, 6), (54, 6)])\n",
      "deque([(52, 5), (50, 5), (46, 5), (49, 5), (47, 5), (96, 5), (0, 5), (34, 5), (33, 5), (31, 5), (64, 5), (45, 5), (43, 5), (88, 5), (37, 5), (35, 5), (72, 5), (84, 5), (76, 5), (82, 5), (78, 5), (81, 5), (79, 5), (160, 5), (60, 6), (58, 6), (54, 6), (57, 6), (55, 6), (112, 6)])\n",
      "deque([(50, 5), (46, 5), (49, 5), (47, 5), (96, 5), (0, 5), (34, 5), (33, 5), (31, 5), (64, 5), (45, 5), (43, 5), (88, 5), (37, 5), (35, 5), (72, 5), (84, 5), (76, 5), (82, 5), (78, 5), (81, 5), (79, 5), (160, 5), (60, 6), (58, 6), (54, 6), (57, 6), (55, 6), (112, 6), (53, 6), (51, 6), (104, 6)])\n",
      "deque([(46, 5), (49, 5), (47, 5), (96, 5), (0, 5), (34, 5), (33, 5), (31, 5), (64, 5), (45, 5), (43, 5), (88, 5), (37, 5), (35, 5), (72, 5), (84, 5), (76, 5), (82, 5), (78, 5), (81, 5), (79, 5), (160, 5), (60, 6), (58, 6), (54, 6), (57, 6), (55, 6), (112, 6), (53, 6), (51, 6), (104, 6), (100, 6)])\n",
      "deque([(49, 5), (47, 5), (96, 5), (0, 5), (34, 5), (33, 5), (31, 5), (64, 5), (45, 5), (43, 5), (88, 5), (37, 5), (35, 5), (72, 5), (84, 5), (76, 5), (82, 5), (78, 5), (81, 5), (79, 5), (160, 5), (60, 6), (58, 6), (54, 6), (57, 6), (55, 6), (112, 6), (53, 6), (51, 6), (104, 6), (100, 6), (92, 6)])\n",
      "deque([(47, 5), (96, 5), (0, 5), (34, 5), (33, 5), (31, 5), (64, 5), (45, 5), (43, 5), (88, 5), (37, 5), (35, 5), (72, 5), (84, 5), (76, 5), (82, 5), (78, 5), (81, 5), (79, 5), (160, 5), (60, 6), (58, 6), (54, 6), (57, 6), (55, 6), (112, 6), (53, 6), (51, 6), (104, 6), (100, 6), (92, 6), (98, 6)])\n",
      "deque([(96, 5), (0, 5), (34, 5), (33, 5), (31, 5), (64, 5), (45, 5), (43, 5), (88, 5), (37, 5), (35, 5), (72, 5), (84, 5), (76, 5), (82, 5), (78, 5), (81, 5), (79, 5), (160, 5), (60, 6), (58, 6), (54, 6), (57, 6), (55, 6), (112, 6), (53, 6), (51, 6), (104, 6), (100, 6), (92, 6), (98, 6), (94, 6)])\n",
      "deque([(0, 5), (34, 5), (33, 5), (31, 5), (64, 5), (45, 5), (43, 5), (88, 5), (37, 5), (35, 5), (72, 5), (84, 5), (76, 5), (82, 5), (78, 5), (81, 5), (79, 5), (160, 5), (60, 6), (58, 6), (54, 6), (57, 6), (55, 6), (112, 6), (53, 6), (51, 6), (104, 6), (100, 6), (92, 6), (98, 6), (94, 6), (97, 6), (95, 6), (192, 6)])\n",
      "5\n"
     ]
    }
   ],
   "source": [
    "from collections import deque\n",
    "\n",
    "a, b = map(int, input().split())\n",
    "visited = [False] * (100001)\n",
    "queue = deque([(a, 0)])\n",
    "visited[a] = True\n",
    "\n",
    "while queue:\n",
    "    now, count = queue.popleft()\n",
    "    if now == b:\n",
    "        print(count)\n",
    "        break\n",
    "        \n",
    "    x = [now+1, now-1, 2*now]\n",
    "    for i in x:\n",
    "        if  0 <= i <=100000: # 요거 주의. visited[i] 판단보다 먼저 해야 함. \n",
    "            if not visited[i]:\n",
    "                visited[i] = True\n",
    "                queue.append((i, count+1))\n",
    "    \n",
    "            "
   ]
  },
  {
   "cell_type": "markdown",
   "metadata": {},
   "source": [
    "7. 연결 요소의 개수"
   ]
  },
  {
   "cell_type": "code",
   "execution_count": 26,
   "metadata": {},
   "outputs": [
    {
     "name": "stdout",
     "output_type": "stream",
     "text": [
      "6 5\n",
      "1 2\n",
      "2 5\n",
      "5 1\n",
      "3 4\n",
      "4 6\n",
      "[False, True, False, False, False, False, False]\n",
      "[False, True, True, False, False, False, False]\n",
      "[False, True, True, False, False, True, False]\n",
      "[False, True, True, True, False, True, False]\n",
      "[False, True, True, True, True, True, False]\n",
      "[False, True, True, True, True, True, True]\n"
     ]
    }
   ],
   "source": [
    "# 맞기는 한것 같은데 재귀가 너무 깊어져서 시간초과 오류남\n",
    "def dfs(a, start, visited):\n",
    "    visited[start] = True\n",
    "    for k in a[start]:\n",
    "        if not visited[k]:\n",
    "            dfs(a, k, visited)\n",
    "            \n",
    "n, m = map(int, input().split())\n",
    "a = [[] for i in range(n+1)]\n",
    "\n",
    "for i in range(m):\n",
    "    x, y = map(int, input().split())\n",
    "    a[x].append(y)\n",
    "    a[y].append(x)\n",
    "    \n",
    "visited = [False] * (n+1)\n",
    "count = 0\n",
    "\n",
    "for j in range(1, n+1):\n",
    "    if a[j] and not visited[j]:\n",
    "        count += 1\n",
    "        dfs(a, j, visited)\n",
    "print(count)"
   ]
  },
  {
   "cell_type": "code",
   "execution_count": null,
   "metadata": {},
   "outputs": [
    {
     "name": "stdout",
     "output_type": "stream",
     "text": [
      "6 5\n",
      "1 2\n",
      "2 5\n",
      "5 1\n",
      "3 4\n",
      "4 6\n"
     ]
    }
   ],
   "source": [
    "n, m = map(int, input().split())\n",
    "a = [[] for i in range(n+1)]\n",
    "\n",
    "for i in range(m):\n",
    "    x, y = map(int, input().split())\n",
    "    a[x].append(y)\n",
    "    a[y].append(x)\n",
    "    \n",
    "visited = [False] * (n+1)\n",
    "count = 0\n",
    "\n",
    "for j in range(1, n+1):\n",
    "    if a[j] and not visited[j]:\n",
    "        count += 1\n",
    "        stack = a[j]\n",
    "        while stack:\n",
    "            now = stack.pop()\n",
    "            if not visited[now]:\n",
    "                stack.extend(a[now])\n",
    "print(count)"
   ]
  },
  {
   "cell_type": "code",
   "execution_count": null,
   "metadata": {},
   "outputs": [],
   "source": [
    "count"
   ]
  }
 ],
 "metadata": {
  "kernelspec": {
   "display_name": "Python 3",
   "language": "python",
   "name": "python3"
  },
  "language_info": {
   "codemirror_mode": {
    "name": "ipython",
    "version": 3
   },
   "file_extension": ".py",
   "mimetype": "text/x-python",
   "name": "python",
   "nbconvert_exporter": "python",
   "pygments_lexer": "ipython3",
   "version": "3.8.5"
  }
 },
 "nbformat": 4,
 "nbformat_minor": 4
}
