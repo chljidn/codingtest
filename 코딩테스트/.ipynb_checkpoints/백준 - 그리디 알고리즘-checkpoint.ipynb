{
 "cells": [
  {
   "cell_type": "markdown",
   "metadata": {},
   "source": [
    "## 그리디"
   ]
  },
  {
   "cell_type": "markdown",
   "metadata": {},
   "source": [
    "설탕 배달"
   ]
  },
  {
   "cell_type": "code",
   "execution_count": 83,
   "metadata": {},
   "outputs": [],
   "source": [
    "n = int(input())\n",
    "count = 0\n",
    "while n > 0:\n",
    "    if n % 5 != 0:\n",
    "        n -= 3\n",
    "        count += 1\n",
    "    else:\n",
    "        count += n//5\n",
    "        break\n",
    "\n",
    "if n < 0:\n",
    "    count = -1\n",
    "print(count)"
   ]
  },
  {
   "cell_type": "markdown",
   "metadata": {},
   "source": [
    "ATM"
   ]
  },
  {
   "cell_type": "code",
   "execution_count": 103,
   "metadata": {},
   "outputs": [
    {
     "name": "stdout",
     "output_type": "stream",
     "text": [
      "5\n",
      "3 1 4 3 2\n",
      "32\n"
     ]
    }
   ],
   "source": [
    "nn = int(input())\n",
    "n = list(map(int, input().split(\" \")))\n",
    "\n",
    "n.sort()\n",
    "count = 0\n",
    "aa = []\n",
    "for i in n:\n",
    "    count += sum(aa)+i\n",
    "    aa.append(i)\n",
    "print(count)\n"
   ]
  },
  {
   "cell_type": "markdown",
   "metadata": {},
   "source": [
    "동전 0"
   ]
  },
  {
   "cell_type": "code",
   "execution_count": 314,
   "metadata": {},
   "outputs": [
    {
     "name": "stdout",
     "output_type": "stream",
     "text": [
      "\n"
     ]
    },
    {
     "ename": "ValueError",
     "evalue": "invalid literal for int() with base 10: ''",
     "output_type": "error",
     "traceback": [
      "\u001b[1;31m---------------------------------------------------------------------------\u001b[0m",
      "\u001b[1;31mValueError\u001b[0m                                Traceback (most recent call last)",
      "\u001b[1;32m<ipython-input-314-2f73e215f858>\u001b[0m in \u001b[0;36m<module>\u001b[1;34m\u001b[0m\n\u001b[1;32m----> 1\u001b[1;33m \u001b[0mfirst\u001b[0m \u001b[1;33m=\u001b[0m \u001b[0mlist\u001b[0m\u001b[1;33m(\u001b[0m\u001b[0mmap\u001b[0m\u001b[1;33m(\u001b[0m\u001b[0mint\u001b[0m\u001b[1;33m,\u001b[0m \u001b[0minput\u001b[0m\u001b[1;33m(\u001b[0m\u001b[1;33m)\u001b[0m\u001b[1;33m.\u001b[0m\u001b[0msplit\u001b[0m\u001b[1;33m(\u001b[0m\u001b[1;34m\" \"\u001b[0m\u001b[1;33m)\u001b[0m\u001b[1;33m)\u001b[0m\u001b[1;33m)\u001b[0m\u001b[1;33m\u001b[0m\u001b[1;33m\u001b[0m\u001b[0m\n\u001b[0m\u001b[0;32m      2\u001b[0m \u001b[1;31m#a = []\u001b[0m\u001b[1;33m\u001b[0m\u001b[1;33m\u001b[0m\u001b[1;33m\u001b[0m\u001b[0m\n\u001b[0;32m      3\u001b[0m \u001b[1;31m#for i in range(first[0]):\u001b[0m\u001b[1;33m\u001b[0m\u001b[1;33m\u001b[0m\u001b[1;33m\u001b[0m\u001b[0m\n\u001b[0;32m      4\u001b[0m \u001b[1;31m#    a.append(int(input()))\u001b[0m\u001b[1;33m\u001b[0m\u001b[1;33m\u001b[0m\u001b[1;33m\u001b[0m\u001b[0m\n\u001b[0;32m      5\u001b[0m \u001b[0ma\u001b[0m \u001b[1;33m=\u001b[0m \u001b[1;33m[\u001b[0m\u001b[1;33m[\u001b[0m\u001b[0mint\u001b[0m\u001b[1;33m(\u001b[0m\u001b[0minput\u001b[0m\u001b[1;33m(\u001b[0m\u001b[1;33m)\u001b[0m\u001b[1;33m)\u001b[0m\u001b[1;33m]\u001b[0m \u001b[1;32mfor\u001b[0m \u001b[0mi\u001b[0m \u001b[1;32min\u001b[0m \u001b[0mrange\u001b[0m\u001b[1;33m(\u001b[0m\u001b[0mfirst\u001b[0m\u001b[1;33m[\u001b[0m\u001b[1;36m0\u001b[0m\u001b[1;33m]\u001b[0m\u001b[1;33m)\u001b[0m\u001b[1;33m]\u001b[0m\u001b[1;33m\u001b[0m\u001b[1;33m\u001b[0m\u001b[0m\n",
      "\u001b[1;31mValueError\u001b[0m: invalid literal for int() with base 10: ''"
     ]
    }
   ],
   "source": [
    "first = list(map(int, input().split(\" \")))\n",
    "#a = []\n",
    "#for i in range(first[0]):\n",
    "#    a.append(int(input()))\n",
    "a = [[int(input())] for i in range(first[0])]\n",
    "\n",
    "count = 0\n",
    "while first[1] > 0:\n",
    "    c = a.pop()\n",
    "    if c <= first[1]:\n",
    "        count += first[1]//c\n",
    "        first[1] %= c\n",
    "print(count)"
   ]
  },
  {
   "cell_type": "markdown",
   "metadata": {},
   "source": [
    "회의실 배정"
   ]
  },
  {
   "cell_type": "code",
   "execution_count": null,
   "metadata": {},
   "outputs": [],
   "source": [
    "a = input()\n",
    "a = a.split(\"-\")\n",
    "#b = \"1234567890\"\n",
    "for i in range(len(a)):\n",
    "    if \"+\"in a[i]:\n",
    "        c = a[i].split(\"+\")\n",
    "        c = list(map(lambda x : int(x), c))\n",
    "        a[i] = sum(c)\n",
    "count = int(a[0])\n",
    "del(a[0])\n",
    "for i in a:\n",
    "    count -= int(i)\n",
    "print(count)"
   ]
  },
  {
   "cell_type": "markdown",
   "metadata": {},
   "source": [
    "거스름돈"
   ]
  },
  {
   "cell_type": "code",
   "execution_count": 404,
   "metadata": {},
   "outputs": [
    {
     "name": "stdout",
     "output_type": "stream",
     "text": [
      "1\n",
      "15\n"
     ]
    }
   ],
   "source": [
    "n = 1000 - int(input())\n",
    "a = [1,5,10,50,100,500]\n",
    "count = 0\n",
    "while n > 0:\n",
    "    c = a.pop()\n",
    "    count += n//c\n",
    "    n %= c\n",
    "print(count)"
   ]
  },
  {
   "cell_type": "markdown",
   "metadata": {},
   "source": [
    "로프"
   ]
  },
  {
   "cell_type": "code",
   "execution_count": 1,
   "metadata": {},
   "outputs": [
    {
     "data": {
      "text/plain": [
       "100"
      ]
     },
     "execution_count": 1,
     "metadata": {},
     "output_type": "execute_result"
    }
   ],
   "source": [
    "a = [10, 15, 100]\n",
    "d= []\n",
    "while a:\n",
    "    d.append(a[0] * len(a))\n",
    "    del(a[0])\n",
    "max(d)"
   ]
  },
  {
   "cell_type": "markdown",
   "metadata": {},
   "source": [
    "전자 레인지"
   ]
  },
  {
   "cell_type": "code",
   "execution_count": null,
   "metadata": {},
   "outputs": [
    {
     "name": "stdout",
     "output_type": "stream",
     "text": [
      "\n"
     ]
    }
   ],
   "source": [
    "n = int(input())\n",
    "a = [300, 60, 10]\n",
    "answer = [0, 0, 0]\n",
    "for i in range(len(a)):\n",
    "    if a[i] <= n:\n",
    "        answer[i] += n//a[i]\n",
    "        n %= a[i]\n",
    "if n != 0:\n",
    "    print(-1)\n",
    "else:\n",
    "    print(answer[0], answer[1], answer[2])"
   ]
  },
  {
   "cell_type": "markdown",
   "metadata": {},
   "source": [
    "신입사원**"
   ]
  },
  {
   "cell_type": "code",
   "execution_count": 748,
   "metadata": {},
   "outputs": [
    {
     "data": {
      "text/plain": [
       "[[1, 4], [2, 5], [3, 6], [4, 2], [5, 7], [6, 1], [7, 3]]"
      ]
     },
     "execution_count": 748,
     "metadata": {},
     "output_type": "execute_result"
    }
   ],
   "source": [
    "import sys\n",
    "n = int(input())\n",
    "c = []\n",
    "answer = []\n",
    "for i in range(n):\n",
    "    k = int(input())\n",
    "    d = [list(map(int,sys.stdin.readline().split())) for i in range(k)]\n",
    "    \n",
    "    d.sort()\n",
    "    aaa = d[0][1]\n",
    "    count = 1\n",
    "    for i in range(1, len(d)):\n",
    "        if aaa > d[i][1]:\n",
    "            aaa = d[i][1]\n",
    "            count +=1\n",
    "    print(count)"
   ]
  },
  {
   "cell_type": "markdown",
   "metadata": {},
   "source": [
    "수들의 합"
   ]
  },
  {
   "cell_type": "code",
   "execution_count": 826,
   "metadata": {},
   "outputs": [
    {
     "name": "stdout",
     "output_type": "stream",
     "text": [
      "0\n",
      "0\n"
     ]
    }
   ],
   "source": [
    "a = int(input())\n",
    "count = 0\n",
    "d = 1\n",
    "\n",
    "while True:\n",
    "    count += d\n",
    "    if count >= a:\n",
    "        break\n",
    "    d += 1\n",
    "    \n",
    "if count > a:\n",
    "    d -= 1\n",
    "print(d)\n"
   ]
  },
  {
   "cell_type": "markdown",
   "metadata": {},
   "source": [
    "주유소"
   ]
  },
  {
   "cell_type": "code",
   "execution_count": 245,
   "metadata": {},
   "outputs": [],
   "source": [
    "a = int(input())\n",
    "b = list(map(int, input().split(\" \")))\n",
    "c = list(map(int, input().split(\" \")))\n",
    "\n",
    "total_sum = 0\n",
    "idx = 1\n",
    "\n",
    "while idx < len(c):\n",
    "    if c[idx-1] < c[idx]:\n",
    "        c[idx] = c[idx-1]\n",
    "        total_sum += c[idx-1]* b[idx-1]\n",
    "    else:\n",
    "        total_sum += c[idx-1]*b[idx-1]\n",
    "    idx+=1\n",
    "        \n",
    "        "
   ]
  },
  {
   "cell_type": "markdown",
   "metadata": {},
   "source": [
    "카드 정렬하기"
   ]
  },
  {
   "cell_type": "code",
   "execution_count": null,
   "metadata": {},
   "outputs": [],
   "source": [
    "import heapq\n",
    "\n",
    "a = int(input())\n",
    "b = [int(input()) for i in range(a)]\n",
    "heapq.heapify(b)\n",
    "\n",
    "if a == 1:\n",
    "    print(0)\n",
    "else:\n",
    "    total_sum = 0\n",
    "    while len(b)>1:\n",
    "        b_min = heapq.heappop(b)\n",
    "        b_min_2 = heapq.heappop(b)\n",
    "        total_sum += b_min+b_min_2\n",
    "        min_sum = b_min + b_min_2\n",
    "        heapq.heappush(b, min_sum)\n",
    "        \n",
    "    print(total_sum)"
   ]
  },
  {
   "cell_type": "markdown",
   "metadata": {},
   "source": [
    "캠핑"
   ]
  },
  {
   "cell_type": "code",
   "execution_count": 651,
   "metadata": {},
   "outputs": [
    {
     "name": "stdout",
     "output_type": "stream",
     "text": [
      "5 8 20\n",
      "Case 1: 14\n",
      "5 8 17\n",
      "Case 2: 11\n",
      "0 0 0\n"
     ]
    }
   ],
   "source": [
    "# 문제페이지에 나온 lvp랑 순서가 다름\n",
    "# 문제페이지에서는 변수 순서가 L, P, V임\n",
    "count = 0\n",
    "while True:\n",
    "    v, p, l = map(int, input().split(\" \"))\n",
    "    if v == 0 and p ==0 and l ==0:\n",
    "        break\n",
    "    \n",
    "    else:\n",
    "        case = (l//p)*v\n",
    "        k = l%p\n",
    "        if k > v: case += v\n",
    "        else: case += k\n",
    "        count += 1\n",
    "        print(f\"Case {count}: {case}\")"
   ]
  },
  {
   "cell_type": "code",
   "execution_count": 649,
   "metadata": {},
   "outputs": [
    {
     "name": "stdout",
     "output_type": "stream",
     "text": [
      "5 8 20\n",
      "0 0 0\n",
      "Case 1: 14\n"
     ]
    }
   ],
   "source": [
    "a = []\n",
    "while True:\n",
    "    aa = list(map(int, input().split(\" \")))\n",
    "    if aa[0] == 0 and aa[1] ==0 and aa[2] == 0:\n",
    "        break\n",
    "    else:\n",
    "        a.append(aa)\n",
    "\n",
    "\n",
    "for i in range(len(a)):\n",
    "    case = (a[i][2]//a[i][1])*a[i][0]\n",
    "    k = a[i][2] % a[i][1]\n",
    "    if k > a[i][0]:\n",
    "        case += a[i][0]\n",
    "    else:\n",
    "        case += k\n",
    "    print(f\"Case {i+1}: {case}\")"
   ]
  },
  {
   "cell_type": "code",
   "execution_count": 641,
   "metadata": {},
   "outputs": [
    {
     "name": "stdout",
     "output_type": "stream",
     "text": [
      "5 8 20\n",
      "5 8 17\n",
      "0 0 0\n",
      "Case 1: 14\n",
      "Case 2: 11\n"
     ]
    }
   ],
   "source": [
    "a = []\n",
    "while True:\n",
    "    aa = list(map(int, input().split(\" \")))\n",
    "    if aa[0] == 0 and aa[1] ==0 and aa[2] == 0:\n",
    "        break\n",
    "    else:\n",
    "        a.append(aa)\n",
    "\n",
    "\n",
    "ccount = 0\n",
    "for i in a:\n",
    "    count = 0\n",
    "    while True:\n",
    "        if i[2] - i[1] >= 0:\n",
    "            i[2] -= i[1]\n",
    "            count += i[0]\n",
    "        else:\n",
    "            if i[0] > i[2]:\n",
    "                count += i[2]\n",
    "            else:\n",
    "                count += i[0]\n",
    "            break\n",
    "    ccount += 1\n",
    "    print(f\"Case {ccount}: {count}\")\n"
   ]
  },
  {
   "cell_type": "markdown",
   "metadata": {},
   "source": [
    "수 묶기**"
   ]
  },
  {
   "cell_type": "code",
   "execution_count": null,
   "metadata": {},
   "outputs": [],
   "source": [
    "a = int(input())\n",
    "b = [[], [], []]\n",
    "for i in range(a):\n",
    "    c = int(input())\n",
    "    if c >0:\n",
    "        b[0].append(c)\n",
    "    elif c == 0:\n",
    "        b[1].append(c)\n",
    "    else:\n",
    "        b[2].append(c)\n",
    "        \n",
    "total = 0\n",
    "b[0].sort()\n",
    "while len(b[0]) > 1:\n",
    "    n = b[0].pop()\n",
    "    m = b[0].pop()\n",
    "    mm = [n, m]\n",
    "    if 1 in mm:\n",
    "        total += n+m\n",
    "    else:\n",
    "        total += n*m\n",
    "total+= sum(b[0])        \n",
    "\n",
    "b[2].sort(reverse=True)\n",
    "while len(b[2]) > 1:\n",
    "    n = b[2].pop()\n",
    "    m = b[2].pop()\n",
    "    total += n*m\n",
    "\n",
    "if len(b[2]) == 1 and not b[1]:\n",
    "    total += b[2][0]\n",
    "print(total)"
   ]
  },
  {
   "cell_type": "markdown",
   "metadata": {},
   "source": [
    "뒤집기"
   ]
  },
  {
   "cell_type": "code",
   "execution_count": 760,
   "metadata": {},
   "outputs": [
    {
     "name": "stdout",
     "output_type": "stream",
     "text": [
      "0001100\n",
      "1\n"
     ]
    }
   ],
   "source": [
    "#a = \"0001100\"\n",
    "#a = \"01010101010101000011\"\n",
    "#a = \"11111111111\"\n",
    "#a = \"0001100111001\"\n",
    "a = input()\n",
    "b= [a[0]]\n",
    "for i in range(1, len(a)):\n",
    "    if a[i] != a[i-1]:\n",
    "        b.append(a[i])\n",
    "c = [b.count('1'), b.count('0')]\n",
    "print(min(c))"
   ]
  },
  {
   "cell_type": "markdown",
   "metadata": {},
   "source": [
    "행렬***"
   ]
  },
  {
   "cell_type": "code",
   "execution_count": null,
   "metadata": {},
   "outputs": [],
   "source": [
    "def aaa(a, b, mat_bool):\n",
    "\n",
    "    \n",
    "    if a[0] < 3 or a[1] < 3:\n",
    "        if b[0] == b[1]:\n",
    "            return 0\n",
    "        else:\n",
    "            return -1\n",
    "        \n",
    "    \n",
    "    count = 0\n",
    "    for i in range(0, a[0]-2):\n",
    "        for j in range(0,  a[1]-2):\n",
    "            if mat_bool[i][j] == False:\n",
    "                count += 1 \n",
    "                for k in range(i, i+3):\n",
    "                    for f in range(j, j+3):\n",
    "                        if mat_bool[k][f] == True:\n",
    "                            mat_bool[k][f] = False\n",
    "                        else:\n",
    "                            mat_bool[k][f] = True\n",
    "    \n",
    "    for ii in range(a[0]):\n",
    "        for jj in range(a[1]):\n",
    "            if mat_bool[ii][jj] == False:\n",
    "                return -1\n",
    "    \n",
    "    return count\n",
    "\n",
    "a = list(map(int, input().split(\" \")))\n",
    "b = []\n",
    "\n",
    "for i in range(2):\n",
    "    c= [\"\".join(list(input())) for i in range(a[0])]\n",
    "    b.append(c)\n",
    "\n",
    "mat_bool = []\n",
    "for i in range(len(b[0])):\n",
    "    c = []\n",
    "    for j in range(len(b[0][i])):\n",
    "        if b[0][i][j] == b[1][i][j]:\n",
    "            c.append(True)\n",
    "        else:\n",
    "            c.append(False)\n",
    "    mat_bool.append(c)\n",
    "print(aaa(a, b, mat_bool))\n",
    "\n"
   ]
  },
  {
   "cell_type": "markdown",
   "metadata": {},
   "source": [
    "보석 도둑****"
   ]
  },
  {
   "cell_type": "code",
   "execution_count": null,
   "metadata": {},
   "outputs": [],
   "source": [
    "# stdin 안쓰고 input 쓰면 시간초과 걸림\n",
    "import heapq\n",
    "import sys\n",
    "n_k = list(map(int, input().split(\" \")))\n",
    "\n",
    "m_v = []\n",
    "for i in range(n_k[0]):\n",
    "    heapq.heappush(m_v, list(map(int, sys.stdin.readline().split())))\n",
    "    \n",
    "c = []\n",
    "for i in range(n_k[1]):\n",
    "    heapq.heappush(c, int(sys.stdin.readline()))\n",
    "\n",
    "count = 0\n",
    "c_v = []\n",
    "for i in range(len(c)):\n",
    "    c_i = heapq.heappop(c)\n",
    "    while m_v:\n",
    "        if c_i >= m_v[0][0]:\n",
    "            heapq.heappush(c_v, -heapq.heappop(m_v)[1])\n",
    "        else:\n",
    "            break\n",
    "    if c_v:\n",
    "        count -= heapq.heappop(c_v)\n",
    "    else:\n",
    "        continue # break nono!!!\n",
    "print(count)"
   ]
  },
  {
   "cell_type": "markdown",
   "metadata": {},
   "source": [
    "저울*** 못품"
   ]
  },
  {
   "cell_type": "code",
   "execution_count": 1626,
   "metadata": {},
   "outputs": [
    {
     "name": "stdout",
     "output_type": "stream",
     "text": [
      "7\n",
      "3 1 6 2 7 30 1\n",
      "21\n"
     ]
    }
   ],
   "source": [
    "import sys\n",
    "\n",
    "\n",
    "bb = int(input())\n",
    "a = list(map(int, sys.stdin.readline().split()))\n",
    "\n",
    "a.sort()\n",
    "count = 0\n",
    "for i in range(bb):\n",
    "    if count+1 >= a[i]:\n",
    "        count += a[i]\n",
    "    else:\n",
    "        count += 1\n",
    "        break\n",
    "print(count)\n",
    "        "
   ]
  },
  {
   "cell_type": "markdown",
   "metadata": {},
   "source": [
    "수리공 항승** 못품"
   ]
  },
  {
   "cell_type": "code",
   "execution_count": 1808,
   "metadata": {},
   "outputs": [
    {
     "name": "stdout",
     "output_type": "stream",
     "text": [
      "4 2\n",
      "1 2 100 101\n",
      "2\n"
     ]
    }
   ],
   "source": [
    "a, k = map(int, input().split(\" \"))\n",
    "b = list(map(int, input().split(\" \")))\n",
    "\n",
    "count = 1\n",
    "c = b[0] + (k-1)\n",
    "for i in range(1, a):\n",
    "    if c >= b[i]:\n",
    "        continue\n",
    "    count += 1\n",
    "    c = b[i] + (k-1)\n",
    "print(count)\n",
    "    \n"
   ]
  },
  {
   "cell_type": "markdown",
   "metadata": {},
   "source": [
    "A -> B"
   ]
  },
  {
   "cell_type": "code",
   "execution_count": null,
   "metadata": {},
   "outputs": [],
   "source": [
    "b, a = map(int, input().split(\" \"))\n",
    "count = 1\n",
    "\n",
    "while True:\n",
    "    \n",
    "    if a == b:\n",
    "        print(count)\n",
    "        break\n",
    "        \n",
    "    elif b > a:\n",
    "        print(-1)\n",
    "        break\n",
    "        \n",
    "    if str(a)[-1] == \"1\":\n",
    "        a = int(str(a)[:-1])\n",
    "    else:\n",
    "        if a % 2 > 0:\n",
    "            print(-1)\n",
    "            break\n",
    "        else:\n",
    "            a //= 2\n",
    "        \n",
    "    count += 1"
   ]
  },
  {
   "cell_type": "markdown",
   "metadata": {},
   "source": [
    "문서 검색"
   ]
  },
  {
   "cell_type": "code",
   "execution_count": 10,
   "metadata": {},
   "outputs": [
    {
     "name": "stdout",
     "output_type": "stream",
     "text": [
      "ababababa\n",
      "aba\n",
      "2\n"
     ]
    }
   ],
   "source": [
    "print(input().count(input()))"
   ]
  },
  {
   "cell_type": "markdown",
   "metadata": {},
   "source": [
    "병든 나이트***"
   ]
  },
  {
   "cell_type": "code",
   "execution_count": 170,
   "metadata": {},
   "outputs": [
    {
     "name": "stdout",
     "output_type": "stream",
     "text": [
      "400 6\n",
      "4\n"
     ]
    }
   ],
   "source": [
    "import copy\n",
    "\n",
    "a = list(map(int, input().split(\" \")))\n",
    "    \n",
    "count = 1\n",
    "\n",
    "if a[0] > 2:\n",
    "    if a[1] == 2: \n",
    "        count += 1\n",
    "\n",
    "    elif 2 < a[1] <= 6:\n",
    "        count += a[1] -1\n",
    "        if count >= 5:\n",
    "            count = 4\n",
    "            \n",
    "    elif 6 < a[1] :\n",
    "        count += 2\n",
    "        a[1] -= 4\n",
    "        count += a[1] -1 \n",
    "        \n",
    "elif a[0] == 2:\n",
    "    if a[1] > 2:\n",
    "        count += (a[1]//2)+(a[1]%2) -1\n",
    "        if count >= 5:\n",
    "            count = 4\n",
    "\n",
    "print(count)"
   ]
  },
  {
   "cell_type": "markdown",
   "metadata": {},
   "source": [
    "게임을 만든 동준이"
   ]
  },
  {
   "cell_type": "code",
   "execution_count": 203,
   "metadata": {},
   "outputs": [
    {
     "name": "stdout",
     "output_type": "stream",
     "text": [
      "4\n",
      "5\n",
      "3\n",
      "7\n",
      "5\n",
      "6\n"
     ]
    }
   ],
   "source": [
    "a = int(input())\n",
    "b = [int(input()) for i in range(a)]\n",
    "count = 0\n",
    "for i in range(-2, -len(b)-1, -1):\n",
    "    if b[i] >= b[i+1]:\n",
    "        count += abs((b[i+1] - 1) - (b[i]))\n",
    "        b[i] = b[i+1] -1\n",
    "print(count)"
   ]
  }
 ],
 "metadata": {
  "kernelspec": {
   "display_name": "Python 3",
   "language": "python",
   "name": "python3"
  },
  "language_info": {
   "codemirror_mode": {
    "name": "ipython",
    "version": 3
   },
   "file_extension": ".py",
   "mimetype": "text/x-python",
   "name": "python",
   "nbconvert_exporter": "python",
   "pygments_lexer": "ipython3",
   "version": "3.8.5"
  }
 },
 "nbformat": 4,
 "nbformat_minor": 4
}
