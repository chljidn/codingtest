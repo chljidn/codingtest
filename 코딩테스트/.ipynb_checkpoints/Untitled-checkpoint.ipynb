{
 "cells": [
  {
   "cell_type": "code",
   "execution_count": 285,
   "metadata": {},
   "outputs": [
    {
     "data": {
      "text/plain": [
       "46811.42857142857"
      ]
     },
     "execution_count": 285,
     "metadata": {},
     "output_type": "execute_result"
    }
   ],
   "source": [
    "a = ''.join(list(filter(str.isalpha, 'FRENCE+'))).upper()\n",
    "b = ''.join(list(filter(str.isalpha, 'french'))).upper()\n",
    "\n",
    "def jaccard_similarity(doc1, doc2):\n",
    "    doc1 = set(doc1.upper())\n",
    "    doc2 = set(doc2.upper())\n",
    "    return len(doc1 & doc2) / len(doc1 | doc2)\n",
    "\n",
    "c = jaccard_similarity(a, b)"
   ]
  },
  {
   "cell_type": "code",
   "execution_count": 480,
   "metadata": {},
   "outputs": [
    {
     "data": {
      "text/plain": [
       "16384"
      ]
     },
     "execution_count": 480,
     "metadata": {},
     "output_type": "execute_result"
    }
   ],
   "source": [
    "def solution(str1, str2):\n",
    "    a = [(str1[i-1]+str1[i]).upper() for i in range(1, len(str1)) if (str1[i-1]+str1[i]).isalpha()]\n",
    "    b = [(str2[i-1]+str2[i]).upper() for i in range(1, len(str2)) if (str2[i-1]+str2[i]).isalpha()]\n",
    "    c = list(set(a) & set(b))\n",
    "\n",
    "    inter = []\n",
    "    summ = list(set(a+b))\n",
    "\n",
    "    for i in c:\n",
    "        inter.extend(min(a.count(i), b.count(i)) * [i])\n",
    "        summ.extend((max(a.count(i), b.count(i))-1) * [i])\n",
    "    \n",
    "    if summ == [] and inter == []:\n",
    "        return 65536\n",
    "    answer= int((len(inter)/len(summ)) * 65536)\n",
    "    \n",
    "    return answer\n",
    "\n",
    "solution('FRANCE', 'french')"
   ]
  },
  {
   "cell_type": "code",
   "execution_count": 481,
   "metadata": {},
   "outputs": [
    {
     "name": "stdout",
     "output_type": "stream",
     "text": [
      "[]\n",
      "[]\n"
     ]
    },
    {
     "ename": "ZeroDivisionError",
     "evalue": "division by zero",
     "output_type": "error",
     "traceback": [
      "\u001b[1;31m---------------------------------------------------------------------------\u001b[0m",
      "\u001b[1;31mZeroDivisionError\u001b[0m                         Traceback (most recent call last)",
      "\u001b[1;32m<ipython-input-481-5922d85970b3>\u001b[0m in \u001b[0;36m<module>\u001b[1;34m\u001b[0m\n\u001b[0;32m     13\u001b[0m \u001b[0mprint\u001b[0m\u001b[1;33m(\u001b[0m\u001b[0msorted\u001b[0m\u001b[1;33m(\u001b[0m\u001b[0msumm\u001b[0m\u001b[1;33m)\u001b[0m\u001b[1;33m)\u001b[0m\u001b[1;33m\u001b[0m\u001b[1;33m\u001b[0m\u001b[0m\n\u001b[0;32m     14\u001b[0m \u001b[0mprint\u001b[0m\u001b[1;33m(\u001b[0m\u001b[0msorted\u001b[0m\u001b[1;33m(\u001b[0m\u001b[0minter\u001b[0m\u001b[1;33m)\u001b[0m\u001b[1;33m)\u001b[0m\u001b[1;33m\u001b[0m\u001b[1;33m\u001b[0m\u001b[0m\n\u001b[1;32m---> 15\u001b[1;33m \u001b[0mint\u001b[0m\u001b[1;33m(\u001b[0m\u001b[1;33m(\u001b[0m\u001b[0mlen\u001b[0m\u001b[1;33m(\u001b[0m\u001b[0minter\u001b[0m\u001b[1;33m)\u001b[0m\u001b[1;33m/\u001b[0m\u001b[0mlen\u001b[0m\u001b[1;33m(\u001b[0m\u001b[0msumm\u001b[0m\u001b[1;33m)\u001b[0m\u001b[1;33m)\u001b[0m \u001b[1;33m*\u001b[0m \u001b[1;36m65536\u001b[0m\u001b[1;33m)\u001b[0m\u001b[1;33m\u001b[0m\u001b[1;33m\u001b[0m\u001b[0m\n\u001b[0m",
      "\u001b[1;31mZeroDivisionError\u001b[0m: division by zero"
     ]
    }
   ],
   "source": [
    "str1 = 'E=M*C^2'\n",
    "str2 = 'e=m*c^2'\n",
    "a = [str1[i-1]+str1[i] for i in range(1, len(str1)) if (str1[i-1]+str1[i]).isalpha()]\n",
    "b = [str2[i-1]+str2[i] for i in range(1, len(str2)) if (str2[i-1]+str2[i]).isalpha()]\n",
    "c = list(set(a) & set(b))\n",
    "\n",
    "inter = []\n",
    "summ = list(set(a+b))\n",
    "for i in c:\n",
    "    inter.extend(min(a.count(i), b.count(i)) * [i])\n",
    "    summ.extend((max(a.count(i), b.count(i))-1) * [i])\n",
    "\n",
    "print(sorted(summ))\n",
    "print(sorted(inter)\n",
    "int((len(inter)/len(summ)) * 65536)"
   ]
  },
  {
   "cell_type": "code",
   "execution_count": 471,
   "metadata": {},
   "outputs": [
    {
     "name": "stdout",
     "output_type": "stream",
     "text": [
      "['AK', 'AN', 'DS', 'HA', 'HA', 'KE', 'ND', 'SH']\n",
      "['AK', 'AN', 'DS', 'EH', 'HA', 'HA', 'KE', 'ND', 'SH']\n",
      "\n",
      "['AK', 'AN', 'DS', 'HA', 'HA', 'KE', 'ND', 'SH']\n",
      "['AK', 'AN', 'DS', 'EH', 'HA', 'HA', 'KE', 'ND', 'SH']\n"
     ]
    }
   ],
   "source": [
    "print(sorted(a))\n",
    "print(sorted(b))\n",
    "print('')\n",
    "print(sorted(inter))\n",
    "print(sorted(summ))\n",
    "\n"
   ]
  },
  {
   "cell_type": "code",
   "execution_count": 530,
   "metadata": {},
   "outputs": [],
   "source": [
    "places= [[\"POOOP\", \"OXXOX\", \"OPXPX\", \"OOXOX\", \"POXXP\"], \n",
    "         [\"POOPX\", \"OXPXP\", \"PXXXO\", \"OXXXO\", \"OOOPP\"], \n",
    "         [\"PXOPX\", \"OXOXP\", \"OXPOX\", \"OXXOP\", \"PXPOX\"],\n",
    "         [\"OOOXX\", \"XOOOX\", \"OOOXX\", \"OXOOX\", \"OOOOO\"], \n",
    "         [\"PXPXP\", \"XPXPX\", \"PXPXP\", \"XPXPX\", \"PXPXP\"]]"
   ]
  },
  {
   "cell_type": "code",
   "execution_count": 556,
   "metadata": {},
   "outputs": [
    {
     "data": {
      "text/plain": [
       "[1, 0, 1, 1, 1]"
      ]
     },
     "execution_count": 556,
     "metadata": {},
     "output_type": "execute_result"
    }
   ],
   "source": [
    "answer = []\n",
    "for k in places:\n",
    "    a = [list(i) for i in k]\n",
    "    p = []\n",
    "    for i in range(len(a)):\n",
    "        for j in range(len(a[i])):\n",
    "            if a[i][j] == 'P':\n",
    "                p.append((i, j))\n",
    "    p = list(combinations(p, 2))\n",
    "    for i in p:\n",
    "        sx = i[0][0]\n",
    "        sy = i[0][1]\n",
    "        x = i[1][0]\n",
    "        y = i[1][1]\n",
    "        tf = 1\n",
    "        if abs(sx-x) + abs(sy-y) <= 2:\n",
    "            tf = 0\n",
    "            for j in range(sx, x+1):\n",
    "                if a[j][y] == 'X' or a[j][sy] == 'X':\n",
    "                    tf = 1\n",
    "\n",
    "            for j in range(sy, y+1):\n",
    "                if a[sx][j] == 'X' or a[x][j] == 'X':\n",
    "                    tf = 1\n",
    "        if tf == 0:\n",
    "            break\n",
    "    answer.append(tf)"
   ]
  },
  {
   "cell_type": "code",
   "execution_count": 524,
   "metadata": {},
   "outputs": [
    {
     "data": {
      "text/plain": [
       "[((0, 0), (0, 4)),\n",
       " ((0, 0), (2, 1)),\n",
       " ((0, 0), (2, 3)),\n",
       " ((0, 0), (4, 0)),\n",
       " ((0, 0), (4, 4)),\n",
       " ((0, 4), (2, 1)),\n",
       " ((0, 4), (2, 3)),\n",
       " ((0, 4), (4, 0)),\n",
       " ((0, 4), (4, 4)),\n",
       " ((2, 1), (2, 3)),\n",
       " ((2, 1), (4, 0)),\n",
       " ((2, 1), (4, 4)),\n",
       " ((2, 3), (4, 0)),\n",
       " ((2, 3), (4, 4)),\n",
       " ((4, 0), (4, 4))]"
      ]
     },
     "execution_count": 524,
     "metadata": {},
     "output_type": "execute_result"
    }
   ],
   "source": [
    "p"
   ]
  },
  {
   "cell_type": "code",
   "execution_count": 550,
   "metadata": {},
   "outputs": [
    {
     "name": "stdout",
     "output_type": "stream",
     "text": [
      "[((0, 0), (0, 3)), ((0, 0), (1, 2)), ((0, 0), (1, 4)), ((0, 0), (2, 0)), ((0, 0), (4, 3)), ((0, 0), (4, 4)), ((0, 3), (1, 2)), ((0, 3), (1, 4)), ((0, 3), (2, 0)), ((0, 3), (4, 3)), ((0, 3), (4, 4)), ((1, 2), (1, 4)), ((1, 2), (2, 0)), ((1, 2), (4, 3)), ((1, 2), (4, 4)), ((1, 4), (2, 0)), ((1, 4), (4, 3)), ((1, 4), (4, 4)), ((2, 0), (4, 3)), ((2, 0), (4, 4)), ((4, 3), (4, 4))]\n",
      "0 0 2 0\n",
      "P P\n",
      "0\n"
     ]
    }
   ],
   "source": [
    "a = [list(i) for i in places[1]]\n",
    "p = []\n",
    "for i in range(len(a)):\n",
    "    for j in range(len(a[i])):\n",
    "        if a[i][j] == 'P':\n",
    "            p.append((i, j))\n",
    "p = list(combinations(p, 2))\n",
    "print(p)\n",
    "for i in p:\n",
    "    sx = i[0][0]\n",
    "    sy = i[0][1]\n",
    "    x = i[1][0]\n",
    "    y = i[1][1]\n",
    "    tf = 1\n",
    "    if abs(sx-x) + abs(sy-y) <= 2:\n",
    "        print(sx, sy, x, y)\n",
    "        tf = 0\n",
    "        for j in range(sx, x+1):\n",
    "            if a[j][y] == 'X' or a[j][sy] == 'X':\n",
    "                tf = 1\n",
    "\n",
    "        for j in range(sy, y+1):\n",
    "            print(a[sx][j], a[x][j])\n",
    "            if a[sx][j] == 'X' or a[x][j] == 'X':\n",
    "                tf = 1\n",
    "    if tf == 0:\n",
    "        break\n",
    "print(tf)\n"
   ]
  },
  {
   "cell_type": "code",
   "execution_count": 552,
   "metadata": {},
   "outputs": [
    {
     "data": {
      "text/plain": [
       "[['P', 'O', 'O', 'P', 'X'],\n",
       " ['O', 'X', 'P', 'X', 'P'],\n",
       " ['P', 'X', 'X', 'X', 'O'],\n",
       " ['O', 'X', 'X', 'X', 'O'],\n",
       " ['O', 'O', 'O', 'P', 'P']]"
      ]
     },
     "execution_count": 552,
     "metadata": {},
     "output_type": "execute_result"
    }
   ],
   "source": [
    "a"
   ]
  },
  {
   "cell_type": "code",
   "execution_count": 553,
   "metadata": {},
   "outputs": [
    {
     "data": {
      "text/plain": [
       "1"
      ]
     },
     "execution_count": 553,
     "metadata": {},
     "output_type": "execute_result"
    }
   ],
   "source": [
    "from itertools import combinations\n",
    "def solution(places):\n",
    "    answer = []\n",
    "    for k in places:\n",
    "        a = [list(i) for i in k]\n",
    "        p = []\n",
    "        for i in range(len(a)):\n",
    "            for j in range(len(a[i])):\n",
    "                if a[i][j] == 'P':\n",
    "                    p.append((i, j))\n",
    "        p = list(combinations(p, 2))\n",
    "        for i in p:\n",
    "            sx, sy = i[0][0], i[0][1]\n",
    "            x, y = i[1][0], i[1][1]\n",
    "            tf = 1\n",
    "            if abs(sx-x) + abs(sy-y) <= 2:\n",
    "                tf = 0\n",
    "                for j in range(sx, x+1):\n",
    "                    if a[j][y] == 'X' or a[j][sy] == 'X':\n",
    "                        tf = 1\n",
    "\n",
    "                for j in range(sy, y+1):\n",
    "                    if a[sx][j] == 'X' or a[x][j] == 'X':\n",
    "                        tf = 1\n",
    "            if tf == 0:\n",
    "                break\n",
    "        answer.append(tf)\n",
    "    return answer"
   ]
  },
  {
   "cell_type": "code",
   "execution_count": 557,
   "metadata": {},
   "outputs": [
    {
     "name": "stdout",
     "output_type": "stream",
     "text": [
      "[((0, 0), (0, 3)), ((0, 0), (1, 2)), ((0, 0), (1, 4)), ((0, 0), (2, 0)), ((0, 0), (4, 3)), ((0, 0), (4, 4)), ((0, 3), (1, 2)), ((0, 3), (1, 4)), ((0, 3), (2, 0)), ((0, 3), (4, 3)), ((0, 3), (4, 4)), ((1, 2), (1, 4)), ((1, 2), (2, 0)), ((1, 2), (4, 3)), ((1, 2), (4, 4)), ((1, 4), (2, 0)), ((1, 4), (4, 3)), ((1, 4), (4, 4)), ((2, 0), (4, 3)), ((2, 0), (4, 4)), ((4, 3), (4, 4))]\n",
      "0 0 2 0\n",
      "0 3 1 2\n",
      "0\n"
     ]
    }
   ],
   "source": [
    "a = [list(i) for i in places[1]]\n",
    "p = []\n",
    "for i in range(len(a)):\n",
    "    for j in range(len(a[i])):\n",
    "        if a[i][j] == 'P':\n",
    "            p.append((i, j))\n",
    "p = list(combinations(p, 2))\n",
    "print(p)\n",
    "for i in p:\n",
    "    sx = i[0][0]\n",
    "    sy = i[0][1]\n",
    "    x = i[1][0]\n",
    "    y = i[1][1]\n",
    "    tf = 1\n",
    "    if abs(sx-x) + abs(sy-y) <= 2:\n",
    "        print(sx, sy, x, y)\n",
    "        tf = 0\n",
    "        if x-sx == 2:\n",
    "            if a[sx+1][y] == 'X' or a[sx+2][y] == 'X':\n",
    "                tf = 1\n",
    "            if a[x][sy+1] == 'X' or a[x][sy+2] == 'X':\n",
    "                tf = 1\n",
    "            if a[sx+1][sy] == 'X' or a[x+1][sy] == 'X':\n",
    "                tf = 1\n",
    "        \n",
    "    if tf == 0:\n",
    "        break\n",
    "print(tf)\n"
   ]
  },
  {
   "cell_type": "code",
   "execution_count": 572,
   "metadata": {},
   "outputs": [
    {
     "name": "stdout",
     "output_type": "stream",
     "text": [
      "[((0, 0), (0, 4)), ((0, 0), (2, 1)), ((0, 0), (2, 3)), ((0, 0), (4, 0)), ((0, 0), (4, 4)), ((0, 4), (2, 1)), ((0, 4), (2, 3)), ((0, 4), (4, 0)), ((0, 4), (4, 4)), ((2, 1), (2, 3)), ((2, 1), (4, 0)), ((2, 1), (4, 4)), ((2, 3), (4, 0)), ((2, 3), (4, 4)), ((4, 0), (4, 4))]\n",
      "[((0, 0), (0, 3)), ((0, 0), (1, 2)), ((0, 0), (1, 4)), ((0, 0), (2, 0)), ((0, 0), (4, 3)), ((0, 0), (4, 4)), ((0, 3), (1, 2)), ((0, 3), (1, 4)), ((0, 3), (2, 0)), ((0, 3), (4, 3)), ((0, 3), (4, 4)), ((1, 2), (1, 4)), ((1, 2), (2, 0)), ((1, 2), (4, 3)), ((1, 2), (4, 4)), ((1, 4), (2, 0)), ((1, 4), (4, 3)), ((1, 4), (4, 4)), ((2, 0), (4, 3)), ((2, 0), (4, 4)), ((4, 3), (4, 4))]\n",
      "[((0, 0), (0, 3)), ((0, 0), (1, 4)), ((0, 0), (2, 2)), ((0, 0), (3, 4)), ((0, 0), (4, 0)), ((0, 0), (4, 2)), ((0, 3), (1, 4)), ((0, 3), (2, 2)), ((0, 3), (3, 4)), ((0, 3), (4, 0)), ((0, 3), (4, 2)), ((1, 4), (2, 2)), ((1, 4), (3, 4)), ((1, 4), (4, 0)), ((1, 4), (4, 2)), ((2, 2), (3, 4)), ((2, 2), (4, 0)), ((2, 2), (4, 2)), ((3, 4), (4, 0)), ((3, 4), (4, 2)), ((4, 0), (4, 2))]\n",
      "1 4\n",
      "[]\n",
      "[((0, 0), (0, 2)), ((0, 0), (0, 4)), ((0, 0), (1, 1)), ((0, 0), (1, 3)), ((0, 0), (2, 0)), ((0, 0), (2, 2)), ((0, 0), (2, 4)), ((0, 0), (3, 1)), ((0, 0), (3, 3)), ((0, 0), (4, 0)), ((0, 0), (4, 2)), ((0, 0), (4, 4)), ((0, 2), (0, 4)), ((0, 2), (1, 1)), ((0, 2), (1, 3)), ((0, 2), (2, 0)), ((0, 2), (2, 2)), ((0, 2), (2, 4)), ((0, 2), (3, 1)), ((0, 2), (3, 3)), ((0, 2), (4, 0)), ((0, 2), (4, 2)), ((0, 2), (4, 4)), ((0, 4), (1, 1)), ((0, 4), (1, 3)), ((0, 4), (2, 0)), ((0, 4), (2, 2)), ((0, 4), (2, 4)), ((0, 4), (3, 1)), ((0, 4), (3, 3)), ((0, 4), (4, 0)), ((0, 4), (4, 2)), ((0, 4), (4, 4)), ((1, 1), (1, 3)), ((1, 1), (2, 0)), ((1, 1), (2, 2)), ((1, 1), (2, 4)), ((1, 1), (3, 1)), ((1, 1), (3, 3)), ((1, 1), (4, 0)), ((1, 1), (4, 2)), ((1, 1), (4, 4)), ((1, 3), (2, 0)), ((1, 3), (2, 2)), ((1, 3), (2, 4)), ((1, 3), (3, 1)), ((1, 3), (3, 3)), ((1, 3), (4, 0)), ((1, 3), (4, 2)), ((1, 3), (4, 4)), ((2, 0), (2, 2)), ((2, 0), (2, 4)), ((2, 0), (3, 1)), ((2, 0), (3, 3)), ((2, 0), (4, 0)), ((2, 0), (4, 2)), ((2, 0), (4, 4)), ((2, 2), (2, 4)), ((2, 2), (3, 1)), ((2, 2), (3, 3)), ((2, 2), (4, 0)), ((2, 2), (4, 2)), ((2, 2), (4, 4)), ((2, 4), (3, 1)), ((2, 4), (3, 3)), ((2, 4), (4, 0)), ((2, 4), (4, 2)), ((2, 4), (4, 4)), ((3, 1), (3, 3)), ((3, 1), (4, 0)), ((3, 1), (4, 2)), ((3, 1), (4, 4)), ((3, 3), (4, 0)), ((3, 3), (4, 2)), ((3, 3), (4, 4)), ((4, 0), (4, 2)), ((4, 0), (4, 4)), ((4, 2), (4, 4))]\n",
      "1 1\n",
      "1 1\n",
      "1 3\n",
      "1 3\n",
      "2 0\n",
      "2 2\n",
      "2 2\n",
      "2 4\n",
      "3 1\n",
      "3 1\n",
      "3 3\n",
      "3 3\n",
      "4 0\n",
      "4 2\n",
      "4 2\n",
      "4 4\n"
     ]
    },
    {
     "data": {
      "text/plain": [
       "[1, 0, 1, 1, 1]"
      ]
     },
     "execution_count": 572,
     "metadata": {},
     "output_type": "execute_result"
    }
   ],
   "source": [
    "from itertools import combinations\n",
    "def solution(places):\n",
    "    answer = []\n",
    "    for k in places:\n",
    "        a = [list(i) for i in k]\n",
    "        p = []\n",
    "        for i in range(len(a)):\n",
    "            for j in range(len(a[i])):\n",
    "                if a[i][j] == 'P':\n",
    "                    p.append((i, j))\n",
    "        p = list(combinations(p, 2))\n",
    "        print(p)\n",
    "        for i in p:\n",
    "            sx, sy = i[0][0], i[0][1]\n",
    "            x, y = i[1][0], i[1][1]\n",
    "            tf = 1\n",
    "            if abs(sx-x) + abs(sy-y) <= 2:\n",
    "                tf = 0\n",
    "                if abs(x - sx) == 2:\n",
    "                    if a[sx+1][y] == 'X':\n",
    "                        tf = 1\n",
    "                if abs(y - sy) == 2:\n",
    "                    if a[x][sy+1] == 'X':\n",
    "                        tf = 1\n",
    "                if abs(x - sx) == 1 and abs(y - sy) == 1:\n",
    "                    print(x, y)\n",
    "                    if a[x][sy] == 'X' and a[sx][y] == 'X':\n",
    "                        tf = 1\n",
    "            if tf == 0:\n",
    "                break\n",
    "        answer.append(tf)\n",
    "    return answer\n",
    "solution([[\"POOOP\", \"OXXOX\", \"OPXPX\", \"OOXOX\", \"POXXP\"], [\"POOPX\", \"OXPXP\", \"PXXXO\", \"OXXXO\", \"OOOPP\"], [\"PXOPX\", \"OXOXP\", \"OXPOX\", \"OXXOP\", \"PXPOX\"], [\"OOOXX\", \"XOOOX\", \"OOOXX\", \"OXOOX\", \"OOOOO\"], [\"PXPXP\", \"XPXPX\", \"PXPXP\", \"XPXPX\", \"PXPXP\"]])"
   ]
  },
  {
   "cell_type": "code",
   "execution_count": 564,
   "metadata": {},
   "outputs": [
    {
     "data": {
      "text/plain": [
       "[['P', 'X', 'P', 'X', 'P'],\n",
       " ['X', 'P', 'X', 'P', 'X'],\n",
       " ['P', 'X', 'P', 'X', 'P'],\n",
       " ['X', 'P', 'X', 'P', 'X'],\n",
       " ['P', 'X', 'P', 'X', 'P']]"
      ]
     },
     "execution_count": 564,
     "metadata": {},
     "output_type": "execute_result"
    }
   ],
   "source": []
  },
  {
   "cell_type": "code",
   "execution_count": 621,
   "metadata": {
    "scrolled": true
   },
   "outputs": [
    {
     "data": {
      "text/plain": [
       "[['S', 'L'], ['L', 'R']]"
      ]
     },
     "execution_count": 621,
     "metadata": {},
     "output_type": "execute_result"
    }
   ],
   "source": [
    "def solution(scoville, K):\n",
    "    answer = 0\n",
    "    heapq.heapify(scoville)\n",
    "    while scoville[0] < K:\n",
    "        heapq.heappush(scoville, heappop(scoville) + (heapq.heappop(scoville)))\n",
    "        answer += 1\n",
    "        if len(scoville) == 1:\n",
    "            break"
   ]
  },
  {
   "cell_type": "code",
   "execution_count": 110,
   "metadata": {},
   "outputs": [
    {
     "name": "stdout",
     "output_type": "stream",
     "text": [
      "[[0, 3]]\n",
      "[[1, 9], [2, 6]]\n",
      "[[2, 6]]\n",
      "[]\n"
     ]
    },
    {
     "data": {
      "text/plain": [
       "18"
      ]
     },
     "execution_count": 110,
     "metadata": {},
     "output_type": "execute_result"
    }
   ],
   "source": [
    "import heapq\n",
    "heapq.heapify([[0, 3], [1, 9], [2, 6]])\n",
    "now = 0\n",
    "a = []\n",
    "while True:\n",
    "    while jobs:\n",
    "        if now >= jobs[0][0]:\n",
    "            heapq.heappush(a, heapq.heappop(jobs))\n",
    "    if a:\n",
    "        b = heapq.heappop(a)\n",
    "        \n",
    "    \n",
    "    \n",
    "    if jobs == [] aand a ==[]:\n",
    "        break\n",
    "now\n",
    "        "
   ]
  },
  {
   "cell_type": "code",
   "execution_count": 91,
   "metadata": {},
   "outputs": [
    {
     "name": "stdout",
     "output_type": "stream",
     "text": [
      "[]\n",
      "1\n"
     ]
    }
   ],
   "source": [
    "import heapq\n",
    "jobs = [[0, 3], [1, 9], [2, 6]]\n",
    "now = 0\n",
    "a = []\n",
    "v = []\n",
    "answer = 0\n",
    "while True:\n",
    "    for i in range(len(jobs)):\n",
    "        if jobs[i][1] <= now and i not in v:\n",
    "            haepq.heappush(a, (jobs[i][1], jobs[i][0]))\n",
    "            v.append(i)\n",
    "    if a:\n",
    "        c = heapq.heappop(a)\n",
    "        now += c[1]\n",
    "        answer = "
   ]
  },
  {
   "cell_type": "code",
   "execution_count": 14,
   "metadata": {},
   "outputs": [
    {
     "name": "stdout",
     "output_type": "stream",
     "text": [
      "[3, 3]\n"
     ]
    },
    {
     "data": {
      "text/plain": [
       "[3, 3]"
      ]
     },
     "execution_count": 14,
     "metadata": {},
     "output_type": "execute_result"
    }
   ],
   "source": [
    "def prime(a):\n",
    "    b = 2\n",
    "    c = []\n",
    "    while a >= b:\n",
    "        if a % b == 0 and b <= a//b:\n",
    "            c.append([a//b, b])\n",
    "        b += 1\n",
    "    return c\n",
    "\n",
    "def solution(brown, yellow):\n",
    "    a = prime(yellow+brown)\n",
    "    for i in a:\n",
    "        if i[0]*2 + (i[1]-2)*2 == brown:\n",
    "            return i\n",
    "        \n",
    "        \n",
    "solution(8, 1)"
   ]
  },
  {
   "cell_type": "code",
   "execution_count": 94,
   "metadata": {},
   "outputs": [
    {
     "name": "stdout",
     "output_type": "stream",
     "text": [
      "54\n"
     ]
    }
   ],
   "source": [
    "from itertools import combinations\n",
    "info = [\"java backend junior pizza 150\",\n",
    " \"python frontend senior chicken 210\",\n",
    " \"python frontend senior chicken 150\",\n",
    " \"cpp backend senior pizza 260\",\n",
    " \"java backend junior chicken 80\",\n",
    " \"python backend senior chicken 50\"]\n",
    "\n",
    "st = {}\n",
    "for k in info:\n",
    "    k = k.split()\n",
    "    for i in range(5):\n",
    "        a = list(combinations([0,1,2,3], i))\n",
    "        b = ''\n",
    "        for j in a:\n",
    "            aa = ['-' if x in j else k[x] for x in range(len(k))]\n",
    "            st[''.join(aa[:-1])] = st.get(''.join(aa[:-1]), [])\n",
    "            st[''.join(aa[:-1])].append(aa[-1])\n",
    "print(len(st))\n",
    "\n"
   ]
  },
  {
   "cell_type": "code",
   "execution_count": 230,
   "metadata": {},
   "outputs": [
    {
     "name": "stdout",
     "output_type": "stream",
     "text": [
      "(0,)\n",
      "[('600',), ('500',), ('400',), ('300',), ('200',), ('100',)]\n",
      "(1,)\n",
      "[('apeach',), ('muzi',), ('con',), ('tube',), ('apeach',), ('ryan',)]\n",
      "(2,)\n",
      "[('music',), ('music',), ('computer',), ('computer',), ('math',), ('music',)]\n",
      "(3,)\n",
      "[('2',), ('3',), ('4',), ('3',), ('2',), ('2',)]\n",
      "(0, 1)\n",
      "[('600',), ('500',), ('400',), ('300',), ('200',), ('100',)]\n",
      "[('apeach',), ('muzi',), ('con',), ('tube',), ('apeach',), ('ryan',)]\n",
      "(0, 2)\n",
      "[('600',), ('500',), ('400',), ('300',), ('200',), ('100',)]\n",
      "[('music',), ('music',), ('computer',), ('computer',), ('math',), ('music',)]\n",
      "(0, 3)\n",
      "[('600',), ('500',), ('400',), ('300',), ('200',), ('100',)]\n",
      "[('2',), ('3',), ('4',), ('3',), ('2',), ('2',)]\n",
      "(1, 2)\n",
      "[('apeach',), ('muzi',), ('con',), ('tube',), ('apeach',), ('ryan',)]\n",
      "[('music',), ('music',), ('computer',), ('computer',), ('math',), ('music',)]\n",
      "(1, 3)\n",
      "[('apeach',), ('muzi',), ('con',), ('tube',), ('apeach',), ('ryan',)]\n",
      "[('2',), ('3',), ('4',), ('3',), ('2',), ('2',)]\n",
      "(2, 3)\n",
      "[('music',), ('music',), ('computer',), ('computer',), ('math',), ('music',)]\n",
      "[('2',), ('3',), ('4',), ('3',), ('2',), ('2',)]\n",
      "(0, 1, 2)\n",
      "[('600',), ('500',), ('400',), ('300',), ('200',), ('100',)]\n",
      "[('apeach',), ('muzi',), ('con',), ('tube',), ('apeach',), ('ryan',)]\n",
      "[('music',), ('music',), ('computer',), ('computer',), ('math',), ('music',)]\n",
      "(0, 1, 3)\n",
      "[('600',), ('500',), ('400',), ('300',), ('200',), ('100',)]\n",
      "[('apeach',), ('muzi',), ('con',), ('tube',), ('apeach',), ('ryan',)]\n",
      "[('2',), ('3',), ('4',), ('3',), ('2',), ('2',)]\n",
      "(0, 2, 3)\n",
      "[('600',), ('500',), ('400',), ('300',), ('200',), ('100',)]\n",
      "[('music',), ('music',), ('computer',), ('computer',), ('math',), ('music',)]\n",
      "[('2',), ('3',), ('4',), ('3',), ('2',), ('2',)]\n",
      "(1, 2, 3)\n",
      "[('apeach',), ('muzi',), ('con',), ('tube',), ('apeach',), ('ryan',)]\n",
      "[('music',), ('music',), ('computer',), ('computer',), ('math',), ('music',)]\n",
      "[('2',), ('3',), ('4',), ('3',), ('2',), ('2',)]\n",
      "(0, 1, 2, 3)\n",
      "[('600',), ('500',), ('400',), ('300',), ('200',), ('100',)]\n",
      "[('apeach',), ('muzi',), ('con',), ('tube',), ('apeach',), ('ryan',)]\n",
      "[('music',), ('music',), ('computer',), ('computer',), ('math',), ('music',)]\n",
      "[('2',), ('3',), ('4',), ('3',), ('2',), ('2',)]\n"
     ]
    }
   ],
   "source": [
    "from itertools import combinations\n",
    "relation = [[\"100\",\"ryan\",\"music\",\"2\"],\n",
    "            [\"200\",\"apeach\",\"math\",\"2\"],\n",
    "            [\"300\",\"tube\",\"computer\",\"3\"],\n",
    "            [\"400\",\"con\",\"computer\",\"4\"],\n",
    "            [\"500\",\"muzi\",\"music\",\"3\"],\n",
    "            [\"600\",\"apeach\",\"music\",\"2\"]]\n",
    "\n",
    "count = []\n",
    "relation = list(zip(*relation[::-1]))\n",
    "\n",
    "for i in range(1, len(relation)+1):\n",
    "    a = list(combinations([0,1,2,3], i))\n",
    "    for j in a:\n",
    "        print(j)\n",
    "        f = []\n",
    "        for k in list(zip(relation[z] for z in j)):\n",
    "            print(list(zip(*k[::-1])))\n",
    "            f.append(list(zip(*k[::-1])))\n",
    "        #if len(set(f)) == len(f):\n",
    "            #print(f)\n",
    "            #count.append(j)"
   ]
  },
  {
   "cell_type": "code",
   "execution_count": 145,
   "metadata": {},
   "outputs": [
    {
     "data": {
      "text/plain": [
       "['0', '12', '21', '132', '231']"
      ]
     },
     "execution_count": 145,
     "metadata": {},
     "output_type": "execute_result"
    }
   ],
   "source": [
    "from itertools import combinations\n",
    "from itertools import permutations\n",
    "relation = [[\"100\",\"ryan\",\"music\",\"2\"],\n",
    "            [\"200\",\"apeach\",\"math\",\"2\"],\n",
    "            [\"300\",\"tube\",\"computer\",\"3\"],\n",
    "            [\"400\",\"con\",\"computer\",\"4\"],\n",
    "            [\"500\",\"muzi\",\"music\",\"3\"],\n",
    "            [\"600\",\"apeach\",\"music\",\"2\"]]\n",
    "a = []\n",
    "for i in range(len(relation)):\n",
    "    a.extend(list(map(''.join, permutations([str(j) for j in range(len(relation[0]))], i))))\n",
    "\n",
    "answer= [] \n",
    "for k in a:\n",
    "    b = ['']* len(relation)\n",
    "    for j in range(len(relation[0])):\n",
    "        for i in range(len(relation)):\n",
    "            if str(j) in k:\n",
    "                b[i] += relation[i][j]\n",
    "\n",
    "    if len(set(b)) == len(b):\n",
    "        x = False\n",
    "        for f in answer:\n",
    "            if f in k:\n",
    "                x = True\n",
    "                break\n",
    "        if not x: answer.append(k)\n",
    "answer       "
   ]
  },
  {
   "cell_type": "code",
   "execution_count": 142,
   "metadata": {},
   "outputs": [
    {
     "name": "stdout",
     "output_type": "stream",
     "text": [
      "['0', '01']\n"
     ]
    },
    {
     "data": {
      "text/plain": [
       "1"
      ]
     },
     "execution_count": 142,
     "metadata": {},
     "output_type": "execute_result"
    }
   ],
   "source": [
    "from itertools import combinations\n",
    "relation = [[\"100\",\"ryan\"],\n",
    "            [\"200\",\"apeach\"],\n",
    "            [\"300\",\"tube\"],\n",
    "            [\"400\",\"con\"],\n",
    "            [\"500\",\"muzi\"],\n",
    "            [\"600\",\"apeach\"]]\n",
    "a = []\n",
    "for i in range(len(relation)):\n",
    "    a.extend(list(map(''.join, combinations([str(j) for j in range(len(relation[0]))], i+1))))\n",
    "\n",
    "answer= [] \n",
    "for k in a:\n",
    "    b = ['']* len(relation)\n",
    "    for j in range(len(relation[0])):\n",
    "        for i in range(len(relation)):\n",
    "            if str(j) in k:\n",
    "                b[i] += relation[i][j]\n",
    "    if len(set(b)) == len(b):\n",
    "        answer.append(k)\n",
    "print(answer)\n",
    "answer.sort(key = lambda x: len(x))\n",
    "\n",
    "\n",
    "\n",
    "len(answer)"
   ]
  },
  {
   "cell_type": "code",
   "execution_count": 292,
   "metadata": {
    "scrolled": false
   },
   "outputs": [
    {
     "data": {
      "text/plain": [
       "['CCBDE', 'AAADE', 'AAABF', 'CCBBF']"
      ]
     },
     "execution_count": 292,
     "metadata": {},
     "output_type": "execute_result"
    }
   ],
   "source": [
    "m = 4 # \n",
    "n = 5\n",
    "board = [\"CCBDE\", \"AAADE\", \"AAABF\", \"CCBBF\"]\n",
    "#board = list(zip(*board))\n",
    "board"
   ]
  },
  {
   "cell_type": "code",
   "execution_count": null,
   "metadata": {},
   "outputs": [],
   "source": []
  },
  {
   "cell_type": "code",
   "execution_count": 309,
   "metadata": {},
   "outputs": [
    {
     "name": "stdout",
     "output_type": "stream",
     "text": [
      "[['C' 'A' 'A' 'C']\n",
      " ['C' 'A' 'A' 'C']\n",
      " ['B' 'A' 'A' 'B']\n",
      " ['B' 'B' 'D' 'D']\n",
      " ['F' 'F' 'E' 'E']]\n",
      "[['C' 'C' '0' '0']\n",
      " ['C' 'C' '0' '0']\n",
      " ['B' 'B' '0' '0']\n",
      " ['B' 'B' 'D' 'D']\n",
      " ['F' 'F' 'E' 'E']]\n",
      "[['0' '0' '0' '0']\n",
      " ['0' '0' '0' '0']\n",
      " ['0' '0' '0' '0']\n",
      " ['D' 'D' '0' '0']\n",
      " ['F' 'F' 'E' 'E']]\n",
      "14\n"
     ]
    }
   ],
   "source": [
    "import copy\n",
    "m = 4 # \n",
    "n = 5\n",
    "board = [\"CCBDE\", \"AAADE\", \"AAABF\", \"CCBBF\"]\n",
    "\n",
    "board = list(zip(*board[::-1]))\n",
    "for i in range(len(board)):\n",
    "    board[i] = list(board[i])\n",
    "count = 0\n",
    "print(np.array(board))\n",
    "while True:\n",
    "    measure = [[0 for ii in range(m)] for jj in range(n)]\n",
    "    xx = False\n",
    "    for i in range(len(board)-1):\n",
    "        for j in range(len(board[i])-1):\n",
    "            if board[i][j] != '0' and board[i][j] == board[i][j+1] and board[i][j] == board[i+1][j] and board[i][j] == board[i+1][j+1]:\n",
    "                xx = True\n",
    "                measure[i][j] += 1\n",
    "                measure[i][j+1] += 1\n",
    "                measure[i+1][j] += 1\n",
    "                measure[i+1][j+1] += 1\n",
    "\n",
    "    if not xx:\n",
    "        break\n",
    "    \n",
    "    answer = [[] for _ in range(n)]\n",
    "    for k in range(len(measure)):\n",
    "        ff = 0\n",
    "        for f in range(len(measure[k])):\n",
    "            if measure[k][f] == 0:\n",
    "                answer[k].append(board[k][f])\n",
    "            else:\n",
    "                ff += 1\n",
    "                count += 1\n",
    "        answer[k] = answer[k] + (['0'] * ff)\n",
    "    print(np.array(answer))\n",
    "    board = copy.deepcopy(answer)\n",
    "print(count)"
   ]
  },
  {
   "cell_type": "code",
   "execution_count": 303,
   "metadata": {},
   "outputs": [
    {
     "data": {
      "text/plain": [
       "[['0', '0', '0', '0'],\n",
       " ['0', '0', '0', '0'],\n",
       " ['B', 'B', '0', '0'],\n",
       " ['D', 'D', 'B', 'B'],\n",
       " ['E', 'E', 'F', 'F']]"
      ]
     },
     "execution_count": 303,
     "metadata": {},
     "output_type": "execute_result"
    }
   ],
   "source": [
    "board"
   ]
  },
  {
   "cell_type": "code",
   "execution_count": 298,
   "metadata": {},
   "outputs": [
    {
     "name": "stdout",
     "output_type": "stream",
     "text": [
      "[[0 1 1 0]\n",
      " [0 1 1 0]\n",
      " [0 0 0 0]\n",
      " [0 0 0 0]\n",
      " [0 0 0 0]]\n",
      "[['C' 'A' 'A' 'C']\n",
      " ['C' 'A' 'A' 'C']\n",
      " ['B' 'A' 'A' 'B']\n",
      " ['D' 'D' 'B' 'B']\n",
      " ['E' 'E' 'F' 'F']]\n",
      "[[0 0 0 0]\n",
      " [0 1 1 0]\n",
      " [0 1 1 0]\n",
      " [0 0 0 0]\n",
      " [0 0 0 0]]\n",
      "[['C' 'A' 'A' 'C']\n",
      " ['C' 'A' 'A' 'C']\n",
      " ['B' 'A' 'A' 'B']\n",
      " ['D' 'D' 'B' 'B']\n",
      " ['E' 'E' 'F' 'F']]\n",
      "[[0 0 0 0]\n",
      " [0 0 0 0]\n",
      " [0 0 0 0]\n",
      " [0 0 0 0]\n",
      " [0 0 0 0]]\n",
      "[['C' 'A' 'A' 'C']\n",
      " ['C' 'A' 'A' 'C']\n",
      " ['B' 'A' 'A' 'B']\n",
      " ['D' 'D' 'B' 'B']\n",
      " ['E' 'E' 'F' 'F']]\n",
      "[[0 0 0 0]\n",
      " [0 0 0 0]\n",
      " [0 0 0 0]\n",
      " [0 0 0 0]\n",
      " [0 0 0 0]]\n",
      "[['C' 'A' 'A' 'C']\n",
      " ['C' 'A' 'A' 'C']\n",
      " ['B' 'A' 'A' 'B']\n",
      " ['D' 'D' 'B' 'B']\n",
      " ['E' 'E' 'F' 'F']]\n"
     ]
    }
   ],
   "source": [
    "import copy\n",
    "\n",
    "m = 4 # \n",
    "n = 5\n",
    "board = [\"CCBDE\", \"AAADE\", \"AAABF\", \"CCBBF\"]\n",
    "board = list(zip(*board))\n",
    "for i in range(len(board)):\n",
    "    board[i] = list(board[i])\n",
    "\n",
    "count = 0\n",
    "for i in range(len(board)-1):\n",
    "    measure = [[0 for ii in range(m)] for jj in range(n)]\n",
    "    for j in range(len(board[i])-1):\n",
    "        if board[i][j] != '0' and board[i][j] == board[i][j+1] and board[i][j] == board[i+1][j] and board[i][j] == board[i+1][j+1]:\n",
    "            measure[i][j] += 1\n",
    "            measure[i][j+1] += 1\n",
    "            measure[i+1][j] += 1\n",
    "            measure[i+1][j+1] += 1\n",
    "    print(np.array(measure))\n",
    "    answer = [[] for _ in range(n)]\n",
    "    for k in range(len(measure)):\n",
    "        ff = 0\n",
    "        for f in range(len(measure[k])):\n",
    "            if measure[k][f] == 0:\n",
    "                answer[k].append(board[k][f])\n",
    "            else:\n",
    "                ff += 1\n",
    "                count += 1\n",
    "        answer[k] = answer[k] + (['0'] * ff)\n",
    "    print(np.array(board))\n",
    "    #board = copy.deepcopy(r)answe"
   ]
  },
  {
   "cell_type": "code",
   "execution_count": 235,
   "metadata": {},
   "outputs": [
    {
     "data": {
      "text/plain": [
       "['CAAC', 'CAAC', 'BAAB', 'DDBB', 'EEFF']"
      ]
     },
     "execution_count": 235,
     "metadata": {},
     "output_type": "execute_result"
    }
   ],
   "source": [
    "import copy\n",
    "\n",
    "board = list(zip(*board))\n",
    "for i in range(len(board)):\n",
    "    board[i] = list(board[i])\n",
    "count = 0\n",
    "\n",
    "while True:\n",
    "    measure = [[0 for ii in range(m)] for jj in range(n)]\n",
    "    xx = False\n",
    "    for i in range(len(board)-1):\n",
    "        for j in range(len(board[i])-1):\n",
    "            if board[i][j] != '0' and board[i][j] == board[i][j+1] and board[i][j] == board[i+1][j] and board[i][j] == board[i+1][j+1]:\n",
    "                xx = True\n",
    "                measure[i][j] += 1\n",
    "                measure[i][j+1] += 1\n",
    "                measure[i+1][j] += 1\n",
    "                measure[i+1][j+1] += 1\n",
    "\n",
    "    if not xx:\n",
    "        break\n",
    "    \n",
    "    answer = [[] for _ in range(n)]\n",
    "    for k in range(len(measure)):\n",
    "        ff = 0\n",
    "        for f in range(len(measure[k])):\n",
    "            if measure[k][f] == 0:\n",
    "                answer[k].append(board[k][f])\n",
    "            else:\n",
    "                ff += 1\n",
    "                count += 1\n",
    "        answer[k] = answer[k] + (['0'] * ff)\n",
    "    board = copy.deepcopy(answer)"
   ]
  },
  {
   "cell_type": "code",
   "execution_count": 53,
   "metadata": {},
   "outputs": [
    {
     "name": "stdout",
     "output_type": "stream",
     "text": [
      "3\n",
      "1\n",
      "2\n",
      "3\n",
      "5\n",
      "4\n",
      "6\n",
      "4\n",
      "7\n",
      "4\n",
      "8\n",
      "7\n",
      "9\n",
      "7\n",
      "3\n"
     ]
    }
   ],
   "source": [
    "def dfs(node, start, visited):\n",
    "    global count\n",
    "    count += 1\n",
    "    visited[start] = True\n",
    "    for j in node[start]:\n",
    "        print(j)\n",
    "        if not visited[j]:\n",
    "            dfs(node, j, visited)\n",
    "\n",
    "wires = [[1,3],[2,3],[3,4],[4,5],[4,6],[4,7],[7,8],[7,9]]\n",
    "n = 9\n",
    "node = [[] for i in range(n+1)]\n",
    "\n",
    "for i in wires:\n",
    "    node[i[0]].append(i[1])\n",
    "    node[i[1]].append(i[0])\n",
    "visited = [False for k in range(n+1)]\n",
    "    \n",
    "max_node = max(node, key = lambda x:len(x))\n",
    "\n",
    "length = [0, 0]\n",
    "for j in max_node:\n",
    "    if len(node[j]) > length[1]:\n",
    "        length = [j, len(node[j])]\n",
    "        \n",
    "node[node.index(max_node)].remove(length[0])\n",
    "node[length[0]].remove(node.index(max_node))\n",
    "\n",
    "total_count = []\n",
    "for i in range(1, len(node)):\n",
    "    if not visited[i]:\n",
    "        global count\n",
    "        count = 0\n",
    "        dfs(node, i, visited)\n",
    "        total_count.append(count)\n",
    "        \n",
    "print(abs(total_count[0] - total_count[1]))"
   ]
  },
  {
   "cell_type": "code",
   "execution_count": 59,
   "metadata": {},
   "outputs": [
    {
     "name": "stdout",
     "output_type": "stream",
     "text": [
      "[[], [2], [1, 7], [7, 4], [3, 5], [4], [7], [2, 3, 6]]\n",
      "[[], [2], [1], [7, 4], [3, 5], [4], [7], [3, 6]]\n",
      "[3, 6]\n",
      "[False, True, True, False, False, False, False, False]\n",
      "[False, True, True, False, False, False, False, False]\n",
      "[False, True, True, True, True, True, True, True]\n",
      "[False, True, True, True, True, True, True, True]\n",
      "[False, True, True, True, True, True, True, True]\n",
      "[False, True, True, True, True, True, True, True]\n",
      "[False, True, True, True, True, True, True, True]\n"
     ]
    },
    {
     "data": {
      "text/plain": [
       "3"
      ]
     },
     "execution_count": 59,
     "metadata": {},
     "output_type": "execute_result"
    }
   ],
   "source": [
    "def solution(n, wires):\n",
    "    def dfs(node, start, visited):\n",
    "        global count\n",
    "        count += 1\n",
    "        visited[start] = True\n",
    "        for j in node[start]:\n",
    "            if not visited[j]:\n",
    "                dfs(node, j, visited)\n",
    "\n",
    "    node = [[] for i in range(n+1)]\n",
    "    for i in wires:\n",
    "        node[i[0]].append(i[1])\n",
    "        node[i[1]].append(i[0])\n",
    "    visited = [False for k in range(n+1)]\n",
    "\n",
    "    max_node = max(node, key = lambda x:len(x))\n",
    "\n",
    "    length = [0, 0]\n",
    "    for j in max_node:\n",
    "        if len(node[j]) > length[1]:\n",
    "            length = [j, len(node[j])]\n",
    "    print(node)\n",
    "    aa = node.index(max_node)\n",
    "    node[aa].remove(length[0])\n",
    "    node[length[0]].remove(aa)\n",
    "    print(node)\n",
    "    print(max_node)\n",
    "    total_count = []\n",
    "    for i in range(1, len(node)):\n",
    "        if not visited[i]:\n",
    "            global count\n",
    "            count = 0\n",
    "            dfs(node, i, visited)\n",
    "            total_count.append(count)\n",
    "        print(visited)\n",
    "    return (abs(total_count[0] - total_count[1]))\n",
    "\n",
    "solution(7, [[1, 2], [2, 7], [3, 7], [3, 4], [4, 5], [6, 7]])"
   ]
  },
  {
   "cell_type": "code",
   "execution_count": 115,
   "metadata": {},
   "outputs": [
    {
     "name": "stdout",
     "output_type": "stream",
     "text": [
      "[False, True, True, False, False, False, False, True]\n",
      "[False, True, True, True, True, True, False, True]\n",
      "[False, True, True, True, True, True, True, True]\n"
     ]
    },
    {
     "data": {
      "text/plain": [
       "1"
      ]
     },
     "execution_count": 115,
     "metadata": {},
     "output_type": "execute_result"
    }
   ],
   "source": [
    "def dfs(node, start, visited):\n",
    "    global count\n",
    "    count += 1\n",
    "    visited[start] = True\n",
    "    for j in node[start]:\n",
    "        if not visited[j]:\n",
    "            dfs(node, j, visited)\n",
    "\n",
    "wires = [[1, 2], [2, 7], [3, 7], [3, 4], [4, 5], [6, 7]]\n",
    "n = 7\n",
    "node = [[] for i in range(n+1)]\n",
    "for i in wires:\n",
    "    node[i[0]].append(i[1])\n",
    "    node[i[1]].append(i[0])\n",
    "visited = [False for k in range(n+1)]\n",
    "\n",
    "max_node = max(node, key = lambda x:len(x))\n",
    "visited[node.index(max_node)] = True\n",
    "\n",
    "total_count = []\n",
    "for i in max_node:\n",
    "    if not visited[i]:\n",
    "        global count\n",
    "        count = 0\n",
    "        dfs(node, i, visited)\n",
    "    print(visited)\n",
    "    total_count.append((count, i))\n",
    "total_count.sort(reverse = True)\n",
    "abs((total_count[0][0] - 1) - sum(map(lambda x: x[0], total_count[1:])))"
   ]
  },
  {
   "cell_type": "code",
   "execution_count": 111,
   "metadata": {},
   "outputs": [
    {
     "data": {
      "text/plain": [
       "3"
      ]
     },
     "execution_count": 111,
     "metadata": {},
     "output_type": "execute_result"
    }
   ],
   "source": [
    "sum(map(lambda x: x[0], total_count[1:]))"
   ]
  },
  {
   "cell_type": "code",
   "execution_count": 112,
   "metadata": {},
   "outputs": [
    {
     "data": {
      "text/plain": [
       "[(3, 3), (2, 2), (1, 6)]"
      ]
     },
     "execution_count": 112,
     "metadata": {},
     "output_type": "execute_result"
    }
   ],
   "source": [
    "total_count"
   ]
  },
  {
   "cell_type": "code",
   "execution_count": 125,
   "metadata": {},
   "outputs": [
    {
     "name": "stdout",
     "output_type": "stream",
     "text": [
      "[(3, 7), (3, 3), (1, 6), (1, 5)]\n"
     ]
    },
    {
     "data": {
      "text/plain": [
       "2"
      ]
     },
     "execution_count": 125,
     "metadata": {},
     "output_type": "execute_result"
    }
   ],
   "source": [
    "def solution(n, wires): \n",
    "    def dfs(node, start, visited):\n",
    "        global count\n",
    "        count += 1\n",
    "        visited[start] = True\n",
    "        for j in node[start]:\n",
    "            if not visited[j]:\n",
    "                dfs(node, j, visited)\n",
    "\n",
    "    node = [[] for i in range(n+1)]\n",
    "    for i in wires:\n",
    "        node[i[0]].append(i[1])\n",
    "        node[i[1]].append(i[0])\n",
    "        \n",
    "    visited = [False for k in range(n+1)]\n",
    " \n",
    "    max_node = max(node, key = lambda x:len(x))\n",
    "    visited[node.index(max_node) ] = True\n",
    "\n",
    "    total_count = []\n",
    "    for i in max_node:\n",
    "        if not visited[i]:\n",
    "            global count\n",
    "            count = 0\n",
    "            dfs(node, i, visited)\n",
    "        total_count.append((count, i))\n",
    "        total_count.sort(reverse = True)\n",
    "    print(total_count)\n",
    "    return abs((total_count[0][0]) - sum(map(lambda x: x[0], total_count[1:])))\n",
    " \n",
    "\n",
    "solution(9, [[1, 3], [2, 3], [3, 4], [4, 5], [4, 6], [4, 7], [7, 8], [7, 9]])"
   ]
  },
  {
   "cell_type": "code",
   "execution_count": 20,
   "metadata": {
    "scrolled": false
   },
   "outputs": [],
   "source": [
    "def dfs(node, start, visited):\n",
    "    global count\n",
    "    count += 1\n",
    "    visited[start] = True\n",
    "    for j in node[start]:\n",
    "        if not visited[j]:\n",
    "            dfs(node, j, visited)\n",
    "\n",
    "wires = [[1, 3], [2, 3], [3, 4], [4, 5], [4, 6], [4, 7], [7, 8], [7, 9]]\n",
    "n = 9\n",
    "answer= 10001\n",
    "for i in range(len(wires)):\n",
    "    node = [[] for i in range(n+1)]\n",
    "    for j in range(len(wires)):\n",
    "        if i != j:\n",
    "            node[wires[j][0]].append(wires[j][1])\n",
    "            node[wires[j][1]].append(wires[j][0])\n",
    "    visited = [False for k in range(n+1)]\n",
    "    total_count = []\n",
    "    for k in range(1, len(node)):\n",
    "        global count\n",
    "        count = 0\n",
    "        if not visited[k]:\n",
    "            dfs(node, k, visited)\n",
    "            total_count.append(count)\n",
    "    answer = min(answer, abs(total_count[0] - total_count[1]))"
   ]
  },
  {
   "cell_type": "code",
   "execution_count": 46,
   "metadata": {},
   "outputs": [
    {
     "name": "stdout",
     "output_type": "stream",
     "text": [
      "[80, 20]\n",
      "[50, 40]\n",
      "[30, 10]\n",
      "[80, 20]\n",
      "[30, 10]\n",
      "[50, 40]\n",
      "[50, 40]\n",
      "[80, 20]\n",
      "[30, 10]\n",
      "[50, 40]\n",
      "[30, 10]\n",
      "[80, 20]\n",
      "[30, 10]\n",
      "[80, 20]\n",
      "[50, 40]\n",
      "[30, 10]\n",
      "[50, 40]\n",
      "[80, 20]\n"
     ]
    }
   ],
   "source": [
    "from itertools import permutations\n",
    "dungeons = [[80,20],[50,40],[30,10]]\n",
    "k = 80\n",
    "\n",
    "per = list(permutations(dungeons, len(dungeons)))\n",
    "count = 0\n",
    "answer = 0\n",
    "for i in per:\n",
    "    count = 0\n",
    "    a = k\n",
    "    for j in i:\n",
    "        print(j)\n",
    "        if a >= j[0]:\n",
    "            count += 1\n",
    "            a -= j[1]\n",
    "    answer= max(answer, count)"
   ]
  },
  {
   "cell_type": "code",
   "execution_count": 101,
   "metadata": {},
   "outputs": [
    {
     "name": "stdout",
     "output_type": "stream",
     "text": [
      "deque(['JEJU'])\n",
      "deque(['JEJU', 'PANGYO'])\n",
      "deque(['PANGYO', 'SEOUL'])\n",
      "deque(['SEOUL', 'NEWYORK'])\n",
      "deque(['NEWYORK', 'LA'])\n",
      "deque(['LA', 'SANFRANCISCO'])\n",
      "deque(['SANFRANCISCO', 'SEOUL'])\n",
      "deque(['SEOUL', 'ROME'])\n",
      "deque(['ROME', 'PARIS'])\n",
      "deque(['PARIS', 'JEJU'])\n",
      "deque(['JEJU', 'NEWYORK'])\n",
      "deque(['NEWYORK', 'ROME'])\n"
     ]
    }
   ],
   "source": [
    "from collections import deque\n",
    "a= [\"Jeju\", \"Pangyo\", \n",
    "    \"Seoul\", \"NewYork\", \n",
    "    \"LA\", \"SanFrancisco\", \n",
    "    \"Seoul\", \"Rome\", \n",
    "    \"Paris\", \"Jeju\", \n",
    "    \"NewYork\", \"Rome\"]\n",
    "b = 2\n",
    "queue = deque([])\n",
    "a = deque(a)\n",
    "count=0\n",
    "while a:\n",
    "    #x = queue.popleft()\n",
    "    c = a.popleft()\n",
    "    if c.upper() in queue:\n",
    "        count += 1\n",
    "    else:\n",
    "        if len(queue) == b:\n",
    "            queue.popleft()\n",
    "        queue.append(c.upper())\n",
    "        count += 5\n",
    "    print(queue)"
   ]
  },
  {
   "cell_type": "code",
   "execution_count": 105,
   "metadata": {
    "scrolled": true
   },
   "outputs": [
    {
     "data": {
      "text/plain": [
       "25"
      ]
     },
     "execution_count": 105,
     "metadata": {},
     "output_type": "execute_result"
    }
   ],
   "source": [
    "from collections import deque\n",
    "def solution(cacheSize, cities):\n",
    "    server = deque([])\n",
    "    a = deque(cities)\n",
    "    count=0\n",
    "    while a:\n",
    "        c = a.popleft()\n",
    "        if c.upper() in server:\n",
    "            count += 1\n",
    "        else:\n",
    "            server.append(c.upper())\n",
    "            if len(server) > cacheSize:\n",
    "                server.popleft()\n",
    "            count += 5\n",
    "    return count\n",
    "solution(0, [\"Jeju\", \"Pangyo\", \"Seoul\", \"NewYork\", \"LA\"])"
   ]
  },
  {
   "cell_type": "code",
   "execution_count": 137,
   "metadata": {},
   "outputs": [
    {
     "data": {
      "text/plain": [
       "[3, 2, 2, 3]"
      ]
     },
     "execution_count": 137,
     "metadata": {},
     "output_type": "execute_result"
    }
   ],
   "source": [
    "import numpy as np\n",
    "n = 3\n",
    "a = [[i+1 if i>j else j+1 for i in range(3)] for j in range(3)]\n",
    "x = []\n",
    "for i in range(len(a)):\n",
    "    x.extend(a[i])\n",
    "x[2:5+1]"
   ]
  },
  {
   "cell_type": "code",
   "execution_count": 152,
   "metadata": {},
   "outputs": [
    {
     "ename": "SyntaxError",
     "evalue": "invalid syntax (<ipython-input-152-077497ea3c3b>, line 4)",
     "output_type": "error",
     "traceback": [
      "\u001b[1;36m  File \u001b[1;32m\"<ipython-input-152-077497ea3c3b>\"\u001b[1;36m, line \u001b[1;32m4\u001b[0m\n\u001b[1;33m    for i in r\u001b[0m\n\u001b[1;37m              ^\u001b[0m\n\u001b[1;31mSyntaxError\u001b[0m\u001b[1;31m:\u001b[0m invalid syntax\n"
     ]
    }
   ],
   "source": [
    "import numpy as np\n",
    "n = 3\n",
    "x = []\n",
    "x.extend([i+1 if i>j else j+1 for i in range(3)]) for j in range(3)\n"
   ]
  },
  {
   "cell_type": "code",
   "execution_count": 166,
   "metadata": {},
   "outputs": [
    {
     "data": {
      "text/plain": [
       "[1, 2, 3, 2, 2, 3, 3, 3, 3]"
      ]
     },
     "execution_count": 166,
     "metadata": {},
     "output_type": "execute_result"
    }
   ],
   "source": [
    "def solution(n, left, right):\n",
    "    a = [i+1 if i>j else j+1 for i in range(n) for j in range(n)]\n",
    "    return a[left:right+1]"
   ]
  },
  {
   "cell_type": "code",
   "execution_count": 215,
   "metadata": {},
   "outputs": [
    {
     "data": {
      "text/plain": [
       "30000000"
      ]
     },
     "execution_count": 215,
     "metadata": {},
     "output_type": "execute_result"
    }
   ],
   "source": [
    "def solution(n, left, right):\n",
    "    a = [i+1 for i in range(n)]\n",
    "    b = []\n",
    "    for i in range(n):\n",
    "        b.extend(([a[i]]*i)+a[i:])\n",
    "    print(b)\n",
    "    return b[left:right+1]\n"
   ]
  },
  {
   "cell_type": "code",
   "execution_count": 263,
   "metadata": {},
   "outputs": [
    {
     "data": {
      "text/plain": [
       "[3, 2, 2, 3]"
      ]
     },
     "execution_count": 263,
     "metadata": {},
     "output_type": "execute_result"
    }
   ],
   "source": [
    "import copy\n",
    "n = 3\n",
    "left = 2\n",
    "right = 5\n",
    "a = left//n\n",
    "b = right//n\n",
    "c = []\n",
    "for k in range(a, b+1):\n",
    "    c.extend([k+1 if i < k+1 else i for i in range(1, n+1)])\n",
    "c[left%n:(left%n)+(right-left)+1]\n"
   ]
  },
  {
   "cell_type": "code",
   "execution_count": 426,
   "metadata": {},
   "outputs": [
    {
     "data": {
      "text/plain": [
       "[[0, 1, 1, 1], [1, 1, 1, 1], [1, 1, 1, 1], [0, 0, 1, 0]]"
      ]
     },
     "execution_count": 426,
     "metadata": {},
     "output_type": "execute_result"
    }
   ],
   "source": [
    "a = [[0,1,1,1],[1,1,1,1],[1,1,1,1],[0,0,1,0]]\n",
    "for i in range(len(a)):\n",
    "    for i in range(len(a)-i):\n",
    "        "
   ]
  },
  {
   "cell_type": "code",
   "execution_count": 442,
   "metadata": {},
   "outputs": [
    {
     "name": "stdout",
     "output_type": "stream",
     "text": [
      "[[0 1 1 1]\n",
      " [1 1 1 1]\n",
      " [1 1 1 1]\n",
      " [0 0 1 0]]\n",
      "1\n",
      "0111\n",
      "2\n",
      "0111\n",
      "3\n",
      "\n",
      "4\n",
      "\n"
     ]
    }
   ],
   "source": [
    "a = [[0,1,1,1],[1,1,1,1],[1,1,1,1],[0,0,1,0]]\n",
    "print(np.array(a))\n",
    "for i in range(1, len(a)+1):\n",
    "    print(i)\n",
    "    for j in range(0, len(a)-i):\n",
    "        for h in range(0, len(a)-i):\n",
    "            for k in range(j, j+i):\n",
    "                for f in range(h, h+i):\n",
    "                    print(a[k][f], end='')\n",
    "    print()"
   ]
  },
  {
   "cell_type": "code",
   "execution_count": 462,
   "metadata": {},
   "outputs": [
    {
     "data": {
      "text/plain": [
       "True"
      ]
     },
     "execution_count": 462,
     "metadata": {},
     "output_type": "execute_result"
    }
   ],
   "source": [
    "import string\n",
    "from collections import deque\n",
    "\n",
    "msg = deque(list('TOBEORNOTTOBEORTOBEORNOT'))\n",
    "\n",
    "a = string.ascii_uppercase\n",
    "a = list(' '+a)\n",
    "\n",
    "answer = []\n",
    "b = msg.popleft()\n",
    "while a:\n",
    "    if b in a:\n",
    "        if msg:\n",
    "            b += msg.popleft()\n",
    "        else: \n",
    "            answer.append(a.index(b))\n",
    "            break\n",
    "    else:\n",
    "        answer.append(a.index(b[:-1]))\n",
    "        a.append(b)\n",
    "        b = b[-1]\n",
    "answer == [20, 15, 2, 5, 15, 18, 14, 15, 20, 27, 29, 31, 36, 30, 32, 34]"
   ]
  },
  {
   "cell_type": "code",
   "execution_count": 464,
   "metadata": {},
   "outputs": [
    {
     "data": {
      "text/plain": [
       "['IMG01.GIF', 'img02.png', 'img1.png', 'img10.png', 'img12.png', 'img2.JPG']"
      ]
     },
     "execution_count": 464,
     "metadata": {},
     "output_type": "execute_result"
    }
   ],
   "source": [
    "a = [\"img12.png\", \"img10.png\", \"img02.png\", \"img1.png\", \"IMG01.GIF\", \"img2.JPG\"]\n",
    "a.sort(key = lambda x: x)\n",
    "a"
   ]
  },
  {
   "cell_type": "code",
   "execution_count": 468,
   "metadata": {},
   "outputs": [
    {
     "data": {
      "text/plain": [
       "['F-', 'f']"
      ]
     },
     "execution_count": 468,
     "metadata": {},
     "output_type": "execute_result"
    }
   ],
   "source": [
    "for i in range(len(a)):\n",
    "    "
   ]
  },
  {
   "cell_type": "code",
   "execution_count": 473,
   "metadata": {},
   "outputs": [
    {
     "data": {
      "text/plain": [
       "['img12.png', 'img2.png']"
      ]
     },
     "execution_count": 473,
     "metadata": {},
     "output_type": "execute_result"
    }
   ],
   "source": [
    "a = [\"img12.png\", 'img2.png']\n",
    "a.sort(key = lambda x:x)"
   ]
  },
  {
   "cell_type": "code",
   "execution_count": 534,
   "metadata": {},
   "outputs": [
    {
     "name": "stdout",
     "output_type": "stream",
     "text": [
      "FOO 10 BAR020.ZIP\n"
     ]
    }
   ],
   "source": [
    "from collections import deque\n",
    "def a_split(file):\n",
    "    Head = ''\n",
    "    number = ''\n",
    "    Tail = ''\n",
    "    file = deque(list(file))\n",
    "    while file:\n",
    "        a = file.popleft()\n",
    "        if a.isdigit():\n",
    "            number += a\n",
    "        elif a.isalpha():\n",
    "            if len(number) >= 1:\n",
    "                Tail += (a+''.join(file)).upper()\n",
    "                break\n",
    "            else: Head += a.upper()\n",
    "    return Head, int(number)\n",
    "\n",
    "head, number = a_split('foo010bar020.zip')\n",
    "print(head, number, tail)"
   ]
  },
  {
   "cell_type": "code",
   "execution_count": 536,
   "metadata": {},
   "outputs": [
    {
     "data": {
      "text/plain": [
       "['IMG01.GIF', 'img1.png', 'img02.png', 'img2.JPG', 'img10.png', 'img12.png']"
      ]
     },
     "execution_count": 536,
     "metadata": {},
     "output_type": "execute_result"
    }
   ],
   "source": [
    "a = [\"img10.png\", \"img02.png\", \"IMG01.GIF\",\"img1.png\", \"img12.png\", \"img2.JPG\"]\n",
    "#a = [\"F-5 Freedom Fighter\", \"B-50 Superfortress\", \"A-10 Thunderbolt II\", \"F-14 Tomcat\"]\n",
    "b = sorted(a, key = lambda x : (a_split(x)[0],a_split(x)[1]))\n",
    "b"
   ]
  },
  {
   "cell_type": "code",
   "execution_count": 540,
   "metadata": {},
   "outputs": [
    {
     "name": "stdout",
     "output_type": "stream",
     "text": [
      "('FOO', 10)\n"
     ]
    }
   ],
   "source": [
    "from collections import deque\n",
    "def a_split(file):\n",
    "    Head = ''\n",
    "    number = ''\n",
    "    file = deque(list(file))\n",
    "    while file:\n",
    "        a = file.popleft()\n",
    "        if a.isdigit():\n",
    "            number += a\n",
    "        elif not a.isdigit():\n",
    "            if len(number) >= 1:\n",
    "                break\n",
    "            else: Head += a.upper()\n",
    "    return Head, int(number)\n",
    "a = a_split('foo010bar020.zip')\n",
    "print(a)"
   ]
  },
  {
   "cell_type": "code",
   "execution_count": 560,
   "metadata": {},
   "outputs": [
    {
     "data": {
      "text/plain": [
       "['0',\n",
       " '1',\n",
       " '1',\n",
       " '0',\n",
       " '1',\n",
       " '1',\n",
       " '1',\n",
       " '0',\n",
       " '0',\n",
       " '1',\n",
       " '0',\n",
       " '1',\n",
       " '1',\n",
       " '1',\n",
       " '0',\n",
       " '1',\n",
       " '1',\n",
       " '1',\n",
       " '1',\n",
       " '0',\n",
       " '0',\n",
       " '0',\n",
       " '1',\n",
       " '0',\n",
       " '0',\n",
       " '1',\n",
       " '1',\n",
       " '0',\n",
       " '1',\n",
       " '0',\n",
       " '1',\n",
       " '0',\n",
       " '1',\n",
       " '1',\n",
       " '1',\n",
       " '1',\n",
       " '0',\n",
       " '0',\n",
       " '1',\n",
       " '1',\n",
       " '0',\n",
       " '1',\n",
       " '1',\n",
       " '1',\n",
       " '1',\n",
       " '0',\n",
       " '1',\n",
       " '1',\n",
       " '1',\n",
       " '1',\n",
       " '1',\n",
       " '0',\n",
       " '0',\n",
       " '0',\n",
       " '0',\n",
       " '1',\n",
       " '0',\n",
       " '0',\n",
       " '0',\n",
       " '1',\n",
       " '1',\n",
       " '0',\n",
       " '0',\n",
       " '1',\n",
       " '0',\n",
       " '1',\n",
       " '0',\n",
       " '0',\n",
       " '1',\n",
       " '1']"
      ]
     },
     "execution_count": 560,
     "metadata": {},
     "output_type": "execute_result"
    }
   ],
   "source": [
    "a = []\n",
    "for i in range(20):\n",
    "    a.extend(list(bin(i)[2:]))\n",
    "a"
   ]
  },
  {
   "cell_type": "code",
   "execution_count": 587,
   "metadata": {},
   "outputs": [
    {
     "name": "stdout",
     "output_type": "stream",
     "text": [
      "['0', '1', '2', '3']\n",
      "0\n",
      "2\n"
     ]
    }
   ],
   "source": [
    "def n_number(a, n):\n",
    "    b = ''\n",
    "    while a > 0:\n",
    "        a, c = divmod(a, n)\n",
    "        b += str(c)\n",
    "    return b[::-1]\n",
    "    \n",
    "n = 16\n",
    "t = 4\n",
    "m = 2\n",
    "p = 1\n",
    "a = []\n",
    "for i in range(t):\n",
    "    if i != 0:\n",
    "        if n != 16:\n",
    "            a.extend(list(n_number(i, n)))\n",
    "        else: a.extend(list(hex(i)[2:]))\n",
    "    else: a.append('0')\n",
    "print(a)\n",
    "for j in range(0, t, p+1):\n",
    "    print(a[j])"
   ]
  }
 ],
 "metadata": {
  "kernelspec": {
   "display_name": "Python 3",
   "language": "python",
   "name": "python3"
  },
  "language_info": {
   "codemirror_mode": {
    "name": "ipython",
    "version": 3
   },
   "file_extension": ".py",
   "mimetype": "text/x-python",
   "name": "python",
   "nbconvert_exporter": "python",
   "pygments_lexer": "ipython3",
   "version": "3.8.5"
  }
 },
 "nbformat": 4,
 "nbformat_minor": 4
}
