{
 "cells": [
  {
   "cell_type": "markdown",
   "metadata": {},
   "source": [
    "1.[1차] 뉴스 클러스터링"
   ]
  },
  {
   "cell_type": "code",
   "execution_count": null,
   "metadata": {},
   "outputs": [],
   "source": [
    "# 내가 푼 답\n",
    "def solution(str1, str2):\n",
    "    a = [(str1[i-1]+str1[i]).upper() for i in range(1, len(str1)) if (str1[i-1]+str1[i]).isalpha()]\n",
    "    b = [(str2[i-1]+str2[i]).upper() for i in range(1, len(str2)) if (str2[i-1]+str2[i]).isalpha()]\n",
    "    c = list(set(a) & set(b))\n",
    "\n",
    "    inter = []\n",
    "    summ = a+b\n",
    "    for i in c:\n",
    "        inter.extend(min(a.count(i), b.count(i)) * [i])\n",
    "    for j in inter:\n",
    "        summ.remove(j)\n",
    "    \n",
    "    if a == [] and b == []:\n",
    "        return 65536\n",
    "    \n",
    "    answer= int((len(inter)/len(summ)) * 65536)\n",
    "    return answer"
   ]
  },
  {
   "cell_type": "code",
   "execution_count": null,
   "metadata": {},
   "outputs": [],
   "source": [
    "# 이건 왜 틀린 답이 되는건지 확인해 볼 것.\n",
    "def solution(str1, str2):\n",
    "    a = [(str1[i-1]+str1[i]).upper() for i in range(1, len(str1)) if (str1[i-1]+str1[i]).isalpha()]\n",
    "    b = [(str2[i-1]+str2[i]).upper() for i in range(1, len(str2)) if (str2[i-1]+str2[i]).isalpha()]\n",
    "    c = list(set(a) & set(b))\n",
    "\n",
    "    inter = []\n",
    "    summ = list(set(a+b))\n",
    "    for i in c:\n",
    "        inter.extend(min(a.count(i), b.count(i)) * [i])\n",
    "        summ.extend((max(a.count(i), b.count(i))-1) * [i])\n",
    "\n",
    "    \n",
    "    if a == [] and b == []:\n",
    "        return 65536\n",
    "    \n",
    "    answer= int((len(inter)/len(summ)) * 65536)\n",
    "    return answer"
   ]
  },
  {
   "cell_type": "code",
   "execution_count": null,
   "metadata": {},
   "outputs": [],
   "source": [
    "# 다른 사람 풀이\n",
    "import re\n",
    "import math\n",
    "\n",
    "def solution(str1, str2):\n",
    "    str1 = [str1[i:i+2].lower() for i in range(0, len(str1)-1) if not re.findall('[^a-zA-Z]+', str1[i:i+2])]\n",
    "    str2 = [str2[i:i+2].lower() for i in range(0, len(str2)-1) if not re.findall('[^a-zA-Z]+', str2[i:i+2])]\n",
    "\n",
    "    gyo = set(str1) & set(str2)\n",
    "    hap = set(str1) | set(str2)\n",
    "\n",
    "    if len(hap) == 0 :\n",
    "        return 65536\n",
    "\n",
    "    gyo_sum = sum([min(str1.count(gg), str2.count(gg)) for gg in gyo])\n",
    "    hap_sum = sum([max(str1.count(hh), str2.count(hh)) for hh in hap])\n",
    "\n",
    "    return math.floor((gyo_sum/hap_sum)*65536)"
   ]
  }
 ],
 "metadata": {
  "kernelspec": {
   "display_name": "Python 3",
   "language": "python",
   "name": "python3"
  },
  "language_info": {
   "codemirror_mode": {
    "name": "ipython",
    "version": 3
   },
   "file_extension": ".py",
   "mimetype": "text/x-python",
   "name": "python",
   "nbconvert_exporter": "python",
   "pygments_lexer": "ipython3",
   "version": "3.8.5"
  }
 },
 "nbformat": 4,
 "nbformat_minor": 4
}
