{
 "cells": [
  {
   "cell_type": "markdown",
   "metadata": {},
   "source": [
    "회의실 배정"
   ]
  },
  {
   "cell_type": "code",
   "execution_count": null,
   "metadata": {},
   "outputs": [],
   "source": [
    "a = [list(map(int,input().split(\" \"))) for i in range(int(input()))]\n",
    "a.sort(key = lambda x:(-x[0], -x[1]))\n",
    "b = [a.pop()]\n",
    "while a:\n",
    "    c = a.pop()\n",
    "    if c[1] < b[-1][1]:\n",
    "        b[-1] = c\n",
    "    else:\n",
    "        if c[0] >= b[-1][1]:\n",
    "            b.append(c)\n",
    "print(len(b))"
   ]
  }
 ],
 "metadata": {
  "kernelspec": {
   "display_name": "Python 3",
   "language": "python",
   "name": "python3"
  },
  "language_info": {
   "codemirror_mode": {
    "name": "ipython",
    "version": 3
   },
   "file_extension": ".py",
   "mimetype": "text/x-python",
   "name": "python",
   "nbconvert_exporter": "python",
   "pygments_lexer": "ipython3",
   "version": "3.8.5"
  }
 },
 "nbformat": 4,
 "nbformat_minor": 4
}
