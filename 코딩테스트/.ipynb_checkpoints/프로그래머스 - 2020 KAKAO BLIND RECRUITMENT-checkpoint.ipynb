{
 "cells": [
  {
   "cell_type": "markdown",
   "metadata": {},
   "source": [
    "1. 문자열 압축"
   ]
  },
  {
   "cell_type": "code",
   "execution_count": null,
   "metadata": {},
   "outputs": [],
   "source": [
    "# 내 답안 1\n",
    "from itertools import combinations\n",
    "def solution(a):\n",
    "    answer = []\n",
    "    if len(a) == 1:\n",
    "        return len(a)\n",
    "    for i in range(1, (len(a)//2)+1):\n",
    "        start = 0\n",
    "        end = i\n",
    "        b = []\n",
    "        while True:\n",
    "            b.append(a[start:end])\n",
    "            start += i\n",
    "            end += i\n",
    "\n",
    "            if end > len(a):\n",
    "                b.append(a[start:end])\n",
    "                break\n",
    "        aa = \"\"\n",
    "        f = 1\n",
    "        for j in range(0, len(b)):\n",
    "            if j < len(b)-1:\n",
    "                if b[j] == b[j+1]:\n",
    "                    f += 1\n",
    "                else:\n",
    "                    if f >= 2:\n",
    "                        aa += str(f)+b[j]\n",
    "                        f = 1\n",
    "                    else:\n",
    "                        aa += b[j]\n",
    "                        f = 1\n",
    "            elif j == len(b)-1:  \n",
    "                if f >= 2:\n",
    "                    aa += str(f)+b[j]\n",
    "                    f = 1\n",
    "                else:\n",
    "                    aa += b[j]\n",
    "                    f = 1\n",
    "\n",
    "        answer.append(aa)\n",
    "        answer.sort(key=lambda x : len(x))\n",
    "\n",
    "    return len(answer[0])"
   ]
  },
  {
   "cell_type": "code",
   "execution_count": 231,
   "metadata": {},
   "outputs": [
    {
     "name": "stdout",
     "output_type": "stream",
     "text": [
      "7\n",
      "9\n",
      "8\n",
      "14\n",
      "17\n",
      "2\n"
     ]
    }
   ],
   "source": [
    "# 내 답안 2\n",
    "import time\n",
    "def solution(a):\n",
    "    answer1 = []\n",
    "    for i in range(0, len(a)):\n",
    "        b = []\n",
    "        for j in range(0, len(a), i+1):\n",
    "            b.append(a[j:j+i+1])\n",
    "        d = [\"\", \"1\"]\n",
    "        for j in b:\n",
    "            if j != d[-2]:\n",
    "                d.append(j)\n",
    "                d.append(str(1))\n",
    "            else:\n",
    "                d[-1] = str(int(d[-1]) + 1)\n",
    "        d = list(filter((\"1\").__ne__, d))\n",
    "        answer1.append(\"\".join(d))\n",
    "    answer1.sort(key = lambda x: len(x))\n",
    "    return len(answer1[0])\n",
    "\n",
    "\n",
    "a = [\"aabbaccc\",\n",
    "    \"ababcdcdababcdcd\",\n",
    "    \"abcabcdede\",\n",
    "    \"abcabcabcabcdededededede\",\n",
    "    \"xababcdcdababcdcd\",\n",
    "    'aaaaaa',]\n",
    "\n",
    "for x in a:\n",
    "    print(solution(x))"
   ]
  },
  {
   "cell_type": "code",
   "execution_count": null,
   "metadata": {},
   "outputs": [],
   "source": [
    "# 나중에 다시 풀어본 내 답안 3\n",
    "def solution(a):\n",
    "    answer = len(a)\n",
    "    for i in range(1, len(a)+1):\n",
    "        count = ['1', a[0:i]]\n",
    "        for j in range(i, len(a), i):\n",
    "            if a[j:j+i] == count[-1]:\n",
    "                count[-2] = str(int(count[-2])+1)\n",
    "            else: \n",
    "                count.extend(['1', a[j:j+i]])\n",
    "        count = [k if k != '1' else '' for k in count]\n",
    "        if answer > len(''.join(count)): answer = len(''.join(count))\n",
    "    return answer\n",
    "\n",
    "# 더 나중에 다시 풀어본 답 4\n",
    "def solution(s):\n",
    "    if len(s) ==1: return 1\n",
    "    answer= []\n",
    "    for i in range(1, len(s)):\n",
    "        a = []\n",
    "        for j in range(0,len(s), i):\n",
    "            if a != [] and a[-1][1] == s[j:j+i]:\n",
    "                a[-1][0] += 1\n",
    "            else:\n",
    "                a.append([1, s[j:j+i]])\n",
    "        answer.append(len(''.join(list(map(lambda x: str(x[0])+x[1] if x[0] != 1 else x[1], a)))))\n",
    "    return min(answer)"
   ]
  },
  {
   "cell_type": "code",
   "execution_count": null,
   "metadata": {},
   "outputs": [],
   "source": [
    "# --- 다른 사람들 풀이 --------------------------------------------------------------------------------------------------------"
   ]
  },
  {
   "cell_type": "code",
   "execution_count": 234,
   "metadata": {},
   "outputs": [
    {
     "name": "stdout",
     "output_type": "stream",
     "text": [
      "['a', 'a', 'b', 'b', 'a', 'c', 'c', 'c']\n",
      "['aa', 'bb', 'ac', 'cc']\n",
      "['aab', 'bac', 'cc']\n",
      "['aabb', 'accc']\n",
      "['aabbaccc']\n",
      "7\n",
      "['a', 'b', 'a', 'b', 'c', 'd', 'c', 'd', 'a', 'b', 'a', 'b', 'c', 'd', 'c', 'd']\n",
      "['ab', 'ab', 'cd', 'cd', 'ab', 'ab', 'cd', 'cd']\n",
      "['aba', 'bcd', 'cda', 'bab', 'cdc', 'd']\n",
      "['abab', 'cdcd', 'abab', 'cdcd']\n",
      "['ababc', 'dcdab', 'abcdc', 'd']\n",
      "['ababcd', 'cdabab', 'cdcd']\n",
      "['ababcdc', 'dababcd', 'cd']\n",
      "['ababcdcd', 'ababcdcd']\n",
      "['ababcdcdababcdcd']\n",
      "9\n",
      "['a', 'b', 'c', 'a', 'b', 'c', 'd', 'e', 'd', 'e']\n",
      "['ab', 'ca', 'bc', 'de', 'de']\n",
      "['abc', 'abc', 'ded', 'e']\n",
      "['abca', 'bcde', 'de']\n",
      "['abcab', 'cdede']\n",
      "['abcabcdede']\n",
      "8\n",
      "['a', 'b', 'c', 'a', 'b', 'c', 'a', 'b', 'c', 'a', 'b', 'c', 'd', 'e', 'd', 'e', 'd', 'e', 'd', 'e', 'd', 'e', 'd', 'e']\n",
      "['ab', 'ca', 'bc', 'ab', 'ca', 'bc', 'de', 'de', 'de', 'de', 'de', 'de']\n",
      "['abc', 'abc', 'abc', 'abc', 'ded', 'ede', 'ded', 'ede']\n",
      "['abca', 'bcab', 'cabc', 'dede', 'dede', 'dede']\n",
      "['abcab', 'cabca', 'bcded', 'edede', 'dede']\n",
      "['abcabc', 'abcabc', 'dedede', 'dedede']\n",
      "['abcabca', 'bcabcde', 'dededed', 'ede']\n",
      "['abcabcab', 'cabcdede', 'dededede']\n",
      "['abcabcabc', 'abcdedede', 'dedede']\n",
      "['abcabcabca', 'bcdededede', 'dede']\n",
      "['abcabcabcab', 'cdedededede', 'de']\n",
      "['abcabcabcabc', 'dededededede']\n",
      "['abcabcabcabcdededededede']\n",
      "14\n",
      "['x', 'a', 'b', 'a', 'b', 'c', 'd', 'c', 'd', 'a', 'b', 'a', 'b', 'c', 'd', 'c', 'd']\n",
      "['xa', 'ba', 'bc', 'dc', 'da', 'ba', 'bc', 'dc', 'd']\n",
      "['xab', 'abc', 'dcd', 'aba', 'bcd', 'cd']\n",
      "['xaba', 'bcdc', 'daba', 'bcdc', 'd']\n",
      "['xabab', 'cdcda', 'babcd', 'cd']\n",
      "['xababc', 'dcdaba', 'bcdcd']\n",
      "['xababcd', 'cdababc', 'dcd']\n",
      "['xababcdc', 'dababcdc', 'd']\n",
      "['xababcdcdababcdcd']\n",
      "17\n",
      "['a', 'a', 'a', 'a', 'a', 'a']\n",
      "['aa', 'aa', 'aa']\n",
      "['aaa', 'aaa']\n",
      "['aaaaaa']\n",
      "2\n"
     ]
    }
   ],
   "source": [
    "def compress(text, tok_len):\n",
    "    words = [text[i:i+tok_len] for i in range(0, len(text), tok_len)]\n",
    "    print(words)\n",
    "    res = []\n",
    "    cur_word = words[0]\n",
    "    cur_cnt = 1\n",
    "    for a, b in zip(words, words[1:] + ['']):\n",
    "        if a == b:\n",
    "            cur_cnt += 1\n",
    "        else:\n",
    "            res.append([cur_word, cur_cnt])\n",
    "            cur_word = b\n",
    "            cur_cnt = 1\n",
    "    return sum(len(word) + (len(str(cnt)) if cnt > 1 else 0) for word, cnt in res)\n",
    "\n",
    "def solution(text):\n",
    "    \n",
    "    return min(compress(text, tok_len) for tok_len in list(range(1, int(len(text)/2) + 1)) + [len(text)])\n",
    "\n",
    "a = [\n",
    "    \"aabbaccc\",\n",
    "    \"ababcdcdababcdcd\",\n",
    "    \"abcabcdede\",\n",
    "    \"abcabcabcabcdededededede\",\n",
    "    \"xababcdcdababcdcd\",\n",
    "\n",
    "    'aaaaaa',\n",
    "]\n",
    "\n",
    "for x in a:\n",
    "    print(solution(x))"
   ]
  },
  {
   "cell_type": "code",
   "execution_count": 289,
   "metadata": {},
   "outputs": [
    {
     "ename": "TypeError",
     "evalue": "range() takes no keyword arguments",
     "output_type": "error",
     "traceback": [
      "\u001b[1;31m---------------------------------------------------------------------------\u001b[0m",
      "\u001b[1;31mTypeError\u001b[0m                                 Traceback (most recent call last)",
      "\u001b[1;32m<ipython-input-289-e60337f1e22d>\u001b[0m in \u001b[0;36m<module>\u001b[1;34m\u001b[0m\n\u001b[0;32m     16\u001b[0m \u001b[1;33m\u001b[0m\u001b[0m\n\u001b[0;32m     17\u001b[0m \u001b[0manswer\u001b[0m \u001b[1;33m=\u001b[0m \u001b[1;34m\"\"\u001b[0m\u001b[1;33m\u001b[0m\u001b[1;33m\u001b[0m\u001b[0m\n\u001b[1;32m---> 18\u001b[1;33m \u001b[1;32mfor\u001b[0m \u001b[0mi\u001b[0m \u001b[1;32min\u001b[0m \u001b[0mrange\u001b[0m\u001b[1;33m(\u001b[0m\u001b[0mb\u001b[0m \u001b[1;33m=\u001b[0m \u001b[0mlen\u001b[0m\u001b[1;33m(\u001b[0m\u001b[1;33m[\u001b[0m\u001b[1;33m[\u001b[0m\u001b[0mk\u001b[0m\u001b[1;33m[\u001b[0m\u001b[0mi\u001b[0m\u001b[1;33m]\u001b[0m \u001b[1;32mfor\u001b[0m \u001b[0mk\u001b[0m \u001b[1;32min\u001b[0m \u001b[0ma\u001b[0m\u001b[1;33m]\u001b[0m \u001b[1;32mfor\u001b[0m \u001b[0mi\u001b[0m \u001b[1;32min\u001b[0m \u001b[0mrange\u001b[0m\u001b[1;33m(\u001b[0m\u001b[0mlen\u001b[0m\u001b[1;33m(\u001b[0m\u001b[0ma\u001b[0m\u001b[1;33m[\u001b[0m\u001b[1;36m0\u001b[0m\u001b[1;33m]\u001b[0m\u001b[1;33m)\u001b[0m\u001b[1;33m)\u001b[0m\u001b[1;33m]\u001b[0m\u001b[1;33m)\u001b[0m\u001b[1;33m)\u001b[0m\u001b[1;33m:\u001b[0m\u001b[1;33m\u001b[0m\u001b[1;33m\u001b[0m\u001b[0m\n\u001b[0m\u001b[0;32m     19\u001b[0m     \u001b[1;32mif\u001b[0m \u001b[0mmin\u001b[0m\u001b[1;33m(\u001b[0m\u001b[0mb\u001b[0m\u001b[1;33m[\u001b[0m\u001b[0mi\u001b[0m\u001b[1;33m]\u001b[0m\u001b[1;33m)\u001b[0m \u001b[1;33m<\u001b[0m \u001b[0mb\u001b[0m\u001b[1;33m[\u001b[0m\u001b[0mi\u001b[0m\u001b[1;33m]\u001b[0m\u001b[1;33m[\u001b[0m\u001b[0mi\u001b[0m\u001b[1;33m]\u001b[0m \u001b[1;33m<\u001b[0m \u001b[0mmax\u001b[0m\u001b[1;33m(\u001b[0m\u001b[0mb\u001b[0m\u001b[1;33m[\u001b[0m\u001b[0mi\u001b[0m\u001b[1;33m]\u001b[0m\u001b[1;33m)\u001b[0m \u001b[1;32mor\u001b[0m \u001b[0mb\u001b[0m\u001b[1;33m[\u001b[0m\u001b[0mi\u001b[0m\u001b[1;33m]\u001b[0m\u001b[1;33m.\u001b[0m\u001b[0mcount\u001b[0m\u001b[1;33m(\u001b[0m\u001b[0mb\u001b[0m\u001b[1;33m[\u001b[0m\u001b[0mi\u001b[0m\u001b[1;33m]\u001b[0m\u001b[1;33m[\u001b[0m\u001b[0mi\u001b[0m\u001b[1;33m]\u001b[0m\u001b[1;33m)\u001b[0m \u001b[1;33m!=\u001b[0m \u001b[1;36m1\u001b[0m\u001b[1;33m:\u001b[0m\u001b[1;33m\u001b[0m\u001b[1;33m\u001b[0m\u001b[0m\n\u001b[0;32m     20\u001b[0m         \u001b[0manswer\u001b[0m \u001b[1;33m+=\u001b[0m \u001b[0maaa\u001b[0m\u001b[1;33m(\u001b[0m\u001b[0msum\u001b[0m\u001b[1;33m(\u001b[0m\u001b[0mb\u001b[0m\u001b[1;33m[\u001b[0m\u001b[0mi\u001b[0m\u001b[1;33m]\u001b[0m\u001b[1;33m)\u001b[0m\u001b[1;33m//\u001b[0m\u001b[0mlen\u001b[0m\u001b[1;33m(\u001b[0m\u001b[0mb\u001b[0m\u001b[1;33m[\u001b[0m\u001b[0mi\u001b[0m\u001b[1;33m]\u001b[0m\u001b[1;33m)\u001b[0m\u001b[1;33m)\u001b[0m\u001b[1;33m\u001b[0m\u001b[1;33m\u001b[0m\u001b[0m\n",
      "\u001b[1;31mTypeError\u001b[0m: range() takes no keyword arguments"
     ]
    }
   ],
   "source": [
    "a = [[100,90,98,88,65],[50,45,99,85,77],[47,88,95,80,67],[61,57,100,80,65],[24,90,94,75,65]]\n",
    "\n",
    "def aaa(a):\n",
    "    if a >= 90:\n",
    "        return \"A\"\n",
    "    elif 80<=a<90:\n",
    "        return \"B\"\n",
    "    elif 70<= a < 80:\n",
    "        return \"C\"\n",
    "    elif 50 <= a < 70:\n",
    "        return \"D\"\n",
    "    else:\n",
    "        return \"F\"\n",
    "    \n",
    "b = [[k[i] for k in a] for i in range(len(a[0]))]\n",
    "\n",
    "answer = \"\"\n",
    "for i in range(len(b)):\n",
    "    if min(b[i]) < b[i][i] < max(b[i]) or b[i].count(b[i][i]) != 1:\n",
    "        answer += aaa(sum(b[i])//len(b[i]))\n",
    "    else:\n",
    "        del b[i][i]\n",
    "        answer += aaa(sum(b[i])//len(b[i]))\n",
    "answer"
   ]
  },
  {
   "cell_type": "code",
   "execution_count": 291,
   "metadata": {},
   "outputs": [
    {
     "data": {
      "text/plain": [
       "[(100, 50, 47, 61, 24),\n",
       " (90, 45, 88, 57, 90),\n",
       " (98, 99, 95, 100, 94),\n",
       " (88, 85, 80, 80, 75),\n",
       " (65, 77, 67, 65, 65)]"
      ]
     },
     "execution_count": 291,
     "metadata": {},
     "output_type": "execute_result"
    }
   ],
   "source": [
    "a = [[100,90,98,88,65],[50,45,99,85,77],[47,88,95,80,67],[61,57,100,80,65],[24,90,94,75,65]]\n",
    "list(zip(*a))"
   ]
  },
  {
   "cell_type": "code",
   "execution_count": null,
   "metadata": {},
   "outputs": [],
   "source": []
  },
  {
   "cell_type": "markdown",
   "metadata": {},
   "source": [
    "2. 괄호의 변환"
   ]
  },
  {
   "cell_type": "code",
   "execution_count": 13,
   "metadata": {},
   "outputs": [
    {
     "data": {
      "text/plain": [
       "'()(())'"
      ]
     },
     "execution_count": 13,
     "metadata": {},
     "output_type": "execute_result"
    }
   ],
   "source": [
    "# 문제에서 제시하는 과정을 잘 볼 필요가 있음.\n",
    "# 재귀함수가 무조건 필요한 문제임\n",
    "def splitt(w):\n",
    "    a, b = 0, 0\n",
    "    for i in range(len(w)):\n",
    "        if w[i] == '(':\n",
    "            a += 1\n",
    "        else:\n",
    "            b+=1\n",
    "\n",
    "        if a == b:\n",
    "            u, v = w[:i+1], w[i+1:]\n",
    "            break\n",
    "\n",
    "    return u, v\n",
    "\n",
    "def dcmn(v):\n",
    "    c = True\n",
    "    a = []\n",
    "    for i in v:\n",
    "        if i =='(':\n",
    "            a.append(i)\n",
    "        else:\n",
    "            if a:\n",
    "                a.pop()\n",
    "            else:\n",
    "                c = False\n",
    "    return c\n",
    "    \n",
    "def correct(b):\n",
    "    b = ''.join(['(' if i == ')' else ')' for i in b])\n",
    "    return b\n",
    "\n",
    "def solution(a):\n",
    "    if a == '':\n",
    "        return ''\n",
    "    \n",
    "    answer = ''\n",
    "    u, v = splitt(a)\n",
    "\n",
    "    \n",
    "    if dcmn(u): # 올바른 문자열을 충족하는지를 (를 통해서 확인함.\n",
    "        answer += u + solution(v)\n",
    "    else:\n",
    "        answer += '('+ solution(v) + ')'\n",
    "        answer += correct(u[1:-1])\n",
    "\n",
    "    return answer\n",
    "\n",
    "solution(')))(((')"
   ]
  },
  {
   "cell_type": "code",
   "execution_count": null,
   "metadata": {},
   "outputs": [],
   "source": [
    "# 다른 사람이 푼 답\n",
    "def solution(p):\n",
    "    if p=='': return p\n",
    "    r=True; c=0\n",
    "    for i in range(len(p)):\n",
    "        if p[i]=='(': c-=1\n",
    "        else: c+=1\n",
    "        if c>0: r=False\n",
    "        if c==0:\n",
    "            if r:\n",
    "                return p[:i+1]+solution(p[i+1:])\n",
    "            else:\n",
    "                return '('+solution(p[i+1:])+')'+''.join(list(map(lambda x:'(' if x==')' else ')',p[1:i]) ))"
   ]
  },
  {
   "cell_type": "markdown",
   "metadata": {},
   "source": [
    "3. 자물쇠와 열쇠"
   ]
  },
  {
   "cell_type": "code",
   "execution_count": null,
   "metadata": {},
   "outputs": [],
   "source": [
    "# 나중에 시간 지나고 다시 풀어본 것\n",
    "import copy\n",
    "\n",
    "def check(matrix, x, y):\n",
    "    for i in range(x):\n",
    "        for j in range(x):\n",
    "            if matrix[i+y-1][j+y-1] != 1:\n",
    "                return False\n",
    "    return True\n",
    "\n",
    "def solution(key, lock):\n",
    "    # 비교할 큰 매트릭스 만들기\n",
    "    # lock의 각 행과 옆의 앞, 뒤쪽에 추가될 것은 key의 길이에서 1을 뺀 만큼.\n",
    "    a = [[0 for j in range(((len(key)-1)*2) +len(lock))] for i in range(((len(key)-1)*2)+len(lock))]\n",
    "    \n",
    "    # 큰 매트릭스의 정앙의 작은 매트릭스를 lock로 만들기\n",
    "    for i in range(len(lock)):\n",
    "        for j in range(len(lock)):\n",
    "            a[i+len(key)-1][j+len(key)-1] = lock[i][j] \n",
    "\n",
    "    \n",
    "    for i in range(4):\n",
    "        # n과 m은 작은 매트릭스의 왼쪽 꼭짓점 위\n",
    "        # 즉, n과 m으로부터 +len(key) 까지 for문을 돌려야 함. \n",
    "        # 그게 i와 j for문임.\n",
    "        for n in range(len(a)-(len(key)-1)):\n",
    "            for m in range(len(a)-(len(key)-1)):\n",
    "                lock_copy = copy.deepcopy(a)\n",
    "                for x in range(len(key)):\n",
    "                    for y in range(len(key)):\n",
    "                        lock_copy[n+x][m+y] += key[x][y]\n",
    "                if check(lock_copy, len(lock), len(key)):\n",
    "                    return True\n",
    "                \n",
    "        key = list(map(lambda x: list(x), list(zip(*key[::-1]))))\n",
    "    return False"
   ]
  },
  {
   "cell_type": "code",
   "execution_count": 73,
   "metadata": {},
   "outputs": [
    {
     "name": "stdout",
     "output_type": "stream",
     "text": [
      "[[1 0 0]\n",
      " [0 0 0]\n",
      " [1 1 0]]\n",
      "[[0 1 0]\n",
      " [1 0 0]\n",
      " [1 0 0]]\n",
      "[[1 0 1]\n",
      " [1 0 0]\n",
      " [0 0 0]]\n"
     ]
    }
   ],
   "source": [
    "# 다른 사람 답안 \n",
    "def attach(x, y, M, key, board):\n",
    "    for i in range(M):\n",
    "        for j in range(M):\n",
    "            board[x+i][y+j] += key[i][j]\n",
    "\n",
    "def detach(x, y, M, key, board):\n",
    "    for i in range(M):\n",
    "        for j in range(M):\n",
    "            board[x+i][y+j] -= key[i][j]\n",
    "\n",
    "def rotate90(arr):\n",
    "    return list(zip(*arr[::-1]))\n",
    "\n",
    "def check(board, M, N):\n",
    "    for i in range(N):\n",
    "        for j in range(N):\n",
    "            if board[M+i][M+j] != 1:\n",
    "                return False;\n",
    "    return True\n",
    "\n",
    "def solution(key, lock):\n",
    "    M, N = len(key), len(lock)\n",
    "\n",
    "    board = [[0] * (M*2 + N) for _ in range(M*2 + N)]\n",
    "    # 자물쇠 중앙 배치\n",
    "    for i in range(N):\n",
    "        for j in range(N):\n",
    "            board[M+i][M+j] = lock[i][j]\n",
    "\n",
    "    rotated_key = key\n",
    "    # 모든 방향 (4번 루프)\n",
    "    for _ in range(4):\n",
    "        rotated_key = rotate90(rotated_key)\n",
    "        for x in range(1, M+N):\n",
    "            for y in range(1, M+N):\n",
    "                # 열쇠 넣어보기\n",
    "                attach(x, y, M, rotated_key, board)\n",
    "                # lock 가능 check\n",
    "                if(check(board, M, N)):\n",
    "                    return True\n",
    "                # 열쇠 빼기\n",
    "                detach(x, y, M, rotated_key, board)\n",
    "                \n",
    "    return False"
   ]
  },
  {
   "cell_type": "markdown",
   "metadata": {},
   "source": [
    "4. 기둥과 보 설치"
   ]
  },
  {
   "cell_type": "code",
   "execution_count": 13,
   "metadata": {},
   "outputs": [],
   "source": [
    "# 0 : 기둥, 1: 보\n",
    "# 0: 삭제, 1: 설치\n",
    "build_frame = [[1,0,0,1],[1,1,1,1],[2,1,0,1],[2,2,1,1],[5,0,0,1],[5,1,0,1],[4,2,1,1],[3,2,1,1]]\n",
    "result = [[1,0,0],[1,1,1],[2,1,0],[2,2,1],[3,2,1],[4,2,1],[5,0,0],[5,1,0]]"
   ]
  },
  {
   "cell_type": "code",
   "execution_count": 14,
   "metadata": {},
   "outputs": [
    {
     "name": "stdout",
     "output_type": "stream",
     "text": [
      "[1, 0, 0, 1]\n",
      "[1, 1, 1, 1]\n",
      "[2, 1, 0, 1]\n",
      "[2, 2, 1, 1]\n",
      "[5, 0, 0, 1]\n",
      "[5, 1, 0, 1]\n",
      "[4, 2, 1, 1]\n",
      "[3, 2, 1, 1]\n"
     ]
    },
    {
     "data": {
      "text/plain": [
       "{(1, 0): 0,\n",
       " (1, 1): 1,\n",
       " (2, 1): 0,\n",
       " (2, 2): 1,\n",
       " (5, 0): 0,\n",
       " (5, 1): 0,\n",
       " (4, 2): 1,\n",
       " (3, 2): 1}"
      ]
     },
     "execution_count": 14,
     "metadata": {},
     "output_type": "execute_result"
    }
   ],
   "source": [
    "from collections import deque\n",
    "\n",
    "build_frame = [[0,0,0,1],[2,0,0,1],[4,0,0,1],\n",
    "               [0,1,1,1],[1,1,1,1],[2,1,1,1],\n",
    "               [3,1,1,1],[2,0,0,0],[1,1,1,0],[2,2,0,1]]\n",
    "\n",
    "build_frame = deque(build_frame)\n",
    "build = {}\n",
    "while build_frame:\n",
    "    c = build_frame.popleft()\n",
    "    \n",
    "    build[(c[0], c[1])] = build.get((c[0], c[1]), [c[2]])\n",
    "    \n",
    "build"
   ]
  },
  {
   "cell_type": "code",
   "execution_count": 65,
   "metadata": {},
   "outputs": [
    {
     "name": "stdout",
     "output_type": "stream",
     "text": [
      "2 2\n",
      "[[1, 0, 1, 0, 1, 0, 0, 0, 0, 0], [0, 0, 0, 0, 0, 0, 0, 0, 0, 0], [0, 0, 0, 0, 0, 0, 0, 0, 0, 0], [0, 0, 0, 0, 0, 0, 0, 0, 0, 0], [0, 0, 0, 0, 0, 0, 0, 0, 0, 0], [0, 0, 0, 0, 0, 0, 0, 0, 0, 0], [0, 0, 0, 0, 0, 0, 0, 0, 0, 0], [0, 0, 0, 0, 0, 0, 0, 0, 0, 0], [0, 0, 0, 0, 0, 0, 0, 0, 0, 0], [0, 0, 0, 0, 0, 0, 0, 0, 0, 0]]\n"
     ]
    },
    {
     "data": {
      "text/plain": [
       "[[0, 0, 0, 0, 0, 0, 0, 0, 0, 0],\n",
       " [1, 0, 1, 0, 0, 0, 0, 0, 0, 0],\n",
       " [0, 0, 0, 0, 0, 0, 0, 0, 0, 0],\n",
       " [0, 0, 0, 0, 0, 0, 0, 0, 0, 0],\n",
       " [0, 0, 0, 0, 0, 0, 0, 0, 0, 0],\n",
       " [0, 0, 0, 0, 0, 0, 0, 0, 0, 0],\n",
       " [0, 0, 0, 0, 0, 0, 0, 0, 0, 0],\n",
       " [0, 0, 0, 0, 0, 0, 0, 0, 0, 0],\n",
       " [0, 0, 0, 0, 0, 0, 0, 0, 0, 0],\n",
       " [0, 0, 0, 0, 0, 0, 0, 0, 0, 0]]"
      ]
     },
     "execution_count": 65,
     "metadata": {},
     "output_type": "execute_result"
    }
   ],
   "source": [
    "# 보를 어떻게 표현할 것인가. - 매트릭스의 선을 어떻게 표현해야 하는가.\n",
    "\n",
    "from collections import deque\n",
    "import numpy as np\n",
    "\n",
    "build_frame = [[0,0,0,1],[2,0,0,1],[4,0,0,1],\n",
    "               [0,1,1,1],[1,1,1,1],[2,1,1,1],\n",
    "               [3,1,1,1],[2,0,0,0],[1,1,1,0],[2,2,0,1]]\n",
    "\n",
    "build_frame_sort = sorted(build_frame)\n",
    "# 기둥이 세워졌는지 판단할 매트릭스 생성\n",
    "# 기둥이 세워지면 True\n",
    "a = [[0 for j in range(10)] for i in range(10)]\n",
    "\n",
    "# 보가 세워졌는지 판단할 매트릭스\n",
    "build_frame_sort = sorted(build_frame, key = lambda x:x[1])\n",
    "b = [[0 for j in range(10)] for i in range(10)]\n",
    "\n",
    "pillar = []\n",
    "beam = []\n",
    "for i in build_frame:\n",
    "    x, y = i[1], i[0] # x 좌표는 열의 좌표, y 좌표는 행의 좌표\n",
    "    \n",
    "    # 세울 때.\n",
    "    # 기둥일 때.\n",
    "    if i[2] == 0 and i[3] == 1:\n",
    "        if a[x-1][y] == 1 or x == 0:\n",
    "            a[x][y] = 1\n",
    "            pillar.append(i[:3])\n",
    "            \n",
    "    if i[2] == 1 and i[3] == 1:\n",
    "        if a[x-1][y] == 1:\n",
    "            b[x][y] = 1\n",
    "            beam.append(i[:3])\n",
    "        elif (b[x][y-1] == 1 and b[x][y+1] == 1):\n",
    "            b[x][y] = 1\n",
    "            beam.append(i[:3])\n",
    "        \n",
    "\n",
    "print(x, y)\n",
    "print(a)\n",
    "b"
   ]
  },
  {
   "cell_type": "code",
   "execution_count": null,
   "metadata": {},
   "outputs": [],
   "source": [
    "# 다른 사람 풀이 1\n",
    "def impossible(result):\n",
    "    COL, ROW = 0, 1\n",
    "    for x, y, a in result:\n",
    "        if a == COL: # 기둥일 때\n",
    "            # y == 0 이거나 밑에 기둥이 없거나, 왼쪽 옆에 보가 없거나, 현재 위치에 보가 없을 때\n",
    "            if y != 0 and (x, y-1, COL) not in result and \\(x-1, y, ROW) not in result and (x, y, ROW) not in result:\n",
    "                return True\n",
    "        else: # 보일 때\n",
    "            if (x, y-1, COL) not in result and (x+1, y-1, COL) not in result and \\\n",
    "        not ((x-1, y, ROW) in result and (x+1, y, ROW) in result):\n",
    "                return True\n",
    "    return False\n",
    "\n",
    "def solution(n, build_frame):\n",
    "    result = set()\n",
    "    \n",
    "    for x, y, a, build in build_frame:\n",
    "        item = (x, y, a)\n",
    "        if build: # 추가일 때\n",
    "            result.add(item)\n",
    "            if impossible(result):\n",
    "                result.remove(item)\n",
    "        elif item in result: # 삭제할 때\n",
    "            result.remove(item)\n",
    "            if impossible(result):\n",
    "                result.add(item)\n",
    "    answer = map(list, result)\n",
    "    \n",
    "    return sorted(answer, key = lambda x : (x[0], x[1], x[2]))"
   ]
  },
  {
   "cell_type": "code",
   "execution_count": null,
   "metadata": {},
   "outputs": [],
   "source": [
    "# 다른 사람 풀이 2\n",
    "def isValid(answer):\n",
    "    for x,y,a in answer:\n",
    "        if a==0:\n",
    "            if (x,y-1,0) in answer or (x-1,y,1) in answer or (x,y,1) in answer or y==0:\n",
    "                continue\n",
    "            else:\n",
    "                return False\n",
    "        if a==1:\n",
    "            if (x,y-1,0) in answer or (x+1,y-1,0) in answer or ((x-1,y,1) in answer and (x+1,y,1) in answer):\n",
    "                continue\n",
    "            else:\n",
    "                return False\n",
    "    return True\n",
    "\n",
    "def solution(n, build_frame):\n",
    "    answer = set()\n",
    "    for x,y,a,b in build_frame:\n",
    "        if b==0:\n",
    "            answer.remove((x,y,a))\n",
    "            if not isValid(answer):\n",
    "                answer.add((x,y,a))\n",
    "        else:\n",
    "            answer.add((x,y,a))\n",
    "            if not isValid(answer):\n",
    "                answer.remove((x,y,a))\n",
    "\n",
    "    answer = [list(i) for i in answer]\n",
    "    answer.sort(key=lambda x:(x[0],x[1],x[2]))\n",
    "    return answer"
   ]
  },
  {
   "cell_type": "code",
   "execution_count": 17,
   "metadata": {},
   "outputs": [
    {
     "ename": "AttributeError",
     "evalue": "type object 'a' has no attribute 'x'",
     "output_type": "error",
     "traceback": [
      "\u001b[1;31m---------------------------------------------------------------------------\u001b[0m",
      "\u001b[1;31mAttributeError\u001b[0m                            Traceback (most recent call last)",
      "\u001b[1;32m<ipython-input-17-b9c0b884a8d2>\u001b[0m in \u001b[0;36m<module>\u001b[1;34m\u001b[0m\n\u001b[0;32m      2\u001b[0m     \u001b[0mx\u001b[0m \u001b[1;33m:\u001b[0m \u001b[0mint\u001b[0m\u001b[1;33m\u001b[0m\u001b[1;33m\u001b[0m\u001b[0m\n\u001b[0;32m      3\u001b[0m \u001b[0mb\u001b[0m \u001b[1;33m=\u001b[0m \u001b[0ma\u001b[0m\u001b[1;33m\u001b[0m\u001b[1;33m\u001b[0m\u001b[0m\n\u001b[1;32m----> 4\u001b[1;33m \u001b[0mb\u001b[0m\u001b[1;33m.\u001b[0m\u001b[0mx\u001b[0m\u001b[1;33m\u001b[0m\u001b[1;33m\u001b[0m\u001b[0m\n\u001b[0m",
      "\u001b[1;31mAttributeError\u001b[0m: type object 'a' has no attribute 'x'"
     ]
    }
   ],
   "source": [
    "class a:\n",
    "    x : int\n",
    "b = a\n",
    "b.x"
   ]
  }
 ],
 "metadata": {
  "kernelspec": {
   "display_name": "Python 3",
   "language": "python",
   "name": "python3"
  },
  "language_info": {
   "codemirror_mode": {
    "name": "ipython",
    "version": 3
   },
   "file_extension": ".py",
   "mimetype": "text/x-python",
   "name": "python",
   "nbconvert_exporter": "python",
   "pygments_lexer": "ipython3",
   "version": "3.8.5"
  }
 },
 "nbformat": 4,
 "nbformat_minor": 4
}
