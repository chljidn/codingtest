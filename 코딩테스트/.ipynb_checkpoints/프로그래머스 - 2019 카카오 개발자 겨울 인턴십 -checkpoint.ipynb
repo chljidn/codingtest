{
 "cells": [
  {
   "cell_type": "markdown",
   "metadata": {},
   "source": [
    "1. 크레인 인형뽑기 게임"
   ]
  },
  {
   "cell_type": "code",
   "execution_count": null,
   "metadata": {},
   "outputs": [],
   "source": [
    "# 내 풀이\n",
    "def solution(a, moves):\n",
    "    moves = list(reversed(moves))\n",
    "    a = list(zip(*a))\n",
    "    b = []\n",
    "    answer = 0\n",
    "    while moves:\n",
    "        c = moves.pop()-1\n",
    "        for i in range(len(a[c])):\n",
    "            a[c]= list(a[c])\n",
    "            if a[c][i] != 0:\n",
    "                b.append(a[c][i])\n",
    "                a[c][i] = 0\n",
    "                break\n",
    "        if len(b) >= 2 and b[-1] == b[-2]:\n",
    "            b = b[:-2]\n",
    "            answer += 2\n",
    "    return answer"
   ]
  },
  {
   "cell_type": "markdown",
   "metadata": {},
   "source": [
    "2. 튜플"
   ]
  },
  {
   "cell_type": "code",
   "execution_count": null,
   "metadata": {},
   "outputs": [],
   "source": [
    "# 내 풀이\n",
    "def solution(a):\n",
    "    a = a.replace(\"{\", \"\").split(\"}\")\n",
    "    for i in range(len(a)):\n",
    "        a[i] = a[i].split(',')\n",
    "        if '' in a[i]:\n",
    "            a[i].remove('')\n",
    "    a.sort(key = lambda x:len(x))\n",
    "    answer = []\n",
    "    for i in a:\n",
    "        for j in i:\n",
    "            if j != '' and j != ',':\n",
    "                if j not in answer:\n",
    "                    answer.append(j)\n",
    "    answer = list(map(int, answer))\n",
    "    return answer"
   ]
  },
  {
   "cell_type": "code",
   "execution_count": null,
   "metadata": {},
   "outputs": [],
   "source": [
    "# 다른 사람 풀이\n",
    "def solution(s):\n",
    "\n",
    "    s = Counter(re.findall('\\d+', s))\n",
    "    return list(map(int, [k for k, v in sorted(s.items(), key=lambda x: x[1], reverse=True)]))\n",
    "\n",
    "import re\n",
    "from collections import Counter"
   ]
  },
  {
   "cell_type": "code",
   "execution_count": null,
   "metadata": {},
   "outputs": [],
   "source": []
  }
 ],
 "metadata": {
  "kernelspec": {
   "display_name": "Python 3",
   "language": "python",
   "name": "python3"
  },
  "language_info": {
   "codemirror_mode": {
    "name": "ipython",
    "version": 3
   },
   "file_extension": ".py",
   "mimetype": "text/x-python",
   "name": "python",
   "nbconvert_exporter": "python",
   "pygments_lexer": "ipython3",
   "version": "3.8.5"
  }
 },
 "nbformat": 4,
 "nbformat_minor": 4
}
