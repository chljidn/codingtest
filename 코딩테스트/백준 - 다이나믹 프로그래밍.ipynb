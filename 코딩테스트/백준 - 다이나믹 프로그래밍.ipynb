{
 "cells": [
  {
   "cell_type": "markdown",
   "metadata": {},
   "source": [
    "1. 설탕배달 "
   ]
  },
  {
   "cell_type": "code",
   "execution_count": 5,
   "metadata": {},
   "outputs": [
    {
     "name": "stdout",
     "output_type": "stream",
     "text": [
      "18\n"
     ]
    },
    {
     "data": {
      "text/plain": [
       "4"
      ]
     },
     "execution_count": 5,
     "metadata": {},
     "output_type": "execute_result"
    }
   ],
   "source": [
    "# 다이나믹 알고리즘대로 푼 것\n",
    "# 알고리즘 공부에서 최소 화폐 단위랑 비슷한 유형\n",
    "n = int(input())\n",
    "m = [3, 5]\n",
    "\n",
    "d = [10001] * (n + 1)\n",
    "d[0] = 0\n",
    "for i in range(len(m)):\n",
    "    for j in range(m[i], n+1):\n",
    "        if d[j - m[i]] != 10001:\n",
    "            d[j] = min(d[j], d[j - m[i]] + 1)\n",
    "if d[n] == 10001:\n",
    "    print(-1)\n",
    "else:\n",
    "    print(d[n])"
   ]
  },
  {
   "cell_type": "markdown",
   "metadata": {},
   "source": [
    "2. 1,2,3 더하기"
   ]
  },
  {
   "cell_type": "code",
   "execution_count": null,
   "metadata": {},
   "outputs": [],
   "source": [
    "n = int(input())\n",
    "a = [int(input()) for i in range(n)]\n",
    "\n",
    "def solution(b):\n",
    "    if b == 1:\n",
    "        return 1\n",
    "    if b == 2:\n",
    "        return 2\n",
    "    if b == 3: \n",
    "        return 4\n",
    "    else:\n",
    "        return solution(b-1) + solution(b-2) + solution(b-3)\n",
    "\n",
    "for i in a:\n",
    "    print(solution(i))     "
   ]
  },
  {
   "cell_type": "markdown",
   "metadata": {},
   "source": [
    "3. 2*n 타일링"
   ]
  },
  {
   "cell_type": "code",
   "execution_count": null,
   "metadata": {},
   "outputs": [],
   "source": [
    "# 시간초과 발생\n",
    "n = int(input())\n",
    "\n",
    "def solution(a):\n",
    "    if a == 2:\n",
    "        return 2\n",
    "    elif a == 3:\n",
    "        return 3\n",
    "    else:\n",
    "        return solution(a-1) + solution(a-2)\n",
    "    \n",
    "print(solution(n))"
   ]
  },
  {
   "cell_type": "code",
   "execution_count": 14,
   "metadata": {},
   "outputs": [
    {
     "name": "stdout",
     "output_type": "stream",
     "text": [
      "4\n",
      "5\n"
     ]
    }
   ],
   "source": [
    "n = int(input())\n",
    "\n",
    "d = [10001] * (n+1)\n",
    "d[0] = 1\n",
    "d[1] = 1\n",
    "\n",
    "for i in range(2, n+1):\n",
    "    d[i] = d[i-1] + d[i-2]\n",
    "    \n",
    "print(d[n] % 10007)"
   ]
  },
  {
   "cell_type": "markdown",
   "metadata": {},
   "source": [
    "4. RGB 거리\n",
    " - 내가 푼 거 아님"
   ]
  },
  {
   "cell_type": "code",
   "execution_count": 53,
   "metadata": {},
   "outputs": [
    {
     "name": "stdout",
     "output_type": "stream",
     "text": [
      "\n"
     ]
    },
    {
     "ename": "ValueError",
     "evalue": "invalid literal for int() with base 10: ''",
     "output_type": "error",
     "traceback": [
      "\u001b[1;31m---------------------------------------------------------------------------\u001b[0m",
      "\u001b[1;31mValueError\u001b[0m                                Traceback (most recent call last)",
      "\u001b[1;32m<ipython-input-53-c7dbd819bee2>\u001b[0m in \u001b[0;36m<module>\u001b[1;34m\u001b[0m\n\u001b[1;32m----> 1\u001b[1;33m \u001b[0mn\u001b[0m \u001b[1;33m=\u001b[0m\u001b[0mint\u001b[0m\u001b[1;33m(\u001b[0m\u001b[0minput\u001b[0m\u001b[1;33m(\u001b[0m\u001b[1;33m)\u001b[0m\u001b[1;33m)\u001b[0m\u001b[1;33m\u001b[0m\u001b[1;33m\u001b[0m\u001b[0m\n\u001b[0m\u001b[0;32m      2\u001b[0m \u001b[1;33m\u001b[0m\u001b[0m\n\u001b[0;32m      3\u001b[0m \u001b[0ma\u001b[0m \u001b[1;33m=\u001b[0m \u001b[1;33m[\u001b[0m\u001b[0mlist\u001b[0m\u001b[1;33m(\u001b[0m\u001b[0mmap\u001b[0m\u001b[1;33m(\u001b[0m\u001b[0mint\u001b[0m\u001b[1;33m,\u001b[0m \u001b[0minput\u001b[0m\u001b[1;33m(\u001b[0m\u001b[1;33m)\u001b[0m\u001b[1;33m.\u001b[0m\u001b[0msplit\u001b[0m\u001b[1;33m(\u001b[0m\u001b[1;33m)\u001b[0m\u001b[1;33m)\u001b[0m\u001b[1;33m)\u001b[0m \u001b[1;32mfor\u001b[0m \u001b[0mi\u001b[0m \u001b[1;32min\u001b[0m \u001b[0mrange\u001b[0m\u001b[1;33m(\u001b[0m\u001b[0mn\u001b[0m\u001b[1;33m)\u001b[0m\u001b[1;33m]\u001b[0m\u001b[1;33m\u001b[0m\u001b[1;33m\u001b[0m\u001b[0m\n\u001b[0;32m      4\u001b[0m \u001b[1;33m\u001b[0m\u001b[0m\n\u001b[0;32m      5\u001b[0m \u001b[0mdp\u001b[0m\u001b[1;33m=\u001b[0m \u001b[1;33m[\u001b[0m\u001b[1;33m[\u001b[0m\u001b[1;36m10001\u001b[0m\u001b[1;33m,\u001b[0m \u001b[1;36m10001\u001b[0m\u001b[1;33m,\u001b[0m \u001b[1;36m10001\u001b[0m\u001b[1;33m]\u001b[0m \u001b[1;32mfor\u001b[0m \u001b[0mi\u001b[0m \u001b[1;32min\u001b[0m \u001b[0mrange\u001b[0m\u001b[1;33m(\u001b[0m\u001b[0mn\u001b[0m\u001b[1;33m)\u001b[0m\u001b[1;33m]\u001b[0m\u001b[1;33m\u001b[0m\u001b[1;33m\u001b[0m\u001b[0m\n",
      "\u001b[1;31mValueError\u001b[0m: invalid literal for int() with base 10: ''"
     ]
    }
   ],
   "source": [
    "n = int(input())\n",
    "a = [list(map(int, input().split())) for i in range(n)]\n",
    "\n",
    "for i in range(1, n):\n",
    "    a[i][0] = min(a[i][0] + a[i-1][1], a[i][0] + a[i-1][2])\n",
    "    a[i][1] = min(a[i][1] + a[i-1][0], a[i][1] + a[i-1][2])\n",
    "    a[i][2] = min(a[i][2] + a[i-1][0], a[i][2] + a[i-1][1])\n",
    "    \n",
    "print(min(a[-1]))"
   ]
  },
  {
   "cell_type": "markdown",
   "metadata": {},
   "source": [
    "5. 계단 오르기"
   ]
  },
  {
   "cell_type": "code",
   "execution_count": 76,
   "metadata": {},
   "outputs": [
    {
     "name": "stdout",
     "output_type": "stream",
     "text": [
      "6\n",
      "10\n",
      "20\n",
      "15\n",
      "25\n",
      "10\n",
      "20\n",
      "3\n",
      "4\n",
      "5\n",
      "75\n"
     ]
    }
   ],
   "source": [
    "n = int(input())\n",
    "\n",
    "a = [int(input()) for k in range(n)]\n",
    "d = [0 for j in range(n)]\n",
    "if n > 3:\n",
    "    d[0] = a[0]\n",
    "    d[1] = max(a[0]+a[1], a[1])\n",
    "    d[2] = max(a[0]+a[2], a[1]+a[2])\n",
    "\n",
    "    for i in range(3, n):\n",
    "        d[i] = max(d[i-3]+a[i]+a[i-1], a[i] + d[i-2])\n",
    "\n",
    "if n == 3:\n",
    "    print(max(a[0]+a[1], a[0]+ a[2]))\n",
    "elif n == 2:\n",
    "    print(a[0]+a[1])\n",
    "elif n == 1:\n",
    "    print(a[0])\n",
    "else:\n",
    "    print(d[-1])"
   ]
  },
  {
   "cell_type": "markdown",
   "metadata": {},
   "source": [
    "6. 가장 긴 증가하는 수열"
   ]
  },
  {
   "cell_type": "code",
   "execution_count": 36,
   "metadata": {},
   "outputs": [
    {
     "name": "stdout",
     "output_type": "stream",
     "text": [
      "6\n",
      "10 20 10 30 20 50\n",
      "4\n"
     ]
    }
   ],
   "source": [
    "n = int(input())\n",
    "a = list(map(int, input().split()))\n",
    "\n",
    "\n",
    "d = [0] * n\n",
    "for i in range(1, len(a)):\n",
    "    for j in range(0, i):\n",
    "        if a[i] > a[j]:\n",
    "            d[i] = max(d[i], d[j] +1)\n",
    "        \n",
    "print(max(d) + 1)"
   ]
  }
 ],
 "metadata": {
  "kernelspec": {
   "display_name": "Python 3",
   "language": "python",
   "name": "python3"
  },
  "language_info": {
   "codemirror_mode": {
    "name": "ipython",
    "version": 3
   },
   "file_extension": ".py",
   "mimetype": "text/x-python",
   "name": "python",
   "nbconvert_exporter": "python",
   "pygments_lexer": "ipython3",
   "version": "3.8.5"
  }
 },
 "nbformat": 4,
 "nbformat_minor": 4
}
