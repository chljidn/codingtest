{
 "cells": [
  {
   "cell_type": "markdown",
   "metadata": {},
   "source": [
    "1. 거리두기 확인하기"
   ]
  },
  {
   "cell_type": "code",
   "execution_count": null,
   "metadata": {},
   "outputs": [],
   "source": [
    "# 다른 사람 풀이\n",
    "from collections import deque\n",
    "\n",
    "move_x = [1, 0, -1, 0]\n",
    "move_y = [0, -1, 0, 1]\n",
    "\n",
    "def dfs(place, x, y):\n",
    "    visited = [[0 for j in range(5)] for i in range(5)]\n",
    "    queue = deque([x, y, 0])\n",
    "    visited[x][y] = 1\n",
    "    \n",
    "    while queue:\n",
    "        now = queue.popleft()\n",
    "        \n",
    "        if 2 >= now[2] >= 1 and place[now[0]][now[1]] == 'P':\n",
    "            return False\n",
    "        \n",
    "        if now[2] >= 3:\n",
    "            break\n",
    "            \n",
    "        for m in range(4):\n",
    "            nxt = [0,0,0]\n",
    "            nxt[0] = now[0] + move_x[m]\n",
    "            nxt[1] = now[1] + move_y[m]\n",
    "            nxt[2] = now[2] + 1\n",
    "            \n",
    "            if 0 <= nxt[0] < 5 and 0 <= nxt[1] < 5:\n",
    "                if place[nxt[0]][nxt[1]] != 'X' and visited[nxt[0]][nxt[1]] == 0:\n",
    "                    queue.append(nxt)\n",
    "                    visite[nxt[0]][nxt[1]] = 1\n",
    "    return True\n",
    "\n",
    "def solution(places):\n",
    "    answer = []\n",
    "    for place in places:\n",
    "        false_place = True\n",
    "        for x in range(len(place)):\n",
    "            for y in range(len(place[0])):\n",
    "                if place[x][y] == 'P':\n",
    "                    if bfs(place, x, y) == False:\n",
    "                        false_place = False\n",
    "                        break\n",
    "            if false_place == False:\n",
    "                break\n",
    "        if false_place == False:\n",
    "            answer.append(0)\n",
    "        else:\n",
    "            answer.append(1)"
   ]
  }
 ],
 "metadata": {
  "kernelspec": {
   "display_name": "Python 3",
   "language": "python",
   "name": "python3"
  },
  "language_info": {
   "codemirror_mode": {
    "name": "ipython",
    "version": 3
   },
   "file_extension": ".py",
   "mimetype": "text/x-python",
   "name": "python",
   "nbconvert_exporter": "python",
   "pygments_lexer": "ipython3",
   "version": "3.8.5"
  }
 },
 "nbformat": 4,
 "nbformat_minor": 4
}
