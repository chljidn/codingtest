{
 "cells": [
  {
   "cell_type": "markdown",
   "metadata": {},
   "source": [
    "1. 전력망을 둘로 나누기"
   ]
  },
  {
   "cell_type": "code",
   "execution_count": null,
   "metadata": {},
   "outputs": [],
   "source": [
    "# 내가 푼 것\n",
    "# node를 만들 때, 노드를 하나씩 뺀 것에 대해서 dfs를 모두 수행\n",
    "def solution(n, wires):\n",
    "    def dfs(node, start, visited):\n",
    "        global count\n",
    "        count += 1\n",
    "        visited[start] = True\n",
    "        for j in node[start]:\n",
    "            if not visited[j]:\n",
    "                dfs(node, j, visited)\n",
    "    answer= 10001\n",
    "    for i in range(len(wires)):\n",
    "        node = [[] for i in range(n+1)]\n",
    "        for j in range(len(wires)):\n",
    "            if i != j:\n",
    "                node[wires[j][0]].append(wires[j][1])\n",
    "                node[wires[j][1]].append(wires[j][0])\n",
    "        visited = [False for k in range(n+1)]\n",
    "        total_count = []\n",
    "        for k in range(1, len(node)):\n",
    "            global count\n",
    "            count = 0\n",
    "            if not visited[k]:\n",
    "                dfs(node, k, visited)\n",
    "                total_count.append(count)\n",
    "        answer = min(answer, abs(total_count[0] - total_count[1]))\n",
    "    return answer"
   ]
  },
  {
   "cell_type": "code",
   "execution_count": null,
   "metadata": {},
   "outputs": [],
   "source": [
    "# 다른 사람 답안1\n",
    "def solution(n, wires):\n",
    "    ans = n\n",
    "    for sub in (wires[i+1:] + wires[:i] for i in range(len(wires))):\n",
    "        s = set(sub[0])\n",
    "        [s.update(v) for _ in sub for v in sub if set(v) & s]\n",
    "        ans = min(ans, abs(2 * len(s) - n))\n",
    "    return ans"
   ]
  },
  {
   "cell_type": "code",
   "execution_count": null,
   "metadata": {},
   "outputs": [],
   "source": [
    "# 다른 사람 답안2\n",
    "uf = []\n",
    "\n",
    "def find(a):\n",
    "    global uf\n",
    "    if uf[a] < 0: return a\n",
    "    uf[a] = find(uf[a])\n",
    "    return uf[a]\n",
    "\n",
    "def merge(a, b):\n",
    "    global uf\n",
    "    pa = find(a)\n",
    "    pb = find(b)\n",
    "    if pa == pb: return\n",
    "    uf[pa] += uf[pb]\n",
    "    uf[pb] = pa\n",
    "\n",
    "def solution(n, wires):\n",
    "    global uf\n",
    "    answer = int(1e9)\n",
    "    k = len(wires)\n",
    "    for i in range(k):\n",
    "        uf = [-1 for _ in range(n+1)]\n",
    "        tmp = [wires[x] for x in range(k) if x != i]\n",
    "        for a, b in tmp: merge(a, b)\n",
    "        v = [x for x in uf[1:] if x < 0]\n",
    "        answer = min(answer, abs(v[0]-v[1]))\n",
    "\n",
    "    return answer"
   ]
  },
  {
   "cell_type": "code",
   "execution_count": null,
   "metadata": {},
   "outputs": [],
   "source": [
    "# 다른 사람 답안3\n",
    "# 대부분 bfs로 푼 듯??\n",
    "from collections import defaultdict, deque\n",
    "\n",
    "def BFS(n, startNode, arr, check):\n",
    "    cnt = 1\n",
    "    que = deque([startNode])\n",
    "    visited = [True for _ in range(n+1)]\n",
    "    visited[startNode] = False\n",
    "\n",
    "    while que:\n",
    "        node = que.popleft()\n",
    "        for target in arr[node]:\n",
    "            if check[node][target] and check[target][node] and visited[target]:\n",
    "                visited[target] = False\n",
    "                que.append(target)\n",
    "                cnt += 1\n",
    "\n",
    "    return cnt\n",
    "\n",
    "def solution(n, wires):\n",
    "    answer = n\n",
    "    arr = defaultdict(list)\n",
    "    check = [[False for _ in range(n+1)] for _ in range(n+1)]\n",
    "\n",
    "    for wire in wires:\n",
    "        arr[wire[0]].append(wire[1])\n",
    "        arr[wire[1]].append(wire[0])\n",
    "        check[wire[0]][wire[1]] = True\n",
    "        check[wire[1]][wire[0]] = True\n",
    "\n",
    "    for i, wire in enumerate(wires):\n",
    "        a,b = wire\n",
    "        check[a][b] = False\n",
    "        check[b][a] = False\n",
    "        answer = min(answer, abs(BFS(n, a, arr, check) - BFS(n, b, arr, check)))\n",
    "        check[a][b] = True\n",
    "        check[b][a] = True\n",
    "\n",
    "    return answer"
   ]
  },
  {
   "cell_type": "code",
   "execution_count": null,
   "metadata": {},
   "outputs": [],
   "source": [
    "# 다른 사람 풀이4\n",
    "from collections import defaultdict\n",
    "def dfs(start, visit):\n",
    "    global count\n",
    "    visit.append(start)\n",
    "    count += 1\n",
    "    for i in tree[start]:\n",
    "        if i not in visit:\n",
    "            dfs(i, visit)\n",
    "    \n",
    "\n",
    "def solution(n, wires):\n",
    "    global tree, count\n",
    "    result = []\n",
    "    tree = defaultdict(list)\n",
    "    for a, b in wires:\n",
    "        tree[a].append(b)\n",
    "        tree[b].append(a)\n",
    "    \n",
    "    for a, b in wires:\n",
    "        tree[a].remove(b)\n",
    "        tree[b].remove(a) \n",
    "        count = 0\n",
    "        dfs(1, [])\n",
    "        result.append(abs(n - (count * 2)))\n",
    "        tree[a].append(b)\n",
    "        tree[b].append(a)\n",
    "        \n",
    "    return min(result)\n",
    "\n"
   ]
  },
  {
   "cell_type": "markdown",
   "metadata": {},
   "source": [
    "2. 12주차"
   ]
  },
  {
   "cell_type": "code",
   "execution_count": null,
   "metadata": {},
   "outputs": [],
   "source": [
    "# 내가 푼 답안\n",
    "from itertools import permutations\n",
    "def solution(k, dungeons):\n",
    "\n",
    "    per = list(permutations(dungeons, len(dungeons)))\n",
    "    answer = 0\n",
    "    for i in per:\n",
    "        count = 0\n",
    "        a = k\n",
    "        for j in i:\n",
    "            if a >= j[0]:\n",
    "                count += 1\n",
    "                a -= j[1]\n",
    "        answer= max(answer, count)\n",
    "    return answer"
   ]
  },
  {
   "cell_type": "markdown",
   "metadata": {},
   "source": [
    "3. 5주차 모음사전"
   ]
  },
  {
   "cell_type": "code",
   "execution_count": 16,
   "metadata": {},
   "outputs": [],
   "source": [
    "from itertools import product\n",
    "def solution(word):\n",
    "    a = ['A', 'E', 'I', 'O', 'U']\n",
    "    b = []\n",
    "    for i in range(1, len(a)+1):\n",
    "        b.extend(list(map(''.join, product(a, repeat=i))))\n",
    "    b.sort()\n",
    "    return b.index(word) + 1"
   ]
  }
 ],
 "metadata": {
  "kernelspec": {
   "display_name": "Python 3",
   "language": "python",
   "name": "python3"
  },
  "language_info": {
   "codemirror_mode": {
    "name": "ipython",
    "version": 3
   },
   "file_extension": ".py",
   "mimetype": "text/x-python",
   "name": "python",
   "nbconvert_exporter": "python",
   "pygments_lexer": "ipython3",
   "version": "3.8.5"
  }
 },
 "nbformat": 4,
 "nbformat_minor": 4
}
