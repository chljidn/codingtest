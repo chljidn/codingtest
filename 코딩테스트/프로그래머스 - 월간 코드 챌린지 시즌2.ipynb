{
 "cells": [
  {
   "cell_type": "markdown",
   "metadata": {},
   "source": [
    "1. 괄호 회전하기\n",
    "\n",
    " - 스택"
   ]
  },
  {
   "cell_type": "code",
   "execution_count": null,
   "metadata": {},
   "outputs": [],
   "source": [
    "def solution(a):\n",
    "    a = list(a)\n",
    "    b = '[{('\n",
    "    count = 0\n",
    "    for i in range(len(a)):\n",
    "        stack = []\n",
    "        for j in a:\n",
    "            if j in b:\n",
    "                stack.append(j)\n",
    "            else:\n",
    "                if stack != [] and ord(stack[-1]) - ord(j) <= 2:\n",
    "                    stack.pop()\n",
    "                else:\n",
    "                    stack.append(j)\n",
    "                    break\n",
    "\n",
    "        if stack == []:\n",
    "            count += 1\n",
    "        a.append(a.pop(0))\n",
    "    return count"
   ]
  },
  {
   "cell_type": "markdown",
   "metadata": {},
   "source": [
    "2. 2개 이하로 다른 비트\n",
    "\n",
    " 못 풀었음 - 2개 시간 초과"
   ]
  },
  {
   "cell_type": "code",
   "execution_count": null,
   "metadata": {},
   "outputs": [],
   "source": [
    "# 다른 사람 답안\n",
    "\n",
    "numbers = [1,2,3,4,5,6,7,8,9,10,11,12,13,14,15,16,17,18,19,20,21,22,23,24,25]\n",
    "answer = []\n",
    "for k in numbers:\n",
    "    if k % 2 == 0:\n",
    "        answer.append(k+1)\n",
    "    else:\n",
    "        a = '0'+bin(k)[2:]\n",
    "        b = list(a)\n",
    "        idx = a.rfind('0')\n",
    "        b[idx] = '1'\n",
    "        b[idx+1] = '0'\n",
    "        answer.append(int(''.join(b), 2))\n",
    "answer"
   ]
  },
  {
   "cell_type": "code",
   "execution_count": 28,
   "metadata": {},
   "outputs": [],
   "source": [
    "a = bin(8)[2:]\n",
    "lbs_0 = int('0b0111', 2) & int('1001', 2)\n",
    "b = list(a)\n",
    "b[lbs_0] = '1'\n"
   ]
  }
 ],
 "metadata": {
  "kernelspec": {
   "display_name": "Python 3",
   "language": "python",
   "name": "python3"
  },
  "language_info": {
   "codemirror_mode": {
    "name": "ipython",
    "version": 3
   },
   "file_extension": ".py",
   "mimetype": "text/x-python",
   "name": "python",
   "nbconvert_exporter": "python",
   "pygments_lexer": "ipython3",
   "version": "3.8.5"
  }
 },
 "nbformat": 4,
 "nbformat_minor": 4
}
