{
 "cells": [
  {
   "cell_type": "markdown",
   "metadata": {},
   "source": [
    "1. 2^배열 자르기"
   ]
  },
  {
   "cell_type": "code",
   "execution_count": null,
   "metadata": {},
   "outputs": [],
   "source": [
    "# 내가 푼 답안\n",
    "def solution(n, left, right):\n",
    "    a = left//n\n",
    "    b = right//n\n",
    "    c = []\n",
    "    for k in range(a, b+1):\n",
    "        c.extend([k+1 if i < k+1 else i for i in range(1, n+1)])\n",
    "    return c[left%n:(left%n)+(right-left)+1]"
   ]
  },
  {
   "cell_type": "code",
   "execution_count": null,
   "metadata": {},
   "outputs": [],
   "source": [
    "# 다른 사람 답안\n",
    "def solution(n, left, right):\n",
    "    answer = []\n",
    "    for i in range(left,right+1):\n",
    "        answer.append(max(i//n,i%n)+1)\n",
    "    return answer"
   ]
  }
 ],
 "metadata": {
  "kernelspec": {
   "display_name": "Python 3",
   "language": "python",
   "name": "python3"
  },
  "language_info": {
   "codemirror_mode": {
    "name": "ipython",
    "version": 3
   },
   "file_extension": ".py",
   "mimetype": "text/x-python",
   "name": "python",
   "nbconvert_exporter": "python",
   "pygments_lexer": "ipython3",
   "version": "3.8.5"
  }
 },
 "nbformat": 4,
 "nbformat_minor": 4
}
