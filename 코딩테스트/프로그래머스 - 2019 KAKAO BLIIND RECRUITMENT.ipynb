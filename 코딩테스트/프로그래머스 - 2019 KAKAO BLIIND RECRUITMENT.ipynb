{
 "cells": [
  {
   "cell_type": "markdown",
   "metadata": {},
   "source": [
    "오픈 채팅방"
   ]
  },
  {
   "cell_type": "code",
   "execution_count": null,
   "metadata": {},
   "outputs": [],
   "source": [
    "def solution(record):\n",
    "    a = {}\n",
    "    for i in record:\n",
    "        b = i.split()\n",
    "        if b[0] == 'Enter' or b[0] == 'Change':\n",
    "            a[b[1]] = b[2]\n",
    "\n",
    "    answer = []\n",
    "    for j in record:\n",
    "        b = j.split()\n",
    "        if b[0] == 'Enter':\n",
    "            answer.append(f'{a[b[1]]}님이 들어왔습니다')\n",
    "        elif b[0] == 'Leave':\n",
    "            answer.append(f'{a[b[1]]}님이 나갔습니다')\n",
    "    return answer"
   ]
  },
  {
   "cell_type": "code",
   "execution_count": 61,
   "metadata": {},
   "outputs": [
    {
     "data": {
      "text/plain": [
       "'14'"
      ]
     },
     "execution_count": 61,
     "metadata": {},
     "output_type": "execute_result"
    }
   ],
   "source": [
    "def solution(k):\n",
    "    def a(n):\n",
    "        num = ''\n",
    "        while n > 3:\n",
    "            num += str(n%3)\n",
    "            n = n//3\n",
    "        num = ''.join(list(reversed(num)))\n",
    "        num = str(n)+num\n",
    "        if '3' in num:\n",
    "            num = num.replace('3', '4')\n",
    "        return num\n",
    "\n",
    "    if k%3 == 0:\n",
    "        answer = a(k-1)\n",
    "        answer = list(reversed(answer))\n",
    "        answer[answer.index('2')] = '4'\n",
    "        answer = ''.join(list(reversed(answer)))\n",
    "\n",
    "    else:\n",
    "        answer = a(k)\n",
    "        \n",
    "    return answer\n",
    "\n",
    "solution(6)"
   ]
  },
  {
   "cell_type": "code",
   "execution_count": 68,
   "metadata": {},
   "outputs": [
    {
     "data": {
      "text/plain": [
       "'114'"
      ]
     },
     "execution_count": 68,
     "metadata": {},
     "output_type": "execute_result"
    }
   ],
   "source": [
    "def solution(n):\n",
    "    numbers = ['4', '1', '2']\n",
    "    answer = ''\n",
    "    while n:\n",
    "        answer = numbers[n % 3] + answer\n",
    "        n = n // 3 - (n % 3 == 0)\n",
    "    return answer\n",
    "solution(15)"
   ]
  }
 ],
 "metadata": {
  "kernelspec": {
   "display_name": "Python 3",
   "language": "python",
   "name": "python3"
  },
  "language_info": {
   "codemirror_mode": {
    "name": "ipython",
    "version": 3
   },
   "file_extension": ".py",
   "mimetype": "text/x-python",
   "name": "python",
   "nbconvert_exporter": "python",
   "pygments_lexer": "ipython3",
   "version": "3.8.5"
  }
 },
 "nbformat": 4,
 "nbformat_minor": 4
}
