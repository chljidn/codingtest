{
 "cells": [
  {
   "cell_type": "code",
   "execution_count": 25,
   "metadata": {},
   "outputs": [
    {
     "name": "stdout",
     "output_type": "stream",
     "text": [
      "[1, 1, 1, 1, 2, 4]\n"
     ]
    }
   ],
   "source": [
    "from bisect import bisect_left\n",
    "from itertools import combinatinos\n",
    "\n",
    "def make_all_case(temp):\n",
    "    cases = []\n",
    "    for k in range(5):\n",
    "        for li in combinations([0,1,2,3], k):\n",
    "            case = ''\n",
    "            for idx in range(4):\n",
    "                if idx not in li:\n",
    "                    case += temp[idx]\n",
    "                else:\n",
    "                    case += '-'\n",
    "            cases.append(case)\n",
    "    return cases\n",
    "\n",
    "def solution(info, query):\n",
    "    answer = []\n",
    "    all_people = {}\n",
    "    for i in info:\n",
    "        seperate_info = i.split()\n",
    "        cases = make_all_cases(i.split())"
   ]
  },
  {
   "cell_type": "code",
   "execution_count": 24,
   "metadata": {},
   "outputs": [
    {
     "name": "stdout",
     "output_type": "stream",
     "text": [
      "['javabackendjuniorpizza', '-backendjuniorpizza', 'java-juniorpizza', 'javabackend-pizza', 'javabackendjunior-', '--juniorpizza', '-backend-pizza', '-backendjunior-', 'java--pizza', 'java-junior-', 'javabackend--', '---pizza', '--junior-', '-backend--', 'java---', '----']\n",
      "['pythonfrontendseniorchicken', '-frontendseniorchicken', 'python-seniorchicken', 'pythonfrontend-chicken', 'pythonfrontendsenior-', '--seniorchicken', '-frontend-chicken', '-frontendsenior-', 'python--chicken', 'python-senior-', 'pythonfrontend--', '---chicken', '--senior-', '-frontend--', 'python---', '----']\n",
      "['pythonfrontendseniorchicken', '-frontendseniorchicken', 'python-seniorchicken', 'pythonfrontend-chicken', 'pythonfrontendsenior-', '--seniorchicken', '-frontend-chicken', '-frontendsenior-', 'python--chicken', 'python-senior-', 'pythonfrontend--', '---chicken', '--senior-', '-frontend--', 'python---', '----']\n",
      "['cppbackendseniorpizza', '-backendseniorpizza', 'cpp-seniorpizza', 'cppbackend-pizza', 'cppbackendsenior-', '--seniorpizza', '-backend-pizza', '-backendsenior-', 'cpp--pizza', 'cpp-senior-', 'cppbackend--', '---pizza', '--senior-', '-backend--', 'cpp---', '----']\n",
      "['javabackendjuniorchicken', '-backendjuniorchicken', 'java-juniorchicken', 'javabackend-chicken', 'javabackendjunior-', '--juniorchicken', '-backend-chicken', '-backendjunior-', 'java--chicken', 'java-junior-', 'javabackend--', '---chicken', '--junior-', '-backend--', 'java---', '----']\n",
      "['pythonbackendseniorchicken', '-backendseniorchicken', 'python-seniorchicken', 'pythonbackend-chicken', 'pythonbackendsenior-', '--seniorchicken', '-backend-chicken', '-backendsenior-', 'python--chicken', 'python-senior-', 'pythonbackend--', '---chicken', '--senior-', '-backend--', 'python---', '----']\n"
     ]
    }
   ],
   "source": [
    "info = [\"java backend junior pizza 150\",\n",
    "        \"python frontend senior chicken 210\",\n",
    "        \"python frontend senior chicken 150\",\n",
    "        \"cpp backend senior pizza 260\",\n",
    "        \"java backend junior chicken 80\",\n",
    "        \"python backend senior chicken 50\"]\n",
    "for i in info:\n",
    "    print(make_all_cases(i.split()))"
   ]
  },
  {
   "cell_type": "code",
   "execution_count": 54,
   "metadata": {},
   "outputs": [
    {
     "data": {
      "text/plain": [
       "array([[1, 2, 3, 4],\n",
       "       [0, 1, 2, 3],\n",
       "       [1, 2, 3, 4],\n",
       "       [2, 3, 4, 5]])"
      ]
     },
     "execution_count": 54,
     "metadata": {},
     "output_type": "execute_result"
    }
   ],
   "source": [
    "import sys, copy\n",
    "from itertools import permutations\n",
    "from collections import deque\n",
    "\n",
    "board = [[1,0,0,3],[2,0,0,0],[0,0,0,2],[3,0,1,0]]\n",
    "count = [[0 for i in range(len(board[0]))] for j in range(len(board))]\n",
    "\n",
    "# 그 지점에서 다른 경로로 가는 함수\n",
    "def bfs(board, count, start):\n",
    "    start_x, start_y = start\n",
    "    visited = [[False for i in range(len(board[0]))] for j in range(len(board))] # 방문 매트릭스\n",
    "    visited[start_x][start_y] = True # 시작점은 방문 True\n",
    "    q = deque([[start_x, start_y]]) # 큐에 시작점 넣기\n",
    "    \n",
    "    coordinate = [[1,0],[0,1],[-1,0],[0,-1]]\n",
    "\n",
    "    while q:\n",
    "        x, y = q.popleft()\n",
    "\n",
    "        if x == len(board)-1 and y ==len(board[0])-1:\n",
    "            break\n",
    "\n",
    "        for i in coordinate:\n",
    "            if x+i[0] >= len(board) or x+i[0] < 0 or y+i[1] >= len(board[0]) or y+i[1] < 0:\n",
    "                continue\n",
    "            if not visited[x+i[0]][y+i[1]]:\n",
    "                count[x+i[0]][y+i[1]] += count[x][y]+1\n",
    "                q.append([x+i[0], y+i[1]])\n",
    "                visited[x+i[0]][y+i[1]] = True\n",
    "    return count\n",
    "\n",
    "np.array(bfs(board, count, [1,0]))"
   ]
  },
  {
   "cell_type": "code",
   "execution_count": 33,
   "metadata": {},
   "outputs": [
    {
     "data": {
      "text/plain": [
       "0"
      ]
     },
     "execution_count": 33,
     "metadata": {},
     "output_type": "execute_result"
    }
   ],
   "source": [
    "import sys, copy\n",
    "\n",
    "from itertools import permutations\n",
    "import collections import deque\n",
    "\n",
    "def ctrl_move(x, y, d):\n",
    "    global board_c\n",
    "    while True:\n",
    "        nx = x+d[0]\n",
    "        ny = y+d[1]\n",
    "        if nx < 0 or nx>= 4 or ny < 0 or ny >= 4:\n",
    "            return x, y\n",
    "        else:\n",
    "            if board_c[nx][ny] != 0:\n",
    "                return nx, ny\n",
    "            x, y = nx, ny\n",
    "            \n",
    "def dfs(sx, sy, ex, ey):\n",
    "    global board_c\n",
    "    \n",
    "    dic = {0: [-1,0], 1:[0,1], 2:[1,0], 3:[0, -1]}\n",
    "    \n",
    "    if sx == ex and sy == ey:\n",
    "        return 1\n",
    "    \n",
    "    q = deque([[sx, sy]])"
   ]
  }
 ],
 "metadata": {
  "kernelspec": {
   "display_name": "Python 3",
   "language": "python",
   "name": "python3"
  },
  "language_info": {
   "codemirror_mode": {
    "name": "ipython",
    "version": 3
   },
   "file_extension": ".py",
   "mimetype": "text/x-python",
   "name": "python",
   "nbconvert_exporter": "python",
   "pygments_lexer": "ipython3",
   "version": "3.8.5"
  }
 },
 "nbformat": 4,
 "nbformat_minor": 4
}
