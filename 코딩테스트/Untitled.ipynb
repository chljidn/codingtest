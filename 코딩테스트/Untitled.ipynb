{
 "cells": [
  {
   "cell_type": "code",
   "execution_count": 285,
   "metadata": {},
   "outputs": [
    {
     "data": {
      "text/plain": [
       "46811.42857142857"
      ]
     },
     "execution_count": 285,
     "metadata": {},
     "output_type": "execute_result"
    }
   ],
   "source": [
    "a = ''.join(list(filter(str.isalpha, 'FRENCE+'))).upper()\n",
    "b = ''.join(list(filter(str.isalpha, 'french'))).upper()\n",
    "\n",
    "def jaccard_similarity(doc1, doc2):\n",
    "    doc1 = set(doc1.upper())\n",
    "    doc2 = set(doc2.upper())\n",
    "    return len(doc1 & doc2) / len(doc1 | doc2)\n",
    "\n",
    "c = jaccard_similarity(a, b)"
   ]
  },
  {
   "cell_type": "code",
   "execution_count": 480,
   "metadata": {},
   "outputs": [
    {
     "data": {
      "text/plain": [
       "16384"
      ]
     },
     "execution_count": 480,
     "metadata": {},
     "output_type": "execute_result"
    }
   ],
   "source": [
    "def solution(str1, str2):\n",
    "    a = [(str1[i-1]+str1[i]).upper() for i in range(1, len(str1)) if (str1[i-1]+str1[i]).isalpha()]\n",
    "    b = [(str2[i-1]+str2[i]).upper() for i in range(1, len(str2)) if (str2[i-1]+str2[i]).isalpha()]\n",
    "    c = list(set(a) & set(b))\n",
    "\n",
    "    inter = []\n",
    "    summ = list(set(a+b))\n",
    "\n",
    "    for i in c:\n",
    "        inter.extend(min(a.count(i), b.count(i)) * [i])\n",
    "        summ.extend((max(a.count(i), b.count(i))-1) * [i])\n",
    "    \n",
    "    if summ == [] and inter == []:\n",
    "        return 65536\n",
    "    answer= int((len(inter)/len(summ)) * 65536)\n",
    "    \n",
    "    return answer\n",
    "\n",
    "solution('FRANCE', 'french')"
   ]
  },
  {
   "cell_type": "code",
   "execution_count": 481,
   "metadata": {},
   "outputs": [
    {
     "name": "stdout",
     "output_type": "stream",
     "text": [
      "[]\n",
      "[]\n"
     ]
    },
    {
     "ename": "ZeroDivisionError",
     "evalue": "division by zero",
     "output_type": "error",
     "traceback": [
      "\u001b[1;31m---------------------------------------------------------------------------\u001b[0m",
      "\u001b[1;31mZeroDivisionError\u001b[0m                         Traceback (most recent call last)",
      "\u001b[1;32m<ipython-input-481-5922d85970b3>\u001b[0m in \u001b[0;36m<module>\u001b[1;34m\u001b[0m\n\u001b[0;32m     13\u001b[0m \u001b[0mprint\u001b[0m\u001b[1;33m(\u001b[0m\u001b[0msorted\u001b[0m\u001b[1;33m(\u001b[0m\u001b[0msumm\u001b[0m\u001b[1;33m)\u001b[0m\u001b[1;33m)\u001b[0m\u001b[1;33m\u001b[0m\u001b[1;33m\u001b[0m\u001b[0m\n\u001b[0;32m     14\u001b[0m \u001b[0mprint\u001b[0m\u001b[1;33m(\u001b[0m\u001b[0msorted\u001b[0m\u001b[1;33m(\u001b[0m\u001b[0minter\u001b[0m\u001b[1;33m)\u001b[0m\u001b[1;33m)\u001b[0m\u001b[1;33m\u001b[0m\u001b[1;33m\u001b[0m\u001b[0m\n\u001b[1;32m---> 15\u001b[1;33m \u001b[0mint\u001b[0m\u001b[1;33m(\u001b[0m\u001b[1;33m(\u001b[0m\u001b[0mlen\u001b[0m\u001b[1;33m(\u001b[0m\u001b[0minter\u001b[0m\u001b[1;33m)\u001b[0m\u001b[1;33m/\u001b[0m\u001b[0mlen\u001b[0m\u001b[1;33m(\u001b[0m\u001b[0msumm\u001b[0m\u001b[1;33m)\u001b[0m\u001b[1;33m)\u001b[0m \u001b[1;33m*\u001b[0m \u001b[1;36m65536\u001b[0m\u001b[1;33m)\u001b[0m\u001b[1;33m\u001b[0m\u001b[1;33m\u001b[0m\u001b[0m\n\u001b[0m",
      "\u001b[1;31mZeroDivisionError\u001b[0m: division by zero"
     ]
    }
   ],
   "source": [
    "str1 = 'E=M*C^2'\n",
    "str2 = 'e=m*c^2'\n",
    "a = [str1[i-1]+str1[i] for i in range(1, len(str1)) if (str1[i-1]+str1[i]).isalpha()]\n",
    "b = [str2[i-1]+str2[i] for i in range(1, len(str2)) if (str2[i-1]+str2[i]).isalpha()]\n",
    "c = list(set(a) & set(b))\n",
    "\n",
    "inter = []\n",
    "summ = list(set(a+b))\n",
    "for i in c:\n",
    "    inter.extend(min(a.count(i), b.count(i)) * [i])\n",
    "    summ.extend((max(a.count(i), b.count(i))-1) * [i])\n",
    "\n",
    "print(sorted(summ))\n",
    "print(sorted(inter)\n",
    "int((len(inter)/len(summ)) * 65536)"
   ]
  },
  {
   "cell_type": "code",
   "execution_count": 471,
   "metadata": {},
   "outputs": [
    {
     "name": "stdout",
     "output_type": "stream",
     "text": [
      "['AK', 'AN', 'DS', 'HA', 'HA', 'KE', 'ND', 'SH']\n",
      "['AK', 'AN', 'DS', 'EH', 'HA', 'HA', 'KE', 'ND', 'SH']\n",
      "\n",
      "['AK', 'AN', 'DS', 'HA', 'HA', 'KE', 'ND', 'SH']\n",
      "['AK', 'AN', 'DS', 'EH', 'HA', 'HA', 'KE', 'ND', 'SH']\n"
     ]
    }
   ],
   "source": [
    "print(sorted(a))\n",
    "print(sorted(b))\n",
    "print('')\n",
    "print(sorted(inter))\n",
    "print(sorted(summ))\n",
    "\n"
   ]
  },
  {
   "cell_type": "code",
   "execution_count": 530,
   "metadata": {},
   "outputs": [],
   "source": [
    "places= [[\"POOOP\", \"OXXOX\", \"OPXPX\", \"OOXOX\", \"POXXP\"], \n",
    "         [\"POOPX\", \"OXPXP\", \"PXXXO\", \"OXXXO\", \"OOOPP\"], \n",
    "         [\"PXOPX\", \"OXOXP\", \"OXPOX\", \"OXXOP\", \"PXPOX\"],\n",
    "         [\"OOOXX\", \"XOOOX\", \"OOOXX\", \"OXOOX\", \"OOOOO\"], \n",
    "         [\"PXPXP\", \"XPXPX\", \"PXPXP\", \"XPXPX\", \"PXPXP\"]]"
   ]
  },
  {
   "cell_type": "code",
   "execution_count": 556,
   "metadata": {},
   "outputs": [
    {
     "data": {
      "text/plain": [
       "[1, 0, 1, 1, 1]"
      ]
     },
     "execution_count": 556,
     "metadata": {},
     "output_type": "execute_result"
    }
   ],
   "source": [
    "answer = []\n",
    "for k in places:\n",
    "    a = [list(i) for i in k]\n",
    "    p = []\n",
    "    for i in range(len(a)):\n",
    "        for j in range(len(a[i])):\n",
    "            if a[i][j] == 'P':\n",
    "                p.append((i, j))\n",
    "    p = list(combinations(p, 2))\n",
    "    for i in p:\n",
    "        sx = i[0][0]\n",
    "        sy = i[0][1]\n",
    "        x = i[1][0]\n",
    "        y = i[1][1]\n",
    "        tf = 1\n",
    "        if abs(sx-x) + abs(sy-y) <= 2:\n",
    "            tf = 0\n",
    "            for j in range(sx, x+1):\n",
    "                if a[j][y] == 'X' or a[j][sy] == 'X':\n",
    "                    tf = 1\n",
    "\n",
    "            for j in range(sy, y+1):\n",
    "                if a[sx][j] == 'X' or a[x][j] == 'X':\n",
    "                    tf = 1\n",
    "        if tf == 0:\n",
    "            break\n",
    "    answer.append(tf)"
   ]
  },
  {
   "cell_type": "code",
   "execution_count": 524,
   "metadata": {},
   "outputs": [
    {
     "data": {
      "text/plain": [
       "[((0, 0), (0, 4)),\n",
       " ((0, 0), (2, 1)),\n",
       " ((0, 0), (2, 3)),\n",
       " ((0, 0), (4, 0)),\n",
       " ((0, 0), (4, 4)),\n",
       " ((0, 4), (2, 1)),\n",
       " ((0, 4), (2, 3)),\n",
       " ((0, 4), (4, 0)),\n",
       " ((0, 4), (4, 4)),\n",
       " ((2, 1), (2, 3)),\n",
       " ((2, 1), (4, 0)),\n",
       " ((2, 1), (4, 4)),\n",
       " ((2, 3), (4, 0)),\n",
       " ((2, 3), (4, 4)),\n",
       " ((4, 0), (4, 4))]"
      ]
     },
     "execution_count": 524,
     "metadata": {},
     "output_type": "execute_result"
    }
   ],
   "source": [
    "p"
   ]
  },
  {
   "cell_type": "code",
   "execution_count": 550,
   "metadata": {},
   "outputs": [
    {
     "name": "stdout",
     "output_type": "stream",
     "text": [
      "[((0, 0), (0, 3)), ((0, 0), (1, 2)), ((0, 0), (1, 4)), ((0, 0), (2, 0)), ((0, 0), (4, 3)), ((0, 0), (4, 4)), ((0, 3), (1, 2)), ((0, 3), (1, 4)), ((0, 3), (2, 0)), ((0, 3), (4, 3)), ((0, 3), (4, 4)), ((1, 2), (1, 4)), ((1, 2), (2, 0)), ((1, 2), (4, 3)), ((1, 2), (4, 4)), ((1, 4), (2, 0)), ((1, 4), (4, 3)), ((1, 4), (4, 4)), ((2, 0), (4, 3)), ((2, 0), (4, 4)), ((4, 3), (4, 4))]\n",
      "0 0 2 0\n",
      "P P\n",
      "0\n"
     ]
    }
   ],
   "source": [
    "a = [list(i) for i in places[1]]\n",
    "p = []\n",
    "for i in range(len(a)):\n",
    "    for j in range(len(a[i])):\n",
    "        if a[i][j] == 'P':\n",
    "            p.append((i, j))\n",
    "p = list(combinations(p, 2))\n",
    "print(p)\n",
    "for i in p:\n",
    "    sx = i[0][0]\n",
    "    sy = i[0][1]\n",
    "    x = i[1][0]\n",
    "    y = i[1][1]\n",
    "    tf = 1\n",
    "    if abs(sx-x) + abs(sy-y) <= 2:\n",
    "        print(sx, sy, x, y)\n",
    "        tf = 0\n",
    "        for j in range(sx, x+1):\n",
    "            if a[j][y] == 'X' or a[j][sy] == 'X':\n",
    "                tf = 1\n",
    "\n",
    "        for j in range(sy, y+1):\n",
    "            print(a[sx][j], a[x][j])\n",
    "            if a[sx][j] == 'X' or a[x][j] == 'X':\n",
    "                tf = 1\n",
    "    if tf == 0:\n",
    "        break\n",
    "print(tf)\n"
   ]
  },
  {
   "cell_type": "code",
   "execution_count": 552,
   "metadata": {},
   "outputs": [
    {
     "data": {
      "text/plain": [
       "[['P', 'O', 'O', 'P', 'X'],\n",
       " ['O', 'X', 'P', 'X', 'P'],\n",
       " ['P', 'X', 'X', 'X', 'O'],\n",
       " ['O', 'X', 'X', 'X', 'O'],\n",
       " ['O', 'O', 'O', 'P', 'P']]"
      ]
     },
     "execution_count": 552,
     "metadata": {},
     "output_type": "execute_result"
    }
   ],
   "source": [
    "a"
   ]
  },
  {
   "cell_type": "code",
   "execution_count": 553,
   "metadata": {},
   "outputs": [
    {
     "data": {
      "text/plain": [
       "1"
      ]
     },
     "execution_count": 553,
     "metadata": {},
     "output_type": "execute_result"
    }
   ],
   "source": [
    "from itertools import combinations\n",
    "def solution(places):\n",
    "    answer = []\n",
    "    for k in places:\n",
    "        a = [list(i) for i in k]\n",
    "        p = []\n",
    "        for i in range(len(a)):\n",
    "            for j in range(len(a[i])):\n",
    "                if a[i][j] == 'P':\n",
    "                    p.append((i, j))\n",
    "        p = list(combinations(p, 2))\n",
    "        for i in p:\n",
    "            sx, sy = i[0][0], i[0][1]\n",
    "            x, y = i[1][0], i[1][1]\n",
    "            tf = 1\n",
    "            if abs(sx-x) + abs(sy-y) <= 2:\n",
    "                tf = 0\n",
    "                for j in range(sx, x+1):\n",
    "                    if a[j][y] == 'X' or a[j][sy] == 'X':\n",
    "                        tf = 1\n",
    "\n",
    "                for j in range(sy, y+1):\n",
    "                    if a[sx][j] == 'X' or a[x][j] == 'X':\n",
    "                        tf = 1\n",
    "            if tf == 0:\n",
    "                break\n",
    "        answer.append(tf)\n",
    "    return answer"
   ]
  },
  {
   "cell_type": "code",
   "execution_count": 557,
   "metadata": {},
   "outputs": [
    {
     "name": "stdout",
     "output_type": "stream",
     "text": [
      "[((0, 0), (0, 3)), ((0, 0), (1, 2)), ((0, 0), (1, 4)), ((0, 0), (2, 0)), ((0, 0), (4, 3)), ((0, 0), (4, 4)), ((0, 3), (1, 2)), ((0, 3), (1, 4)), ((0, 3), (2, 0)), ((0, 3), (4, 3)), ((0, 3), (4, 4)), ((1, 2), (1, 4)), ((1, 2), (2, 0)), ((1, 2), (4, 3)), ((1, 2), (4, 4)), ((1, 4), (2, 0)), ((1, 4), (4, 3)), ((1, 4), (4, 4)), ((2, 0), (4, 3)), ((2, 0), (4, 4)), ((4, 3), (4, 4))]\n",
      "0 0 2 0\n",
      "0 3 1 2\n",
      "0\n"
     ]
    }
   ],
   "source": [
    "a = [list(i) for i in places[1]]\n",
    "p = []\n",
    "for i in range(len(a)):\n",
    "    for j in range(len(a[i])):\n",
    "        if a[i][j] == 'P':\n",
    "            p.append((i, j))\n",
    "p = list(combinations(p, 2))\n",
    "print(p)\n",
    "for i in p:\n",
    "    sx = i[0][0]\n",
    "    sy = i[0][1]\n",
    "    x = i[1][0]\n",
    "    y = i[1][1]\n",
    "    tf = 1\n",
    "    if abs(sx-x) + abs(sy-y) <= 2:\n",
    "        print(sx, sy, x, y)\n",
    "        tf = 0\n",
    "        if x-sx == 2:\n",
    "            if a[sx+1][y] == 'X' or a[sx+2][y] == 'X':\n",
    "                tf = 1\n",
    "            if a[x][sy+1] == 'X' or a[x][sy+2] == 'X':\n",
    "                tf = 1\n",
    "            if a[sx+1][sy] == 'X' or a[x+1][sy] == 'X':\n",
    "                tf = 1\n",
    "        \n",
    "    if tf == 0:\n",
    "        break\n",
    "print(tf)\n"
   ]
  },
  {
   "cell_type": "code",
   "execution_count": 572,
   "metadata": {},
   "outputs": [
    {
     "name": "stdout",
     "output_type": "stream",
     "text": [
      "[((0, 0), (0, 4)), ((0, 0), (2, 1)), ((0, 0), (2, 3)), ((0, 0), (4, 0)), ((0, 0), (4, 4)), ((0, 4), (2, 1)), ((0, 4), (2, 3)), ((0, 4), (4, 0)), ((0, 4), (4, 4)), ((2, 1), (2, 3)), ((2, 1), (4, 0)), ((2, 1), (4, 4)), ((2, 3), (4, 0)), ((2, 3), (4, 4)), ((4, 0), (4, 4))]\n",
      "[((0, 0), (0, 3)), ((0, 0), (1, 2)), ((0, 0), (1, 4)), ((0, 0), (2, 0)), ((0, 0), (4, 3)), ((0, 0), (4, 4)), ((0, 3), (1, 2)), ((0, 3), (1, 4)), ((0, 3), (2, 0)), ((0, 3), (4, 3)), ((0, 3), (4, 4)), ((1, 2), (1, 4)), ((1, 2), (2, 0)), ((1, 2), (4, 3)), ((1, 2), (4, 4)), ((1, 4), (2, 0)), ((1, 4), (4, 3)), ((1, 4), (4, 4)), ((2, 0), (4, 3)), ((2, 0), (4, 4)), ((4, 3), (4, 4))]\n",
      "[((0, 0), (0, 3)), ((0, 0), (1, 4)), ((0, 0), (2, 2)), ((0, 0), (3, 4)), ((0, 0), (4, 0)), ((0, 0), (4, 2)), ((0, 3), (1, 4)), ((0, 3), (2, 2)), ((0, 3), (3, 4)), ((0, 3), (4, 0)), ((0, 3), (4, 2)), ((1, 4), (2, 2)), ((1, 4), (3, 4)), ((1, 4), (4, 0)), ((1, 4), (4, 2)), ((2, 2), (3, 4)), ((2, 2), (4, 0)), ((2, 2), (4, 2)), ((3, 4), (4, 0)), ((3, 4), (4, 2)), ((4, 0), (4, 2))]\n",
      "1 4\n",
      "[]\n",
      "[((0, 0), (0, 2)), ((0, 0), (0, 4)), ((0, 0), (1, 1)), ((0, 0), (1, 3)), ((0, 0), (2, 0)), ((0, 0), (2, 2)), ((0, 0), (2, 4)), ((0, 0), (3, 1)), ((0, 0), (3, 3)), ((0, 0), (4, 0)), ((0, 0), (4, 2)), ((0, 0), (4, 4)), ((0, 2), (0, 4)), ((0, 2), (1, 1)), ((0, 2), (1, 3)), ((0, 2), (2, 0)), ((0, 2), (2, 2)), ((0, 2), (2, 4)), ((0, 2), (3, 1)), ((0, 2), (3, 3)), ((0, 2), (4, 0)), ((0, 2), (4, 2)), ((0, 2), (4, 4)), ((0, 4), (1, 1)), ((0, 4), (1, 3)), ((0, 4), (2, 0)), ((0, 4), (2, 2)), ((0, 4), (2, 4)), ((0, 4), (3, 1)), ((0, 4), (3, 3)), ((0, 4), (4, 0)), ((0, 4), (4, 2)), ((0, 4), (4, 4)), ((1, 1), (1, 3)), ((1, 1), (2, 0)), ((1, 1), (2, 2)), ((1, 1), (2, 4)), ((1, 1), (3, 1)), ((1, 1), (3, 3)), ((1, 1), (4, 0)), ((1, 1), (4, 2)), ((1, 1), (4, 4)), ((1, 3), (2, 0)), ((1, 3), (2, 2)), ((1, 3), (2, 4)), ((1, 3), (3, 1)), ((1, 3), (3, 3)), ((1, 3), (4, 0)), ((1, 3), (4, 2)), ((1, 3), (4, 4)), ((2, 0), (2, 2)), ((2, 0), (2, 4)), ((2, 0), (3, 1)), ((2, 0), (3, 3)), ((2, 0), (4, 0)), ((2, 0), (4, 2)), ((2, 0), (4, 4)), ((2, 2), (2, 4)), ((2, 2), (3, 1)), ((2, 2), (3, 3)), ((2, 2), (4, 0)), ((2, 2), (4, 2)), ((2, 2), (4, 4)), ((2, 4), (3, 1)), ((2, 4), (3, 3)), ((2, 4), (4, 0)), ((2, 4), (4, 2)), ((2, 4), (4, 4)), ((3, 1), (3, 3)), ((3, 1), (4, 0)), ((3, 1), (4, 2)), ((3, 1), (4, 4)), ((3, 3), (4, 0)), ((3, 3), (4, 2)), ((3, 3), (4, 4)), ((4, 0), (4, 2)), ((4, 0), (4, 4)), ((4, 2), (4, 4))]\n",
      "1 1\n",
      "1 1\n",
      "1 3\n",
      "1 3\n",
      "2 0\n",
      "2 2\n",
      "2 2\n",
      "2 4\n",
      "3 1\n",
      "3 1\n",
      "3 3\n",
      "3 3\n",
      "4 0\n",
      "4 2\n",
      "4 2\n",
      "4 4\n"
     ]
    },
    {
     "data": {
      "text/plain": [
       "[1, 0, 1, 1, 1]"
      ]
     },
     "execution_count": 572,
     "metadata": {},
     "output_type": "execute_result"
    }
   ],
   "source": [
    "from itertools import combinations\n",
    "def solution(places):\n",
    "    answer = []\n",
    "    for k in places:\n",
    "        a = [list(i) for i in k]\n",
    "        p = []\n",
    "        for i in range(len(a)):\n",
    "            for j in range(len(a[i])):\n",
    "                if a[i][j] == 'P':\n",
    "                    p.append((i, j))\n",
    "        p = list(combinations(p, 2))\n",
    "        print(p)\n",
    "        for i in p:\n",
    "            sx, sy = i[0][0], i[0][1]\n",
    "            x, y = i[1][0], i[1][1]\n",
    "            tf = 1\n",
    "            if abs(sx-x) + abs(sy-y) <= 2:\n",
    "                tf = 0\n",
    "                if abs(x - sx) == 2:\n",
    "                    if a[sx+1][y] == 'X':\n",
    "                        tf = 1\n",
    "                if abs(y - sy) == 2:\n",
    "                    if a[x][sy+1] == 'X':\n",
    "                        tf = 1\n",
    "                if abs(x - sx) == 1 and abs(y - sy) == 1:\n",
    "                    print(x, y)\n",
    "                    if a[x][sy] == 'X' and a[sx][y] == 'X':\n",
    "                        tf = 1\n",
    "            if tf == 0:\n",
    "                break\n",
    "        answer.append(tf)\n",
    "    return answer\n",
    "solution([[\"POOOP\", \"OXXOX\", \"OPXPX\", \"OOXOX\", \"POXXP\"], [\"POOPX\", \"OXPXP\", \"PXXXO\", \"OXXXO\", \"OOOPP\"], [\"PXOPX\", \"OXOXP\", \"OXPOX\", \"OXXOP\", \"PXPOX\"], [\"OOOXX\", \"XOOOX\", \"OOOXX\", \"OXOOX\", \"OOOOO\"], [\"PXPXP\", \"XPXPX\", \"PXPXP\", \"XPXPX\", \"PXPXP\"]])"
   ]
  },
  {
   "cell_type": "code",
   "execution_count": 564,
   "metadata": {},
   "outputs": [
    {
     "data": {
      "text/plain": [
       "[['P', 'X', 'P', 'X', 'P'],\n",
       " ['X', 'P', 'X', 'P', 'X'],\n",
       " ['P', 'X', 'P', 'X', 'P'],\n",
       " ['X', 'P', 'X', 'P', 'X'],\n",
       " ['P', 'X', 'P', 'X', 'P']]"
      ]
     },
     "execution_count": 564,
     "metadata": {},
     "output_type": "execute_result"
    }
   ],
   "source": [
    "places[-1]\n",
    "a = [list(i) for i in places[-1]]\n",
    "a"
   ]
  },
  {
   "cell_type": "code",
   "execution_count": 613,
   "metadata": {},
   "outputs": [
    {
     "name": "stdout",
     "output_type": "stream",
     "text": [
      "60000\n",
      "-59900\n",
      "-60400\n",
      "-60380\n",
      "60000\n",
      "520\n",
      "-59900\n",
      "-60420\n",
      "-100\n",
      "-200\n",
      "20000\n",
      "20020\n",
      "-100\n",
      "-200\n",
      "-180\n",
      "18000\n",
      "520\n",
      "60000\n",
      "-59900\n",
      "-60420\n",
      "520\n",
      "-100\n",
      "-220\n",
      "22000\n"
     ]
    },
    {
     "data": {
      "text/plain": [
       "[60380, 60420, 20020, 18000, 60420, 22000]"
      ]
     },
     "execution_count": 613,
     "metadata": {},
     "output_type": "execute_result"
    }
   ],
   "source": [
    "from itertools import permutations\n",
    "import copy\n",
    "a = \"100-200*300-500+20\"\n",
    "pfm = ['*', '-', '+']\n",
    "pfm = list(permutations(pfm, 3))\n",
    "\n",
    "start = 0\n",
    "stack = []\n",
    "for i in range(len(a)):\n",
    "    if not a[i].isdigit():\n",
    "        stack.extend([a[start:i], a[i]])\n",
    "        start = i+1\n",
    "    if i == len(a)-1:\n",
    "        stack.append(a[start:i+1])\n",
    "answer = []        \n",
    "for b in pfm:\n",
    "    stack_copy = copy.deepcopy(stack)\n",
    "    for i in b:\n",
    "        idx = 0\n",
    "        while idx < len(stack_copy):\n",
    "            if stack_copy[idx] == i:\n",
    "                if i == '*':\n",
    "                    a = int(stack_copy.pop(idx+1)) * int(stack_copy.pop(idx-1))\n",
    "                elif i == '+':\n",
    "                    a = int(stack_copy.pop(idx+1)) + int(stack_copy.pop(idx-1))\n",
    "                elif i == '-':                 \n",
    "                    a = int(stack_copy.pop(idx-1)) - int(stack_copy.pop(idx))\n",
    "                idx -= 1\n",
    "                stack_copy[idx] = str(a)\n",
    "                print(stack_copy[idx])\n",
    "            else:\n",
    "                idx += 1\n",
    "    answer.append(abs(int(stack_copy[0])))\n",
    "max(answer)"
   ]
  },
  {
   "cell_type": "code",
   "execution_count": 594,
   "metadata": {},
   "outputs": [
    {
     "data": {
      "text/plain": [
       "[('*', '-', '+'),\n",
       " ('*', '+', '-'),\n",
       " ('-', '*', '+'),\n",
       " ('-', '+', '*'),\n",
       " ('+', '*', '-'),\n",
       " ('+', '-', '*')]"
      ]
     },
     "execution_count": 594,
     "metadata": {},
     "output_type": "execute_result"
    }
   ],
   "source": [
    "from itertools import permutations\n",
    "b = ['*', '-' , '+']\n",
    "c = list(permutations(b, 3))\n",
    "c"
   ]
  }
 ],
 "metadata": {
  "kernelspec": {
   "display_name": "Python 3",
   "language": "python",
   "name": "python3"
  },
  "language_info": {
   "codemirror_mode": {
    "name": "ipython",
    "version": 3
   },
   "file_extension": ".py",
   "mimetype": "text/x-python",
   "name": "python",
   "nbconvert_exporter": "python",
   "pygments_lexer": "ipython3",
   "version": "3.8.5"
  }
 },
 "nbformat": 4,
 "nbformat_minor": 4
}
