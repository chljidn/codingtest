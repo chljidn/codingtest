{
 "cells": [
  {
   "cell_type": "markdown",
   "metadata": {},
   "source": [
    "1. 크레인 인형뽑기 게임"
   ]
  },
  {
   "cell_type": "code",
   "execution_count": null,
   "metadata": {},
   "outputs": [],
   "source": [
    "def solution(a, moves):\n",
    "    moves = list(reversed(moves))\n",
    "    a = list(zip(*a))\n",
    "    b = []\n",
    "    answer = 0\n",
    "    while moves:\n",
    "        c = moves.pop()-1\n",
    "        for i in range(len(a[c])):\n",
    "            a[c]= list(a[c])\n",
    "            if a[c][i] != 0:\n",
    "                b.append(a[c][i])\n",
    "                a[c][i] = 0\n",
    "                break\n",
    "        if len(b) >= 2 and b[-1] == b[-2]:\n",
    "            b = b[:-2]\n",
    "            answer += 2\n",
    "    return answer"
   ]
  },
  {
   "cell_type": "code",
   "execution_count": null,
   "metadata": {},
   "outputs": [],
   "source": []
  },
  {
   "cell_type": "code",
   "execution_count": null,
   "metadata": {},
   "outputs": [],
   "source": []
  },
  {
   "cell_type": "code",
   "execution_count": null,
   "metadata": {},
   "outputs": [],
   "source": []
  },
  {
   "cell_type": "code",
   "execution_count": null,
   "metadata": {},
   "outputs": [],
   "source": []
  }
 ],
 "metadata": {
  "kernelspec": {
   "display_name": "Python 3",
   "language": "python",
   "name": "python3"
  },
  "language_info": {
   "codemirror_mode": {
    "name": "ipython",
    "version": 3
   },
   "file_extension": ".py",
   "mimetype": "text/x-python",
   "name": "python",
   "nbconvert_exporter": "python",
   "pygments_lexer": "ipython3",
   "version": "3.8.5"
  }
 },
 "nbformat": 4,
 "nbformat_minor": 4
}
