{
 "cells": [
  {
   "cell_type": "markdown",
   "metadata": {},
   "source": [
    "1. 크레인 인형뽑기 게임"
   ]
  },
  {
   "cell_type": "code",
   "execution_count": null,
   "metadata": {},
   "outputs": [],
   "source": [
    "# 내 풀이\n",
    "def solution(a, moves):\n",
    "    moves = list(reversed(moves))\n",
    "    a = list(zip(*a))\n",
    "    b = []\n",
    "    answer = 0\n",
    "    while moves:\n",
    "        c = moves.pop()-1\n",
    "        for i in range(len(a[c])):\n",
    "            a[c]= list(a[c])\n",
    "            if a[c][i] != 0:\n",
    "                b.append(a[c][i])\n",
    "                a[c][i] = 0\n",
    "                break\n",
    "        if len(b) >= 2 and b[-1] == b[-2]:\n",
    "            b = b[:-2]\n",
    "            answer += 2\n",
    "    return answer"
   ]
  },
  {
   "cell_type": "markdown",
   "metadata": {},
   "source": [
    "2. 튜플"
   ]
  },
  {
   "cell_type": "code",
   "execution_count": null,
   "metadata": {},
   "outputs": [],
   "source": [
    "# 내 풀이\n",
    "def solution(a):\n",
    "    a = a.replace(\"{\", \"\").split(\"}\")\n",
    "    for i in range(len(a)):\n",
    "        a[i] = a[i].split(',')\n",
    "        if '' in a[i]:\n",
    "            a[i].remove('')\n",
    "    a.sort(key = lambda x:len(x))\n",
    "    answer = []\n",
    "    for i in a:\n",
    "        for j in i:\n",
    "            if j != '' and j != ',':\n",
    "                if j not in answer:\n",
    "                    answer.append(j)\n",
    "    answer = list(map(int, answer))\n",
    "    return answer"
   ]
  },
  {
   "cell_type": "code",
   "execution_count": null,
   "metadata": {},
   "outputs": [],
   "source": [
    "# 나중에 다시 풀어본 거\n",
    "def solution(s):\n",
    "    s = s.replace(\"{\", \"\").split(\"}\")\n",
    "    s = list(map(lambda x: x.split(\",\"), s))\n",
    "    s = [[j for j in i if j != \"\"] for i in s]\n",
    "    answer = []\n",
    "    for i in sorted(s, key = lambda x: len(x)):\n",
    "        for j in i:\n",
    "            if j.isdecimal():\n",
    "                if int(j) not in answer: answer.append(int(j))\n",
    "\n",
    "    return answer"
   ]
  },
  {
   "cell_type": "code",
   "execution_count": null,
   "metadata": {},
   "outputs": [],
   "source": [
    "# 다른 사람 풀이\n",
    "def solution(s):\n",
    "    s = Counter(re.findall('\\d+', s))\n",
    "    return list(map(int, [k for k, v in sorted(s.items(), key=lambda x: x[1], reverse=True)]))\n",
    "\n",
    "import re\n",
    "from collections import Counter"
   ]
  },
  {
   "cell_type": "markdown",
   "metadata": {},
   "source": [
    "3. 불량 사용자"
   ]
  },
  {
   "cell_type": "code",
   "execution_count": null,
   "metadata": {},
   "outputs": [],
   "source": [
    "# 미완성인 내 풀이\n",
    "from itertools import permutations, combinations\n",
    "def solution(user_id, banned_id):\n",
    "    user_per = list(map(''.join, combinations(user_id, len(banned_id))))\n",
    "    banned_per = list(map(''.join, permutations(banned_id)))\n",
    "    count = 0\n",
    "    for i in user_per:\n",
    "        for j in banned_per:\n",
    "            if len(i) != len(j): continue\n",
    "            tf = False\n",
    "            for n, m in zip(i, j):\n",
    "                #if m == \"*\": continue\n",
    "                if m != '*' and n != m:\n",
    "                    tf = True\n",
    "                    break\n",
    "            if not tf:\n",
    "                count += 1\n",
    "                break\n",
    "    return count\n",
    "\n",
    "# 틀린 이유 : \n",
    "#''.join을 통해서 모든 조합들을 문자열로 만든 다음 비교함\n",
    "# 문제는 'f''rodo' 일 경우 '*rodo' 와 일치하게 됨.\n",
    "# 때문에 각 문자의 문자 길이와 순서를 같이 고려할 필요가 있었음\n",
    "# 그렇기에 조합을 문자열로 만들지 않고, 튜플인 상태에서 다시 각 문자끼리 비교함\n",
    "# ex) 'fr', 'rodo', 'abc123' 과 '*','**odo', '******' 일 때\n",
    "#      'frrodoabc123' 과 '***odo******' 로 일치하게 되지만 답은 틀린 경우임\n",
    "#      때문에 ('fr', 'rodo', 'abc123') 과 ('*', '**odo', '******')을 비교해 주어야 함.\n",
    "# 여기서는 각각 순서가 맞지만, 순서가 틀릴 경우가 있기 때문에 permutations를 돌려주었고,\n",
    "# 순서도 맞고, 각 비교되는 글자가 일치할 경우도 맞을 때에만 count +=1 처리\n",
    "# 그에 대한 풀이가 바로 밑의 풀이임."
   ]
  },
  {
   "cell_type": "code",
   "execution_count": 1,
   "metadata": {},
   "outputs": [
    {
     "name": "stdout",
     "output_type": "stream",
     "text": [
      "('frodo', 'fradi') ('fr*d*', 'abc1**')\n",
      "('frodo', 'fradi') ('abc1**', 'fr*d*')\n",
      "('frodo', 'crodo') ('fr*d*', 'abc1**')\n",
      "('frodo', 'crodo') ('abc1**', 'fr*d*')\n",
      "('frodo', 'abc123') ('fr*d*', 'abc1**')\n",
      "('frodo', 'frodoc') ('fr*d*', 'abc1**')\n",
      "('frodo', 'frodoc') ('abc1**', 'fr*d*')\n",
      "('fradi', 'crodo') ('fr*d*', 'abc1**')\n",
      "('fradi', 'crodo') ('abc1**', 'fr*d*')\n",
      "('fradi', 'abc123') ('fr*d*', 'abc1**')\n",
      "('fradi', 'frodoc') ('fr*d*', 'abc1**')\n",
      "('fradi', 'frodoc') ('abc1**', 'fr*d*')\n",
      "('crodo', 'abc123') ('fr*d*', 'abc1**')\n",
      "('crodo', 'abc123') ('abc1**', 'fr*d*')\n",
      "('crodo', 'frodoc') ('fr*d*', 'abc1**')\n",
      "('crodo', 'frodoc') ('abc1**', 'fr*d*')\n",
      "('abc123', 'frodoc') ('fr*d*', 'abc1**')\n",
      "('abc123', 'frodoc') ('abc1**', 'fr*d*')\n"
     ]
    },
    {
     "data": {
      "text/plain": [
       "2"
      ]
     },
     "execution_count": 1,
     "metadata": {},
     "output_type": "execute_result"
    }
   ],
   "source": [
    "# 내가 푼 답안\n",
    "from itertools import permutations, combinations\n",
    "def solution(user_id, banned_id):\n",
    "    user_per = list(combinations(user_id, len(banned_id)))\n",
    "    banned_per = list(permutations(banned_id))\n",
    "    count = 0\n",
    "    for i in user_per:\n",
    "        for j in banned_per:\n",
    "            tf = False\n",
    "            for n, m in zip(i, j):\n",
    "                if len(n) != len(m): \n",
    "                    tf = True\n",
    "                    break\n",
    "                for z, k in zip(n, m):\n",
    "                    if k != '*' and z != k:\n",
    "                        tf = True\n",
    "                        break\n",
    "            if not tf:\n",
    "                count += 1\n",
    "                break\n",
    "    return count\n",
    "solution([\"frodo\", \"fradi\", \"crodo\", \"abc123\", \"frodoc\"], [\"fr*d*\", \"abc1**\"])"
   ]
  },
  {
   "cell_type": "code",
   "execution_count": null,
   "metadata": {},
   "outputs": [],
   "source": [
    "# 다른 사람 풀이\n",
    "from itertools import permutations \n",
    "\n",
    "def check(users,banned_id):\n",
    "    for i in range(len(banned_id)):\n",
    "        if len(users[i]) != len(banned_id[i]):\n",
    "            return False\n",
    "\n",
    "        for j in range(len(users[i])):\n",
    "            if banned_id[i][j] == \"*\":\n",
    "                continue\n",
    "            if banned_id[i][j] != users[i][j]:\n",
    "                return False # 현재 튜플 불일치\n",
    "    \n",
    "    return True\n",
    "\n",
    "def solution(user_id, banned_id):\n",
    "    user_permutation = list(permutations(user_id,len(banned_id)))\n",
    "    banned_Set = []\n",
    "\n",
    "    for users in user_permutation:\n",
    "        # 하나의 튜플과 비교 시작\n",
    "        if not check(users, banned_id):\n",
    "            continue # 다음 튜플 가져오기\n",
    "        else:\n",
    "            users = set(users)\n",
    "            if users not in banned_Set:\n",
    "                banned_Set.append(users)\n",
    "\n",
    "    return len(banned_Set)\n"
   ]
  },
  {
   "cell_type": "markdown",
   "metadata": {},
   "source": [
    "4. 징검다리 건너기(level 3)"
   ]
  },
  {
   "cell_type": "code",
   "execution_count": null,
   "metadata": {},
   "outputs": [],
   "source": [
    "# 내가 풀었지만 알고리즘 참고하고 푼 것\n",
    "def solution(a, k):\n",
    "    pl = 1\n",
    "    pr = max(a)\n",
    "    answer = []\n",
    "    \n",
    "    while True:\n",
    "        pc = (pl+pr) // 2\n",
    "        m_list = [0]\n",
    "        for i in range(len(a)):\n",
    "            if a[i] - pc <= 0:\n",
    "                m_list[-1] += 1\n",
    "            else:\n",
    "                m_list.append(0)\n",
    "                b = 0\n",
    "        if max(m_list) >= k:\n",
    "            answer.append(pc)\n",
    "            pr = pc-1\n",
    "        else:\n",
    "            pl = pc+1\n",
    "\n",
    "        if pl > pr:\n",
    "            break\n",
    "\n",
    "    return min(answer)"
   ]
  },
  {
   "cell_type": "code",
   "execution_count": null,
   "metadata": {},
   "outputs": [],
   "source": [
    "# 다른 사람 풀이\n",
    "def solution(stones, k):\n",
    "    left = 1\n",
    "    right = max(stones)\n",
    "    answer = 0\n",
    "    while left <= right:\n",
    "        blankCount = 0\n",
    "\n",
    "        mid = (right + left) // 2 # 징검다리를 건널 수 있는 수 \n",
    "\n",
    "        for stone in stones:\n",
    "            if stone - mid <= 0:\n",
    "                blankCount += 1\n",
    "            else:\n",
    "                blankCount = 0\n",
    "\n",
    "            if blankCount >= k:\n",
    "                break\n",
    "\n",
    "        if blankCount < k:\n",
    "            left = mid + 1 # 정답이 될 수 있는 값\n",
    "        else:\n",
    "            answer = mid\n",
    "            right = mid - 1\n",
    "    \n",
    "    return answer"
   ]
  }
 ],
 "metadata": {
  "kernelspec": {
   "display_name": "Python 3",
   "language": "python",
   "name": "python3"
  },
  "language_info": {
   "codemirror_mode": {
    "name": "ipython",
    "version": 3
   },
   "file_extension": ".py",
   "mimetype": "text/x-python",
   "name": "python",
   "nbconvert_exporter": "python",
   "pygments_lexer": "ipython3",
   "version": "3.8.5"
  }
 },
 "nbformat": 4,
 "nbformat_minor": 4
}
