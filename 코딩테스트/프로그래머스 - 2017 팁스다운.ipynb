{
 "cells": [
  {
   "cell_type": "markdown",
   "metadata": {},
   "source": [
    "1. 짝지어 제거하기"
   ]
  },
  {
   "cell_type": "markdown",
   "metadata": {},
   "source": [
    "- 문제 설명\n",
    "\n",
    "   짝지어 제거하기는, 알파벳 소문자로 이루어진 문자열을 가지고 시작합니다. 먼저 문자열에서 같은 알파벳이 2개 붙어 있는 짝을 찾습니다. 그다음, 그 둘을 제거한 뒤, 앞뒤로 문자열을 이어 붙입니다. 이 과정을 반복해서 문자열을 모두 제거한다면 짝지어 제거하기가 종료됩니다. 문자열 S가 주어졌을 때, 짝지어 제거하기를 성공적으로 수행할 수 있는지 반환하는 함수를 완성해 주세요. 성공적으로 수행할 수 있으면 1을, 아닐 경우 0을 리턴해주면 됩니다.\n",
    "\n",
    "  예를 들어, 문자열 S = baabaa 라면\n",
    "\n",
    "      b aa baa → bb aa → aa →\n",
    "\n",
    "   의 순서로 문자열을 모두 제거할 수 있으므로 1을 반환합니다.\n",
    "   \n",
    "\n",
    "- 제한사항\n",
    "\n",
    "  문자열의 길이 : 1,000,000이하의 자연수<br>\n",
    "  문자열은 모두 소문자로 이루어져 있습니다.\n",
    "  \n",
    "- 입출력 예<br>\n",
    "    s\t  result<br>\n",
    "  baabaa\t1<br>\n",
    "  cdcd\t    0<br>"
   ]
  },
  {
   "cell_type": "code",
   "execution_count": 5,
   "metadata": {},
   "outputs": [],
   "source": [
    "# 다른 사람 풀이\n",
    "def solution(s):\n",
    "    stack = []\n",
    "    for i in range(len(s)):\n",
    "        if not stack:\n",
    "            stack.append(s[i])          # stack이 비어있다면 push()\n",
    "        else:\n",
    "            if s[i] == stack[-1]:       # stack 마지막 값과 s[i]가 같다면 pop()\n",
    "                stack.pop()\n",
    "            else:\n",
    "                stack.append(s[i])      # stack 마지막 값과 s[i]가 다르면 push()\n",
    "\n",
    "    if stack : return 0                 # stack이 비어있지 않다면 return 0\n",
    "    else : return 1                     # stack이 비어있다면 return 1"
   ]
  },
  {
   "cell_type": "code",
   "execution_count": 6,
   "metadata": {},
   "outputs": [
    {
     "data": {
      "text/plain": [
       "0"
      ]
     },
     "execution_count": 6,
     "metadata": {},
     "output_type": "execute_result"
    }
   ],
   "source": [
    "solution('baaabaa')"
   ]
  }
 ],
 "metadata": {
  "kernelspec": {
   "display_name": "Python 3",
   "language": "python",
   "name": "python3"
  },
  "language_info": {
   "codemirror_mode": {
    "name": "ipython",
    "version": 3
   },
   "file_extension": ".py",
   "mimetype": "text/x-python",
   "name": "python",
   "nbconvert_exporter": "python",
   "pygments_lexer": "ipython3",
   "version": "3.8.5"
  }
 },
 "nbformat": 4,
 "nbformat_minor": 4
}
