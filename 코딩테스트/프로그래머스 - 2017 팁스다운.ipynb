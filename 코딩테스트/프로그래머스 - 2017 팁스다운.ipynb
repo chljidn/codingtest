{
 "cells": [
  {
   "cell_type": "markdown",
   "metadata": {},
   "source": [
    "1. 짝지어 제거하기"
   ]
  },
  {
   "cell_type": "markdown",
   "metadata": {},
   "source": [
    "- 문제 설명\n",
    "\n",
    "   짝지어 제거하기는, 알파벳 소문자로 이루어진 문자열을 가지고 시작합니다. 먼저 문자열에서 같은 알파벳이 2개 붙어 있는 짝을 찾습니다. 그다음, 그 둘을 제거한 뒤, 앞뒤로 문자열을 이어 붙입니다. 이 과정을 반복해서 문자열을 모두 제거한다면 짝지어 제거하기가 종료됩니다. 문자열 S가 주어졌을 때, 짝지어 제거하기를 성공적으로 수행할 수 있는지 반환하는 함수를 완성해 주세요. 성공적으로 수행할 수 있으면 1을, 아닐 경우 0을 리턴해주면 됩니다.\n",
    "\n",
    "  예를 들어, 문자열 S = baabaa 라면\n",
    "\n",
    "      b aa baa → bb aa → aa →\n",
    "\n",
    "   의 순서로 문자열을 모두 제거할 수 있으므로 1을 반환합니다.\n",
    "   \n",
    "\n",
    "- 제한사항\n",
    "\n",
    "  문자열의 길이 : 1,000,000이하의 자연수<br>\n",
    "  문자열은 모두 소문자로 이루어져 있습니다.\n",
    "  \n",
    "- 입출력 예<br>\n",
    "    s\t  result<br>\n",
    "  baabaa\t1<br>\n",
    "  cdcd\t    0<br>"
   ]
  },
  {
   "cell_type": "code",
   "execution_count": null,
   "metadata": {},
   "outputs": [],
   "source": [
    "# 내가 푼 답(stack)\n",
    "# 예전에 답안 보고 시간 좀 지나서 푼거...\n",
    "def solution(a):\n",
    "    a = list(reversed(a))\n",
    "    stack = []\n",
    "    while a:\n",
    "        b = a.pop()\n",
    "        if stack == [] or stack[-1] != b:\n",
    "            stack.append(b)\n",
    "        else:\n",
    "            stack.pop(-1)\n",
    "    if stack == []: return 1\n",
    "    else: return 0"
   ]
  },
  {
   "cell_type": "code",
   "execution_count": null,
   "metadata": {},
   "outputs": [],
   "source": [
    "# 더 나중에 다시 풀어본 거\n",
    "from collections import deque\n",
    "def solution(s):\n",
    "    s = deque(list(s))\n",
    "    stack = [s.popleft()]\n",
    "    while s:\n",
    "        a = s.popleft()\n",
    "        if stack != [] and stack[-1] == a:\n",
    "            b = stack.pop()\n",
    "        else: \n",
    "            stack.append(a)\n",
    "    if stack == []: return 1\n",
    "    else: return 0"
   ]
  },
  {
   "cell_type": "markdown",
   "metadata": {},
   "source": [
    "2. 예상 대진표"
   ]
  },
  {
   "cell_type": "code",
   "execution_count": null,
   "metadata": {},
   "outputs": [],
   "source": [
    "def solution(N, A, B):\n",
    "    matrix = [[i+1, i+2] for i in range(0, N, 2)]\n",
    "    count = 1\n",
    "    while True:\n",
    "        for j in matrix:\n",
    "            if A in j and B in j:\n",
    "                return count\n",
    "            \n",
    "        matrix = [(matrix[i]+matrix[i+1]) for i in range(0, len(matrix), 2)]\n",
    "        count += 1\n",
    "    return count"
   ]
  },
  {
   "cell_type": "code",
   "execution_count": null,
   "metadata": {},
   "outputs": [],
   "source": [
    "# 다른 사람 풀이 1 \n",
    "def solution(n,a,b):\n",
    "    return ((a-1)^(b-1)).bit_length()\n",
    "\n",
    "# 해밍거리로 푼 것이 맞는지???\n"
   ]
  },
  {
   "cell_type": "code",
   "execution_count": null,
   "metadata": {},
   "outputs": [],
   "source": [
    "# 다른 사람 풀이 2\n",
    "def solution(n,a,b):\n",
    "    answer = 0\n",
    "    while a != b:\n",
    "        answer += 1\n",
    "        a, b = (a+1)//2, (b+1)//2\n",
    "\n",
    "    return answer"
   ]
  },
  {
   "cell_type": "code",
   "execution_count": 11,
   "metadata": {},
   "outputs": [
    {
     "data": {
      "text/plain": [
       "5"
      ]
     },
     "execution_count": 11,
     "metadata": {},
     "output_type": "execute_result"
    }
   ],
   "source": [
    "info = [\"java backend junior pizza 150\",\n",
    "        \"python frontend senior chicken 210\",\n",
    "        \"python frontend senior chicken 150\",\n",
    "        \"cpp backend senior pizza 260\",\n",
    "        \"java backend junior chicken 80\",\n",
    "        \"python backend senior chicken 50\"]\n",
    "\n",
    "query = [\"java and backend and junior and pizza 100\",\n",
    "         \"python and frontend and senior and chicken 200\",\n",
    "         \"cpp and - and senior and pizza 250\",\n",
    "         \"- and backend and senior and - 150\",\n",
    "         \"- and - and - and chicken 100\",\n",
    "         \"- and - and - and - 150\"]"
   ]
  },
  {
   "cell_type": "code",
   "execution_count": null,
   "metadata": {},
   "outputs": [],
   "source": []
  }
 ],
 "metadata": {
  "kernelspec": {
   "display_name": "Python 3",
   "language": "python",
   "name": "python3"
  },
  "language_info": {
   "codemirror_mode": {
    "name": "ipython",
    "version": 3
   },
   "file_extension": ".py",
   "mimetype": "text/x-python",
   "name": "python",
   "nbconvert_exporter": "python",
   "pygments_lexer": "ipython3",
   "version": "3.8.5"
  }
 },
 "nbformat": 4,
 "nbformat_minor": 4
}
