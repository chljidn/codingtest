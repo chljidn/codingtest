{
 "cells": [
  {
   "cell_type": "markdown",
   "metadata": {},
   "source": [
    "1. 게임 맵 최단거리"
   ]
  },
  {
   "cell_type": "code",
   "execution_count": null,
   "metadata": {},
   "outputs": [],
   "source": [
    "# 내가 푼 답안\n",
    "from collections import deque\n",
    "def solution(a):\n",
    "    d_x = [0, 0, 1, -1]\n",
    "    d_y = [1, -1, 0, 0]\n",
    "    length_x = len(a)\n",
    "    length_y = len(a[0])\n",
    "\n",
    "    queue = deque([[0,0,0]])\n",
    "    count = 1\n",
    "    while queue:\n",
    "        x, y, num = queue.popleft()\n",
    "\n",
    "        if x >= length_x or x <= -1 or y >= length_y or y <= -1:\n",
    "            continue\n",
    "        if a[x][y] == 1:\n",
    "            a[x][y] += num\n",
    "            for i in range(4):\n",
    "                if x+d_x[i] >= length_x or x+d_x[i] <= -1 or y+d_y[i] >= length_y or y+d_y[i] <= -1:\n",
    "                    continue\n",
    "                else:\n",
    "                    if a[x+d_x[i]][y+d_y[i]] == 1:\n",
    "                        queue.append((x+d_x[i], y+d_y[i], a[x][y]))\n",
    "    if a[length_x-1][length_y-1] == 1:\n",
    "        return -1\n",
    "    else:\n",
    "        return a[length_x-1][length_y-1]"
   ]
  }
 ],
 "metadata": {
  "kernelspec": {
   "display_name": "Python 3",
   "language": "python",
   "name": "python3"
  },
  "language_info": {
   "codemirror_mode": {
    "name": "ipython",
    "version": 3
   },
   "file_extension": ".py",
   "mimetype": "text/x-python",
   "name": "python",
   "nbconvert_exporter": "python",
   "pygments_lexer": "ipython3",
   "version": "3.8.5"
  }
 },
 "nbformat": 4,
 "nbformat_minor": 4
}
