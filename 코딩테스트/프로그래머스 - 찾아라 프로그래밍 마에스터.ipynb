{
 "cells": [
  {
   "cell_type": "markdown",
   "metadata": {},
   "source": [
    "1. 게임 맵 최단거리(BFS)"
   ]
  },
  {
   "cell_type": "code",
   "execution_count": null,
   "metadata": {},
   "outputs": [],
   "source": [
    "# 내가 푼 답안\n",
    "from collections import deque\n",
    "def solution(a):\n",
    "    d_x = [0, 0, 1, -1]\n",
    "    d_y = [1, -1, 0, 0]\n",
    "    length_x = len(a)\n",
    "    length_y = len(a[0])\n",
    "    queue = deque([[0,0,0]])\n",
    "    count = 1\n",
    "    while queue:\n",
    "        x, y, num = queue.popleft()\n",
    "\n",
    "        if x >= length_x or x <= -1 or y >= length_y or y <= -1:\n",
    "            continue\n",
    "        if a[x][y] == 1:\n",
    "            a[x][y] += num\n",
    "            for i in range(4):\n",
    "                if x+d_x[i] >= length_x or x+d_x[i] <= -1 or y+d_y[i] >= length_y or y+d_y[i] <= -1:\n",
    "                    continue\n",
    "                else:\n",
    "                    if a[x+d_x[i]][y+d_y[i]] == 1:\n",
    "                        queue.append((x+d_x[i], y+d_y[i], a[x][y]))\n",
    "    if a[length_x-1][length_y-1] == 1:\n",
    "        return -1\n",
    "    else:\n",
    "        return a[length_x-1][length_y-1]"
   ]
  },
  {
   "cell_type": "code",
   "execution_count": null,
   "metadata": {},
   "outputs": [],
   "source": [
    "# 나중에 다시 풀어본 답안\n",
    "from collections import deque\n",
    "def solution(a):\n",
    "    visited = [[False for j in range(len(a[0]))] for i in range(len(a))]\n",
    "    queue= deque([(0, 0, 0)])\n",
    "    point = [[1, 0], [-1, 0], [0, 1], [0, -1]]\n",
    "    while stack:\n",
    "        x, y, before = queue.popleft()\n",
    "        if a[x][y] == 1 and not visited[x][y]:\n",
    "            visited[x][y] = True\n",
    "            a[x][y] += before\n",
    "            for i in point:\n",
    "                if x+i[0] >= len(a) or x+i[0] < 0 or y+i[1] >= len(a[0]) or y+i[1] < 0:\n",
    "                    continue\n",
    "                if a[x+i[0]][y+i[1]] == 1 and not visited[x+i[0]][y+i[1]]:\n",
    "                    queue.append((x+i[0], y+i[1], a[x][y]))\n",
    "    if a[-1][-1] == 1 or a[-1][-1] == 0: return -1\n",
    "    else: return a[-1][-1]"
   ]
  }
 ],
 "metadata": {
  "kernelspec": {
   "display_name": "Python 3",
   "language": "python",
   "name": "python3"
  },
  "language_info": {
   "codemirror_mode": {
    "name": "ipython",
    "version": 3
   },
   "file_extension": ".py",
   "mimetype": "text/x-python",
   "name": "python",
   "nbconvert_exporter": "python",
   "pygments_lexer": "ipython3",
   "version": "3.8.5"
  }
 },
 "nbformat": 4,
 "nbformat_minor": 4
}
