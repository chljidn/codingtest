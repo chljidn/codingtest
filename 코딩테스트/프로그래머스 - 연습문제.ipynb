{
 "cells": [
  {
   "cell_type": "markdown",
   "metadata": {},
   "source": [
    "1. 올바른 괄호"
   ]
  },
  {
   "cell_type": "code",
   "execution_count": null,
   "metadata": {},
   "outputs": [],
   "source": [
    "# 내가 푼 답안\n",
    "def solution(s):\n",
    "    stack = []\n",
    "    for i in s:\n",
    "        if stack == [] or stack[-1]+i != '()':\n",
    "            stack.append(i)\n",
    "        else:\n",
    "            stack.pop()\n",
    "    if stack == [] : return True\n",
    "    else: return False"
   ]
  },
  {
   "cell_type": "markdown",
   "metadata": {},
   "source": [
    "2. 행렬의 곱셈"
   ]
  },
  {
   "cell_type": "code",
   "execution_count": 1,
   "metadata": {},
   "outputs": [],
   "source": [
    "# 내가 푼 답안\n",
    "def solution(arr1, arr2):\n",
    "    arr2 = list(zip(*arr2))\n",
    "    a = [[] for i in range(len(arr1))]\n",
    "    for i in range(len(arr2)):\n",
    "        for j in range(len(arr1)):\n",
    "            b = 0\n",
    "            for k in range(len(arr1[0])):\n",
    "                b += arr1[j][k] * arr2[i][k]\n",
    "            a[j].append(b)\n",
    "    return a"
   ]
  },
  {
   "cell_type": "code",
   "execution_count": null,
   "metadata": {},
   "outputs": [],
   "source": [
    "# 다른 사람의 답안\n",
    "def productMatrix(A, B):\n",
    "    return [[sum(a*b for a, b in zip(A_row,B_col)) for B_col in zip(*B)] for A_row in A]"
   ]
  },
  {
   "cell_type": "markdown",
   "metadata": {},
   "source": [
    "3. 피보나치 수"
   ]
  },
  {
   "cell_type": "code",
   "execution_count": 11,
   "metadata": {},
   "outputs": [
    {
     "data": {
      "text/plain": [
       "[0, 1, 1, 2, 3, 5]"
      ]
     },
     "execution_count": 11,
     "metadata": {},
     "output_type": "execute_result"
    }
   ],
   "source": [
    "n = 5\n",
    "d = [[] for i in range(n+1)]\n",
    "d[0], d[1] = 0, 1\n",
    "for i in range(2, n+1):\n",
    "    d[i] = d[i-1] + d[i-2]\n",
    "d"
   ]
  },
  {
   "cell_type": "markdown",
   "metadata": {},
   "source": [
    "4. 땅따먹기"
   ]
  },
  {
   "cell_type": "code",
   "execution_count": null,
   "metadata": {},
   "outputs": [],
   "source": [
    "# 내가 푼 답안\n",
    "def solution(b):\n",
    "    for i in range(1, len(b)):\n",
    "        b[i][0] += max(b[i-1][1], b[i-1][2], b[i-1][3])\n",
    "        b[i][1] += max(b[i-1][0], b[i-1][2], b[i-1][3])\n",
    "        b[i][2] += max(b[i-1][0], b[i-1][1], b[i-1][3])\n",
    "        b[i][3] += max(b[i-1][0], b[i-1][1], b[i-1][2])\n",
    "    return max(b[-1])"
   ]
  },
  {
   "cell_type": "code",
   "execution_count": 4,
   "metadata": {},
   "outputs": [
    {
     "name": "stdout",
     "output_type": "stream",
     "text": [
      "[]\n",
      "[1]\n",
      "[1, 2]\n",
      "[1, 2, 3]\n",
      "[]\n",
      "[10]\n",
      "[10, 11]\n",
      "[10, 11, 12]\n"
     ]
    },
    {
     "data": {
      "text/plain": [
       "16"
      ]
     },
     "execution_count": 4,
     "metadata": {},
     "output_type": "execute_result"
    }
   ],
   "source": [
    "# 다른 사람 풀이\n",
    "def solution(land):\n",
    "    for i in range(1, len(land)):\n",
    "        for j in range(len(land[0])):\n",
    "            land[i][j] = max(land[i -1][: j] + land[i - 1][j + 1:]) + land[i][j]\n",
    "    return max(land[-1])"
   ]
  },
  {
   "cell_type": "markdown",
   "metadata": {},
   "source": [
    "5. JadenCase"
   ]
  },
  {
   "cell_type": "code",
   "execution_count": 81,
   "metadata": {},
   "outputs": [
    {
     "data": {
      "text/plain": [
       "\"Hi, I'm Twenty Years    Old   \""
      ]
     },
     "execution_count": 81,
     "metadata": {},
     "output_type": "execute_result"
    }
   ],
   "source": [
    "# 내가 푼 답안\n",
    "def solution(a):\n",
    "    return ' '.join(list(map(lambda x : x[0].upper() + x[1:].lower() if x != '' else x, a.split(' '))))\n",
    "solution(\"Hi, I'm twenty years    old   \")\n"
   ]
  },
  {
   "cell_type": "code",
   "execution_count": 86,
   "metadata": {},
   "outputs": [
    {
     "data": {
      "text/plain": [
       "\"Hi, I'm Twenty Years    Old   \""
      ]
     },
     "execution_count": 86,
     "metadata": {},
     "output_type": "execute_result"
    }
   ],
   "source": [
    "# capitalize() 사용하면 if문 없어도 됨.\n",
    "def solution(a):\n",
    "    return ' '.join(list(map(lambda x : x.capitalize(), a.split(' '))))\n",
    "solution(\"Hi, I'm twenty years    old   \")"
   ]
  },
  {
   "cell_type": "markdown",
   "metadata": {},
   "source": [
    "6. 최솟값 만들기"
   ]
  },
  {
   "cell_type": "code",
   "execution_count": null,
   "metadata": {},
   "outputs": [],
   "source": [
    "# 내가 푼 답안\n",
    "def solution(A,B):\n",
    "    A = sorted(A)\n",
    "    B = sorted(B, reverse=True)\n",
    "    c = [A[i] * B[i] for i in range(len(A))]\n",
    "    return sum(c)"
   ]
  },
  {
   "cell_type": "markdown",
   "metadata": {},
   "source": [
    "7. 124 나라의 숫자(level 2)"
   ]
  },
  {
   "cell_type": "code",
   "execution_count": null,
   "metadata": {},
   "outputs": [],
   "source": [
    "# 내가 푼 답안\n",
    "# 알고리즘 약간 참고\n",
    "def solution(n):\n",
    "    answer = ''\n",
    "    while n >= 4:\n",
    "        if n % 3 == 0:\n",
    "            answer += '4'\n",
    "            n = (n//3) - 1\n",
    "            \n",
    "        else:\n",
    "            answer += str(n%3)\n",
    "            n //= 3      \n",
    "    if n == 3:\n",
    "        answer += str(4)\n",
    "    else: answer += str(n)\n",
    "    \n",
    "    return answer[::-1] "
   ]
  },
  {
   "cell_type": "markdown",
   "metadata": {},
   "source": [
    "8. 2 x n 타일링(level 3)"
   ]
  },
  {
   "cell_type": "code",
   "execution_count": null,
   "metadata": {},
   "outputs": [],
   "source": [
    "# 내가 푼 답안\n",
    "def solution(n):\n",
    "    a = 1\n",
    "    b = 2\n",
    "    \n",
    "    for i in range(3, n+1):\n",
    "        c = a + b\n",
    "        a = b\n",
    "        b = c\n",
    "    return c%1000000007\n",
    "\n",
    "'''\n",
    "def solution(n):\n",
    "    d = [0] * (n+1)\n",
    "    d[1] = 1\n",
    "    d[2] = 2\n",
    "    \n",
    "    for i in range(3, n+1):\n",
    "        d[i] = d[i-1] + d[i-2]        \n",
    "        \n",
    "    return d[n]%1000000007 \n",
    "\n",
    "이렇게 풀면 리스트 선언한거 땜에 시간초과 남...\n",
    "때문에 답안처럼 걍 int형 변수 선언한거 갱신하면서 풀어줘야 함\n",
    "'''"
   ]
  }
 ],
 "metadata": {
  "kernelspec": {
   "display_name": "Python 3",
   "language": "python",
   "name": "python3"
  },
  "language_info": {
   "codemirror_mode": {
    "name": "ipython",
    "version": 3
   },
   "file_extension": ".py",
   "mimetype": "text/x-python",
   "name": "python",
   "nbconvert_exporter": "python",
   "pygments_lexer": "ipython3",
   "version": "3.8.5"
  }
 },
 "nbformat": 4,
 "nbformat_minor": 4
}
